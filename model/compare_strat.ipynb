{
 "cells": [
  {
   "cell_type": "code",
   "execution_count": 1,
   "metadata": {},
   "outputs": [],
   "source": [
    "import stompy.model.delft.dflow_model as dfm\n",
    "import matplotlib.pyplot as plt\n",
    "import matplotlib.gridspec as gs\n",
    "import xarray as xr\n",
    "from stompy import xr_transect as xrt\n",
    "import os\n",
    "from stompy import utils\n",
    "import stompy.plot.cmap as scmap\n",
    "import numpy as np\n",
    "%matplotlib notebook"
   ]
  },
  {
   "cell_type": "code",
   "execution_count": 7,
   "metadata": {},
   "outputs": [
    {
     "data": {
      "text/plain": [
       "<module 'stompy.model.delft.dflow_model' from '/home/rustyh/src/stompy/stompy/model/delft/dflow_model.py'>"
      ]
     },
     "execution_count": 7,
     "metadata": {},
     "output_type": "execute_result"
    }
   ],
   "source": [
    "import six\n",
    "six.moves.reload_module(dfm)"
   ]
  },
  {
   "cell_type": "code",
   "execution_count": 2,
   "metadata": {},
   "outputs": [],
   "source": [
    "turbo=scmap.load_gradient('turbo.cpt')\n",
    "hot_cold=scmap.load_gradient('hot_and_cold.cpt')"
   ]
  },
  {
   "cell_type": "code",
   "execution_count": 8,
   "metadata": {},
   "outputs": [],
   "source": [
    "run_dirs=[#'run_salt_20160520-v104',\n",
    "          #'run_salt_20160520-v107',\n",
    "          #'run_salt_20160520-v109',\n",
    "          #'run_salt_20160520-v110',\n",
    "          #'run_salt_20160520-v111',\n",
    "          #'run_salt_20160520-v112', \n",
    "          'run_salt_20160520-v113', \n",
    "          'run_salt_20160520-v114', \n",
    "          'run_salt_20160520-v115', \n",
    "          'run_salt_20160520-v116', \n",
    "    \n",
    "    \n",
    "]"
   ]
  },
  {
   "cell_type": "code",
   "execution_count": 9,
   "metadata": {},
   "outputs": [],
   "source": [
    "try:\n",
    "    [h.close() for h in hiss]\n",
    "except NameError:\n",
    "    pass\n",
    "his_fns=[os.path.join(d,'DFM_OUTPUT_flowfm/flowfm_0000_his.nc')\n",
    "         for d in run_dirs]\n",
    "hiss=[xr.open_dataset(his_fn) for his_fn in his_fns]\n",
    "for his,d in zip(hiss,run_dirs):\n",
    "    his.attrs['run_dir']=d"
   ]
  },
  {
   "cell_type": "code",
   "execution_count": 10,
   "metadata": {},
   "outputs": [],
   "source": [
    "patt='thalweg_pesc.*'\n",
    "\n",
    "trans=[dfm.extract_transect_his(his,patt) for his in hiss]"
   ]
  },
  {
   "cell_type": "code",
   "execution_count": 13,
   "metadata": {
    "scrolled": false
   },
   "outputs": [
    {
     "data": {
      "application/javascript": [
       "/* Put everything inside the global mpl namespace */\n",
       "/* global mpl */\n",
       "window.mpl = {};\n",
       "\n",
       "mpl.get_websocket_type = function () {\n",
       "    if (typeof WebSocket !== 'undefined') {\n",
       "        return WebSocket;\n",
       "    } else if (typeof MozWebSocket !== 'undefined') {\n",
       "        return MozWebSocket;\n",
       "    } else {\n",
       "        alert(\n",
       "            'Your browser does not have WebSocket support. ' +\n",
       "                'Please try Chrome, Safari or Firefox ≥ 6. ' +\n",
       "                'Firefox 4 and 5 are also supported but you ' +\n",
       "                'have to enable WebSockets in about:config.'\n",
       "        );\n",
       "    }\n",
       "};\n",
       "\n",
       "mpl.figure = function (figure_id, websocket, ondownload, parent_element) {\n",
       "    this.id = figure_id;\n",
       "\n",
       "    this.ws = websocket;\n",
       "\n",
       "    this.supports_binary = this.ws.binaryType !== undefined;\n",
       "\n",
       "    if (!this.supports_binary) {\n",
       "        var warnings = document.getElementById('mpl-warnings');\n",
       "        if (warnings) {\n",
       "            warnings.style.display = 'block';\n",
       "            warnings.textContent =\n",
       "                'This browser does not support binary websocket messages. ' +\n",
       "                'Performance may be slow.';\n",
       "        }\n",
       "    }\n",
       "\n",
       "    this.imageObj = new Image();\n",
       "\n",
       "    this.context = undefined;\n",
       "    this.message = undefined;\n",
       "    this.canvas = undefined;\n",
       "    this.rubberband_canvas = undefined;\n",
       "    this.rubberband_context = undefined;\n",
       "    this.format_dropdown = undefined;\n",
       "\n",
       "    this.image_mode = 'full';\n",
       "\n",
       "    this.root = document.createElement('div');\n",
       "    this.root.setAttribute('style', 'display: inline-block');\n",
       "    this._root_extra_style(this.root);\n",
       "\n",
       "    parent_element.appendChild(this.root);\n",
       "\n",
       "    this._init_header(this);\n",
       "    this._init_canvas(this);\n",
       "    this._init_toolbar(this);\n",
       "\n",
       "    var fig = this;\n",
       "\n",
       "    this.waiting = false;\n",
       "\n",
       "    this.ws.onopen = function () {\n",
       "        fig.send_message('supports_binary', { value: fig.supports_binary });\n",
       "        fig.send_message('send_image_mode', {});\n",
       "        if (fig.ratio !== 1) {\n",
       "            fig.send_message('set_dpi_ratio', { dpi_ratio: fig.ratio });\n",
       "        }\n",
       "        fig.send_message('refresh', {});\n",
       "    };\n",
       "\n",
       "    this.imageObj.onload = function () {\n",
       "        if (fig.image_mode === 'full') {\n",
       "            // Full images could contain transparency (where diff images\n",
       "            // almost always do), so we need to clear the canvas so that\n",
       "            // there is no ghosting.\n",
       "            fig.context.clearRect(0, 0, fig.canvas.width, fig.canvas.height);\n",
       "        }\n",
       "        fig.context.drawImage(fig.imageObj, 0, 0);\n",
       "    };\n",
       "\n",
       "    this.imageObj.onunload = function () {\n",
       "        fig.ws.close();\n",
       "    };\n",
       "\n",
       "    this.ws.onmessage = this._make_on_message_function(this);\n",
       "\n",
       "    this.ondownload = ondownload;\n",
       "};\n",
       "\n",
       "mpl.figure.prototype._init_header = function () {\n",
       "    var titlebar = document.createElement('div');\n",
       "    titlebar.classList =\n",
       "        'ui-dialog-titlebar ui-widget-header ui-corner-all ui-helper-clearfix';\n",
       "    var titletext = document.createElement('div');\n",
       "    titletext.classList = 'ui-dialog-title';\n",
       "    titletext.setAttribute(\n",
       "        'style',\n",
       "        'width: 100%; text-align: center; padding: 3px;'\n",
       "    );\n",
       "    titlebar.appendChild(titletext);\n",
       "    this.root.appendChild(titlebar);\n",
       "    this.header = titletext;\n",
       "};\n",
       "\n",
       "mpl.figure.prototype._canvas_extra_style = function (_canvas_div) {};\n",
       "\n",
       "mpl.figure.prototype._root_extra_style = function (_canvas_div) {};\n",
       "\n",
       "mpl.figure.prototype._init_canvas = function () {\n",
       "    var fig = this;\n",
       "\n",
       "    var canvas_div = (this.canvas_div = document.createElement('div'));\n",
       "    canvas_div.setAttribute(\n",
       "        'style',\n",
       "        'border: 1px solid #ddd;' +\n",
       "            'box-sizing: content-box;' +\n",
       "            'clear: both;' +\n",
       "            'min-height: 1px;' +\n",
       "            'min-width: 1px;' +\n",
       "            'outline: 0;' +\n",
       "            'overflow: hidden;' +\n",
       "            'position: relative;' +\n",
       "            'resize: both;'\n",
       "    );\n",
       "\n",
       "    function on_keyboard_event_closure(name) {\n",
       "        return function (event) {\n",
       "            return fig.key_event(event, name);\n",
       "        };\n",
       "    }\n",
       "\n",
       "    canvas_div.addEventListener(\n",
       "        'keydown',\n",
       "        on_keyboard_event_closure('key_press')\n",
       "    );\n",
       "    canvas_div.addEventListener(\n",
       "        'keyup',\n",
       "        on_keyboard_event_closure('key_release')\n",
       "    );\n",
       "\n",
       "    this._canvas_extra_style(canvas_div);\n",
       "    this.root.appendChild(canvas_div);\n",
       "\n",
       "    var canvas = (this.canvas = document.createElement('canvas'));\n",
       "    canvas.classList.add('mpl-canvas');\n",
       "    canvas.setAttribute('style', 'box-sizing: content-box;');\n",
       "\n",
       "    this.context = canvas.getContext('2d');\n",
       "\n",
       "    var backingStore =\n",
       "        this.context.backingStorePixelRatio ||\n",
       "        this.context.webkitBackingStorePixelRatio ||\n",
       "        this.context.mozBackingStorePixelRatio ||\n",
       "        this.context.msBackingStorePixelRatio ||\n",
       "        this.context.oBackingStorePixelRatio ||\n",
       "        this.context.backingStorePixelRatio ||\n",
       "        1;\n",
       "\n",
       "    this.ratio = (window.devicePixelRatio || 1) / backingStore;\n",
       "\n",
       "    var rubberband_canvas = (this.rubberband_canvas = document.createElement(\n",
       "        'canvas'\n",
       "    ));\n",
       "    rubberband_canvas.setAttribute(\n",
       "        'style',\n",
       "        'box-sizing: content-box; position: absolute; left: 0; top: 0; z-index: 1;'\n",
       "    );\n",
       "\n",
       "    // Apply a ponyfill if ResizeObserver is not implemented by browser.\n",
       "    if (this.ResizeObserver === undefined) {\n",
       "        if (window.ResizeObserver !== undefined) {\n",
       "            this.ResizeObserver = window.ResizeObserver;\n",
       "        } else {\n",
       "            var obs = _JSXTOOLS_RESIZE_OBSERVER({});\n",
       "            this.ResizeObserver = obs.ResizeObserver;\n",
       "        }\n",
       "    }\n",
       "\n",
       "    this.resizeObserverInstance = new this.ResizeObserver(function (entries) {\n",
       "        var nentries = entries.length;\n",
       "        for (var i = 0; i < nentries; i++) {\n",
       "            var entry = entries[i];\n",
       "            var width, height;\n",
       "            if (entry.contentBoxSize) {\n",
       "                if (entry.contentBoxSize instanceof Array) {\n",
       "                    // Chrome 84 implements new version of spec.\n",
       "                    width = entry.contentBoxSize[0].inlineSize;\n",
       "                    height = entry.contentBoxSize[0].blockSize;\n",
       "                } else {\n",
       "                    // Firefox implements old version of spec.\n",
       "                    width = entry.contentBoxSize.inlineSize;\n",
       "                    height = entry.contentBoxSize.blockSize;\n",
       "                }\n",
       "            } else {\n",
       "                // Chrome <84 implements even older version of spec.\n",
       "                width = entry.contentRect.width;\n",
       "                height = entry.contentRect.height;\n",
       "            }\n",
       "\n",
       "            // Keep the size of the canvas and rubber band canvas in sync with\n",
       "            // the canvas container.\n",
       "            if (entry.devicePixelContentBoxSize) {\n",
       "                // Chrome 84 implements new version of spec.\n",
       "                canvas.setAttribute(\n",
       "                    'width',\n",
       "                    entry.devicePixelContentBoxSize[0].inlineSize\n",
       "                );\n",
       "                canvas.setAttribute(\n",
       "                    'height',\n",
       "                    entry.devicePixelContentBoxSize[0].blockSize\n",
       "                );\n",
       "            } else {\n",
       "                canvas.setAttribute('width', width * fig.ratio);\n",
       "                canvas.setAttribute('height', height * fig.ratio);\n",
       "            }\n",
       "            canvas.setAttribute(\n",
       "                'style',\n",
       "                'width: ' + width + 'px; height: ' + height + 'px;'\n",
       "            );\n",
       "\n",
       "            rubberband_canvas.setAttribute('width', width);\n",
       "            rubberband_canvas.setAttribute('height', height);\n",
       "\n",
       "            // And update the size in Python. We ignore the initial 0/0 size\n",
       "            // that occurs as the element is placed into the DOM, which should\n",
       "            // otherwise not happen due to the minimum size styling.\n",
       "            if (fig.ws.readyState == 1 && width != 0 && height != 0) {\n",
       "                fig.request_resize(width, height);\n",
       "            }\n",
       "        }\n",
       "    });\n",
       "    this.resizeObserverInstance.observe(canvas_div);\n",
       "\n",
       "    function on_mouse_event_closure(name) {\n",
       "        return function (event) {\n",
       "            return fig.mouse_event(event, name);\n",
       "        };\n",
       "    }\n",
       "\n",
       "    rubberband_canvas.addEventListener(\n",
       "        'mousedown',\n",
       "        on_mouse_event_closure('button_press')\n",
       "    );\n",
       "    rubberband_canvas.addEventListener(\n",
       "        'mouseup',\n",
       "        on_mouse_event_closure('button_release')\n",
       "    );\n",
       "    rubberband_canvas.addEventListener(\n",
       "        'dblclick',\n",
       "        on_mouse_event_closure('dblclick')\n",
       "    );\n",
       "    // Throttle sequential mouse events to 1 every 20ms.\n",
       "    rubberband_canvas.addEventListener(\n",
       "        'mousemove',\n",
       "        on_mouse_event_closure('motion_notify')\n",
       "    );\n",
       "\n",
       "    rubberband_canvas.addEventListener(\n",
       "        'mouseenter',\n",
       "        on_mouse_event_closure('figure_enter')\n",
       "    );\n",
       "    rubberband_canvas.addEventListener(\n",
       "        'mouseleave',\n",
       "        on_mouse_event_closure('figure_leave')\n",
       "    );\n",
       "\n",
       "    canvas_div.addEventListener('wheel', function (event) {\n",
       "        if (event.deltaY < 0) {\n",
       "            event.step = 1;\n",
       "        } else {\n",
       "            event.step = -1;\n",
       "        }\n",
       "        on_mouse_event_closure('scroll')(event);\n",
       "    });\n",
       "\n",
       "    canvas_div.appendChild(canvas);\n",
       "    canvas_div.appendChild(rubberband_canvas);\n",
       "\n",
       "    this.rubberband_context = rubberband_canvas.getContext('2d');\n",
       "    this.rubberband_context.strokeStyle = '#000000';\n",
       "\n",
       "    this._resize_canvas = function (width, height, forward) {\n",
       "        if (forward) {\n",
       "            canvas_div.style.width = width + 'px';\n",
       "            canvas_div.style.height = height + 'px';\n",
       "        }\n",
       "    };\n",
       "\n",
       "    // Disable right mouse context menu.\n",
       "    this.rubberband_canvas.addEventListener('contextmenu', function (_e) {\n",
       "        event.preventDefault();\n",
       "        return false;\n",
       "    });\n",
       "\n",
       "    function set_focus() {\n",
       "        canvas.focus();\n",
       "        canvas_div.focus();\n",
       "    }\n",
       "\n",
       "    window.setTimeout(set_focus, 100);\n",
       "};\n",
       "\n",
       "mpl.figure.prototype._init_toolbar = function () {\n",
       "    var fig = this;\n",
       "\n",
       "    var toolbar = document.createElement('div');\n",
       "    toolbar.classList = 'mpl-toolbar';\n",
       "    this.root.appendChild(toolbar);\n",
       "\n",
       "    function on_click_closure(name) {\n",
       "        return function (_event) {\n",
       "            return fig.toolbar_button_onclick(name);\n",
       "        };\n",
       "    }\n",
       "\n",
       "    function on_mouseover_closure(tooltip) {\n",
       "        return function (event) {\n",
       "            if (!event.currentTarget.disabled) {\n",
       "                return fig.toolbar_button_onmouseover(tooltip);\n",
       "            }\n",
       "        };\n",
       "    }\n",
       "\n",
       "    fig.buttons = {};\n",
       "    var buttonGroup = document.createElement('div');\n",
       "    buttonGroup.classList = 'mpl-button-group';\n",
       "    for (var toolbar_ind in mpl.toolbar_items) {\n",
       "        var name = mpl.toolbar_items[toolbar_ind][0];\n",
       "        var tooltip = mpl.toolbar_items[toolbar_ind][1];\n",
       "        var image = mpl.toolbar_items[toolbar_ind][2];\n",
       "        var method_name = mpl.toolbar_items[toolbar_ind][3];\n",
       "\n",
       "        if (!name) {\n",
       "            /* Instead of a spacer, we start a new button group. */\n",
       "            if (buttonGroup.hasChildNodes()) {\n",
       "                toolbar.appendChild(buttonGroup);\n",
       "            }\n",
       "            buttonGroup = document.createElement('div');\n",
       "            buttonGroup.classList = 'mpl-button-group';\n",
       "            continue;\n",
       "        }\n",
       "\n",
       "        var button = (fig.buttons[name] = document.createElement('button'));\n",
       "        button.classList = 'mpl-widget';\n",
       "        button.setAttribute('role', 'button');\n",
       "        button.setAttribute('aria-disabled', 'false');\n",
       "        button.addEventListener('click', on_click_closure(method_name));\n",
       "        button.addEventListener('mouseover', on_mouseover_closure(tooltip));\n",
       "\n",
       "        var icon_img = document.createElement('img');\n",
       "        icon_img.src = '_images/' + image + '.png';\n",
       "        icon_img.srcset = '_images/' + image + '_large.png 2x';\n",
       "        icon_img.alt = tooltip;\n",
       "        button.appendChild(icon_img);\n",
       "\n",
       "        buttonGroup.appendChild(button);\n",
       "    }\n",
       "\n",
       "    if (buttonGroup.hasChildNodes()) {\n",
       "        toolbar.appendChild(buttonGroup);\n",
       "    }\n",
       "\n",
       "    var fmt_picker = document.createElement('select');\n",
       "    fmt_picker.classList = 'mpl-widget';\n",
       "    toolbar.appendChild(fmt_picker);\n",
       "    this.format_dropdown = fmt_picker;\n",
       "\n",
       "    for (var ind in mpl.extensions) {\n",
       "        var fmt = mpl.extensions[ind];\n",
       "        var option = document.createElement('option');\n",
       "        option.selected = fmt === mpl.default_extension;\n",
       "        option.innerHTML = fmt;\n",
       "        fmt_picker.appendChild(option);\n",
       "    }\n",
       "\n",
       "    var status_bar = document.createElement('span');\n",
       "    status_bar.classList = 'mpl-message';\n",
       "    toolbar.appendChild(status_bar);\n",
       "    this.message = status_bar;\n",
       "};\n",
       "\n",
       "mpl.figure.prototype.request_resize = function (x_pixels, y_pixels) {\n",
       "    // Request matplotlib to resize the figure. Matplotlib will then trigger a resize in the client,\n",
       "    // which will in turn request a refresh of the image.\n",
       "    this.send_message('resize', { width: x_pixels, height: y_pixels });\n",
       "};\n",
       "\n",
       "mpl.figure.prototype.send_message = function (type, properties) {\n",
       "    properties['type'] = type;\n",
       "    properties['figure_id'] = this.id;\n",
       "    this.ws.send(JSON.stringify(properties));\n",
       "};\n",
       "\n",
       "mpl.figure.prototype.send_draw_message = function () {\n",
       "    if (!this.waiting) {\n",
       "        this.waiting = true;\n",
       "        this.ws.send(JSON.stringify({ type: 'draw', figure_id: this.id }));\n",
       "    }\n",
       "};\n",
       "\n",
       "mpl.figure.prototype.handle_save = function (fig, _msg) {\n",
       "    var format_dropdown = fig.format_dropdown;\n",
       "    var format = format_dropdown.options[format_dropdown.selectedIndex].value;\n",
       "    fig.ondownload(fig, format);\n",
       "};\n",
       "\n",
       "mpl.figure.prototype.handle_resize = function (fig, msg) {\n",
       "    var size = msg['size'];\n",
       "    if (size[0] !== fig.canvas.width || size[1] !== fig.canvas.height) {\n",
       "        fig._resize_canvas(size[0], size[1], msg['forward']);\n",
       "        fig.send_message('refresh', {});\n",
       "    }\n",
       "};\n",
       "\n",
       "mpl.figure.prototype.handle_rubberband = function (fig, msg) {\n",
       "    var x0 = msg['x0'] / fig.ratio;\n",
       "    var y0 = (fig.canvas.height - msg['y0']) / fig.ratio;\n",
       "    var x1 = msg['x1'] / fig.ratio;\n",
       "    var y1 = (fig.canvas.height - msg['y1']) / fig.ratio;\n",
       "    x0 = Math.floor(x0) + 0.5;\n",
       "    y0 = Math.floor(y0) + 0.5;\n",
       "    x1 = Math.floor(x1) + 0.5;\n",
       "    y1 = Math.floor(y1) + 0.5;\n",
       "    var min_x = Math.min(x0, x1);\n",
       "    var min_y = Math.min(y0, y1);\n",
       "    var width = Math.abs(x1 - x0);\n",
       "    var height = Math.abs(y1 - y0);\n",
       "\n",
       "    fig.rubberband_context.clearRect(\n",
       "        0,\n",
       "        0,\n",
       "        fig.canvas.width / fig.ratio,\n",
       "        fig.canvas.height / fig.ratio\n",
       "    );\n",
       "\n",
       "    fig.rubberband_context.strokeRect(min_x, min_y, width, height);\n",
       "};\n",
       "\n",
       "mpl.figure.prototype.handle_figure_label = function (fig, msg) {\n",
       "    // Updates the figure title.\n",
       "    fig.header.textContent = msg['label'];\n",
       "};\n",
       "\n",
       "mpl.figure.prototype.handle_cursor = function (fig, msg) {\n",
       "    var cursor = msg['cursor'];\n",
       "    switch (cursor) {\n",
       "        case 0:\n",
       "            cursor = 'pointer';\n",
       "            break;\n",
       "        case 1:\n",
       "            cursor = 'default';\n",
       "            break;\n",
       "        case 2:\n",
       "            cursor = 'crosshair';\n",
       "            break;\n",
       "        case 3:\n",
       "            cursor = 'move';\n",
       "            break;\n",
       "    }\n",
       "    fig.rubberband_canvas.style.cursor = cursor;\n",
       "};\n",
       "\n",
       "mpl.figure.prototype.handle_message = function (fig, msg) {\n",
       "    fig.message.textContent = msg['message'];\n",
       "};\n",
       "\n",
       "mpl.figure.prototype.handle_draw = function (fig, _msg) {\n",
       "    // Request the server to send over a new figure.\n",
       "    fig.send_draw_message();\n",
       "};\n",
       "\n",
       "mpl.figure.prototype.handle_image_mode = function (fig, msg) {\n",
       "    fig.image_mode = msg['mode'];\n",
       "};\n",
       "\n",
       "mpl.figure.prototype.handle_history_buttons = function (fig, msg) {\n",
       "    for (var key in msg) {\n",
       "        if (!(key in fig.buttons)) {\n",
       "            continue;\n",
       "        }\n",
       "        fig.buttons[key].disabled = !msg[key];\n",
       "        fig.buttons[key].setAttribute('aria-disabled', !msg[key]);\n",
       "    }\n",
       "};\n",
       "\n",
       "mpl.figure.prototype.handle_navigate_mode = function (fig, msg) {\n",
       "    if (msg['mode'] === 'PAN') {\n",
       "        fig.buttons['Pan'].classList.add('active');\n",
       "        fig.buttons['Zoom'].classList.remove('active');\n",
       "    } else if (msg['mode'] === 'ZOOM') {\n",
       "        fig.buttons['Pan'].classList.remove('active');\n",
       "        fig.buttons['Zoom'].classList.add('active');\n",
       "    } else {\n",
       "        fig.buttons['Pan'].classList.remove('active');\n",
       "        fig.buttons['Zoom'].classList.remove('active');\n",
       "    }\n",
       "};\n",
       "\n",
       "mpl.figure.prototype.updated_canvas_event = function () {\n",
       "    // Called whenever the canvas gets updated.\n",
       "    this.send_message('ack', {});\n",
       "};\n",
       "\n",
       "// A function to construct a web socket function for onmessage handling.\n",
       "// Called in the figure constructor.\n",
       "mpl.figure.prototype._make_on_message_function = function (fig) {\n",
       "    return function socket_on_message(evt) {\n",
       "        if (evt.data instanceof Blob) {\n",
       "            var img = evt.data;\n",
       "            if (img.type !== 'image/png') {\n",
       "                /* FIXME: We get \"Resource interpreted as Image but\n",
       "                 * transferred with MIME type text/plain:\" errors on\n",
       "                 * Chrome.  But how to set the MIME type?  It doesn't seem\n",
       "                 * to be part of the websocket stream */\n",
       "                img.type = 'image/png';\n",
       "            }\n",
       "\n",
       "            /* Free the memory for the previous frames */\n",
       "            if (fig.imageObj.src) {\n",
       "                (window.URL || window.webkitURL).revokeObjectURL(\n",
       "                    fig.imageObj.src\n",
       "                );\n",
       "            }\n",
       "\n",
       "            fig.imageObj.src = (window.URL || window.webkitURL).createObjectURL(\n",
       "                img\n",
       "            );\n",
       "            fig.updated_canvas_event();\n",
       "            fig.waiting = false;\n",
       "            return;\n",
       "        } else if (\n",
       "            typeof evt.data === 'string' &&\n",
       "            evt.data.slice(0, 21) === 'data:image/png;base64'\n",
       "        ) {\n",
       "            fig.imageObj.src = evt.data;\n",
       "            fig.updated_canvas_event();\n",
       "            fig.waiting = false;\n",
       "            return;\n",
       "        }\n",
       "\n",
       "        var msg = JSON.parse(evt.data);\n",
       "        var msg_type = msg['type'];\n",
       "\n",
       "        // Call the  \"handle_{type}\" callback, which takes\n",
       "        // the figure and JSON message as its only arguments.\n",
       "        try {\n",
       "            var callback = fig['handle_' + msg_type];\n",
       "        } catch (e) {\n",
       "            console.log(\n",
       "                \"No handler for the '\" + msg_type + \"' message type: \",\n",
       "                msg\n",
       "            );\n",
       "            return;\n",
       "        }\n",
       "\n",
       "        if (callback) {\n",
       "            try {\n",
       "                // console.log(\"Handling '\" + msg_type + \"' message: \", msg);\n",
       "                callback(fig, msg);\n",
       "            } catch (e) {\n",
       "                console.log(\n",
       "                    \"Exception inside the 'handler_\" + msg_type + \"' callback:\",\n",
       "                    e,\n",
       "                    e.stack,\n",
       "                    msg\n",
       "                );\n",
       "            }\n",
       "        }\n",
       "    };\n",
       "};\n",
       "\n",
       "// from http://stackoverflow.com/questions/1114465/getting-mouse-location-in-canvas\n",
       "mpl.findpos = function (e) {\n",
       "    //this section is from http://www.quirksmode.org/js/events_properties.html\n",
       "    var targ;\n",
       "    if (!e) {\n",
       "        e = window.event;\n",
       "    }\n",
       "    if (e.target) {\n",
       "        targ = e.target;\n",
       "    } else if (e.srcElement) {\n",
       "        targ = e.srcElement;\n",
       "    }\n",
       "    if (targ.nodeType === 3) {\n",
       "        // defeat Safari bug\n",
       "        targ = targ.parentNode;\n",
       "    }\n",
       "\n",
       "    // pageX,Y are the mouse positions relative to the document\n",
       "    var boundingRect = targ.getBoundingClientRect();\n",
       "    var x = e.pageX - (boundingRect.left + document.body.scrollLeft);\n",
       "    var y = e.pageY - (boundingRect.top + document.body.scrollTop);\n",
       "\n",
       "    return { x: x, y: y };\n",
       "};\n",
       "\n",
       "/*\n",
       " * return a copy of an object with only non-object keys\n",
       " * we need this to avoid circular references\n",
       " * http://stackoverflow.com/a/24161582/3208463\n",
       " */\n",
       "function simpleKeys(original) {\n",
       "    return Object.keys(original).reduce(function (obj, key) {\n",
       "        if (typeof original[key] !== 'object') {\n",
       "            obj[key] = original[key];\n",
       "        }\n",
       "        return obj;\n",
       "    }, {});\n",
       "}\n",
       "\n",
       "mpl.figure.prototype.mouse_event = function (event, name) {\n",
       "    var canvas_pos = mpl.findpos(event);\n",
       "\n",
       "    if (name === 'button_press') {\n",
       "        this.canvas.focus();\n",
       "        this.canvas_div.focus();\n",
       "    }\n",
       "\n",
       "    var x = canvas_pos.x * this.ratio;\n",
       "    var y = canvas_pos.y * this.ratio;\n",
       "\n",
       "    this.send_message(name, {\n",
       "        x: x,\n",
       "        y: y,\n",
       "        button: event.button,\n",
       "        step: event.step,\n",
       "        guiEvent: simpleKeys(event),\n",
       "    });\n",
       "\n",
       "    /* This prevents the web browser from automatically changing to\n",
       "     * the text insertion cursor when the button is pressed.  We want\n",
       "     * to control all of the cursor setting manually through the\n",
       "     * 'cursor' event from matplotlib */\n",
       "    event.preventDefault();\n",
       "    return false;\n",
       "};\n",
       "\n",
       "mpl.figure.prototype._key_event_extra = function (_event, _name) {\n",
       "    // Handle any extra behaviour associated with a key event\n",
       "};\n",
       "\n",
       "mpl.figure.prototype.key_event = function (event, name) {\n",
       "    // Prevent repeat events\n",
       "    if (name === 'key_press') {\n",
       "        if (event.key === this._key) {\n",
       "            return;\n",
       "        } else {\n",
       "            this._key = event.key;\n",
       "        }\n",
       "    }\n",
       "    if (name === 'key_release') {\n",
       "        this._key = null;\n",
       "    }\n",
       "\n",
       "    var value = '';\n",
       "    if (event.ctrlKey && event.key !== 'Control') {\n",
       "        value += 'ctrl+';\n",
       "    }\n",
       "    else if (event.altKey && event.key !== 'Alt') {\n",
       "        value += 'alt+';\n",
       "    }\n",
       "    else if (event.shiftKey && event.key !== 'Shift') {\n",
       "        value += 'shift+';\n",
       "    }\n",
       "\n",
       "    value += 'k' + event.key;\n",
       "\n",
       "    this._key_event_extra(event, name);\n",
       "\n",
       "    this.send_message(name, { key: value, guiEvent: simpleKeys(event) });\n",
       "    return false;\n",
       "};\n",
       "\n",
       "mpl.figure.prototype.toolbar_button_onclick = function (name) {\n",
       "    if (name === 'download') {\n",
       "        this.handle_save(this, null);\n",
       "    } else {\n",
       "        this.send_message('toolbar_button', { name: name });\n",
       "    }\n",
       "};\n",
       "\n",
       "mpl.figure.prototype.toolbar_button_onmouseover = function (tooltip) {\n",
       "    this.message.textContent = tooltip;\n",
       "};\n",
       "\n",
       "///////////////// REMAINING CONTENT GENERATED BY embed_js.py /////////////////\n",
       "// prettier-ignore\n",
       "var _JSXTOOLS_RESIZE_OBSERVER=function(A){var t,i=new WeakMap,n=new WeakMap,a=new WeakMap,r=new WeakMap,o=new Set;function s(e){if(!(this instanceof s))throw new TypeError(\"Constructor requires 'new' operator\");i.set(this,e)}function h(){throw new TypeError(\"Function is not a constructor\")}function c(e,t,i,n){e=0 in arguments?Number(arguments[0]):0,t=1 in arguments?Number(arguments[1]):0,i=2 in arguments?Number(arguments[2]):0,n=3 in arguments?Number(arguments[3]):0,this.right=(this.x=this.left=e)+(this.width=i),this.bottom=(this.y=this.top=t)+(this.height=n),Object.freeze(this)}function d(){t=requestAnimationFrame(d);var s=new WeakMap,p=new Set;o.forEach((function(t){r.get(t).forEach((function(i){var r=t instanceof window.SVGElement,o=a.get(t),d=r?0:parseFloat(o.paddingTop),f=r?0:parseFloat(o.paddingRight),l=r?0:parseFloat(o.paddingBottom),u=r?0:parseFloat(o.paddingLeft),g=r?0:parseFloat(o.borderTopWidth),m=r?0:parseFloat(o.borderRightWidth),w=r?0:parseFloat(o.borderBottomWidth),b=u+f,F=d+l,v=(r?0:parseFloat(o.borderLeftWidth))+m,W=g+w,y=r?0:t.offsetHeight-W-t.clientHeight,E=r?0:t.offsetWidth-v-t.clientWidth,R=b+v,z=F+W,M=r?t.width:parseFloat(o.width)-R-E,O=r?t.height:parseFloat(o.height)-z-y;if(n.has(t)){var k=n.get(t);if(k[0]===M&&k[1]===O)return}n.set(t,[M,O]);var S=Object.create(h.prototype);S.target=t,S.contentRect=new c(u,d,M,O),s.has(i)||(s.set(i,[]),p.add(i)),s.get(i).push(S)}))})),p.forEach((function(e){i.get(e).call(e,s.get(e),e)}))}return s.prototype.observe=function(i){if(i instanceof window.Element){r.has(i)||(r.set(i,new Set),o.add(i),a.set(i,window.getComputedStyle(i)));var n=r.get(i);n.has(this)||n.add(this),cancelAnimationFrame(t),t=requestAnimationFrame(d)}},s.prototype.unobserve=function(i){if(i instanceof window.Element&&r.has(i)){var n=r.get(i);n.has(this)&&(n.delete(this),n.size||(r.delete(i),o.delete(i))),n.size||r.delete(i),o.size||cancelAnimationFrame(t)}},A.DOMRectReadOnly=c,A.ResizeObserver=s,A.ResizeObserverEntry=h,A}; // eslint-disable-line\n",
       "mpl.toolbar_items = [[\"Home\", \"Reset original view\", \"fa fa-home icon-home\", \"home\"], [\"Back\", \"Back to previous view\", \"fa fa-arrow-left icon-arrow-left\", \"back\"], [\"Forward\", \"Forward to next view\", \"fa fa-arrow-right icon-arrow-right\", \"forward\"], [\"\", \"\", \"\", \"\"], [\"Pan\", \"Left button pans, Right button zooms\\nx/y fixes axis, CTRL fixes aspect\", \"fa fa-arrows icon-move\", \"pan\"], [\"Zoom\", \"Zoom to rectangle\\nx/y fixes axis, CTRL fixes aspect\", \"fa fa-square-o icon-check-empty\", \"zoom\"], [\"\", \"\", \"\", \"\"], [\"Download\", \"Download plot\", \"fa fa-floppy-o icon-save\", \"download\"]];\n",
       "\n",
       "mpl.extensions = [\"eps\", \"jpeg\", \"pgf\", \"pdf\", \"png\", \"ps\", \"raw\", \"svg\", \"tif\"];\n",
       "\n",
       "mpl.default_extension = \"png\";/* global mpl */\n",
       "\n",
       "var comm_websocket_adapter = function (comm) {\n",
       "    // Create a \"websocket\"-like object which calls the given IPython comm\n",
       "    // object with the appropriate methods. Currently this is a non binary\n",
       "    // socket, so there is still some room for performance tuning.\n",
       "    var ws = {};\n",
       "\n",
       "    ws.binaryType = comm.kernel.ws.binaryType;\n",
       "    ws.readyState = comm.kernel.ws.readyState;\n",
       "    function updateReadyState(_event) {\n",
       "        if (comm.kernel.ws) {\n",
       "            ws.readyState = comm.kernel.ws.readyState;\n",
       "        } else {\n",
       "            ws.readyState = 3; // Closed state.\n",
       "        }\n",
       "    }\n",
       "    comm.kernel.ws.addEventListener('open', updateReadyState);\n",
       "    comm.kernel.ws.addEventListener('close', updateReadyState);\n",
       "    comm.kernel.ws.addEventListener('error', updateReadyState);\n",
       "\n",
       "    ws.close = function () {\n",
       "        comm.close();\n",
       "    };\n",
       "    ws.send = function (m) {\n",
       "        //console.log('sending', m);\n",
       "        comm.send(m);\n",
       "    };\n",
       "    // Register the callback with on_msg.\n",
       "    comm.on_msg(function (msg) {\n",
       "        //console.log('receiving', msg['content']['data'], msg);\n",
       "        var data = msg['content']['data'];\n",
       "        if (data['blob'] !== undefined) {\n",
       "            data = {\n",
       "                data: new Blob(msg['buffers'], { type: data['blob'] }),\n",
       "            };\n",
       "        }\n",
       "        // Pass the mpl event to the overridden (by mpl) onmessage function.\n",
       "        ws.onmessage(data);\n",
       "    });\n",
       "    return ws;\n",
       "};\n",
       "\n",
       "mpl.mpl_figure_comm = function (comm, msg) {\n",
       "    // This is the function which gets called when the mpl process\n",
       "    // starts-up an IPython Comm through the \"matplotlib\" channel.\n",
       "\n",
       "    var id = msg.content.data.id;\n",
       "    // Get hold of the div created by the display call when the Comm\n",
       "    // socket was opened in Python.\n",
       "    var element = document.getElementById(id);\n",
       "    var ws_proxy = comm_websocket_adapter(comm);\n",
       "\n",
       "    function ondownload(figure, _format) {\n",
       "        window.open(figure.canvas.toDataURL());\n",
       "    }\n",
       "\n",
       "    var fig = new mpl.figure(id, ws_proxy, ondownload, element);\n",
       "\n",
       "    // Call onopen now - mpl needs it, as it is assuming we've passed it a real\n",
       "    // web socket which is closed, not our websocket->open comm proxy.\n",
       "    ws_proxy.onopen();\n",
       "\n",
       "    fig.parent_element = element;\n",
       "    fig.cell_info = mpl.find_output_cell(\"<div id='\" + id + \"'></div>\");\n",
       "    if (!fig.cell_info) {\n",
       "        console.error('Failed to find cell for figure', id, fig);\n",
       "        return;\n",
       "    }\n",
       "    fig.cell_info[0].output_area.element.on(\n",
       "        'cleared',\n",
       "        { fig: fig },\n",
       "        fig._remove_fig_handler\n",
       "    );\n",
       "};\n",
       "\n",
       "mpl.figure.prototype.handle_close = function (fig, msg) {\n",
       "    var width = fig.canvas.width / fig.ratio;\n",
       "    fig.cell_info[0].output_area.element.off(\n",
       "        'cleared',\n",
       "        fig._remove_fig_handler\n",
       "    );\n",
       "    fig.resizeObserverInstance.unobserve(fig.canvas_div);\n",
       "\n",
       "    // Update the output cell to use the data from the current canvas.\n",
       "    fig.push_to_output();\n",
       "    var dataURL = fig.canvas.toDataURL();\n",
       "    // Re-enable the keyboard manager in IPython - without this line, in FF,\n",
       "    // the notebook keyboard shortcuts fail.\n",
       "    IPython.keyboard_manager.enable();\n",
       "    fig.parent_element.innerHTML =\n",
       "        '<img src=\"' + dataURL + '\" width=\"' + width + '\">';\n",
       "    fig.close_ws(fig, msg);\n",
       "};\n",
       "\n",
       "mpl.figure.prototype.close_ws = function (fig, msg) {\n",
       "    fig.send_message('closing', msg);\n",
       "    // fig.ws.close()\n",
       "};\n",
       "\n",
       "mpl.figure.prototype.push_to_output = function (_remove_interactive) {\n",
       "    // Turn the data on the canvas into data in the output cell.\n",
       "    var width = this.canvas.width / this.ratio;\n",
       "    var dataURL = this.canvas.toDataURL();\n",
       "    this.cell_info[1]['text/html'] =\n",
       "        '<img src=\"' + dataURL + '\" width=\"' + width + '\">';\n",
       "};\n",
       "\n",
       "mpl.figure.prototype.updated_canvas_event = function () {\n",
       "    // Tell IPython that the notebook contents must change.\n",
       "    IPython.notebook.set_dirty(true);\n",
       "    this.send_message('ack', {});\n",
       "    var fig = this;\n",
       "    // Wait a second, then push the new image to the DOM so\n",
       "    // that it is saved nicely (might be nice to debounce this).\n",
       "    setTimeout(function () {\n",
       "        fig.push_to_output();\n",
       "    }, 1000);\n",
       "};\n",
       "\n",
       "mpl.figure.prototype._init_toolbar = function () {\n",
       "    var fig = this;\n",
       "\n",
       "    var toolbar = document.createElement('div');\n",
       "    toolbar.classList = 'btn-toolbar';\n",
       "    this.root.appendChild(toolbar);\n",
       "\n",
       "    function on_click_closure(name) {\n",
       "        return function (_event) {\n",
       "            return fig.toolbar_button_onclick(name);\n",
       "        };\n",
       "    }\n",
       "\n",
       "    function on_mouseover_closure(tooltip) {\n",
       "        return function (event) {\n",
       "            if (!event.currentTarget.disabled) {\n",
       "                return fig.toolbar_button_onmouseover(tooltip);\n",
       "            }\n",
       "        };\n",
       "    }\n",
       "\n",
       "    fig.buttons = {};\n",
       "    var buttonGroup = document.createElement('div');\n",
       "    buttonGroup.classList = 'btn-group';\n",
       "    var button;\n",
       "    for (var toolbar_ind in mpl.toolbar_items) {\n",
       "        var name = mpl.toolbar_items[toolbar_ind][0];\n",
       "        var tooltip = mpl.toolbar_items[toolbar_ind][1];\n",
       "        var image = mpl.toolbar_items[toolbar_ind][2];\n",
       "        var method_name = mpl.toolbar_items[toolbar_ind][3];\n",
       "\n",
       "        if (!name) {\n",
       "            /* Instead of a spacer, we start a new button group. */\n",
       "            if (buttonGroup.hasChildNodes()) {\n",
       "                toolbar.appendChild(buttonGroup);\n",
       "            }\n",
       "            buttonGroup = document.createElement('div');\n",
       "            buttonGroup.classList = 'btn-group';\n",
       "            continue;\n",
       "        }\n",
       "\n",
       "        button = fig.buttons[name] = document.createElement('button');\n",
       "        button.classList = 'btn btn-default';\n",
       "        button.href = '#';\n",
       "        button.title = name;\n",
       "        button.innerHTML = '<i class=\"fa ' + image + ' fa-lg\"></i>';\n",
       "        button.addEventListener('click', on_click_closure(method_name));\n",
       "        button.addEventListener('mouseover', on_mouseover_closure(tooltip));\n",
       "        buttonGroup.appendChild(button);\n",
       "    }\n",
       "\n",
       "    if (buttonGroup.hasChildNodes()) {\n",
       "        toolbar.appendChild(buttonGroup);\n",
       "    }\n",
       "\n",
       "    // Add the status bar.\n",
       "    var status_bar = document.createElement('span');\n",
       "    status_bar.classList = 'mpl-message pull-right';\n",
       "    toolbar.appendChild(status_bar);\n",
       "    this.message = status_bar;\n",
       "\n",
       "    // Add the close button to the window.\n",
       "    var buttongrp = document.createElement('div');\n",
       "    buttongrp.classList = 'btn-group inline pull-right';\n",
       "    button = document.createElement('button');\n",
       "    button.classList = 'btn btn-mini btn-primary';\n",
       "    button.href = '#';\n",
       "    button.title = 'Stop Interaction';\n",
       "    button.innerHTML = '<i class=\"fa fa-power-off icon-remove icon-large\"></i>';\n",
       "    button.addEventListener('click', function (_evt) {\n",
       "        fig.handle_close(fig, {});\n",
       "    });\n",
       "    button.addEventListener(\n",
       "        'mouseover',\n",
       "        on_mouseover_closure('Stop Interaction')\n",
       "    );\n",
       "    buttongrp.appendChild(button);\n",
       "    var titlebar = this.root.querySelector('.ui-dialog-titlebar');\n",
       "    titlebar.insertBefore(buttongrp, titlebar.firstChild);\n",
       "};\n",
       "\n",
       "mpl.figure.prototype._remove_fig_handler = function (event) {\n",
       "    var fig = event.data.fig;\n",
       "    if (event.target !== this) {\n",
       "        // Ignore bubbled events from children.\n",
       "        return;\n",
       "    }\n",
       "    fig.close_ws(fig, {});\n",
       "};\n",
       "\n",
       "mpl.figure.prototype._root_extra_style = function (el) {\n",
       "    el.style.boxSizing = 'content-box'; // override notebook setting of border-box.\n",
       "};\n",
       "\n",
       "mpl.figure.prototype._canvas_extra_style = function (el) {\n",
       "    // this is important to make the div 'focusable\n",
       "    el.setAttribute('tabindex', 0);\n",
       "    // reach out to IPython and tell the keyboard manager to turn it's self\n",
       "    // off when our div gets focus\n",
       "\n",
       "    // location in version 3\n",
       "    if (IPython.notebook.keyboard_manager) {\n",
       "        IPython.notebook.keyboard_manager.register_events(el);\n",
       "    } else {\n",
       "        // location in version 2\n",
       "        IPython.keyboard_manager.register_events(el);\n",
       "    }\n",
       "};\n",
       "\n",
       "mpl.figure.prototype._key_event_extra = function (event, _name) {\n",
       "    var manager = IPython.notebook.keyboard_manager;\n",
       "    if (!manager) {\n",
       "        manager = IPython.keyboard_manager;\n",
       "    }\n",
       "\n",
       "    // Check for shift+enter\n",
       "    if (event.shiftKey && event.which === 13) {\n",
       "        this.canvas_div.blur();\n",
       "        // select the cell after this one\n",
       "        var index = IPython.notebook.find_cell_index(this.cell_info[0]);\n",
       "        IPython.notebook.select(index + 1);\n",
       "    }\n",
       "};\n",
       "\n",
       "mpl.figure.prototype.handle_save = function (fig, _msg) {\n",
       "    fig.ondownload(fig, null);\n",
       "};\n",
       "\n",
       "mpl.find_output_cell = function (html_output) {\n",
       "    // Return the cell and output element which can be found *uniquely* in the notebook.\n",
       "    // Note - this is a bit hacky, but it is done because the \"notebook_saving.Notebook\"\n",
       "    // IPython event is triggered only after the cells have been serialised, which for\n",
       "    // our purposes (turning an active figure into a static one), is too late.\n",
       "    var cells = IPython.notebook.get_cells();\n",
       "    var ncells = cells.length;\n",
       "    for (var i = 0; i < ncells; i++) {\n",
       "        var cell = cells[i];\n",
       "        if (cell.cell_type === 'code') {\n",
       "            for (var j = 0; j < cell.output_area.outputs.length; j++) {\n",
       "                var data = cell.output_area.outputs[j];\n",
       "                if (data.data) {\n",
       "                    // IPython >= 3 moved mimebundle to data attribute of output\n",
       "                    data = data.data;\n",
       "                }\n",
       "                if (data['text/html'] === html_output) {\n",
       "                    return [cell, data, j];\n",
       "                }\n",
       "            }\n",
       "        }\n",
       "    }\n",
       "};\n",
       "\n",
       "// Register the function which deals with the matplotlib target/channel.\n",
       "// The kernel may be null if the page has been refreshed.\n",
       "if (IPython.notebook.kernel !== null) {\n",
       "    IPython.notebook.kernel.comm_manager.register_target(\n",
       "        'matplotlib',\n",
       "        mpl.mpl_figure_comm\n",
       "    );\n",
       "}\n"
      ],
      "text/plain": [
       "<IPython.core.display.Javascript object>"
      ]
     },
     "metadata": {},
     "output_type": "display_data"
    },
    {
     "data": {
      "text/html": [
       "<img src=\"data:image/png;base64,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\" width=\"1000\">"
      ],
      "text/plain": [
       "<IPython.core.display.HTML object>"
      ]
     },
     "metadata": {},
     "output_type": "display_data"
    },
    {
     "name": "stderr",
     "output_type": "stream",
     "text": [
      "/home/rustyh/src/stompy/stompy/xr_transect.py:996: UserWarning: No contour levels were found within the data range.\n",
      "  return f(x.values,yvals,scal.values,*args,**kwargs)\n"
     ]
    },
    {
     "name": "stdout",
     "output_type": "stream",
     "text": [
      "Range of salinity:  5.544942114773095 32.9876688918032\n",
      "Range of salinity:  4.367958480632834 32.99926363567171\n",
      "Range of salinity:  4.48406547235303 32.982503791375315\n",
      "Range of salinity:  2.0754127564532263 32.978733067432835\n"
     ]
    },
    {
     "data": {
      "text/plain": [
       "<matplotlib.lines.Line2D at 0x151ed4913550>"
      ]
     },
     "execution_count": 13,
     "metadata": {},
     "output_type": "execute_result"
    }
   ],
   "source": [
    "fig=plt.figure(figsize=(10,9))\n",
    "\n",
    "G=gs.GridSpec(1+len(trans),5)\n",
    "\n",
    "axs=[]\n",
    "axv=ax=None\n",
    "axvs=[]\n",
    "for ti,t in enumerate(trans):\n",
    "    ax=fig.add_subplot(G[ti,:-1],sharex=ax,sharey=ax)\n",
    "    axs.append(ax)\n",
    "    axv=fig.add_subplot(G[ti,-1],sharex=axv,sharey=axv)\n",
    "    axvs.append(axv)\n",
    "\n",
    "    \n",
    "top_pos=axs[0].get_position()\n",
    "\n",
    "cax=fig.add_axes( [top_pos.xmin,top_pos.ymax+0.05,0.5*top_pos.width,0.02])\n",
    "    \n",
    "t=np.datetime64(\"2016-06-16T12:00\")\n",
    "#t=np.datetime64(\"2016-06-13T22:00\")\n",
    "#t=np.datetime64(\"2016-06-12T22:00\")\n",
    "dist=475 # pull a profile from here.\n",
    "#dist=185 # just inside mouth\n",
    "\n",
    "V=np.linspace(0,36,37)\n",
    "\n",
    "ttrans=[tran.isel(\n",
    "        time=min(np.searchsorted(tran.time.values,t),\n",
    "                 tran.dims['time']-1) )\n",
    "     for tran in trans]\n",
    "    \n",
    "\n",
    "for ax,tran in zip(axs,ttrans):\n",
    "    xrt.get_d_sample(tran)\n",
    "    cset=xrt.contourf(tran,'salinity',V,ax=ax,cmap=turbo,extend='both')\n",
    "    ax.set_ylabel('z (m)')\n",
    "    xrt.contour(tran,'salinity',np.r_[33.0],ax=ax,colors='k')\n",
    "    print(\"Range of salinity: \",float(tran['salinity'].min()),\n",
    "          float(tran['salinity'].max()))\n",
    "\n",
    "plt.colorbar(cset,cax=cax,label='Salinity',orientation='horizontal')\n",
    "\n",
    "sampxy=None\n",
    "for ax,axv,tran in zip(axs,axvs,ttrans):\n",
    "    txy=np.c_[ tran.x_sample.values, tran.y_sample.values]\n",
    "    if sampxy is None:\n",
    "        samp=np.searchsorted(tran.d_sample.values,dist)\n",
    "        sampxy=txy[samp]\n",
    "    else:\n",
    "        dists=utils.dist(sampxy, txy)\n",
    "        samp=np.argmin(dists)\n",
    "    axv.plot(tran['salinity'].isel(sample=samp),\n",
    "             tran['z_ctr'].isel(sample=samp),\n",
    "             marker='.')\n",
    "    ax.axvline(tran.d_sample.values[samp],ls='--')\n",
    "    ax.text(0.98,0.02,tran.attrs['run_dir'],transform=ax.transAxes,\n",
    "            ha='right')\n",
    "    # ghosted on other axes:\n",
    "    for ax_other in axvs:\n",
    "        if ax_other!=ax:\n",
    "            ax_other.plot(tran['salinity'].isel(sample=samp),\n",
    "                          tran['z_ctr'].isel(sample=samp),\n",
    "                          color='0.75',marker='.',zorder=-1)\n",
    "            \n",
    "\n",
    "axt=fig.add_subplot(G[-1,:])\n",
    "axt.plot( hiss[0].time, hiss[0]['waterlevel'].isel(stations=7),label='NCK waterlevel')\n",
    "\n",
    "for tran in ttrans:\n",
    "    axt.axvline( tran.time.values,color='k')\n",
    "    \n",
    "axt.axvline(t,color='b')"
   ]
  },
  {
   "cell_type": "code",
   "execution_count": 76,
   "metadata": {},
   "outputs": [
    {
     "data": {
      "application/javascript": [
       "/* Put everything inside the global mpl namespace */\n",
       "/* global mpl */\n",
       "window.mpl = {};\n",
       "\n",
       "mpl.get_websocket_type = function () {\n",
       "    if (typeof WebSocket !== 'undefined') {\n",
       "        return WebSocket;\n",
       "    } else if (typeof MozWebSocket !== 'undefined') {\n",
       "        return MozWebSocket;\n",
       "    } else {\n",
       "        alert(\n",
       "            'Your browser does not have WebSocket support. ' +\n",
       "                'Please try Chrome, Safari or Firefox ≥ 6. ' +\n",
       "                'Firefox 4 and 5 are also supported but you ' +\n",
       "                'have to enable WebSockets in about:config.'\n",
       "        );\n",
       "    }\n",
       "};\n",
       "\n",
       "mpl.figure = function (figure_id, websocket, ondownload, parent_element) {\n",
       "    this.id = figure_id;\n",
       "\n",
       "    this.ws = websocket;\n",
       "\n",
       "    this.supports_binary = this.ws.binaryType !== undefined;\n",
       "\n",
       "    if (!this.supports_binary) {\n",
       "        var warnings = document.getElementById('mpl-warnings');\n",
       "        if (warnings) {\n",
       "            warnings.style.display = 'block';\n",
       "            warnings.textContent =\n",
       "                'This browser does not support binary websocket messages. ' +\n",
       "                'Performance may be slow.';\n",
       "        }\n",
       "    }\n",
       "\n",
       "    this.imageObj = new Image();\n",
       "\n",
       "    this.context = undefined;\n",
       "    this.message = undefined;\n",
       "    this.canvas = undefined;\n",
       "    this.rubberband_canvas = undefined;\n",
       "    this.rubberband_context = undefined;\n",
       "    this.format_dropdown = undefined;\n",
       "\n",
       "    this.image_mode = 'full';\n",
       "\n",
       "    this.root = document.createElement('div');\n",
       "    this.root.setAttribute('style', 'display: inline-block');\n",
       "    this._root_extra_style(this.root);\n",
       "\n",
       "    parent_element.appendChild(this.root);\n",
       "\n",
       "    this._init_header(this);\n",
       "    this._init_canvas(this);\n",
       "    this._init_toolbar(this);\n",
       "\n",
       "    var fig = this;\n",
       "\n",
       "    this.waiting = false;\n",
       "\n",
       "    this.ws.onopen = function () {\n",
       "        fig.send_message('supports_binary', { value: fig.supports_binary });\n",
       "        fig.send_message('send_image_mode', {});\n",
       "        if (fig.ratio !== 1) {\n",
       "            fig.send_message('set_dpi_ratio', { dpi_ratio: fig.ratio });\n",
       "        }\n",
       "        fig.send_message('refresh', {});\n",
       "    };\n",
       "\n",
       "    this.imageObj.onload = function () {\n",
       "        if (fig.image_mode === 'full') {\n",
       "            // Full images could contain transparency (where diff images\n",
       "            // almost always do), so we need to clear the canvas so that\n",
       "            // there is no ghosting.\n",
       "            fig.context.clearRect(0, 0, fig.canvas.width, fig.canvas.height);\n",
       "        }\n",
       "        fig.context.drawImage(fig.imageObj, 0, 0);\n",
       "    };\n",
       "\n",
       "    this.imageObj.onunload = function () {\n",
       "        fig.ws.close();\n",
       "    };\n",
       "\n",
       "    this.ws.onmessage = this._make_on_message_function(this);\n",
       "\n",
       "    this.ondownload = ondownload;\n",
       "};\n",
       "\n",
       "mpl.figure.prototype._init_header = function () {\n",
       "    var titlebar = document.createElement('div');\n",
       "    titlebar.classList =\n",
       "        'ui-dialog-titlebar ui-widget-header ui-corner-all ui-helper-clearfix';\n",
       "    var titletext = document.createElement('div');\n",
       "    titletext.classList = 'ui-dialog-title';\n",
       "    titletext.setAttribute(\n",
       "        'style',\n",
       "        'width: 100%; text-align: center; padding: 3px;'\n",
       "    );\n",
       "    titlebar.appendChild(titletext);\n",
       "    this.root.appendChild(titlebar);\n",
       "    this.header = titletext;\n",
       "};\n",
       "\n",
       "mpl.figure.prototype._canvas_extra_style = function (_canvas_div) {};\n",
       "\n",
       "mpl.figure.prototype._root_extra_style = function (_canvas_div) {};\n",
       "\n",
       "mpl.figure.prototype._init_canvas = function () {\n",
       "    var fig = this;\n",
       "\n",
       "    var canvas_div = (this.canvas_div = document.createElement('div'));\n",
       "    canvas_div.setAttribute(\n",
       "        'style',\n",
       "        'border: 1px solid #ddd;' +\n",
       "            'box-sizing: content-box;' +\n",
       "            'clear: both;' +\n",
       "            'min-height: 1px;' +\n",
       "            'min-width: 1px;' +\n",
       "            'outline: 0;' +\n",
       "            'overflow: hidden;' +\n",
       "            'position: relative;' +\n",
       "            'resize: both;'\n",
       "    );\n",
       "\n",
       "    function on_keyboard_event_closure(name) {\n",
       "        return function (event) {\n",
       "            return fig.key_event(event, name);\n",
       "        };\n",
       "    }\n",
       "\n",
       "    canvas_div.addEventListener(\n",
       "        'keydown',\n",
       "        on_keyboard_event_closure('key_press')\n",
       "    );\n",
       "    canvas_div.addEventListener(\n",
       "        'keyup',\n",
       "        on_keyboard_event_closure('key_release')\n",
       "    );\n",
       "\n",
       "    this._canvas_extra_style(canvas_div);\n",
       "    this.root.appendChild(canvas_div);\n",
       "\n",
       "    var canvas = (this.canvas = document.createElement('canvas'));\n",
       "    canvas.classList.add('mpl-canvas');\n",
       "    canvas.setAttribute('style', 'box-sizing: content-box;');\n",
       "\n",
       "    this.context = canvas.getContext('2d');\n",
       "\n",
       "    var backingStore =\n",
       "        this.context.backingStorePixelRatio ||\n",
       "        this.context.webkitBackingStorePixelRatio ||\n",
       "        this.context.mozBackingStorePixelRatio ||\n",
       "        this.context.msBackingStorePixelRatio ||\n",
       "        this.context.oBackingStorePixelRatio ||\n",
       "        this.context.backingStorePixelRatio ||\n",
       "        1;\n",
       "\n",
       "    this.ratio = (window.devicePixelRatio || 1) / backingStore;\n",
       "\n",
       "    var rubberband_canvas = (this.rubberband_canvas = document.createElement(\n",
       "        'canvas'\n",
       "    ));\n",
       "    rubberband_canvas.setAttribute(\n",
       "        'style',\n",
       "        'box-sizing: content-box; position: absolute; left: 0; top: 0; z-index: 1;'\n",
       "    );\n",
       "\n",
       "    // Apply a ponyfill if ResizeObserver is not implemented by browser.\n",
       "    if (this.ResizeObserver === undefined) {\n",
       "        if (window.ResizeObserver !== undefined) {\n",
       "            this.ResizeObserver = window.ResizeObserver;\n",
       "        } else {\n",
       "            var obs = _JSXTOOLS_RESIZE_OBSERVER({});\n",
       "            this.ResizeObserver = obs.ResizeObserver;\n",
       "        }\n",
       "    }\n",
       "\n",
       "    this.resizeObserverInstance = new this.ResizeObserver(function (entries) {\n",
       "        var nentries = entries.length;\n",
       "        for (var i = 0; i < nentries; i++) {\n",
       "            var entry = entries[i];\n",
       "            var width, height;\n",
       "            if (entry.contentBoxSize) {\n",
       "                if (entry.contentBoxSize instanceof Array) {\n",
       "                    // Chrome 84 implements new version of spec.\n",
       "                    width = entry.contentBoxSize[0].inlineSize;\n",
       "                    height = entry.contentBoxSize[0].blockSize;\n",
       "                } else {\n",
       "                    // Firefox implements old version of spec.\n",
       "                    width = entry.contentBoxSize.inlineSize;\n",
       "                    height = entry.contentBoxSize.blockSize;\n",
       "                }\n",
       "            } else {\n",
       "                // Chrome <84 implements even older version of spec.\n",
       "                width = entry.contentRect.width;\n",
       "                height = entry.contentRect.height;\n",
       "            }\n",
       "\n",
       "            // Keep the size of the canvas and rubber band canvas in sync with\n",
       "            // the canvas container.\n",
       "            if (entry.devicePixelContentBoxSize) {\n",
       "                // Chrome 84 implements new version of spec.\n",
       "                canvas.setAttribute(\n",
       "                    'width',\n",
       "                    entry.devicePixelContentBoxSize[0].inlineSize\n",
       "                );\n",
       "                canvas.setAttribute(\n",
       "                    'height',\n",
       "                    entry.devicePixelContentBoxSize[0].blockSize\n",
       "                );\n",
       "            } else {\n",
       "                canvas.setAttribute('width', width * fig.ratio);\n",
       "                canvas.setAttribute('height', height * fig.ratio);\n",
       "            }\n",
       "            canvas.setAttribute(\n",
       "                'style',\n",
       "                'width: ' + width + 'px; height: ' + height + 'px;'\n",
       "            );\n",
       "\n",
       "            rubberband_canvas.setAttribute('width', width);\n",
       "            rubberband_canvas.setAttribute('height', height);\n",
       "\n",
       "            // And update the size in Python. We ignore the initial 0/0 size\n",
       "            // that occurs as the element is placed into the DOM, which should\n",
       "            // otherwise not happen due to the minimum size styling.\n",
       "            if (fig.ws.readyState == 1 && width != 0 && height != 0) {\n",
       "                fig.request_resize(width, height);\n",
       "            }\n",
       "        }\n",
       "    });\n",
       "    this.resizeObserverInstance.observe(canvas_div);\n",
       "\n",
       "    function on_mouse_event_closure(name) {\n",
       "        return function (event) {\n",
       "            return fig.mouse_event(event, name);\n",
       "        };\n",
       "    }\n",
       "\n",
       "    rubberband_canvas.addEventListener(\n",
       "        'mousedown',\n",
       "        on_mouse_event_closure('button_press')\n",
       "    );\n",
       "    rubberband_canvas.addEventListener(\n",
       "        'mouseup',\n",
       "        on_mouse_event_closure('button_release')\n",
       "    );\n",
       "    rubberband_canvas.addEventListener(\n",
       "        'dblclick',\n",
       "        on_mouse_event_closure('dblclick')\n",
       "    );\n",
       "    // Throttle sequential mouse events to 1 every 20ms.\n",
       "    rubberband_canvas.addEventListener(\n",
       "        'mousemove',\n",
       "        on_mouse_event_closure('motion_notify')\n",
       "    );\n",
       "\n",
       "    rubberband_canvas.addEventListener(\n",
       "        'mouseenter',\n",
       "        on_mouse_event_closure('figure_enter')\n",
       "    );\n",
       "    rubberband_canvas.addEventListener(\n",
       "        'mouseleave',\n",
       "        on_mouse_event_closure('figure_leave')\n",
       "    );\n",
       "\n",
       "    canvas_div.addEventListener('wheel', function (event) {\n",
       "        if (event.deltaY < 0) {\n",
       "            event.step = 1;\n",
       "        } else {\n",
       "            event.step = -1;\n",
       "        }\n",
       "        on_mouse_event_closure('scroll')(event);\n",
       "    });\n",
       "\n",
       "    canvas_div.appendChild(canvas);\n",
       "    canvas_div.appendChild(rubberband_canvas);\n",
       "\n",
       "    this.rubberband_context = rubberband_canvas.getContext('2d');\n",
       "    this.rubberband_context.strokeStyle = '#000000';\n",
       "\n",
       "    this._resize_canvas = function (width, height, forward) {\n",
       "        if (forward) {\n",
       "            canvas_div.style.width = width + 'px';\n",
       "            canvas_div.style.height = height + 'px';\n",
       "        }\n",
       "    };\n",
       "\n",
       "    // Disable right mouse context menu.\n",
       "    this.rubberband_canvas.addEventListener('contextmenu', function (_e) {\n",
       "        event.preventDefault();\n",
       "        return false;\n",
       "    });\n",
       "\n",
       "    function set_focus() {\n",
       "        canvas.focus();\n",
       "        canvas_div.focus();\n",
       "    }\n",
       "\n",
       "    window.setTimeout(set_focus, 100);\n",
       "};\n",
       "\n",
       "mpl.figure.prototype._init_toolbar = function () {\n",
       "    var fig = this;\n",
       "\n",
       "    var toolbar = document.createElement('div');\n",
       "    toolbar.classList = 'mpl-toolbar';\n",
       "    this.root.appendChild(toolbar);\n",
       "\n",
       "    function on_click_closure(name) {\n",
       "        return function (_event) {\n",
       "            return fig.toolbar_button_onclick(name);\n",
       "        };\n",
       "    }\n",
       "\n",
       "    function on_mouseover_closure(tooltip) {\n",
       "        return function (event) {\n",
       "            if (!event.currentTarget.disabled) {\n",
       "                return fig.toolbar_button_onmouseover(tooltip);\n",
       "            }\n",
       "        };\n",
       "    }\n",
       "\n",
       "    fig.buttons = {};\n",
       "    var buttonGroup = document.createElement('div');\n",
       "    buttonGroup.classList = 'mpl-button-group';\n",
       "    for (var toolbar_ind in mpl.toolbar_items) {\n",
       "        var name = mpl.toolbar_items[toolbar_ind][0];\n",
       "        var tooltip = mpl.toolbar_items[toolbar_ind][1];\n",
       "        var image = mpl.toolbar_items[toolbar_ind][2];\n",
       "        var method_name = mpl.toolbar_items[toolbar_ind][3];\n",
       "\n",
       "        if (!name) {\n",
       "            /* Instead of a spacer, we start a new button group. */\n",
       "            if (buttonGroup.hasChildNodes()) {\n",
       "                toolbar.appendChild(buttonGroup);\n",
       "            }\n",
       "            buttonGroup = document.createElement('div');\n",
       "            buttonGroup.classList = 'mpl-button-group';\n",
       "            continue;\n",
       "        }\n",
       "\n",
       "        var button = (fig.buttons[name] = document.createElement('button'));\n",
       "        button.classList = 'mpl-widget';\n",
       "        button.setAttribute('role', 'button');\n",
       "        button.setAttribute('aria-disabled', 'false');\n",
       "        button.addEventListener('click', on_click_closure(method_name));\n",
       "        button.addEventListener('mouseover', on_mouseover_closure(tooltip));\n",
       "\n",
       "        var icon_img = document.createElement('img');\n",
       "        icon_img.src = '_images/' + image + '.png';\n",
       "        icon_img.srcset = '_images/' + image + '_large.png 2x';\n",
       "        icon_img.alt = tooltip;\n",
       "        button.appendChild(icon_img);\n",
       "\n",
       "        buttonGroup.appendChild(button);\n",
       "    }\n",
       "\n",
       "    if (buttonGroup.hasChildNodes()) {\n",
       "        toolbar.appendChild(buttonGroup);\n",
       "    }\n",
       "\n",
       "    var fmt_picker = document.createElement('select');\n",
       "    fmt_picker.classList = 'mpl-widget';\n",
       "    toolbar.appendChild(fmt_picker);\n",
       "    this.format_dropdown = fmt_picker;\n",
       "\n",
       "    for (var ind in mpl.extensions) {\n",
       "        var fmt = mpl.extensions[ind];\n",
       "        var option = document.createElement('option');\n",
       "        option.selected = fmt === mpl.default_extension;\n",
       "        option.innerHTML = fmt;\n",
       "        fmt_picker.appendChild(option);\n",
       "    }\n",
       "\n",
       "    var status_bar = document.createElement('span');\n",
       "    status_bar.classList = 'mpl-message';\n",
       "    toolbar.appendChild(status_bar);\n",
       "    this.message = status_bar;\n",
       "};\n",
       "\n",
       "mpl.figure.prototype.request_resize = function (x_pixels, y_pixels) {\n",
       "    // Request matplotlib to resize the figure. Matplotlib will then trigger a resize in the client,\n",
       "    // which will in turn request a refresh of the image.\n",
       "    this.send_message('resize', { width: x_pixels, height: y_pixels });\n",
       "};\n",
       "\n",
       "mpl.figure.prototype.send_message = function (type, properties) {\n",
       "    properties['type'] = type;\n",
       "    properties['figure_id'] = this.id;\n",
       "    this.ws.send(JSON.stringify(properties));\n",
       "};\n",
       "\n",
       "mpl.figure.prototype.send_draw_message = function () {\n",
       "    if (!this.waiting) {\n",
       "        this.waiting = true;\n",
       "        this.ws.send(JSON.stringify({ type: 'draw', figure_id: this.id }));\n",
       "    }\n",
       "};\n",
       "\n",
       "mpl.figure.prototype.handle_save = function (fig, _msg) {\n",
       "    var format_dropdown = fig.format_dropdown;\n",
       "    var format = format_dropdown.options[format_dropdown.selectedIndex].value;\n",
       "    fig.ondownload(fig, format);\n",
       "};\n",
       "\n",
       "mpl.figure.prototype.handle_resize = function (fig, msg) {\n",
       "    var size = msg['size'];\n",
       "    if (size[0] !== fig.canvas.width || size[1] !== fig.canvas.height) {\n",
       "        fig._resize_canvas(size[0], size[1], msg['forward']);\n",
       "        fig.send_message('refresh', {});\n",
       "    }\n",
       "};\n",
       "\n",
       "mpl.figure.prototype.handle_rubberband = function (fig, msg) {\n",
       "    var x0 = msg['x0'] / fig.ratio;\n",
       "    var y0 = (fig.canvas.height - msg['y0']) / fig.ratio;\n",
       "    var x1 = msg['x1'] / fig.ratio;\n",
       "    var y1 = (fig.canvas.height - msg['y1']) / fig.ratio;\n",
       "    x0 = Math.floor(x0) + 0.5;\n",
       "    y0 = Math.floor(y0) + 0.5;\n",
       "    x1 = Math.floor(x1) + 0.5;\n",
       "    y1 = Math.floor(y1) + 0.5;\n",
       "    var min_x = Math.min(x0, x1);\n",
       "    var min_y = Math.min(y0, y1);\n",
       "    var width = Math.abs(x1 - x0);\n",
       "    var height = Math.abs(y1 - y0);\n",
       "\n",
       "    fig.rubberband_context.clearRect(\n",
       "        0,\n",
       "        0,\n",
       "        fig.canvas.width / fig.ratio,\n",
       "        fig.canvas.height / fig.ratio\n",
       "    );\n",
       "\n",
       "    fig.rubberband_context.strokeRect(min_x, min_y, width, height);\n",
       "};\n",
       "\n",
       "mpl.figure.prototype.handle_figure_label = function (fig, msg) {\n",
       "    // Updates the figure title.\n",
       "    fig.header.textContent = msg['label'];\n",
       "};\n",
       "\n",
       "mpl.figure.prototype.handle_cursor = function (fig, msg) {\n",
       "    var cursor = msg['cursor'];\n",
       "    switch (cursor) {\n",
       "        case 0:\n",
       "            cursor = 'pointer';\n",
       "            break;\n",
       "        case 1:\n",
       "            cursor = 'default';\n",
       "            break;\n",
       "        case 2:\n",
       "            cursor = 'crosshair';\n",
       "            break;\n",
       "        case 3:\n",
       "            cursor = 'move';\n",
       "            break;\n",
       "    }\n",
       "    fig.rubberband_canvas.style.cursor = cursor;\n",
       "};\n",
       "\n",
       "mpl.figure.prototype.handle_message = function (fig, msg) {\n",
       "    fig.message.textContent = msg['message'];\n",
       "};\n",
       "\n",
       "mpl.figure.prototype.handle_draw = function (fig, _msg) {\n",
       "    // Request the server to send over a new figure.\n",
       "    fig.send_draw_message();\n",
       "};\n",
       "\n",
       "mpl.figure.prototype.handle_image_mode = function (fig, msg) {\n",
       "    fig.image_mode = msg['mode'];\n",
       "};\n",
       "\n",
       "mpl.figure.prototype.handle_history_buttons = function (fig, msg) {\n",
       "    for (var key in msg) {\n",
       "        if (!(key in fig.buttons)) {\n",
       "            continue;\n",
       "        }\n",
       "        fig.buttons[key].disabled = !msg[key];\n",
       "        fig.buttons[key].setAttribute('aria-disabled', !msg[key]);\n",
       "    }\n",
       "};\n",
       "\n",
       "mpl.figure.prototype.handle_navigate_mode = function (fig, msg) {\n",
       "    if (msg['mode'] === 'PAN') {\n",
       "        fig.buttons['Pan'].classList.add('active');\n",
       "        fig.buttons['Zoom'].classList.remove('active');\n",
       "    } else if (msg['mode'] === 'ZOOM') {\n",
       "        fig.buttons['Pan'].classList.remove('active');\n",
       "        fig.buttons['Zoom'].classList.add('active');\n",
       "    } else {\n",
       "        fig.buttons['Pan'].classList.remove('active');\n",
       "        fig.buttons['Zoom'].classList.remove('active');\n",
       "    }\n",
       "};\n",
       "\n",
       "mpl.figure.prototype.updated_canvas_event = function () {\n",
       "    // Called whenever the canvas gets updated.\n",
       "    this.send_message('ack', {});\n",
       "};\n",
       "\n",
       "// A function to construct a web socket function for onmessage handling.\n",
       "// Called in the figure constructor.\n",
       "mpl.figure.prototype._make_on_message_function = function (fig) {\n",
       "    return function socket_on_message(evt) {\n",
       "        if (evt.data instanceof Blob) {\n",
       "            var img = evt.data;\n",
       "            if (img.type !== 'image/png') {\n",
       "                /* FIXME: We get \"Resource interpreted as Image but\n",
       "                 * transferred with MIME type text/plain:\" errors on\n",
       "                 * Chrome.  But how to set the MIME type?  It doesn't seem\n",
       "                 * to be part of the websocket stream */\n",
       "                img.type = 'image/png';\n",
       "            }\n",
       "\n",
       "            /* Free the memory for the previous frames */\n",
       "            if (fig.imageObj.src) {\n",
       "                (window.URL || window.webkitURL).revokeObjectURL(\n",
       "                    fig.imageObj.src\n",
       "                );\n",
       "            }\n",
       "\n",
       "            fig.imageObj.src = (window.URL || window.webkitURL).createObjectURL(\n",
       "                img\n",
       "            );\n",
       "            fig.updated_canvas_event();\n",
       "            fig.waiting = false;\n",
       "            return;\n",
       "        } else if (\n",
       "            typeof evt.data === 'string' &&\n",
       "            evt.data.slice(0, 21) === 'data:image/png;base64'\n",
       "        ) {\n",
       "            fig.imageObj.src = evt.data;\n",
       "            fig.updated_canvas_event();\n",
       "            fig.waiting = false;\n",
       "            return;\n",
       "        }\n",
       "\n",
       "        var msg = JSON.parse(evt.data);\n",
       "        var msg_type = msg['type'];\n",
       "\n",
       "        // Call the  \"handle_{type}\" callback, which takes\n",
       "        // the figure and JSON message as its only arguments.\n",
       "        try {\n",
       "            var callback = fig['handle_' + msg_type];\n",
       "        } catch (e) {\n",
       "            console.log(\n",
       "                \"No handler for the '\" + msg_type + \"' message type: \",\n",
       "                msg\n",
       "            );\n",
       "            return;\n",
       "        }\n",
       "\n",
       "        if (callback) {\n",
       "            try {\n",
       "                // console.log(\"Handling '\" + msg_type + \"' message: \", msg);\n",
       "                callback(fig, msg);\n",
       "            } catch (e) {\n",
       "                console.log(\n",
       "                    \"Exception inside the 'handler_\" + msg_type + \"' callback:\",\n",
       "                    e,\n",
       "                    e.stack,\n",
       "                    msg\n",
       "                );\n",
       "            }\n",
       "        }\n",
       "    };\n",
       "};\n",
       "\n",
       "// from http://stackoverflow.com/questions/1114465/getting-mouse-location-in-canvas\n",
       "mpl.findpos = function (e) {\n",
       "    //this section is from http://www.quirksmode.org/js/events_properties.html\n",
       "    var targ;\n",
       "    if (!e) {\n",
       "        e = window.event;\n",
       "    }\n",
       "    if (e.target) {\n",
       "        targ = e.target;\n",
       "    } else if (e.srcElement) {\n",
       "        targ = e.srcElement;\n",
       "    }\n",
       "    if (targ.nodeType === 3) {\n",
       "        // defeat Safari bug\n",
       "        targ = targ.parentNode;\n",
       "    }\n",
       "\n",
       "    // pageX,Y are the mouse positions relative to the document\n",
       "    var boundingRect = targ.getBoundingClientRect();\n",
       "    var x = e.pageX - (boundingRect.left + document.body.scrollLeft);\n",
       "    var y = e.pageY - (boundingRect.top + document.body.scrollTop);\n",
       "\n",
       "    return { x: x, y: y };\n",
       "};\n",
       "\n",
       "/*\n",
       " * return a copy of an object with only non-object keys\n",
       " * we need this to avoid circular references\n",
       " * http://stackoverflow.com/a/24161582/3208463\n",
       " */\n",
       "function simpleKeys(original) {\n",
       "    return Object.keys(original).reduce(function (obj, key) {\n",
       "        if (typeof original[key] !== 'object') {\n",
       "            obj[key] = original[key];\n",
       "        }\n",
       "        return obj;\n",
       "    }, {});\n",
       "}\n",
       "\n",
       "mpl.figure.prototype.mouse_event = function (event, name) {\n",
       "    var canvas_pos = mpl.findpos(event);\n",
       "\n",
       "    if (name === 'button_press') {\n",
       "        this.canvas.focus();\n",
       "        this.canvas_div.focus();\n",
       "    }\n",
       "\n",
       "    var x = canvas_pos.x * this.ratio;\n",
       "    var y = canvas_pos.y * this.ratio;\n",
       "\n",
       "    this.send_message(name, {\n",
       "        x: x,\n",
       "        y: y,\n",
       "        button: event.button,\n",
       "        step: event.step,\n",
       "        guiEvent: simpleKeys(event),\n",
       "    });\n",
       "\n",
       "    /* This prevents the web browser from automatically changing to\n",
       "     * the text insertion cursor when the button is pressed.  We want\n",
       "     * to control all of the cursor setting manually through the\n",
       "     * 'cursor' event from matplotlib */\n",
       "    event.preventDefault();\n",
       "    return false;\n",
       "};\n",
       "\n",
       "mpl.figure.prototype._key_event_extra = function (_event, _name) {\n",
       "    // Handle any extra behaviour associated with a key event\n",
       "};\n",
       "\n",
       "mpl.figure.prototype.key_event = function (event, name) {\n",
       "    // Prevent repeat events\n",
       "    if (name === 'key_press') {\n",
       "        if (event.key === this._key) {\n",
       "            return;\n",
       "        } else {\n",
       "            this._key = event.key;\n",
       "        }\n",
       "    }\n",
       "    if (name === 'key_release') {\n",
       "        this._key = null;\n",
       "    }\n",
       "\n",
       "    var value = '';\n",
       "    if (event.ctrlKey && event.key !== 'Control') {\n",
       "        value += 'ctrl+';\n",
       "    }\n",
       "    else if (event.altKey && event.key !== 'Alt') {\n",
       "        value += 'alt+';\n",
       "    }\n",
       "    else if (event.shiftKey && event.key !== 'Shift') {\n",
       "        value += 'shift+';\n",
       "    }\n",
       "\n",
       "    value += 'k' + event.key;\n",
       "\n",
       "    this._key_event_extra(event, name);\n",
       "\n",
       "    this.send_message(name, { key: value, guiEvent: simpleKeys(event) });\n",
       "    return false;\n",
       "};\n",
       "\n",
       "mpl.figure.prototype.toolbar_button_onclick = function (name) {\n",
       "    if (name === 'download') {\n",
       "        this.handle_save(this, null);\n",
       "    } else {\n",
       "        this.send_message('toolbar_button', { name: name });\n",
       "    }\n",
       "};\n",
       "\n",
       "mpl.figure.prototype.toolbar_button_onmouseover = function (tooltip) {\n",
       "    this.message.textContent = tooltip;\n",
       "};\n",
       "\n",
       "///////////////// REMAINING CONTENT GENERATED BY embed_js.py /////////////////\n",
       "// prettier-ignore\n",
       "var _JSXTOOLS_RESIZE_OBSERVER=function(A){var t,i=new WeakMap,n=new WeakMap,a=new WeakMap,r=new WeakMap,o=new Set;function s(e){if(!(this instanceof s))throw new TypeError(\"Constructor requires 'new' operator\");i.set(this,e)}function h(){throw new TypeError(\"Function is not a constructor\")}function c(e,t,i,n){e=0 in arguments?Number(arguments[0]):0,t=1 in arguments?Number(arguments[1]):0,i=2 in arguments?Number(arguments[2]):0,n=3 in arguments?Number(arguments[3]):0,this.right=(this.x=this.left=e)+(this.width=i),this.bottom=(this.y=this.top=t)+(this.height=n),Object.freeze(this)}function d(){t=requestAnimationFrame(d);var s=new WeakMap,p=new Set;o.forEach((function(t){r.get(t).forEach((function(i){var r=t instanceof window.SVGElement,o=a.get(t),d=r?0:parseFloat(o.paddingTop),f=r?0:parseFloat(o.paddingRight),l=r?0:parseFloat(o.paddingBottom),u=r?0:parseFloat(o.paddingLeft),g=r?0:parseFloat(o.borderTopWidth),m=r?0:parseFloat(o.borderRightWidth),w=r?0:parseFloat(o.borderBottomWidth),b=u+f,F=d+l,v=(r?0:parseFloat(o.borderLeftWidth))+m,W=g+w,y=r?0:t.offsetHeight-W-t.clientHeight,E=r?0:t.offsetWidth-v-t.clientWidth,R=b+v,z=F+W,M=r?t.width:parseFloat(o.width)-R-E,O=r?t.height:parseFloat(o.height)-z-y;if(n.has(t)){var k=n.get(t);if(k[0]===M&&k[1]===O)return}n.set(t,[M,O]);var S=Object.create(h.prototype);S.target=t,S.contentRect=new c(u,d,M,O),s.has(i)||(s.set(i,[]),p.add(i)),s.get(i).push(S)}))})),p.forEach((function(e){i.get(e).call(e,s.get(e),e)}))}return s.prototype.observe=function(i){if(i instanceof window.Element){r.has(i)||(r.set(i,new Set),o.add(i),a.set(i,window.getComputedStyle(i)));var n=r.get(i);n.has(this)||n.add(this),cancelAnimationFrame(t),t=requestAnimationFrame(d)}},s.prototype.unobserve=function(i){if(i instanceof window.Element&&r.has(i)){var n=r.get(i);n.has(this)&&(n.delete(this),n.size||(r.delete(i),o.delete(i))),n.size||r.delete(i),o.size||cancelAnimationFrame(t)}},A.DOMRectReadOnly=c,A.ResizeObserver=s,A.ResizeObserverEntry=h,A}; // eslint-disable-line\n",
       "mpl.toolbar_items = [[\"Home\", \"Reset original view\", \"fa fa-home icon-home\", \"home\"], [\"Back\", \"Back to previous view\", \"fa fa-arrow-left icon-arrow-left\", \"back\"], [\"Forward\", \"Forward to next view\", \"fa fa-arrow-right icon-arrow-right\", \"forward\"], [\"\", \"\", \"\", \"\"], [\"Pan\", \"Left button pans, Right button zooms\\nx/y fixes axis, CTRL fixes aspect\", \"fa fa-arrows icon-move\", \"pan\"], [\"Zoom\", \"Zoom to rectangle\\nx/y fixes axis, CTRL fixes aspect\", \"fa fa-square-o icon-check-empty\", \"zoom\"], [\"\", \"\", \"\", \"\"], [\"Download\", \"Download plot\", \"fa fa-floppy-o icon-save\", \"download\"]];\n",
       "\n",
       "mpl.extensions = [\"eps\", \"jpeg\", \"pgf\", \"pdf\", \"png\", \"ps\", \"raw\", \"svg\", \"tif\"];\n",
       "\n",
       "mpl.default_extension = \"png\";/* global mpl */\n",
       "\n",
       "var comm_websocket_adapter = function (comm) {\n",
       "    // Create a \"websocket\"-like object which calls the given IPython comm\n",
       "    // object with the appropriate methods. Currently this is a non binary\n",
       "    // socket, so there is still some room for performance tuning.\n",
       "    var ws = {};\n",
       "\n",
       "    ws.binaryType = comm.kernel.ws.binaryType;\n",
       "    ws.readyState = comm.kernel.ws.readyState;\n",
       "    function updateReadyState(_event) {\n",
       "        if (comm.kernel.ws) {\n",
       "            ws.readyState = comm.kernel.ws.readyState;\n",
       "        } else {\n",
       "            ws.readyState = 3; // Closed state.\n",
       "        }\n",
       "    }\n",
       "    comm.kernel.ws.addEventListener('open', updateReadyState);\n",
       "    comm.kernel.ws.addEventListener('close', updateReadyState);\n",
       "    comm.kernel.ws.addEventListener('error', updateReadyState);\n",
       "\n",
       "    ws.close = function () {\n",
       "        comm.close();\n",
       "    };\n",
       "    ws.send = function (m) {\n",
       "        //console.log('sending', m);\n",
       "        comm.send(m);\n",
       "    };\n",
       "    // Register the callback with on_msg.\n",
       "    comm.on_msg(function (msg) {\n",
       "        //console.log('receiving', msg['content']['data'], msg);\n",
       "        var data = msg['content']['data'];\n",
       "        if (data['blob'] !== undefined) {\n",
       "            data = {\n",
       "                data: new Blob(msg['buffers'], { type: data['blob'] }),\n",
       "            };\n",
       "        }\n",
       "        // Pass the mpl event to the overridden (by mpl) onmessage function.\n",
       "        ws.onmessage(data);\n",
       "    });\n",
       "    return ws;\n",
       "};\n",
       "\n",
       "mpl.mpl_figure_comm = function (comm, msg) {\n",
       "    // This is the function which gets called when the mpl process\n",
       "    // starts-up an IPython Comm through the \"matplotlib\" channel.\n",
       "\n",
       "    var id = msg.content.data.id;\n",
       "    // Get hold of the div created by the display call when the Comm\n",
       "    // socket was opened in Python.\n",
       "    var element = document.getElementById(id);\n",
       "    var ws_proxy = comm_websocket_adapter(comm);\n",
       "\n",
       "    function ondownload(figure, _format) {\n",
       "        window.open(figure.canvas.toDataURL());\n",
       "    }\n",
       "\n",
       "    var fig = new mpl.figure(id, ws_proxy, ondownload, element);\n",
       "\n",
       "    // Call onopen now - mpl needs it, as it is assuming we've passed it a real\n",
       "    // web socket which is closed, not our websocket->open comm proxy.\n",
       "    ws_proxy.onopen();\n",
       "\n",
       "    fig.parent_element = element;\n",
       "    fig.cell_info = mpl.find_output_cell(\"<div id='\" + id + \"'></div>\");\n",
       "    if (!fig.cell_info) {\n",
       "        console.error('Failed to find cell for figure', id, fig);\n",
       "        return;\n",
       "    }\n",
       "    fig.cell_info[0].output_area.element.on(\n",
       "        'cleared',\n",
       "        { fig: fig },\n",
       "        fig._remove_fig_handler\n",
       "    );\n",
       "};\n",
       "\n",
       "mpl.figure.prototype.handle_close = function (fig, msg) {\n",
       "    var width = fig.canvas.width / fig.ratio;\n",
       "    fig.cell_info[0].output_area.element.off(\n",
       "        'cleared',\n",
       "        fig._remove_fig_handler\n",
       "    );\n",
       "    fig.resizeObserverInstance.unobserve(fig.canvas_div);\n",
       "\n",
       "    // Update the output cell to use the data from the current canvas.\n",
       "    fig.push_to_output();\n",
       "    var dataURL = fig.canvas.toDataURL();\n",
       "    // Re-enable the keyboard manager in IPython - without this line, in FF,\n",
       "    // the notebook keyboard shortcuts fail.\n",
       "    IPython.keyboard_manager.enable();\n",
       "    fig.parent_element.innerHTML =\n",
       "        '<img src=\"' + dataURL + '\" width=\"' + width + '\">';\n",
       "    fig.close_ws(fig, msg);\n",
       "};\n",
       "\n",
       "mpl.figure.prototype.close_ws = function (fig, msg) {\n",
       "    fig.send_message('closing', msg);\n",
       "    // fig.ws.close()\n",
       "};\n",
       "\n",
       "mpl.figure.prototype.push_to_output = function (_remove_interactive) {\n",
       "    // Turn the data on the canvas into data in the output cell.\n",
       "    var width = this.canvas.width / this.ratio;\n",
       "    var dataURL = this.canvas.toDataURL();\n",
       "    this.cell_info[1]['text/html'] =\n",
       "        '<img src=\"' + dataURL + '\" width=\"' + width + '\">';\n",
       "};\n",
       "\n",
       "mpl.figure.prototype.updated_canvas_event = function () {\n",
       "    // Tell IPython that the notebook contents must change.\n",
       "    IPython.notebook.set_dirty(true);\n",
       "    this.send_message('ack', {});\n",
       "    var fig = this;\n",
       "    // Wait a second, then push the new image to the DOM so\n",
       "    // that it is saved nicely (might be nice to debounce this).\n",
       "    setTimeout(function () {\n",
       "        fig.push_to_output();\n",
       "    }, 1000);\n",
       "};\n",
       "\n",
       "mpl.figure.prototype._init_toolbar = function () {\n",
       "    var fig = this;\n",
       "\n",
       "    var toolbar = document.createElement('div');\n",
       "    toolbar.classList = 'btn-toolbar';\n",
       "    this.root.appendChild(toolbar);\n",
       "\n",
       "    function on_click_closure(name) {\n",
       "        return function (_event) {\n",
       "            return fig.toolbar_button_onclick(name);\n",
       "        };\n",
       "    }\n",
       "\n",
       "    function on_mouseover_closure(tooltip) {\n",
       "        return function (event) {\n",
       "            if (!event.currentTarget.disabled) {\n",
       "                return fig.toolbar_button_onmouseover(tooltip);\n",
       "            }\n",
       "        };\n",
       "    }\n",
       "\n",
       "    fig.buttons = {};\n",
       "    var buttonGroup = document.createElement('div');\n",
       "    buttonGroup.classList = 'btn-group';\n",
       "    var button;\n",
       "    for (var toolbar_ind in mpl.toolbar_items) {\n",
       "        var name = mpl.toolbar_items[toolbar_ind][0];\n",
       "        var tooltip = mpl.toolbar_items[toolbar_ind][1];\n",
       "        var image = mpl.toolbar_items[toolbar_ind][2];\n",
       "        var method_name = mpl.toolbar_items[toolbar_ind][3];\n",
       "\n",
       "        if (!name) {\n",
       "            /* Instead of a spacer, we start a new button group. */\n",
       "            if (buttonGroup.hasChildNodes()) {\n",
       "                toolbar.appendChild(buttonGroup);\n",
       "            }\n",
       "            buttonGroup = document.createElement('div');\n",
       "            buttonGroup.classList = 'btn-group';\n",
       "            continue;\n",
       "        }\n",
       "\n",
       "        button = fig.buttons[name] = document.createElement('button');\n",
       "        button.classList = 'btn btn-default';\n",
       "        button.href = '#';\n",
       "        button.title = name;\n",
       "        button.innerHTML = '<i class=\"fa ' + image + ' fa-lg\"></i>';\n",
       "        button.addEventListener('click', on_click_closure(method_name));\n",
       "        button.addEventListener('mouseover', on_mouseover_closure(tooltip));\n",
       "        buttonGroup.appendChild(button);\n",
       "    }\n",
       "\n",
       "    if (buttonGroup.hasChildNodes()) {\n",
       "        toolbar.appendChild(buttonGroup);\n",
       "    }\n",
       "\n",
       "    // Add the status bar.\n",
       "    var status_bar = document.createElement('span');\n",
       "    status_bar.classList = 'mpl-message pull-right';\n",
       "    toolbar.appendChild(status_bar);\n",
       "    this.message = status_bar;\n",
       "\n",
       "    // Add the close button to the window.\n",
       "    var buttongrp = document.createElement('div');\n",
       "    buttongrp.classList = 'btn-group inline pull-right';\n",
       "    button = document.createElement('button');\n",
       "    button.classList = 'btn btn-mini btn-primary';\n",
       "    button.href = '#';\n",
       "    button.title = 'Stop Interaction';\n",
       "    button.innerHTML = '<i class=\"fa fa-power-off icon-remove icon-large\"></i>';\n",
       "    button.addEventListener('click', function (_evt) {\n",
       "        fig.handle_close(fig, {});\n",
       "    });\n",
       "    button.addEventListener(\n",
       "        'mouseover',\n",
       "        on_mouseover_closure('Stop Interaction')\n",
       "    );\n",
       "    buttongrp.appendChild(button);\n",
       "    var titlebar = this.root.querySelector('.ui-dialog-titlebar');\n",
       "    titlebar.insertBefore(buttongrp, titlebar.firstChild);\n",
       "};\n",
       "\n",
       "mpl.figure.prototype._remove_fig_handler = function (event) {\n",
       "    var fig = event.data.fig;\n",
       "    if (event.target !== this) {\n",
       "        // Ignore bubbled events from children.\n",
       "        return;\n",
       "    }\n",
       "    fig.close_ws(fig, {});\n",
       "};\n",
       "\n",
       "mpl.figure.prototype._root_extra_style = function (el) {\n",
       "    el.style.boxSizing = 'content-box'; // override notebook setting of border-box.\n",
       "};\n",
       "\n",
       "mpl.figure.prototype._canvas_extra_style = function (el) {\n",
       "    // this is important to make the div 'focusable\n",
       "    el.setAttribute('tabindex', 0);\n",
       "    // reach out to IPython and tell the keyboard manager to turn it's self\n",
       "    // off when our div gets focus\n",
       "\n",
       "    // location in version 3\n",
       "    if (IPython.notebook.keyboard_manager) {\n",
       "        IPython.notebook.keyboard_manager.register_events(el);\n",
       "    } else {\n",
       "        // location in version 2\n",
       "        IPython.keyboard_manager.register_events(el);\n",
       "    }\n",
       "};\n",
       "\n",
       "mpl.figure.prototype._key_event_extra = function (event, _name) {\n",
       "    var manager = IPython.notebook.keyboard_manager;\n",
       "    if (!manager) {\n",
       "        manager = IPython.keyboard_manager;\n",
       "    }\n",
       "\n",
       "    // Check for shift+enter\n",
       "    if (event.shiftKey && event.which === 13) {\n",
       "        this.canvas_div.blur();\n",
       "        // select the cell after this one\n",
       "        var index = IPython.notebook.find_cell_index(this.cell_info[0]);\n",
       "        IPython.notebook.select(index + 1);\n",
       "    }\n",
       "};\n",
       "\n",
       "mpl.figure.prototype.handle_save = function (fig, _msg) {\n",
       "    fig.ondownload(fig, null);\n",
       "};\n",
       "\n",
       "mpl.find_output_cell = function (html_output) {\n",
       "    // Return the cell and output element which can be found *uniquely* in the notebook.\n",
       "    // Note - this is a bit hacky, but it is done because the \"notebook_saving.Notebook\"\n",
       "    // IPython event is triggered only after the cells have been serialised, which for\n",
       "    // our purposes (turning an active figure into a static one), is too late.\n",
       "    var cells = IPython.notebook.get_cells();\n",
       "    var ncells = cells.length;\n",
       "    for (var i = 0; i < ncells; i++) {\n",
       "        var cell = cells[i];\n",
       "        if (cell.cell_type === 'code') {\n",
       "            for (var j = 0; j < cell.output_area.outputs.length; j++) {\n",
       "                var data = cell.output_area.outputs[j];\n",
       "                if (data.data) {\n",
       "                    // IPython >= 3 moved mimebundle to data attribute of output\n",
       "                    data = data.data;\n",
       "                }\n",
       "                if (data['text/html'] === html_output) {\n",
       "                    return [cell, data, j];\n",
       "                }\n",
       "            }\n",
       "        }\n",
       "    }\n",
       "};\n",
       "\n",
       "// Register the function which deals with the matplotlib target/channel.\n",
       "// The kernel may be null if the page has been refreshed.\n",
       "if (IPython.notebook.kernel !== null) {\n",
       "    IPython.notebook.kernel.comm_manager.register_target(\n",
       "        'matplotlib',\n",
       "        mpl.mpl_figure_comm\n",
       "    );\n",
       "}\n"
      ],
      "text/plain": [
       "<IPython.core.display.Javascript object>"
      ]
     },
     "metadata": {},
     "output_type": "display_data"
    },
    {
     "data": {
      "text/html": [
       "<img src=\"data:image/png;base64,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\" width=\"1000\">"
      ],
      "text/plain": [
       "<IPython.core.display.HTML object>"
      ]
     },
     "metadata": {},
     "output_type": "display_data"
    }
   ],
   "source": [
    "# How to animate those sections:\n",
    "fig=plt.figure(figsize=(10,9))\n",
    "\n",
    "G=gs.GridSpec(1+len(trans),5)\n",
    "\n",
    "axs=[]\n",
    "axv=ax=None\n",
    "axvs=[]\n",
    "for ti,t in enumerate(trans):\n",
    "    ax=fig.add_subplot(G[ti,:-1],sharex=ax,sharey=ax)\n",
    "    axs.append(ax)\n",
    "    axv=fig.add_subplot(G[ti,-1],sharex=axv,sharey=axv)\n",
    "    axvs.append(axv)\n",
    "    ax.text(0.98,0.02,t.attrs['run_dir'],transform=ax.transAxes,\n",
    "            ha='right')\n",
    "    \n",
    "top_pos=axs[0].get_position()\n",
    "\n",
    "cax=fig.add_axes( [top_pos.xmin,top_pos.ymax+0.05,0.5*top_pos.width,0.02])\n",
    "    \n",
    "t=np.datetime64(\"2016-06-16T12:00\")\n",
    "#t=np.datetime64(\"2016-06-13T22:00\")\n",
    "#t=np.datetime64(\"2016-06-12T22:00\")\n",
    "dist=475 # pull a profile from here.\n",
    "#dist=185 # just inside mouth\n",
    "\n",
    "V=np.linspace(0,36,37)\n",
    "axt=fig.add_subplot(G[-1,:])\n",
    "axt.plot( hiss[0].time, hiss[0]['waterlevel'].isel(stations=7),label='NCK waterlevel')\n",
    "\n",
    "def freeze(fig):\n",
    "    return [ dict(collections=list(ax.collections),lines=list(ax.lines)) \n",
    "             for ax in fig.axes ]\n",
    "def thaw(fig,state):\n",
    "    for ax,ax_state in zip(fig.axes,state):\n",
    "        for k in ax_state:\n",
    "            setattr(ax,k,list(ax_state[k]))\n",
    "frozen=freeze(fig)"
   ]
  },
  {
   "cell_type": "code",
   "execution_count": 77,
   "metadata": {},
   "outputs": [
    {
     "name": "stderr",
     "output_type": "stream",
     "text": [
      "/home/rustyh/src/stompy/stompy/xr_transect.py:996: UserWarning: No contour levels were found within the data range.\n",
      "  return f(x.values,yvals,scal.values,*args,**kwargs)\n"
     ]
    },
    {
     "name": "stdout",
     "output_type": "stream",
     "text": [
      "Range of salinity:  3.153751417964936 32.999999653391505\n",
      "Range of salinity:  2.991720202505432 32.999999831940166\n",
      "Range of salinity:  3.2291062982544094 32.999981753155915\n",
      "Range of salinity:  1.7284794356912858 32.9999986905573\n"
     ]
    },
    {
     "name": "stderr",
     "output_type": "stream",
     "text": [
      "/home/rustyh/src/stompy/stompy/xr_transect.py:996: UserWarning: No contour levels were found within the data range.\n",
      "  return f(x.values,yvals,scal.values,*args,**kwargs)\n"
     ]
    },
    {
     "name": "stdout",
     "output_type": "stream",
     "text": [
      "Range of salinity:  3.1608565770490995 32.998231286092825\n",
      "Range of salinity:  2.924155185450276 32.99997938396323\n",
      "Range of salinity:  3.5669110569260547 32.99897311879798\n",
      "Range of salinity:  1.967574195025976 32.99999869740914\n"
     ]
    },
    {
     "name": "stderr",
     "output_type": "stream",
     "text": [
      "/home/rustyh/src/stompy/stompy/xr_transect.py:996: UserWarning: No contour levels were found within the data range.\n",
      "  return f(x.values,yvals,scal.values,*args,**kwargs)\n"
     ]
    },
    {
     "name": "stdout",
     "output_type": "stream",
     "text": [
      "Range of salinity:  3.184553131299092 32.99957766855753\n",
      "Range of salinity:  2.8529653918798923 32.999968175469235\n",
      "Range of salinity:  3.3480220059933843 32.99989058544758\n",
      "Range of salinity:  2.1690585498999484 33.00001511061065\n"
     ]
    },
    {
     "name": "stderr",
     "output_type": "stream",
     "text": [
      "/home/rustyh/src/stompy/stompy/xr_transect.py:996: UserWarning: No contour levels were found within the data range.\n",
      "  return f(x.values,yvals,scal.values,*args,**kwargs)\n"
     ]
    },
    {
     "name": "stdout",
     "output_type": "stream",
     "text": [
      "Range of salinity:  2.9755959354472568 32.99998492260748\n",
      "Range of salinity:  2.719823946384905 32.99996352473611\n",
      "Range of salinity:  3.247586687945135 32.99988449313035\n",
      "Range of salinity:  2.1954281097223465 32.99996361600774\n"
     ]
    },
    {
     "name": "stderr",
     "output_type": "stream",
     "text": [
      "/home/rustyh/src/stompy/stompy/xr_transect.py:996: UserWarning: No contour levels were found within the data range.\n",
      "  return f(x.values,yvals,scal.values,*args,**kwargs)\n"
     ]
    },
    {
     "name": "stdout",
     "output_type": "stream",
     "text": [
      "Range of salinity:  2.7849795618610496 32.999997039687294\n",
      "Range of salinity:  2.6081883568005266 32.9999879280807\n",
      "Range of salinity:  3.111409957041101 32.999965395435176\n",
      "Range of salinity:  2.1795713465894124 32.999977580005975\n"
     ]
    },
    {
     "name": "stderr",
     "output_type": "stream",
     "text": [
      "/home/rustyh/src/stompy/stompy/xr_transect.py:996: UserWarning: No contour levels were found within the data range.\n",
      "  return f(x.values,yvals,scal.values,*args,**kwargs)\n"
     ]
    },
    {
     "name": "stdout",
     "output_type": "stream",
     "text": [
      "Range of salinity:  2.7468861635745747 32.99987019021367\n",
      "Range of salinity:  2.744706184829972 32.99999307554254\n",
      "Range of salinity:  3.1388437796603843 32.999988353276436\n",
      "Range of salinity:  2.191624430557542 32.99999565179418\n"
     ]
    },
    {
     "name": "stderr",
     "output_type": "stream",
     "text": [
      "/home/rustyh/src/stompy/stompy/xr_transect.py:996: UserWarning: No contour levels were found within the data range.\n",
      "  return f(x.values,yvals,scal.values,*args,**kwargs)\n"
     ]
    },
    {
     "name": "stdout",
     "output_type": "stream",
     "text": [
      "Range of salinity:  2.7757146063121376 32.99986342932729\n",
      "Range of salinity:  2.744936206096205 32.999995766475564\n",
      "Range of salinity:  3.0776032069741306 32.999998105764114\n",
      "Range of salinity:  2.1732549195401583 32.99999877734045\n"
     ]
    },
    {
     "name": "stderr",
     "output_type": "stream",
     "text": [
      "/home/rustyh/src/stompy/stompy/xr_transect.py:996: UserWarning: No contour levels were found within the data range.\n",
      "  return f(x.values,yvals,scal.values,*args,**kwargs)\n"
     ]
    },
    {
     "name": "stdout",
     "output_type": "stream",
     "text": [
      "Range of salinity:  2.852956188669877 32.999928016018735\n",
      "Range of salinity:  2.8301006895609455 32.99998799874573\n",
      "Range of salinity:  3.115586155738776 32.99999982422763\n",
      "Range of salinity:  2.1430512437996287 32.99999850306043\n"
     ]
    },
    {
     "name": "stderr",
     "output_type": "stream",
     "text": [
      "/home/rustyh/src/stompy/stompy/xr_transect.py:996: UserWarning: No contour levels were found within the data range.\n",
      "  return f(x.values,yvals,scal.values,*args,**kwargs)\n"
     ]
    },
    {
     "name": "stdout",
     "output_type": "stream",
     "text": [
      "Range of salinity:  2.9998906319910534 32.99996169049354\n",
      "Range of salinity:  2.906463531545416 32.99998927664337\n",
      "Range of salinity:  3.108720544974365 33.000003406966556\n",
      "Range of salinity:  2.2071925731741873 32.999998496546056\n"
     ]
    },
    {
     "name": "stderr",
     "output_type": "stream",
     "text": [
      "/home/rustyh/src/stompy/stompy/xr_transect.py:996: UserWarning: No contour levels were found within the data range.\n",
      "  return f(x.values,yvals,scal.values,*args,**kwargs)\n"
     ]
    },
    {
     "name": "stdout",
     "output_type": "stream",
     "text": [
      "Range of salinity:  3.020788508386074 32.999977931655366\n",
      "Range of salinity:  2.948154713469562 32.99999366571878\n",
      "Range of salinity:  3.101932131138133 32.99999958479713\n",
      "Range of salinity:  2.130795238667905 32.99999499377818\n"
     ]
    },
    {
     "name": "stderr",
     "output_type": "stream",
     "text": [
      "/home/rustyh/src/stompy/stompy/xr_transect.py:996: UserWarning: No contour levels were found within the data range.\n",
      "  return f(x.values,yvals,scal.values,*args,**kwargs)\n"
     ]
    },
    {
     "name": "stdout",
     "output_type": "stream",
     "text": [
      "Range of salinity:  2.9635574734952432 32.99998749132589\n",
      "Range of salinity:  3.0484196941652884 32.99992254088776\n",
      "Range of salinity:  3.200544751486183 32.999999643830336\n",
      "Range of salinity:  2.17497156981365 32.999996383225074\n"
     ]
    },
    {
     "name": "stderr",
     "output_type": "stream",
     "text": [
      "/home/rustyh/src/stompy/stompy/xr_transect.py:996: UserWarning: No contour levels were found within the data range.\n",
      "  return f(x.values,yvals,scal.values,*args,**kwargs)\n"
     ]
    },
    {
     "name": "stdout",
     "output_type": "stream",
     "text": [
      "Range of salinity:  2.990463901545008 32.99999350180024\n",
      "Range of salinity:  3.0335402732758636 32.999641337918625\n",
      "Range of salinity:  3.2154413079843045 32.999998179136924\n",
      "Range of salinity:  2.1738586937332216 32.999987466715275\n"
     ]
    },
    {
     "name": "stderr",
     "output_type": "stream",
     "text": [
      "/home/rustyh/src/stompy/stompy/xr_transect.py:996: UserWarning: No contour levels were found within the data range.\n",
      "  return f(x.values,yvals,scal.values,*args,**kwargs)\n"
     ]
    },
    {
     "name": "stdout",
     "output_type": "stream",
     "text": [
      "Range of salinity:  3.0534911476333093 32.99999096597304\n",
      "Range of salinity:  3.090973277480115 32.999627419980264\n",
      "Range of salinity:  3.3550498566320606 32.999954392429196\n",
      "Range of salinity:  2.215818124140563 32.99996734222511\n"
     ]
    },
    {
     "name": "stderr",
     "output_type": "stream",
     "text": [
      "/home/rustyh/src/stompy/stompy/xr_transect.py:996: UserWarning: No contour levels were found within the data range.\n",
      "  return f(x.values,yvals,scal.values,*args,**kwargs)\n"
     ]
    },
    {
     "name": "stdout",
     "output_type": "stream",
     "text": [
      "Range of salinity:  3.0758394954318153 32.999995382620085\n",
      "Range of salinity:  3.170072315007847 32.99995975261753\n",
      "Range of salinity:  3.542049173146785 32.99995364790874\n",
      "Range of salinity:  2.1909056320640006 32.999997608305506\n",
      "Range of salinity:  3.1737118835648928 33.00002038797365\n",
      "Range of salinity:  3.1770978113789208 32.9999343696844\n",
      "Range of salinity:  3.555753584447017 32.999989135728974\n",
      "Range of salinity:  2.276136259783121 32.999999213538516\n"
     ]
    },
    {
     "name": "stderr",
     "output_type": "stream",
     "text": [
      "/home/rustyh/src/stompy/stompy/xr_transect.py:996: UserWarning: No contour levels were found within the data range.\n",
      "  return f(x.values,yvals,scal.values,*args,**kwargs)\n"
     ]
    },
    {
     "name": "stdout",
     "output_type": "stream",
     "text": [
      "Range of salinity:  3.320464027754689 33.00001079371258\n",
      "Range of salinity:  3.2208161545551803 32.993507661496324\n",
      "Range of salinity:  3.741643502039079 32.99999886398675\n",
      "Range of salinity:  2.2449870473772093 32.99995008239952\n"
     ]
    },
    {
     "name": "stderr",
     "output_type": "stream",
     "text": [
      "/home/rustyh/src/stompy/stompy/xr_transect.py:996: UserWarning: No contour levels were found within the data range.\n",
      "  return f(x.values,yvals,scal.values,*args,**kwargs)\n",
      "/home/rustyh/src/stompy/stompy/xr_transect.py:996: UserWarning: No contour levels were found within the data range.\n",
      "  return f(x.values,yvals,scal.values,*args,**kwargs)\n"
     ]
    },
    {
     "name": "stdout",
     "output_type": "stream",
     "text": [
      "Range of salinity:  3.3017981608402134 32.99999720988815\n",
      "Range of salinity:  3.277873764593638 32.995723924262144\n",
      "Range of salinity:  3.8004500550044993 32.999941721648746\n",
      "Range of salinity:  2.256860015491457 32.999574147810904\n"
     ]
    },
    {
     "name": "stderr",
     "output_type": "stream",
     "text": [
      "/home/rustyh/src/stompy/stompy/xr_transect.py:996: UserWarning: No contour levels were found within the data range.\n",
      "  return f(x.values,yvals,scal.values,*args,**kwargs)\n"
     ]
    },
    {
     "name": "stdout",
     "output_type": "stream",
     "text": [
      "Range of salinity:  3.429884793731534 32.99999908421249\n",
      "Range of salinity:  3.231391829820532 32.99912786448842\n",
      "Range of salinity:  3.8144620435667163 32.999433016125906\n",
      "Range of salinity:  2.315223688237562 32.99970039026465\n"
     ]
    },
    {
     "name": "stderr",
     "output_type": "stream",
     "text": [
      "/home/rustyh/src/stompy/stompy/xr_transect.py:996: UserWarning: No contour levels were found within the data range.\n",
      "  return f(x.values,yvals,scal.values,*args,**kwargs)\n"
     ]
    },
    {
     "name": "stdout",
     "output_type": "stream",
     "text": [
      "Range of salinity:  3.33589179718554 32.999816621440985\n",
      "Range of salinity:  3.1737548236579167 32.999418955941636\n",
      "Range of salinity:  3.821131888501668 32.99979926724954\n",
      "Range of salinity:  2.296611659112701 32.99996689457522\n"
     ]
    },
    {
     "name": "stderr",
     "output_type": "stream",
     "text": [
      "/home/rustyh/src/stompy/stompy/xr_transect.py:996: UserWarning: No contour levels were found within the data range.\n",
      "  return f(x.values,yvals,scal.values,*args,**kwargs)\n"
     ]
    },
    {
     "name": "stdout",
     "output_type": "stream",
     "text": [
      "Range of salinity:  3.2863171396028905 32.99892669031922\n",
      "Range of salinity:  3.246782096754349 32.99999434541855\n",
      "Range of salinity:  3.725736340702644 32.99957498726342\n",
      "Range of salinity:  2.3587457254392548 32.999818760990024\n"
     ]
    },
    {
     "name": "stderr",
     "output_type": "stream",
     "text": [
      "/home/rustyh/src/stompy/stompy/xr_transect.py:996: UserWarning: No contour levels were found within the data range.\n",
      "  return f(x.values,yvals,scal.values,*args,**kwargs)\n"
     ]
    },
    {
     "name": "stdout",
     "output_type": "stream",
     "text": [
      "Range of salinity:  3.3456351056664193 32.999520799287616\n",
      "Range of salinity:  3.1486270479261496 33.00039351036733\n",
      "Range of salinity:  3.7666861253357227 32.999163171337756\n",
      "Range of salinity:  2.3271858165955086 32.99999307548227\n"
     ]
    },
    {
     "name": "stderr",
     "output_type": "stream",
     "text": [
      "/home/rustyh/src/stompy/stompy/xr_transect.py:996: UserWarning: No contour levels were found within the data range.\n",
      "  return f(x.values,yvals,scal.values,*args,**kwargs)\n"
     ]
    },
    {
     "name": "stdout",
     "output_type": "stream",
     "text": [
      "Range of salinity:  3.288093370603394 32.99985177450704\n",
      "Range of salinity:  3.0581848689271256 32.99999699910984\n",
      "Range of salinity:  3.6588678145439917 32.999827718236254\n",
      "Range of salinity:  2.3360662205650278 32.99932128336298\n"
     ]
    },
    {
     "name": "stderr",
     "output_type": "stream",
     "text": [
      "/home/rustyh/src/stompy/stompy/xr_transect.py:996: UserWarning: No contour levels were found within the data range.\n",
      "  return f(x.values,yvals,scal.values,*args,**kwargs)\n"
     ]
    },
    {
     "name": "stdout",
     "output_type": "stream",
     "text": [
      "Range of salinity:  3.2492930608965036 32.999928953781996\n",
      "Range of salinity:  2.9945843635226663 32.99990434173526\n",
      "Range of salinity:  3.6517836898523117 32.99998996453352\n",
      "Range of salinity:  2.332236673034929 32.998597457849435\n"
     ]
    },
    {
     "name": "stderr",
     "output_type": "stream",
     "text": [
      "/home/rustyh/src/stompy/stompy/xr_transect.py:996: UserWarning: No contour levels were found within the data range.\n",
      "  return f(x.values,yvals,scal.values,*args,**kwargs)\n"
     ]
    },
    {
     "name": "stdout",
     "output_type": "stream",
     "text": [
      "Range of salinity:  3.428793236434918 32.99887992191336\n",
      "Range of salinity:  3.046356944177634 32.99999031385255\n",
      "Range of salinity:  3.4637279464415265 32.99999707939271\n",
      "Range of salinity:  2.3553779304361 32.99866860408184\n"
     ]
    },
    {
     "name": "stderr",
     "output_type": "stream",
     "text": [
      "/home/rustyh/src/stompy/stompy/xr_transect.py:996: UserWarning: No contour levels were found within the data range.\n",
      "  return f(x.values,yvals,scal.values,*args,**kwargs)\n"
     ]
    },
    {
     "name": "stdout",
     "output_type": "stream",
     "text": [
      "Range of salinity:  3.3634743636478293 32.99921968857516\n",
      "Range of salinity:  2.993291053969902 32.99983127972294\n",
      "Range of salinity:  3.3417708249638394 32.99999422864254\n",
      "Range of salinity:  2.3393264200324952 32.99999889655462\n"
     ]
    },
    {
     "name": "stderr",
     "output_type": "stream",
     "text": [
      "/home/rustyh/src/stompy/stompy/xr_transect.py:996: UserWarning: No contour levels were found within the data range.\n",
      "  return f(x.values,yvals,scal.values,*args,**kwargs)\n"
     ]
    },
    {
     "name": "stdout",
     "output_type": "stream",
     "text": [
      "Range of salinity:  3.24039566859986 32.99866822570502\n",
      "Range of salinity:  2.93513238786896 32.99762983046755\n",
      "Range of salinity:  3.273276280624469 32.9996619648619\n",
      "Range of salinity:  2.323704896638305 32.99994224111784\n"
     ]
    },
    {
     "name": "stderr",
     "output_type": "stream",
     "text": [
      "/home/rustyh/src/stompy/stompy/xr_transect.py:996: UserWarning: No contour levels were found within the data range.\n",
      "  return f(x.values,yvals,scal.values,*args,**kwargs)\n"
     ]
    },
    {
     "name": "stdout",
     "output_type": "stream",
     "text": [
      "Range of salinity:  3.3055690352623386 32.99999796679468\n",
      "Range of salinity:  2.8647026148504544 32.99455369691216\n",
      "Range of salinity:  3.1391942155535553 32.999645002390515\n",
      "Range of salinity:  2.394692803809497 32.99891071947053\n"
     ]
    },
    {
     "name": "stderr",
     "output_type": "stream",
     "text": [
      "/home/rustyh/src/stompy/stompy/xr_transect.py:996: UserWarning: No contour levels were found within the data range.\n",
      "  return f(x.values,yvals,scal.values,*args,**kwargs)\n"
     ]
    },
    {
     "name": "stdout",
     "output_type": "stream",
     "text": [
      "Range of salinity:  3.186817289203964 32.999999995694516\n",
      "Range of salinity:  2.8362110765671167 32.99343721573781\n",
      "Range of salinity:  3.0979174839636685 32.999871553695705\n",
      "Range of salinity:  2.3937898617738185 32.99695118032023\n"
     ]
    },
    {
     "name": "stderr",
     "output_type": "stream",
     "text": [
      "/home/rustyh/src/stompy/stompy/xr_transect.py:996: UserWarning: No contour levels were found within the data range.\n",
      "  return f(x.values,yvals,scal.values,*args,**kwargs)\n"
     ]
    },
    {
     "name": "stdout",
     "output_type": "stream",
     "text": [
      "Range of salinity:  3.202332750201546 32.9999999999449\n",
      "Range of salinity:  2.7423546673825485 32.999488601527325\n",
      "Range of salinity:  3.047190149113987 32.999969680284984\n",
      "Range of salinity:  2.400514250453711 32.9971105547277\n"
     ]
    },
    {
     "name": "stderr",
     "output_type": "stream",
     "text": [
      "/home/rustyh/src/stompy/stompy/xr_transect.py:996: UserWarning: No contour levels were found within the data range.\n",
      "  return f(x.values,yvals,scal.values,*args,**kwargs)\n"
     ]
    },
    {
     "name": "stdout",
     "output_type": "stream",
     "text": [
      "Range of salinity:  3.090420615686001 32.99999999998891\n",
      "Range of salinity:  2.819751859754141 32.999994919700704\n",
      "Range of salinity:  3.0838434373132135 32.99999422572309\n",
      "Range of salinity:  2.4074124131619903 32.99963757129542\n",
      "Range of salinity:  3.0411789244200476 33.000011076669075\n",
      "Range of salinity:  2.786317248173576 32.99999555221784\n",
      "Range of salinity:  3.0636165849088997 32.999998663405094\n",
      "Range of salinity:  2.4003569962219458 32.99940744793549\n"
     ]
    },
    {
     "name": "stderr",
     "output_type": "stream",
     "text": [
      "/home/rustyh/src/stompy/stompy/xr_transect.py:996: UserWarning: No contour levels were found within the data range.\n",
      "  return f(x.values,yvals,scal.values,*args,**kwargs)\n"
     ]
    },
    {
     "name": "stdout",
     "output_type": "stream",
     "text": [
      "Range of salinity:  2.9880888008839728 33.000032478779865\n",
      "Range of salinity:  2.681031459501427 32.99986391556895\n",
      "Range of salinity:  2.939765651462451 32.99999989453982\n",
      "Range of salinity:  2.393215635379441 32.999193364044594\n"
     ]
    },
    {
     "name": "stderr",
     "output_type": "stream",
     "text": [
      "/home/rustyh/src/stompy/stompy/xr_transect.py:996: UserWarning: No contour levels were found within the data range.\n",
      "  return f(x.values,yvals,scal.values,*args,**kwargs)\n",
      "/home/rustyh/src/stompy/stompy/xr_transect.py:996: UserWarning: No contour levels were found within the data range.\n",
      "  return f(x.values,yvals,scal.values,*args,**kwargs)\n"
     ]
    },
    {
     "name": "stdout",
     "output_type": "stream",
     "text": [
      "Range of salinity:  3.0181660616551476 32.99999999196415\n",
      "Range of salinity:  2.645114297381597 32.99967209692437\n",
      "Range of salinity:  2.8624451050513944 32.999999998407205\n",
      "Range of salinity:  2.416784979429568 32.99816492864038\n"
     ]
    },
    {
     "name": "stderr",
     "output_type": "stream",
     "text": [
      "/home/rustyh/src/stompy/stompy/xr_transect.py:996: UserWarning: No contour levels were found within the data range.\n",
      "  return f(x.values,yvals,scal.values,*args,**kwargs)\n"
     ]
    },
    {
     "name": "stdout",
     "output_type": "stream",
     "text": [
      "Range of salinity:  2.9857096695576493 32.9999986720567\n",
      "Range of salinity:  2.6287261500673145 32.9994692757889\n",
      "Range of salinity:  2.759326174230265 33.00000000015547\n",
      "Range of salinity:  2.402756177115931 32.999584911546094\n"
     ]
    },
    {
     "name": "stderr",
     "output_type": "stream",
     "text": [
      "/home/rustyh/src/stompy/stompy/xr_transect.py:996: UserWarning: No contour levels were found within the data range.\n",
      "  return f(x.values,yvals,scal.values,*args,**kwargs)\n"
     ]
    },
    {
     "name": "stdout",
     "output_type": "stream",
     "text": [
      "Range of salinity:  2.99859042156595 32.999965937995555\n",
      "Range of salinity:  2.6011177939358707 32.99947349166361\n",
      "Range of salinity:  2.652682162516519 33.000000000336556\n",
      "Range of salinity:  2.419249162560958 32.99999618267474\n"
     ]
    },
    {
     "name": "stderr",
     "output_type": "stream",
     "text": [
      "/home/rustyh/src/stompy/stompy/xr_transect.py:996: UserWarning: No contour levels were found within the data range.\n",
      "  return f(x.values,yvals,scal.values,*args,**kwargs)\n"
     ]
    },
    {
     "name": "stdout",
     "output_type": "stream",
     "text": [
      "Range of salinity:  2.897302630305523 32.999894194938044\n",
      "Range of salinity:  2.5813005487069622 32.99942629302335\n",
      "Range of salinity:  2.580705884865236 33.00000390864099\n",
      "Range of salinity:  2.430959979708619 32.99999992270285\n"
     ]
    },
    {
     "name": "stderr",
     "output_type": "stream",
     "text": [
      "/home/rustyh/src/stompy/stompy/xr_transect.py:996: UserWarning: No contour levels were found within the data range.\n",
      "  return f(x.values,yvals,scal.values,*args,**kwargs)\n"
     ]
    },
    {
     "name": "stdout",
     "output_type": "stream",
     "text": [
      "Range of salinity:  2.9029918322802826 32.99986271116411\n",
      "Range of salinity:  2.6232558726757014 32.99946544309494\n",
      "Range of salinity:  2.446381950296971 33.00000555161318\n",
      "Range of salinity:  2.456306458400413 32.99999999173654\n"
     ]
    },
    {
     "name": "stderr",
     "output_type": "stream",
     "text": [
      "/home/rustyh/src/stompy/stompy/xr_transect.py:996: UserWarning: No contour levels were found within the data range.\n",
      "  return f(x.values,yvals,scal.values,*args,**kwargs)\n"
     ]
    },
    {
     "name": "stdout",
     "output_type": "stream",
     "text": [
      "Range of salinity:  2.8694382740107085 32.99993796543989\n",
      "Range of salinity:  2.750415761598842 32.99979418426674\n",
      "Range of salinity:  2.413449901513094 33.000013077058185\n",
      "Range of salinity:  2.4489464681524495 33.000005002668395\n"
     ]
    },
    {
     "name": "stderr",
     "output_type": "stream",
     "text": [
      "/home/rustyh/src/stompy/stompy/xr_transect.py:996: UserWarning: No contour levels were found within the data range.\n",
      "  return f(x.values,yvals,scal.values,*args,**kwargs)\n"
     ]
    },
    {
     "name": "stdout",
     "output_type": "stream",
     "text": [
      "Range of salinity:  2.7965061950352452 32.999974207624895\n",
      "Range of salinity:  2.8123965994248463 32.99998579923721\n",
      "Range of salinity:  2.3594929028272174 33.00002502237021\n",
      "Range of salinity:  2.46484947768686 32.999999994519115\n"
     ]
    },
    {
     "name": "stderr",
     "output_type": "stream",
     "text": [
      "/home/rustyh/src/stompy/stompy/xr_transect.py:996: UserWarning: No contour levels were found within the data range.\n",
      "  return f(x.values,yvals,scal.values,*args,**kwargs)\n"
     ]
    },
    {
     "name": "stdout",
     "output_type": "stream",
     "text": [
      "Range of salinity:  2.701728328290495 32.999986786147545\n",
      "Range of salinity:  2.8257629716140245 32.99999331246994\n",
      "Range of salinity:  2.204851680081056 33.00000183644231\n",
      "Range of salinity:  2.46348573526794 32.999999992289574\n"
     ]
    },
    {
     "name": "stderr",
     "output_type": "stream",
     "text": [
      "/home/rustyh/src/stompy/stompy/xr_transect.py:996: UserWarning: No contour levels were found within the data range.\n",
      "  return f(x.values,yvals,scal.values,*args,**kwargs)\n"
     ]
    },
    {
     "name": "stdout",
     "output_type": "stream",
     "text": [
      "Range of salinity:  2.6267604845918306 32.99999006988921\n",
      "Range of salinity:  2.6586013270195004 32.99999409318022\n",
      "Range of salinity:  1.9014416770088771 33.00000011424083\n",
      "Range of salinity:  2.4616505736461023 32.99999999155134\n"
     ]
    },
    {
     "name": "stderr",
     "output_type": "stream",
     "text": [
      "/home/rustyh/src/stompy/stompy/xr_transect.py:996: UserWarning: No contour levels were found within the data range.\n",
      "  return f(x.values,yvals,scal.values,*args,**kwargs)\n"
     ]
    },
    {
     "name": "stdout",
     "output_type": "stream",
     "text": [
      "Range of salinity:  2.1544887290961094 32.99999125274163\n",
      "Range of salinity:  2.651112869219933 32.99999660212186\n",
      "Range of salinity:  1.6701436608455975 32.99999999999754\n",
      "Range of salinity:  2.4011534925740907 32.999999993195225\n"
     ]
    },
    {
     "name": "stderr",
     "output_type": "stream",
     "text": [
      "/home/rustyh/src/stompy/stompy/xr_transect.py:996: UserWarning: No contour levels were found within the data range.\n",
      "  return f(x.values,yvals,scal.values,*args,**kwargs)\n"
     ]
    },
    {
     "name": "stdout",
     "output_type": "stream",
     "text": [
      "Range of salinity:  2.112010205312364 32.999991348610564\n",
      "Range of salinity:  2.536752195459188 32.99999554384032\n",
      "Range of salinity:  1.2955436707563022 32.99999999998747\n",
      "Range of salinity:  2.3880699757693264 32.9999999963263\n"
     ]
    },
    {
     "name": "stderr",
     "output_type": "stream",
     "text": [
      "/home/rustyh/src/stompy/stompy/xr_transect.py:996: UserWarning: No contour levels were found within the data range.\n",
      "  return f(x.values,yvals,scal.values,*args,**kwargs)\n"
     ]
    },
    {
     "name": "stdout",
     "output_type": "stream",
     "text": [
      "Range of salinity:  1.8613577651501099 32.99999433687189\n",
      "Range of salinity:  2.3586515345286583 32.99998640541785\n",
      "Range of salinity:  1.2448548826626074 32.999999827641055\n",
      "Range of salinity:  2.3707399996936824 33.000000034185014\n"
     ]
    },
    {
     "name": "stderr",
     "output_type": "stream",
     "text": [
      "/home/rustyh/src/stompy/stompy/xr_transect.py:996: UserWarning: No contour levels were found within the data range.\n",
      "  return f(x.values,yvals,scal.values,*args,**kwargs)\n"
     ]
    },
    {
     "name": "stdout",
     "output_type": "stream",
     "text": [
      "Range of salinity:  1.7697984751143647 32.99999690427307\n",
      "Range of salinity:  2.296702453458672 32.999921288787064\n",
      "Range of salinity:  1.1944834099619537 33.000210403174925\n",
      "Range of salinity:  2.3183683180871286 32.999999998015554\n"
     ]
    },
    {
     "name": "stderr",
     "output_type": "stream",
     "text": [
      "/home/rustyh/src/stompy/stompy/xr_transect.py:996: UserWarning: No contour levels were found within the data range.\n",
      "  return f(x.values,yvals,scal.values,*args,**kwargs)\n"
     ]
    },
    {
     "name": "stdout",
     "output_type": "stream",
     "text": [
      "Range of salinity:  1.8051396757119968 32.9999668486212\n",
      "Range of salinity:  2.2123669001754047 32.999869913553006\n",
      "Range of salinity:  1.3175694060639374 32.9999939579235\n",
      "Range of salinity:  2.143730960537813 32.99999828059044\n"
     ]
    },
    {
     "name": "stderr",
     "output_type": "stream",
     "text": [
      "/home/rustyh/src/stompy/stompy/xr_transect.py:996: UserWarning: No contour levels were found within the data range.\n",
      "  return f(x.values,yvals,scal.values,*args,**kwargs)\n"
     ]
    },
    {
     "name": "stdout",
     "output_type": "stream",
     "text": [
      "Range of salinity:  1.8527598072168565 32.999911468491646\n",
      "Range of salinity:  2.24444239874203 32.999765823619384\n",
      "Range of salinity:  1.397072511628864 32.99999038397403\n",
      "Range of salinity:  2.1125406943143066 32.99999379441224\n"
     ]
    },
    {
     "name": "stderr",
     "output_type": "stream",
     "text": [
      "/home/rustyh/src/stompy/stompy/xr_transect.py:996: UserWarning: No contour levels were found within the data range.\n",
      "  return f(x.values,yvals,scal.values,*args,**kwargs)\n"
     ]
    },
    {
     "name": "stdout",
     "output_type": "stream",
     "text": [
      "Range of salinity:  1.90432481989524 32.99997434427133\n",
      "Range of salinity:  2.2094736858387884 32.999829571877505\n",
      "Range of salinity:  1.4792606252183909 32.999997100512225\n",
      "Range of salinity:  2.0925778019449206 32.99999663167297\n"
     ]
    },
    {
     "name": "stderr",
     "output_type": "stream",
     "text": [
      "/home/rustyh/src/stompy/stompy/xr_transect.py:996: UserWarning: No contour levels were found within the data range.\n",
      "  return f(x.values,yvals,scal.values,*args,**kwargs)\n"
     ]
    },
    {
     "name": "stdout",
     "output_type": "stream",
     "text": [
      "Range of salinity:  1.9228404078275605 32.99999308781889\n",
      "Range of salinity:  2.268576874296429 32.99989568128991\n",
      "Range of salinity:  1.5437991485189877 32.999999690951434\n",
      "Range of salinity:  1.9663645187296834 32.99999784930911\n"
     ]
    },
    {
     "name": "stderr",
     "output_type": "stream",
     "text": [
      "/home/rustyh/src/stompy/stompy/xr_transect.py:996: UserWarning: No contour levels were found within the data range.\n",
      "  return f(x.values,yvals,scal.values,*args,**kwargs)\n"
     ]
    },
    {
     "name": "stdout",
     "output_type": "stream",
     "text": [
      "Range of salinity:  2.004806796307638 32.99995501392351\n",
      "Range of salinity:  2.2366203431815674 32.999804245662645\n",
      "Range of salinity:  1.5905799344257574 32.99999979301235\n",
      "Range of salinity:  1.9036105836171002 32.99981265829233\n"
     ]
    },
    {
     "name": "stderr",
     "output_type": "stream",
     "text": [
      "/home/rustyh/src/stompy/stompy/xr_transect.py:996: UserWarning: No contour levels were found within the data range.\n",
      "  return f(x.values,yvals,scal.values,*args,**kwargs)\n"
     ]
    },
    {
     "name": "stdout",
     "output_type": "stream",
     "text": [
      "Range of salinity:  1.959124021680833 32.999433443491846\n",
      "Range of salinity:  2.2837102092484294 32.999808508316725\n",
      "Range of salinity:  1.7314470000065414 32.99998915909953\n",
      "Range of salinity:  1.9531127992396062 32.99991768889929\n"
     ]
    },
    {
     "name": "stderr",
     "output_type": "stream",
     "text": [
      "/home/rustyh/src/stompy/stompy/xr_transect.py:996: UserWarning: No contour levels were found within the data range.\n",
      "  return f(x.values,yvals,scal.values,*args,**kwargs)\n"
     ]
    },
    {
     "name": "stdout",
     "output_type": "stream",
     "text": [
      "Range of salinity:  2.037612464389299 32.99961782631481\n",
      "Range of salinity:  2.2495011871238266 32.9994389561771\n",
      "Range of salinity:  1.9000132065369246 32.99995004155128\n",
      "Range of salinity:  1.93935383387089 32.99935473333398\n"
     ]
    },
    {
     "name": "stderr",
     "output_type": "stream",
     "text": [
      "/home/rustyh/src/stompy/stompy/xr_transect.py:996: UserWarning: No contour levels were found within the data range.\n",
      "  return f(x.values,yvals,scal.values,*args,**kwargs)\n"
     ]
    },
    {
     "name": "stdout",
     "output_type": "stream",
     "text": [
      "Range of salinity:  1.9553980802831914 32.9995390654188\n",
      "Range of salinity:  2.183463318025609 32.99860154876125\n",
      "Range of salinity:  2.066508078527955 32.99994201617874\n",
      "Range of salinity:  1.9333300789774934 32.999435341842855\n"
     ]
    },
    {
     "name": "stderr",
     "output_type": "stream",
     "text": [
      "/home/rustyh/src/stompy/stompy/xr_transect.py:996: UserWarning: No contour levels were found within the data range.\n",
      "  return f(x.values,yvals,scal.values,*args,**kwargs)\n"
     ]
    },
    {
     "name": "stdout",
     "output_type": "stream",
     "text": [
      "Range of salinity:  2.0226506199056296 32.998645074835686\n",
      "Range of salinity:  2.115501800652229 32.99942268875708\n",
      "Range of salinity:  2.2387162073825575 32.999998343953244\n",
      "Range of salinity:  1.9013117511430724 32.999048457123344\n"
     ]
    },
    {
     "name": "stderr",
     "output_type": "stream",
     "text": [
      "/home/rustyh/src/stompy/stompy/xr_transect.py:996: UserWarning: No contour levels were found within the data range.\n",
      "  return f(x.values,yvals,scal.values,*args,**kwargs)\n"
     ]
    },
    {
     "name": "stdout",
     "output_type": "stream",
     "text": [
      "Range of salinity:  1.9205242529620128 32.998946298386926\n",
      "Range of salinity:  2.0396489383834533 32.99986206817561\n",
      "Range of salinity:  2.3380949998170184 32.998700467487154\n",
      "Range of salinity:  1.882597726330645 32.99916138032222\n"
     ]
    },
    {
     "name": "stderr",
     "output_type": "stream",
     "text": [
      "/home/rustyh/src/stompy/stompy/xr_transect.py:996: UserWarning: No contour levels were found within the data range.\n",
      "  return f(x.values,yvals,scal.values,*args,**kwargs)\n"
     ]
    },
    {
     "name": "stdout",
     "output_type": "stream",
     "text": [
      "Range of salinity:  1.7912523377794292 32.99928794057315\n",
      "Range of salinity:  1.9554681711975648 32.99992511958221\n",
      "Range of salinity:  2.5386549017929503 32.99759557143948\n",
      "Range of salinity:  1.8663183226898519 32.99995440731543\n"
     ]
    },
    {
     "name": "stderr",
     "output_type": "stream",
     "text": [
      "/home/rustyh/src/stompy/stompy/xr_transect.py:996: UserWarning: No contour levels were found within the data range.\n",
      "  return f(x.values,yvals,scal.values,*args,**kwargs)\n"
     ]
    },
    {
     "name": "stdout",
     "output_type": "stream",
     "text": [
      "Range of salinity:  1.884630001054278 32.99966258996802\n",
      "Range of salinity:  1.8919207311626114 32.99980888701661\n",
      "Range of salinity:  2.3979876658677957 32.99310969388089\n",
      "Range of salinity:  1.8792389038710082 32.99942279855744\n"
     ]
    },
    {
     "name": "stderr",
     "output_type": "stream",
     "text": [
      "/home/rustyh/src/stompy/stompy/xr_transect.py:996: UserWarning: No contour levels were found within the data range.\n",
      "  return f(x.values,yvals,scal.values,*args,**kwargs)\n"
     ]
    },
    {
     "name": "stdout",
     "output_type": "stream",
     "text": [
      "Range of salinity:  1.7965058258889492 32.99757856019324\n",
      "Range of salinity:  1.9695151944317948 32.99971064111979\n",
      "Range of salinity:  2.5056545387240763 32.995479909012026\n",
      "Range of salinity:  1.858115364858698 32.998922945955826\n"
     ]
    },
    {
     "name": "stderr",
     "output_type": "stream",
     "text": [
      "/home/rustyh/src/stompy/stompy/xr_transect.py:996: UserWarning: No contour levels were found within the data range.\n",
      "  return f(x.values,yvals,scal.values,*args,**kwargs)\n"
     ]
    },
    {
     "name": "stdout",
     "output_type": "stream",
     "text": [
      "Range of salinity:  1.7431932078712198 32.9970979311276\n",
      "Range of salinity:  1.9038987910700802 32.9987981162179\n",
      "Range of salinity:  2.432786165497175 32.99994259846075\n",
      "Range of salinity:  1.8381437143624024 32.99733789575407\n"
     ]
    },
    {
     "name": "stderr",
     "output_type": "stream",
     "text": [
      "/home/rustyh/src/stompy/stompy/xr_transect.py:996: UserWarning: No contour levels were found within the data range.\n",
      "  return f(x.values,yvals,scal.values,*args,**kwargs)\n"
     ]
    },
    {
     "name": "stdout",
     "output_type": "stream",
     "text": [
      "Range of salinity:  1.6856675706554651 32.999652266188406\n",
      "Range of salinity:  1.8632857883608875 32.99983808413428\n",
      "Range of salinity:  2.3965350139899972 32.99945289128655\n",
      "Range of salinity:  1.814563190981911 32.998124371767624\n"
     ]
    },
    {
     "name": "stderr",
     "output_type": "stream",
     "text": [
      "/home/rustyh/src/stompy/stompy/xr_transect.py:996: UserWarning: No contour levels were found within the data range.\n",
      "  return f(x.values,yvals,scal.values,*args,**kwargs)\n"
     ]
    },
    {
     "name": "stdout",
     "output_type": "stream",
     "text": [
      "Range of salinity:  1.664770655751247 32.9998748636349\n",
      "Range of salinity:  1.822759169927118 32.99998875863789\n",
      "Range of salinity:  2.397727453712242 32.999239711734084\n",
      "Range of salinity:  1.7757407542688803 32.99942569552836\n"
     ]
    },
    {
     "name": "stderr",
     "output_type": "stream",
     "text": [
      "/home/rustyh/src/stompy/stompy/xr_transect.py:996: UserWarning: No contour levels were found within the data range.\n",
      "  return f(x.values,yvals,scal.values,*args,**kwargs)\n"
     ]
    },
    {
     "name": "stdout",
     "output_type": "stream",
     "text": [
      "Range of salinity:  1.7940441634202346 32.999175638783875\n",
      "Range of salinity:  1.7793744339957618 32.999262016606906\n",
      "Range of salinity:  2.3168076673385607 32.995036505329765\n",
      "Range of salinity:  1.7510331761755038 32.999994682664564\n"
     ]
    },
    {
     "name": "stderr",
     "output_type": "stream",
     "text": [
      "/home/rustyh/src/stompy/stompy/xr_transect.py:996: UserWarning: No contour levels were found within the data range.\n",
      "  return f(x.values,yvals,scal.values,*args,**kwargs)\n"
     ]
    },
    {
     "name": "stdout",
     "output_type": "stream",
     "text": [
      "Range of salinity:  1.7486682508972675 32.99863822612534\n",
      "Range of salinity:  1.7220647335211405 32.998868563677405\n",
      "Range of salinity:  2.2760852004889163 32.99937352343793\n",
      "Range of salinity:  1.7141286653531989 32.996614991199266\n"
     ]
    },
    {
     "name": "stderr",
     "output_type": "stream",
     "text": [
      "/home/rustyh/src/stompy/stompy/xr_transect.py:996: UserWarning: No contour levels were found within the data range.\n",
      "  return f(x.values,yvals,scal.values,*args,**kwargs)\n"
     ]
    },
    {
     "name": "stdout",
     "output_type": "stream",
     "text": [
      "Range of salinity:  1.6903916036108027 32.99620796401808\n",
      "Range of salinity:  1.6756598360418882 32.99906575004788\n",
      "Range of salinity:  2.200438748946374 32.99987652392592\n",
      "Range of salinity:  1.6809555943819718 32.99483163740445\n"
     ]
    },
    {
     "name": "stderr",
     "output_type": "stream",
     "text": [
      "/home/rustyh/src/stompy/stompy/xr_transect.py:996: UserWarning: No contour levels were found within the data range.\n",
      "  return f(x.values,yvals,scal.values,*args,**kwargs)\n"
     ]
    },
    {
     "name": "stdout",
     "output_type": "stream",
     "text": [
      "Range of salinity:  1.6270355493165831 32.99745755551287\n",
      "Range of salinity:  1.6124892840212333 32.996162094063706\n",
      "Range of salinity:  2.2492887322884316 32.995849572250776\n",
      "Range of salinity:  1.6646296346851248 32.9947285484952\n"
     ]
    },
    {
     "name": "stderr",
     "output_type": "stream",
     "text": [
      "/home/rustyh/src/stompy/stompy/xr_transect.py:996: UserWarning: No contour levels were found within the data range.\n",
      "  return f(x.values,yvals,scal.values,*args,**kwargs)\n"
     ]
    },
    {
     "name": "stdout",
     "output_type": "stream",
     "text": [
      "Range of salinity:  1.5971223183977188 32.99836875621726\n",
      "Range of salinity:  1.576998538440302 32.99808593582504\n",
      "Range of salinity:  2.223498283492007 32.994928296904426\n",
      "Range of salinity:  1.6608601669293424 32.99487958631926\n"
     ]
    },
    {
     "name": "stderr",
     "output_type": "stream",
     "text": [
      "/home/rustyh/src/stompy/stompy/xr_transect.py:996: UserWarning: No contour levels were found within the data range.\n",
      "  return f(x.values,yvals,scal.values,*args,**kwargs)\n"
     ]
    },
    {
     "name": "stdout",
     "output_type": "stream",
     "text": [
      "Range of salinity:  1.556706185719836 32.999353543253385\n",
      "Range of salinity:  1.5485788150488877 32.9990357872944\n",
      "Range of salinity:  2.1771711383677252 32.99434620291356\n",
      "Range of salinity:  1.7268906822961825 32.99883502033355\n"
     ]
    },
    {
     "name": "stderr",
     "output_type": "stream",
     "text": [
      "/home/rustyh/src/stompy/stompy/xr_transect.py:996: UserWarning: No contour levels were found within the data range.\n",
      "  return f(x.values,yvals,scal.values,*args,**kwargs)\n"
     ]
    },
    {
     "name": "stdout",
     "output_type": "stream",
     "text": [
      "Range of salinity:  1.52550962891809 32.99680350758973\n",
      "Range of salinity:  1.6844973241192627 32.998921270313225\n",
      "Range of salinity:  2.067150398148239 32.9980107128276\n",
      "Range of salinity:  1.675714312845256 32.997881843189376\n"
     ]
    },
    {
     "name": "stderr",
     "output_type": "stream",
     "text": [
      "/home/rustyh/src/stompy/stompy/xr_transect.py:996: UserWarning: No contour levels were found within the data range.\n",
      "  return f(x.values,yvals,scal.values,*args,**kwargs)\n"
     ]
    },
    {
     "name": "stdout",
     "output_type": "stream",
     "text": [
      "Range of salinity:  1.604521806770541 32.99781641538916\n",
      "Range of salinity:  1.6567303524932526 32.9991264620936\n",
      "Range of salinity:  1.9790893923634167 32.99913620466357\n",
      "Range of salinity:  1.6551000211512923 32.99632479595928\n"
     ]
    },
    {
     "name": "stderr",
     "output_type": "stream",
     "text": [
      "/home/rustyh/src/stompy/stompy/xr_transect.py:996: UserWarning: No contour levels were found within the data range.\n",
      "  return f(x.values,yvals,scal.values,*args,**kwargs)\n"
     ]
    },
    {
     "name": "stdout",
     "output_type": "stream",
     "text": [
      "Range of salinity:  1.5972279079526563 32.99260552319132\n",
      "Range of salinity:  1.591239693253577 32.99829421772922\n",
      "Range of salinity:  1.901879963103094 32.9970728034935\n",
      "Range of salinity:  1.6403984668247218 32.994864904450935\n"
     ]
    },
    {
     "name": "stderr",
     "output_type": "stream",
     "text": [
      "/home/rustyh/src/stompy/stompy/xr_transect.py:996: UserWarning: No contour levels were found within the data range.\n",
      "  return f(x.values,yvals,scal.values,*args,**kwargs)\n"
     ]
    },
    {
     "name": "stdout",
     "output_type": "stream",
     "text": [
      "Range of salinity:  1.5821668752771452 32.99620282014277\n",
      "Range of salinity:  1.557966759294433 32.998256585956796\n",
      "Range of salinity:  1.810194138003223 32.99564539722267\n",
      "Range of salinity:  1.6085358613594778 32.99794953956834\n"
     ]
    },
    {
     "name": "stderr",
     "output_type": "stream",
     "text": [
      "/home/rustyh/src/stompy/stompy/xr_transect.py:996: UserWarning: No contour levels were found within the data range.\n",
      "  return f(x.values,yvals,scal.values,*args,**kwargs)\n"
     ]
    },
    {
     "name": "stdout",
     "output_type": "stream",
     "text": [
      "Range of salinity:  1.5906675088354658 32.99575249622617\n",
      "Range of salinity:  1.526561105427157 32.99936784757272\n",
      "Range of salinity:  1.8187628010343657 32.99716135383556\n",
      "Range of salinity:  1.5909220443215184 32.99709741003266\n"
     ]
    },
    {
     "name": "stderr",
     "output_type": "stream",
     "text": [
      "/home/rustyh/src/stompy/stompy/xr_transect.py:996: UserWarning: No contour levels were found within the data range.\n",
      "  return f(x.values,yvals,scal.values,*args,**kwargs)\n"
     ]
    },
    {
     "name": "stdout",
     "output_type": "stream",
     "text": [
      "Range of salinity:  1.5843878296136154 32.99992609050277\n",
      "Range of salinity:  1.5225106715503909 32.99999797456356\n",
      "Range of salinity:  1.741990076693171 32.998711078665295\n",
      "Range of salinity:  1.5838171816392819 32.99696569412695\n"
     ]
    },
    {
     "name": "stderr",
     "output_type": "stream",
     "text": [
      "/home/rustyh/src/stompy/stompy/xr_transect.py:996: UserWarning: No contour levels were found within the data range.\n",
      "  return f(x.values,yvals,scal.values,*args,**kwargs)\n"
     ]
    },
    {
     "name": "stdout",
     "output_type": "stream",
     "text": [
      "Range of salinity:  1.5761245863030657 32.99999957574083\n",
      "Range of salinity:  1.499695707241499 32.999999717472754\n",
      "Range of salinity:  1.6633964412663198 32.99856416273802\n",
      "Range of salinity:  1.5775400049586672 32.997975445320726\n"
     ]
    },
    {
     "name": "stderr",
     "output_type": "stream",
     "text": [
      "/home/rustyh/src/stompy/stompy/xr_transect.py:996: UserWarning: No contour levels were found within the data range.\n",
      "  return f(x.values,yvals,scal.values,*args,**kwargs)\n"
     ]
    },
    {
     "name": "stdout",
     "output_type": "stream",
     "text": [
      "Range of salinity:  1.5610753163405213 32.999597784127054\n",
      "Range of salinity:  1.462896713047133 32.99958557172258\n",
      "Range of salinity:  1.6205906089874373 32.99995360069676\n",
      "Range of salinity:  1.5685513879390836 32.99920515315062\n"
     ]
    },
    {
     "name": "stderr",
     "output_type": "stream",
     "text": [
      "/home/rustyh/src/stompy/stompy/xr_transect.py:996: UserWarning: No contour levels were found within the data range.\n",
      "  return f(x.values,yvals,scal.values,*args,**kwargs)\n"
     ]
    },
    {
     "name": "stdout",
     "output_type": "stream",
     "text": [
      "Range of salinity:  1.5674047111883957 32.99955968510174\n",
      "Range of salinity:  1.4450829150636937 32.99967350652374\n",
      "Range of salinity:  1.6383458980286172 32.9999992565433\n",
      "Range of salinity:  1.5603365030586247 32.99953685967152\n"
     ]
    },
    {
     "name": "stderr",
     "output_type": "stream",
     "text": [
      "/home/rustyh/src/stompy/stompy/xr_transect.py:996: UserWarning: No contour levels were found within the data range.\n",
      "  return f(x.values,yvals,scal.values,*args,**kwargs)\n"
     ]
    },
    {
     "name": "stdout",
     "output_type": "stream",
     "text": [
      "Range of salinity:  1.5893689651920602 32.99844178149117\n",
      "Range of salinity:  1.4150602531718457 32.999640125543635\n",
      "Range of salinity:  1.6523125560078884 32.9999996950756\n",
      "Range of salinity:  1.5487323675413716 32.99971153740247\n"
     ]
    },
    {
     "name": "stderr",
     "output_type": "stream",
     "text": [
      "/home/rustyh/src/stompy/stompy/xr_transect.py:996: UserWarning: No contour levels were found within the data range.\n",
      "  return f(x.values,yvals,scal.values,*args,**kwargs)\n"
     ]
    },
    {
     "name": "stdout",
     "output_type": "stream",
     "text": [
      "Range of salinity:  1.5856849707691154 32.998940141327495\n",
      "Range of salinity:  1.3856521344838482 32.99935787425353\n",
      "Range of salinity:  1.6445573247041723 32.99992404358948\n",
      "Range of salinity:  1.6212001168921315 32.999743758757056\n"
     ]
    },
    {
     "name": "stderr",
     "output_type": "stream",
     "text": [
      "/home/rustyh/src/stompy/stompy/xr_transect.py:996: UserWarning: No contour levels were found within the data range.\n",
      "  return f(x.values,yvals,scal.values,*args,**kwargs)\n"
     ]
    },
    {
     "name": "stdout",
     "output_type": "stream",
     "text": [
      "Range of salinity:  1.6147261093498757 32.999925270240716\n",
      "Range of salinity:  1.3779875464341997 32.999254896440846\n",
      "Range of salinity:  1.6482434922802045 32.999691179603715\n",
      "Range of salinity:  1.6013501689096408 32.99985155443386\n"
     ]
    },
    {
     "name": "stderr",
     "output_type": "stream",
     "text": [
      "/home/rustyh/src/stompy/stompy/xr_transect.py:996: UserWarning: No contour levels were found within the data range.\n",
      "  return f(x.values,yvals,scal.values,*args,**kwargs)\n"
     ]
    },
    {
     "name": "stdout",
     "output_type": "stream",
     "text": [
      "Range of salinity:  1.6261619599747699 32.99999694909259\n",
      "Range of salinity:  1.3633897343664572 32.998732621512\n",
      "Range of salinity:  1.6517281101866175 32.99935447533223\n",
      "Range of salinity:  1.5898025470079573 32.999948990183015\n"
     ]
    },
    {
     "name": "stderr",
     "output_type": "stream",
     "text": [
      "/home/rustyh/src/stompy/stompy/xr_transect.py:996: UserWarning: No contour levels were found within the data range.\n",
      "  return f(x.values,yvals,scal.values,*args,**kwargs)\n"
     ]
    },
    {
     "name": "stdout",
     "output_type": "stream",
     "text": [
      "Range of salinity:  1.6355015330362437 32.99999990095115\n",
      "Range of salinity:  1.3485257685148202 32.99831200395412\n",
      "Range of salinity:  1.66126317263723 32.99937810665143\n",
      "Range of salinity:  1.5814602316251396 32.9999767815419\n"
     ]
    },
    {
     "name": "stderr",
     "output_type": "stream",
     "text": [
      "/home/rustyh/src/stompy/stompy/xr_transect.py:996: UserWarning: No contour levels were found within the data range.\n",
      "  return f(x.values,yvals,scal.values,*args,**kwargs)\n"
     ]
    },
    {
     "name": "stdout",
     "output_type": "stream",
     "text": [
      "Range of salinity:  1.6048480930028173 32.9999999858852\n",
      "Range of salinity:  1.4121216489420099 32.99999644138417\n",
      "Range of salinity:  1.73432223765981 32.99908761322517\n",
      "Range of salinity:  1.5695741600146547 32.99995959373518\n"
     ]
    },
    {
     "name": "stderr",
     "output_type": "stream",
     "text": [
      "/home/rustyh/src/stompy/stompy/xr_transect.py:996: UserWarning: No contour levels were found within the data range.\n",
      "  return f(x.values,yvals,scal.values,*args,**kwargs)\n"
     ]
    },
    {
     "name": "stdout",
     "output_type": "stream",
     "text": [
      "Range of salinity:  1.6134987071961886 32.999999994994354\n",
      "Range of salinity:  1.428053611359706 32.9999999201804\n",
      "Range of salinity:  1.9629802961094103 32.999778553391735\n",
      "Range of salinity:  1.6173087340935604 32.999972463272215\n"
     ]
    },
    {
     "name": "stderr",
     "output_type": "stream",
     "text": [
      "/home/rustyh/src/stompy/stompy/xr_transect.py:996: UserWarning: No contour levels were found within the data range.\n",
      "  return f(x.values,yvals,scal.values,*args,**kwargs)\n"
     ]
    },
    {
     "name": "stdout",
     "output_type": "stream",
     "text": [
      "Range of salinity:  1.6919971699727512 32.9999998088218\n",
      "Range of salinity:  1.426981627341055 32.99999999018457\n",
      "Range of salinity:  2.6623881370793807 32.999968607335774\n",
      "Range of salinity:  1.6174145990985338 32.99998245458293\n"
     ]
    },
    {
     "name": "stderr",
     "output_type": "stream",
     "text": [
      "/home/rustyh/src/stompy/stompy/xr_transect.py:996: UserWarning: No contour levels were found within the data range.\n",
      "  return f(x.values,yvals,scal.values,*args,**kwargs)\n"
     ]
    },
    {
     "name": "stdout",
     "output_type": "stream",
     "text": [
      "Range of salinity:  1.841731922616447 32.99999890739439\n",
      "Range of salinity:  1.473471067107178 32.9999999968763\n",
      "Range of salinity:  4.1295020335756405 32.99999586289559\n",
      "Range of salinity:  1.6109855263381916 32.99998498557369\n"
     ]
    },
    {
     "name": "stderr",
     "output_type": "stream",
     "text": [
      "/home/rustyh/src/stompy/stompy/xr_transect.py:996: UserWarning: No contour levels were found within the data range.\n",
      "  return f(x.values,yvals,scal.values,*args,**kwargs)\n"
     ]
    },
    {
     "name": "stdout",
     "output_type": "stream",
     "text": [
      "Range of salinity:  2.11752644155327 32.999998710242345\n",
      "Range of salinity:  1.6118864049932744 32.99999999871243\n",
      "Range of salinity:  3.572008441605862 32.999998728271535\n",
      "Range of salinity:  1.6644520709046131 32.99997688245797\n"
     ]
    },
    {
     "name": "stderr",
     "output_type": "stream",
     "text": [
      "/home/rustyh/src/stompy/stompy/xr_transect.py:996: UserWarning: No contour levels were found within the data range.\n",
      "  return f(x.values,yvals,scal.values,*args,**kwargs)\n"
     ]
    },
    {
     "name": "stdout",
     "output_type": "stream",
     "text": [
      "Range of salinity:  2.74465365026858 32.99999851726303\n",
      "Range of salinity:  1.8921481435048593 33.00000000961145\n",
      "Range of salinity:  3.340098967598089 32.99999938321244\n",
      "Range of salinity:  1.7318120044319272 32.99999038297381\n"
     ]
    },
    {
     "name": "stderr",
     "output_type": "stream",
     "text": [
      "/home/rustyh/src/stompy/stompy/xr_transect.py:996: UserWarning: No contour levels were found within the data range.\n",
      "  return f(x.values,yvals,scal.values,*args,**kwargs)\n"
     ]
    },
    {
     "name": "stdout",
     "output_type": "stream",
     "text": [
      "Range of salinity:  3.2573330593499117 32.999996061067165\n",
      "Range of salinity:  2.3438549199485084 33.000000019791706\n",
      "Range of salinity:  2.338095449083939 32.99999978220473\n",
      "Range of salinity:  1.8837415865625873 32.99999779151936\n"
     ]
    },
    {
     "name": "stderr",
     "output_type": "stream",
     "text": [
      "/home/rustyh/src/stompy/stompy/xr_transect.py:996: UserWarning: No contour levels were found within the data range.\n",
      "  return f(x.values,yvals,scal.values,*args,**kwargs)\n"
     ]
    },
    {
     "name": "stdout",
     "output_type": "stream",
     "text": [
      "Range of salinity:  3.064079133837555 32.999996381983465\n",
      "Range of salinity:  2.8979244819701973 33.00000679054213\n",
      "Range of salinity:  2.2943045292049034 32.99999998363118\n",
      "Range of salinity:  1.9375900190020539 32.99999949829669\n"
     ]
    },
    {
     "name": "stderr",
     "output_type": "stream",
     "text": [
      "/home/rustyh/src/stompy/stompy/xr_transect.py:996: UserWarning: No contour levels were found within the data range.\n",
      "  return f(x.values,yvals,scal.values,*args,**kwargs)\n"
     ]
    },
    {
     "name": "stdout",
     "output_type": "stream",
     "text": [
      "Range of salinity:  2.3012098419806657 32.999997519049764\n",
      "Range of salinity:  3.367333965812751 32.999999773644255\n",
      "Range of salinity:  2.106453942705826 32.999999998571425\n",
      "Range of salinity:  1.9761974973784828 32.999999890270395\n"
     ]
    },
    {
     "name": "stderr",
     "output_type": "stream",
     "text": [
      "/home/rustyh/src/stompy/stompy/xr_transect.py:996: UserWarning: No contour levels were found within the data range.\n",
      "  return f(x.values,yvals,scal.values,*args,**kwargs)\n"
     ]
    },
    {
     "name": "stdout",
     "output_type": "stream",
     "text": [
      "Range of salinity:  2.290839829456604 32.99999764002183\n",
      "Range of salinity:  2.941670322530984 32.999999304440905\n",
      "Range of salinity:  2.14146065719639 32.99999999973917\n",
      "Range of salinity:  2.164979352572323 32.99999998193514\n"
     ]
    },
    {
     "name": "stderr",
     "output_type": "stream",
     "text": [
      "/home/rustyh/src/stompy/stompy/xr_transect.py:996: UserWarning: No contour levels were found within the data range.\n",
      "  return f(x.values,yvals,scal.values,*args,**kwargs)\n"
     ]
    },
    {
     "name": "stdout",
     "output_type": "stream",
     "text": [
      "Range of salinity:  2.22545409207814 32.999998643425045\n",
      "Range of salinity:  2.747916220129013 32.999999496367344\n",
      "Range of salinity:  1.9274055230963436 32.99999999993106\n",
      "Range of salinity:  2.0344110764026464 32.99999999673291\n"
     ]
    },
    {
     "name": "stderr",
     "output_type": "stream",
     "text": [
      "/home/rustyh/src/stompy/stompy/xr_transect.py:996: UserWarning: No contour levels were found within the data range.\n",
      "  return f(x.values,yvals,scal.values,*args,**kwargs)\n"
     ]
    },
    {
     "name": "stdout",
     "output_type": "stream",
     "text": [
      "Range of salinity:  2.283359462522384 32.99999989925602\n",
      "Range of salinity:  2.604527894028423 32.99999923390121\n",
      "Range of salinity:  1.8085945544776827 32.999999999975174\n",
      "Range of salinity:  2.0357854925995253 32.999999999138694\n",
      "Range of salinity:  2.233236289068714 33.00000034758542\n",
      "Range of salinity:  2.2975184517240885 32.99999939057462\n",
      "Range of salinity:  2.0536508705723953 32.999999999986834\n",
      "Range of salinity:  2.0873586713296906 33.00006424615315\n"
     ]
    },
    {
     "name": "stderr",
     "output_type": "stream",
     "text": [
      "/home/rustyh/src/stompy/stompy/xr_transect.py:996: UserWarning: No contour levels were found within the data range.\n",
      "  return f(x.values,yvals,scal.values,*args,**kwargs)\n"
     ]
    },
    {
     "name": "stdout",
     "output_type": "stream",
     "text": [
      "Range of salinity:  1.9399671695374412 33.00000159430749\n",
      "Range of salinity:  2.2416733843184655 32.99999976388237\n",
      "Range of salinity:  2.153326683784347 32.99999999998822\n",
      "Range of salinity:  1.978315891089842 33.00006858337392\n"
     ]
    },
    {
     "name": "stderr",
     "output_type": "stream",
     "text": [
      "/home/rustyh/src/stompy/stompy/xr_transect.py:996: UserWarning: No contour levels were found within the data range.\n",
      "  return f(x.values,yvals,scal.values,*args,**kwargs)\n"
     ]
    },
    {
     "name": "stdout",
     "output_type": "stream",
     "text": [
      "Range of salinity:  1.9217816524430325 33.000002768862984\n",
      "Range of salinity:  2.099493717618673 32.999999908688736\n",
      "Range of salinity:  2.3338332322626303 33.00000037586302\n",
      "Range of salinity:  1.9794124650703602 33.00005140727009\n"
     ]
    },
    {
     "name": "stderr",
     "output_type": "stream",
     "text": [
      "/home/rustyh/src/stompy/stompy/xr_transect.py:996: UserWarning: No contour levels were found within the data range.\n",
      "  return f(x.values,yvals,scal.values,*args,**kwargs)\n"
     ]
    },
    {
     "name": "stdout",
     "output_type": "stream",
     "text": [
      "Range of salinity:  2.12633643023204 33.00001840950119\n",
      "Range of salinity:  1.927395843849409 32.99999995084957\n",
      "Range of salinity:  2.1166297473943465 33.00000432845786\n",
      "Range of salinity:  1.7843509585300776 33.00003299625093\n"
     ]
    },
    {
     "name": "stderr",
     "output_type": "stream",
     "text": [
      "/home/rustyh/src/stompy/stompy/xr_transect.py:996: UserWarning: No contour levels were found within the data range.\n",
      "  return f(x.values,yvals,scal.values,*args,**kwargs)\n"
     ]
    },
    {
     "name": "stdout",
     "output_type": "stream",
     "text": [
      "Range of salinity:  2.179147230810193 33.00000069941613\n",
      "Range of salinity:  2.1734238405801793 32.99999984986864\n",
      "Range of salinity:  2.1393473824274087 33.000000000215586\n",
      "Range of salinity:  1.742475528440424 33.00000000030906\n"
     ]
    },
    {
     "name": "stderr",
     "output_type": "stream",
     "text": [
      "/home/rustyh/src/stompy/stompy/xr_transect.py:996: UserWarning: No contour levels were found within the data range.\n",
      "  return f(x.values,yvals,scal.values,*args,**kwargs)\n",
      "/home/rustyh/src/stompy/stompy/xr_transect.py:996: UserWarning: No contour levels were found within the data range.\n",
      "  return f(x.values,yvals,scal.values,*args,**kwargs)\n"
     ]
    },
    {
     "name": "stdout",
     "output_type": "stream",
     "text": [
      "Range of salinity:  2.945832340480297 32.999999660821366\n",
      "Range of salinity:  2.7846101619105874 32.999998098104044\n",
      "Range of salinity:  3.1547868404168833 33.00000000077319\n",
      "Range of salinity:  1.7497964005787683 33.000000000385704\n"
     ]
    },
    {
     "name": "stderr",
     "output_type": "stream",
     "text": [
      "/home/rustyh/src/stompy/stompy/xr_transect.py:996: UserWarning: No contour levels were found within the data range.\n",
      "  return f(x.values,yvals,scal.values,*args,**kwargs)\n"
     ]
    },
    {
     "name": "stdout",
     "output_type": "stream",
     "text": [
      "Range of salinity:  3.0960543318512945 32.999999888465794\n",
      "Range of salinity:  3.0623154397166923 32.99999392293851\n",
      "Range of salinity:  3.734433386870767 32.99999999954664\n",
      "Range of salinity:  2.0639545209782546 33.00000000006827\n"
     ]
    }
   ],
   "source": [
    "for t in his.time.values[200:300]:\n",
    "    draw(t)\n",
    "    fig.canvas.draw()\n",
    "    plt.pause(0.01)"
   ]
  },
  {
   "cell_type": "code",
   "execution_count": 72,
   "metadata": {},
   "outputs": [],
   "source": [
    "def draw(t):\n",
    "    thaw(fig,frozen)\n",
    "    ttrans=[tran.isel(\n",
    "            time=min(np.searchsorted(tran.time.values,t),\n",
    "                     tran.dims['time']-1) )\n",
    "         for tran in trans]\n",
    "\n",
    "\n",
    "    for ax,tran in zip(axs,ttrans):\n",
    "        xrt.get_d_sample(tran)\n",
    "        cset=xrt.contourf(tran,'salinity',V,ax=ax,cmap=turbo,extend='both')\n",
    "        ax.set_ylabel('z (m)')\n",
    "        xrt.contour(tran,'salinity',np.r_[33.0],ax=ax,colors='k')\n",
    "        print(\"Range of salinity: \",float(tran['salinity'].min()),\n",
    "              float(tran['salinity'].max()))\n",
    "\n",
    "    plt.colorbar(cset,cax=cax,label='Salinity',orientation='horizontal')\n",
    "\n",
    "    sampxy=None\n",
    "    for ax,axv,tran in zip(axs,axvs,ttrans):\n",
    "        txy=np.c_[ tran.x_sample.values, tran.y_sample.values]\n",
    "        if sampxy is None:\n",
    "            samp=np.searchsorted(tran.d_sample.values,dist)\n",
    "            sampxy=txy[samp]\n",
    "        else:\n",
    "            dists=utils.dist(sampxy, txy)\n",
    "            samp=np.argmin(dists)\n",
    "        axv.plot(tran['salinity'].isel(sample=samp),\n",
    "                 tran['z_ctr'].isel(sample=samp),\n",
    "                 marker='.')\n",
    "        ax.axvline(tran.d_sample.values[samp],ls='--')\n",
    "\n",
    "        # ghosted on other axes:\n",
    "        for ax_other in axvs:\n",
    "            if ax_other!=ax:\n",
    "                ax_other.plot(tran['salinity'].isel(sample=samp),\n",
    "                              tran['z_ctr'].isel(sample=samp),\n",
    "                              color='0.75',marker='.',zorder=-1)\n",
    "\n",
    "\n",
    "\n",
    "    for tran in ttrans:\n",
    "        axt.axvline( tran.time.values,color='k')\n",
    "\n",
    "    axt.axvline(t,color='b')\n"
   ]
  },
  {
   "cell_type": "code",
   "execution_count": 71,
   "metadata": {},
   "outputs": [
    {
     "data": {
      "text/plain": [
       "<xarray.DataArray 'time' (time: 961)>\n",
       "array(['2016-06-10T00:00:00.000000000', '2016-06-10T00:15:00.000000000',\n",
       "       '2016-06-10T00:30:00.000000000', ..., '2016-06-19T23:30:00.000000000',\n",
       "       '2016-06-19T23:45:00.000000000', '2016-06-20T00:00:00.000000000'],\n",
       "      dtype='datetime64[ns]')\n",
       "Coordinates:\n",
       "  * time     (time) datetime64[ns] 2016-06-10 2016-06-10T00:15:00 ... 2016-06-20\n",
       "Attributes:\n",
       "    standard_name:  time"
      ]
     },
     "execution_count": 71,
     "metadata": {},
     "output_type": "execute_result"
    }
   ],
   "source": [
    "his.time"
   ]
  },
  {
   "cell_type": "code",
   "execution_count": null,
   "metadata": {},
   "outputs": [],
   "source": [
    "\n",
    "\n",
    "\n",
    "\n",
    "\n",
    "\n",
    "\n",
    "\n",
    "\n",
    "\n",
    "\n",
    "\n",
    "\n",
    "\n",
    "\n",
    "\n",
    "\n",
    "\n",
    "\n",
    "\n",
    "\n",
    "\n",
    "\n",
    "\n",
    "\n",
    "\n",
    "\n",
    "\n",
    "\n",
    "\n",
    "\n",
    "\n",
    "\n",
    "\n",
    "\n",
    "\n",
    "\n"
   ]
  },
  {
   "cell_type": "code",
   "execution_count": null,
   "metadata": {},
   "outputs": [],
   "source": []
  }
 ],
 "metadata": {
  "kernelspec": {
   "display_name": "Python 3",
   "language": "python",
   "name": "python3"
  },
  "language_info": {
   "codemirror_mode": {
    "name": "ipython",
    "version": 3
   },
   "file_extension": ".py",
   "mimetype": "text/x-python",
   "name": "python",
   "nbconvert_exporter": "python",
   "pygments_lexer": "ipython3",
   "version": "3.7.3"
  }
 },
 "nbformat": 4,
 "nbformat_minor": 2
}
