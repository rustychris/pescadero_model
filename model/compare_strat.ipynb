{
 "cells": [
  {
   "cell_type": "code",
   "execution_count": 9,
   "metadata": {},
   "outputs": [],
   "source": [
    "import stompy.model.delft.dflow_model as dfm\n",
    "import matplotlib.pyplot as plt\n",
    "import matplotlib.gridspec as gs\n",
    "import xarray as xr\n",
    "from stompy import xr_transect as xrt\n",
    "import os\n",
    "from stompy import utils\n",
    "import stompy.plot.cmap as scmap\n",
    "import numpy as np\n",
    "%matplotlib notebook"
   ]
  },
  {
   "cell_type": "code",
   "execution_count": 23,
   "metadata": {},
   "outputs": [
    {
     "data": {
      "text/plain": [
       "<module 'stompy.model.delft.dflow_model' from '/home/rusty/src/stompy/stompy/model/delft/dflow_model.py'>"
      ]
     },
     "execution_count": 23,
     "metadata": {},
     "output_type": "execute_result"
    }
   ],
   "source": [
    "import six\n",
    "six.moves.reload_module(dfm)"
   ]
  },
  {
   "cell_type": "code",
   "execution_count": 11,
   "metadata": {},
   "outputs": [],
   "source": [
    "turbo=scmap.load_gradient('turbo.cpt')\n",
    "hot_cold=scmap.load_gradient('hot_and_cold.cpt')"
   ]
  },
  {
   "cell_type": "code",
   "execution_count": 12,
   "metadata": {},
   "outputs": [],
   "source": [
    "run_dirs=[#'run_salt_20160520-v104',\n",
    "          #'run_salt_20160520-v107',\n",
    "          #'run_salt_20160520-v109',\n",
    "          #'run_salt_20160520-v110',\n",
    "          #'run_salt_20160520-v111',\n",
    "          #'run_salt_20160520-v112', \n",
    "          #'run_salt_20160520-v113', \n",
    "          #'run_salt_20160520-v114', \n",
    "          #'run_salt_20160520-v115', \n",
    "          #'run_salt_20160520-v116', \n",
    "     'data_salt_filling-v00'\n",
    "    \n",
    "    \n",
    "]"
   ]
  },
  {
   "cell_type": "code",
   "execution_count": 41,
   "metadata": {},
   "outputs": [
    {
     "data": {
      "text/plain": [
       "17498"
      ]
     },
     "execution_count": 41,
     "metadata": {},
     "output_type": "execute_result"
    }
   ],
   "source": [
    "ds['FlowLink'].size"
   ]
  },
  {
   "cell_type": "code",
   "execution_count": 43,
   "metadata": {},
   "outputs": [
    {
     "name": "stdout",
     "output_type": "stream",
     "text": [
      "general_structure_geom 1\n",
      "source_sink_geom 1\n",
      "cross_section_geom 1\n",
      "station_geom 1\n",
      "projected_coordinate_system 1\n",
      "general_structure_geom_node_count 2\n",
      "source_sink_geom_node_count 2\n",
      "source_sink_geom_node_coordy 4\n",
      "source_sink_geom_node_coordx 4\n",
      "source_sink_y_coordinate 6\n",
      "source_sink_x_coordinate 6\n",
      "cross_section_geom_node_count 20\n",
      "cross_section_geom_node_coordx 22\n",
      "cross_section_geom_node_coordy 22\n",
      "station_geom_node_count 267\n",
      "bedlevel 267\n",
      "station_id 267\n",
      "station_geom_node_coordy 267\n",
      "station_geom_node_coordx 267\n",
      "water_balance_exchange_with_1D_total 4033\n",
      "water_balance_exchange_with_1D_out 4033\n",
      "water_balance_Qext_total_2D 4033\n",
      "water_balance_exchange_with_1D_in 4033\n",
      "water_balance_Qext_in_1D 4033\n",
      "water_balance_boundaries_total 4033\n",
      "water_balance_boundaries_out 4033\n",
      "water_balance_boundaries_in 4033\n",
      "water_balance_volume_error 4033\n",
      "water_balance_storage 4033\n",
      "water_balance_total_volume 4033\n",
      "water_balance_total_volume_interception 4033\n",
      "water_balance_evaporation_interception 4033\n",
      "water_balance_precipitation_on_ground 4033\n",
      "water_balance_precipitation_total 4033\n",
      "water_balance_evaporation 4033\n",
      "water_balance_groundwater_out 4033\n",
      "water_balance_groundwater_in 4033\n",
      "water_balance_Qext_total 4033\n",
      "water_balance_Qext_out 4033\n",
      "water_balance_Qext_total_1D 4033\n",
      "water_balance_Qext_in 4033\n",
      "water_balance_laterals_total_2D 4033\n",
      "water_balance_laterals_out_2D 4033\n",
      "water_balance_laterals_in_2D 4033\n",
      "water_balance_source_sink 4033\n",
      "water_balance_laterals_total_1D 4033\n",
      "water_balance_laterals_out_1D 4033\n",
      "water_balance_Qext_out_2D 4033\n",
      "water_balance_laterals_total 4033\n",
      "water_balance_laterals_out 4033\n",
      "water_balance_laterals_in 4033\n",
      "water_balance_groundwater_total 4033\n",
      "water_balance_Qext_out_1D 4033\n",
      "water_balance_Qext_in_2D 4033\n",
      "water_balance_laterals_in_1D 4033\n",
      "timestep 4033\n",
      "FlowElemGlobalNr 5517\n",
      "FlowElem_ycc 5517\n",
      "FlowElem_zcc 5517\n",
      "FlowElem_bac 5517\n",
      "FlowElem_xzw 5517\n",
      "FlowElem_yzw 5517\n",
      "FlowElem_bl 5517\n",
      "FlowElemDomain 5517\n",
      "FlowElem_xcc 5517\n",
      "source_sink_prescribed_temperature_increment 8066\n",
      "source_sink_cumulative_volume 8066\n",
      "source_sink_current_discharge 8066\n",
      "source_sink_prescribed_salinity_increment 8066\n",
      "source_sink_prescribed_discharge 8066\n",
      "source_sink_discharge_average 8066\n",
      "general_structure_crest_level 8066\n",
      "general_structure_discharge 8066\n",
      "general_structure_gate_lower_edge_level 8066\n",
      "general_structure_gate_opening_width 8066\n",
      "general_structure_s1up 8066\n",
      "general_structure_s1dn 8066\n",
      "general_structure_head 8066\n",
      "general_structure_flow_area 8066\n",
      "general_structure_crest_width 8066\n",
      "general_structure_velocity 8066\n",
      "FlowLink_lonu 8749\n",
      "FlowLink_latu 8749\n",
      "FlowLinkDomain 8749\n",
      "FlowLink_yu 8749\n",
      "FlowLink_xu 8749\n",
      "FlowLinkType 8749\n",
      "FlowLink 17498\n",
      "ElemLink 18000\n",
      "FlowElemContour_x 22068\n",
      "FlowElemContour_y 22068\n",
      "cross_section_cumulative_salt 80660\n",
      "cross_section_cumulative_temperature 80660\n",
      "cross_section_velocity 80660\n",
      "cross_section_area 80660\n",
      "cross_section_cumulative_discharge 80660\n",
      "cross_section_discharge 80660\n",
      "cross_section_salt 80660\n",
      "cross_section_temperature 80660\n",
      "depth-averaged_x_velocity 1076811\n",
      "taus 1076811\n",
      "waterlevel 1076811\n",
      "depth-averaged_y_velocity 1076811\n",
      "salinity 75376770\n",
      "temperature 75376770\n",
      "density 75376770\n",
      "z_velocity 75376770\n",
      "y_velocity 75376770\n",
      "x_velocity 75376770\n",
      "tke 76453581\n",
      "vicww 76453581\n",
      "eps 76453581\n"
     ]
    }
   ],
   "source": [
    "ds=hiss[0]\n",
    "vs=[v for v in ds]\n",
    "sizes=[ds[v].size for v in vs]\n",
    "vs=[vs[k] for k in np.argsort(sizes)]\n",
    "\n",
    "for v in vs:\n",
    "    print(f\"{v} {ds[v].size}\")"
   ]
  },
  {
   "cell_type": "code",
   "execution_count": 13,
   "metadata": {},
   "outputs": [],
   "source": [
    "try:\n",
    "    [h.close() for h in hiss]\n",
    "except NameError:\n",
    "    pass\n",
    "his_fns=[os.path.join(d,'DFM_OUTPUT_flowfm/flowfm_0000_his.nc')\n",
    "         for d in run_dirs]\n",
    "hiss=[xr.open_dataset(his_fn) for his_fn in his_fns]\n",
    "for his,d in zip(hiss,run_dirs):\n",
    "    his.attrs['run_dir']=d"
   ]
  },
  {
   "cell_type": "code",
   "execution_count": 24,
   "metadata": {},
   "outputs": [],
   "source": [
    "patt='thalweg_pesc.*'\n",
    "\n",
    "trans=[dfm.extract_transect_his(his,patt) for his in hiss]"
   ]
  },
  {
   "cell_type": "code",
   "execution_count": 36,
   "metadata": {
    "scrolled": false
   },
   "outputs": [
    {
     "data": {
      "application/javascript": [
       "/* Put everything inside the global mpl namespace */\n",
       "/* global mpl */\n",
       "window.mpl = {};\n",
       "\n",
       "mpl.get_websocket_type = function () {\n",
       "    if (typeof WebSocket !== 'undefined') {\n",
       "        return WebSocket;\n",
       "    } else if (typeof MozWebSocket !== 'undefined') {\n",
       "        return MozWebSocket;\n",
       "    } else {\n",
       "        alert(\n",
       "            'Your browser does not have WebSocket support. ' +\n",
       "                'Please try Chrome, Safari or Firefox ≥ 6. ' +\n",
       "                'Firefox 4 and 5 are also supported but you ' +\n",
       "                'have to enable WebSockets in about:config.'\n",
       "        );\n",
       "    }\n",
       "};\n",
       "\n",
       "mpl.figure = function (figure_id, websocket, ondownload, parent_element) {\n",
       "    this.id = figure_id;\n",
       "\n",
       "    this.ws = websocket;\n",
       "\n",
       "    this.supports_binary = this.ws.binaryType !== undefined;\n",
       "\n",
       "    if (!this.supports_binary) {\n",
       "        var warnings = document.getElementById('mpl-warnings');\n",
       "        if (warnings) {\n",
       "            warnings.style.display = 'block';\n",
       "            warnings.textContent =\n",
       "                'This browser does not support binary websocket messages. ' +\n",
       "                'Performance may be slow.';\n",
       "        }\n",
       "    }\n",
       "\n",
       "    this.imageObj = new Image();\n",
       "\n",
       "    this.context = undefined;\n",
       "    this.message = undefined;\n",
       "    this.canvas = undefined;\n",
       "    this.rubberband_canvas = undefined;\n",
       "    this.rubberband_context = undefined;\n",
       "    this.format_dropdown = undefined;\n",
       "\n",
       "    this.image_mode = 'full';\n",
       "\n",
       "    this.root = document.createElement('div');\n",
       "    this.root.setAttribute('style', 'display: inline-block');\n",
       "    this._root_extra_style(this.root);\n",
       "\n",
       "    parent_element.appendChild(this.root);\n",
       "\n",
       "    this._init_header(this);\n",
       "    this._init_canvas(this);\n",
       "    this._init_toolbar(this);\n",
       "\n",
       "    var fig = this;\n",
       "\n",
       "    this.waiting = false;\n",
       "\n",
       "    this.ws.onopen = function () {\n",
       "        fig.send_message('supports_binary', { value: fig.supports_binary });\n",
       "        fig.send_message('send_image_mode', {});\n",
       "        if (fig.ratio !== 1) {\n",
       "            fig.send_message('set_dpi_ratio', { dpi_ratio: fig.ratio });\n",
       "        }\n",
       "        fig.send_message('refresh', {});\n",
       "    };\n",
       "\n",
       "    this.imageObj.onload = function () {\n",
       "        if (fig.image_mode === 'full') {\n",
       "            // Full images could contain transparency (where diff images\n",
       "            // almost always do), so we need to clear the canvas so that\n",
       "            // there is no ghosting.\n",
       "            fig.context.clearRect(0, 0, fig.canvas.width, fig.canvas.height);\n",
       "        }\n",
       "        fig.context.drawImage(fig.imageObj, 0, 0);\n",
       "    };\n",
       "\n",
       "    this.imageObj.onunload = function () {\n",
       "        fig.ws.close();\n",
       "    };\n",
       "\n",
       "    this.ws.onmessage = this._make_on_message_function(this);\n",
       "\n",
       "    this.ondownload = ondownload;\n",
       "};\n",
       "\n",
       "mpl.figure.prototype._init_header = function () {\n",
       "    var titlebar = document.createElement('div');\n",
       "    titlebar.classList =\n",
       "        'ui-dialog-titlebar ui-widget-header ui-corner-all ui-helper-clearfix';\n",
       "    var titletext = document.createElement('div');\n",
       "    titletext.classList = 'ui-dialog-title';\n",
       "    titletext.setAttribute(\n",
       "        'style',\n",
       "        'width: 100%; text-align: center; padding: 3px;'\n",
       "    );\n",
       "    titlebar.appendChild(titletext);\n",
       "    this.root.appendChild(titlebar);\n",
       "    this.header = titletext;\n",
       "};\n",
       "\n",
       "mpl.figure.prototype._canvas_extra_style = function (_canvas_div) {};\n",
       "\n",
       "mpl.figure.prototype._root_extra_style = function (_canvas_div) {};\n",
       "\n",
       "mpl.figure.prototype._init_canvas = function () {\n",
       "    var fig = this;\n",
       "\n",
       "    var canvas_div = (this.canvas_div = document.createElement('div'));\n",
       "    canvas_div.setAttribute(\n",
       "        'style',\n",
       "        'border: 1px solid #ddd;' +\n",
       "            'box-sizing: content-box;' +\n",
       "            'clear: both;' +\n",
       "            'min-height: 1px;' +\n",
       "            'min-width: 1px;' +\n",
       "            'outline: 0;' +\n",
       "            'overflow: hidden;' +\n",
       "            'position: relative;' +\n",
       "            'resize: both;'\n",
       "    );\n",
       "\n",
       "    function on_keyboard_event_closure(name) {\n",
       "        return function (event) {\n",
       "            return fig.key_event(event, name);\n",
       "        };\n",
       "    }\n",
       "\n",
       "    canvas_div.addEventListener(\n",
       "        'keydown',\n",
       "        on_keyboard_event_closure('key_press')\n",
       "    );\n",
       "    canvas_div.addEventListener(\n",
       "        'keyup',\n",
       "        on_keyboard_event_closure('key_release')\n",
       "    );\n",
       "\n",
       "    this._canvas_extra_style(canvas_div);\n",
       "    this.root.appendChild(canvas_div);\n",
       "\n",
       "    var canvas = (this.canvas = document.createElement('canvas'));\n",
       "    canvas.classList.add('mpl-canvas');\n",
       "    canvas.setAttribute('style', 'box-sizing: content-box;');\n",
       "\n",
       "    this.context = canvas.getContext('2d');\n",
       "\n",
       "    var backingStore =\n",
       "        this.context.backingStorePixelRatio ||\n",
       "        this.context.webkitBackingStorePixelRatio ||\n",
       "        this.context.mozBackingStorePixelRatio ||\n",
       "        this.context.msBackingStorePixelRatio ||\n",
       "        this.context.oBackingStorePixelRatio ||\n",
       "        this.context.backingStorePixelRatio ||\n",
       "        1;\n",
       "\n",
       "    this.ratio = (window.devicePixelRatio || 1) / backingStore;\n",
       "    if (this.ratio !== 1) {\n",
       "        fig.send_message('set_dpi_ratio', { dpi_ratio: this.ratio });\n",
       "    }\n",
       "\n",
       "    var rubberband_canvas = (this.rubberband_canvas = document.createElement(\n",
       "        'canvas'\n",
       "    ));\n",
       "    rubberband_canvas.setAttribute(\n",
       "        'style',\n",
       "        'box-sizing: content-box; position: absolute; left: 0; top: 0; z-index: 1;'\n",
       "    );\n",
       "\n",
       "    // Apply a ponyfill if ResizeObserver is not implemented by browser.\n",
       "    if (this.ResizeObserver === undefined) {\n",
       "        if (window.ResizeObserver !== undefined) {\n",
       "            this.ResizeObserver = window.ResizeObserver;\n",
       "        } else {\n",
       "            var obs = _JSXTOOLS_RESIZE_OBSERVER({});\n",
       "            this.ResizeObserver = obs.ResizeObserver;\n",
       "        }\n",
       "    }\n",
       "\n",
       "    this.resizeObserverInstance = new this.ResizeObserver(function (entries) {\n",
       "        var nentries = entries.length;\n",
       "        for (var i = 0; i < nentries; i++) {\n",
       "            var entry = entries[i];\n",
       "            var width, height;\n",
       "            if (entry.contentBoxSize) {\n",
       "                if (entry.contentBoxSize instanceof Array) {\n",
       "                    // Chrome 84 implements new version of spec.\n",
       "                    width = entry.contentBoxSize[0].inlineSize;\n",
       "                    height = entry.contentBoxSize[0].blockSize;\n",
       "                } else {\n",
       "                    // Firefox implements old version of spec.\n",
       "                    width = entry.contentBoxSize.inlineSize;\n",
       "                    height = entry.contentBoxSize.blockSize;\n",
       "                }\n",
       "            } else {\n",
       "                // Chrome <84 implements even older version of spec.\n",
       "                width = entry.contentRect.width;\n",
       "                height = entry.contentRect.height;\n",
       "            }\n",
       "\n",
       "            // Keep the size of the canvas and rubber band canvas in sync with\n",
       "            // the canvas container.\n",
       "            if (entry.devicePixelContentBoxSize) {\n",
       "                // Chrome 84 implements new version of spec.\n",
       "                canvas.setAttribute(\n",
       "                    'width',\n",
       "                    entry.devicePixelContentBoxSize[0].inlineSize\n",
       "                );\n",
       "                canvas.setAttribute(\n",
       "                    'height',\n",
       "                    entry.devicePixelContentBoxSize[0].blockSize\n",
       "                );\n",
       "            } else {\n",
       "                canvas.setAttribute('width', width * fig.ratio);\n",
       "                canvas.setAttribute('height', height * fig.ratio);\n",
       "            }\n",
       "            canvas.setAttribute(\n",
       "                'style',\n",
       "                'width: ' + width + 'px; height: ' + height + 'px;'\n",
       "            );\n",
       "\n",
       "            rubberband_canvas.setAttribute('width', width);\n",
       "            rubberband_canvas.setAttribute('height', height);\n",
       "\n",
       "            // And update the size in Python. We ignore the initial 0/0 size\n",
       "            // that occurs as the element is placed into the DOM, which should\n",
       "            // otherwise not happen due to the minimum size styling.\n",
       "            if (width != 0 && height != 0) {\n",
       "                fig.request_resize(width, height);\n",
       "            }\n",
       "        }\n",
       "    });\n",
       "    this.resizeObserverInstance.observe(canvas_div);\n",
       "\n",
       "    function on_mouse_event_closure(name) {\n",
       "        return function (event) {\n",
       "            return fig.mouse_event(event, name);\n",
       "        };\n",
       "    }\n",
       "\n",
       "    rubberband_canvas.addEventListener(\n",
       "        'mousedown',\n",
       "        on_mouse_event_closure('button_press')\n",
       "    );\n",
       "    rubberband_canvas.addEventListener(\n",
       "        'mouseup',\n",
       "        on_mouse_event_closure('button_release')\n",
       "    );\n",
       "    // Throttle sequential mouse events to 1 every 20ms.\n",
       "    rubberband_canvas.addEventListener(\n",
       "        'mousemove',\n",
       "        on_mouse_event_closure('motion_notify')\n",
       "    );\n",
       "\n",
       "    rubberband_canvas.addEventListener(\n",
       "        'mouseenter',\n",
       "        on_mouse_event_closure('figure_enter')\n",
       "    );\n",
       "    rubberband_canvas.addEventListener(\n",
       "        'mouseleave',\n",
       "        on_mouse_event_closure('figure_leave')\n",
       "    );\n",
       "\n",
       "    canvas_div.addEventListener('wheel', function (event) {\n",
       "        if (event.deltaY < 0) {\n",
       "            event.step = 1;\n",
       "        } else {\n",
       "            event.step = -1;\n",
       "        }\n",
       "        on_mouse_event_closure('scroll')(event);\n",
       "    });\n",
       "\n",
       "    canvas_div.appendChild(canvas);\n",
       "    canvas_div.appendChild(rubberband_canvas);\n",
       "\n",
       "    this.rubberband_context = rubberband_canvas.getContext('2d');\n",
       "    this.rubberband_context.strokeStyle = '#000000';\n",
       "\n",
       "    this._resize_canvas = function (width, height, forward) {\n",
       "        if (forward) {\n",
       "            canvas_div.style.width = width + 'px';\n",
       "            canvas_div.style.height = height + 'px';\n",
       "        }\n",
       "    };\n",
       "\n",
       "    // Disable right mouse context menu.\n",
       "    this.rubberband_canvas.addEventListener('contextmenu', function (_e) {\n",
       "        event.preventDefault();\n",
       "        return false;\n",
       "    });\n",
       "\n",
       "    function set_focus() {\n",
       "        canvas.focus();\n",
       "        canvas_div.focus();\n",
       "    }\n",
       "\n",
       "    window.setTimeout(set_focus, 100);\n",
       "};\n",
       "\n",
       "mpl.figure.prototype._init_toolbar = function () {\n",
       "    var fig = this;\n",
       "\n",
       "    var toolbar = document.createElement('div');\n",
       "    toolbar.classList = 'mpl-toolbar';\n",
       "    this.root.appendChild(toolbar);\n",
       "\n",
       "    function on_click_closure(name) {\n",
       "        return function (_event) {\n",
       "            return fig.toolbar_button_onclick(name);\n",
       "        };\n",
       "    }\n",
       "\n",
       "    function on_mouseover_closure(tooltip) {\n",
       "        return function (event) {\n",
       "            if (!event.currentTarget.disabled) {\n",
       "                return fig.toolbar_button_onmouseover(tooltip);\n",
       "            }\n",
       "        };\n",
       "    }\n",
       "\n",
       "    fig.buttons = {};\n",
       "    var buttonGroup = document.createElement('div');\n",
       "    buttonGroup.classList = 'mpl-button-group';\n",
       "    for (var toolbar_ind in mpl.toolbar_items) {\n",
       "        var name = mpl.toolbar_items[toolbar_ind][0];\n",
       "        var tooltip = mpl.toolbar_items[toolbar_ind][1];\n",
       "        var image = mpl.toolbar_items[toolbar_ind][2];\n",
       "        var method_name = mpl.toolbar_items[toolbar_ind][3];\n",
       "\n",
       "        if (!name) {\n",
       "            /* Instead of a spacer, we start a new button group. */\n",
       "            if (buttonGroup.hasChildNodes()) {\n",
       "                toolbar.appendChild(buttonGroup);\n",
       "            }\n",
       "            buttonGroup = document.createElement('div');\n",
       "            buttonGroup.classList = 'mpl-button-group';\n",
       "            continue;\n",
       "        }\n",
       "\n",
       "        var button = (fig.buttons[name] = document.createElement('button'));\n",
       "        button.classList = 'mpl-widget';\n",
       "        button.setAttribute('role', 'button');\n",
       "        button.setAttribute('aria-disabled', 'false');\n",
       "        button.addEventListener('click', on_click_closure(method_name));\n",
       "        button.addEventListener('mouseover', on_mouseover_closure(tooltip));\n",
       "\n",
       "        var icon_img = document.createElement('img');\n",
       "        icon_img.src = '_images/' + image + '.png';\n",
       "        icon_img.srcset = '_images/' + image + '_large.png 2x';\n",
       "        icon_img.alt = tooltip;\n",
       "        button.appendChild(icon_img);\n",
       "\n",
       "        buttonGroup.appendChild(button);\n",
       "    }\n",
       "\n",
       "    if (buttonGroup.hasChildNodes()) {\n",
       "        toolbar.appendChild(buttonGroup);\n",
       "    }\n",
       "\n",
       "    var fmt_picker = document.createElement('select');\n",
       "    fmt_picker.classList = 'mpl-widget';\n",
       "    toolbar.appendChild(fmt_picker);\n",
       "    this.format_dropdown = fmt_picker;\n",
       "\n",
       "    for (var ind in mpl.extensions) {\n",
       "        var fmt = mpl.extensions[ind];\n",
       "        var option = document.createElement('option');\n",
       "        option.selected = fmt === mpl.default_extension;\n",
       "        option.innerHTML = fmt;\n",
       "        fmt_picker.appendChild(option);\n",
       "    }\n",
       "\n",
       "    var status_bar = document.createElement('span');\n",
       "    status_bar.classList = 'mpl-message';\n",
       "    toolbar.appendChild(status_bar);\n",
       "    this.message = status_bar;\n",
       "};\n",
       "\n",
       "mpl.figure.prototype.request_resize = function (x_pixels, y_pixels) {\n",
       "    // Request matplotlib to resize the figure. Matplotlib will then trigger a resize in the client,\n",
       "    // which will in turn request a refresh of the image.\n",
       "    this.send_message('resize', { width: x_pixels, height: y_pixels });\n",
       "};\n",
       "\n",
       "mpl.figure.prototype.send_message = function (type, properties) {\n",
       "    properties['type'] = type;\n",
       "    properties['figure_id'] = this.id;\n",
       "    this.ws.send(JSON.stringify(properties));\n",
       "};\n",
       "\n",
       "mpl.figure.prototype.send_draw_message = function () {\n",
       "    if (!this.waiting) {\n",
       "        this.waiting = true;\n",
       "        this.ws.send(JSON.stringify({ type: 'draw', figure_id: this.id }));\n",
       "    }\n",
       "};\n",
       "\n",
       "mpl.figure.prototype.handle_save = function (fig, _msg) {\n",
       "    var format_dropdown = fig.format_dropdown;\n",
       "    var format = format_dropdown.options[format_dropdown.selectedIndex].value;\n",
       "    fig.ondownload(fig, format);\n",
       "};\n",
       "\n",
       "mpl.figure.prototype.handle_resize = function (fig, msg) {\n",
       "    var size = msg['size'];\n",
       "    if (size[0] !== fig.canvas.width || size[1] !== fig.canvas.height) {\n",
       "        fig._resize_canvas(size[0], size[1], msg['forward']);\n",
       "        fig.send_message('refresh', {});\n",
       "    }\n",
       "};\n",
       "\n",
       "mpl.figure.prototype.handle_rubberband = function (fig, msg) {\n",
       "    var x0 = msg['x0'] / fig.ratio;\n",
       "    var y0 = (fig.canvas.height - msg['y0']) / fig.ratio;\n",
       "    var x1 = msg['x1'] / fig.ratio;\n",
       "    var y1 = (fig.canvas.height - msg['y1']) / fig.ratio;\n",
       "    x0 = Math.floor(x0) + 0.5;\n",
       "    y0 = Math.floor(y0) + 0.5;\n",
       "    x1 = Math.floor(x1) + 0.5;\n",
       "    y1 = Math.floor(y1) + 0.5;\n",
       "    var min_x = Math.min(x0, x1);\n",
       "    var min_y = Math.min(y0, y1);\n",
       "    var width = Math.abs(x1 - x0);\n",
       "    var height = Math.abs(y1 - y0);\n",
       "\n",
       "    fig.rubberband_context.clearRect(\n",
       "        0,\n",
       "        0,\n",
       "        fig.canvas.width / fig.ratio,\n",
       "        fig.canvas.height / fig.ratio\n",
       "    );\n",
       "\n",
       "    fig.rubberband_context.strokeRect(min_x, min_y, width, height);\n",
       "};\n",
       "\n",
       "mpl.figure.prototype.handle_figure_label = function (fig, msg) {\n",
       "    // Updates the figure title.\n",
       "    fig.header.textContent = msg['label'];\n",
       "};\n",
       "\n",
       "mpl.figure.prototype.handle_cursor = function (fig, msg) {\n",
       "    var cursor = msg['cursor'];\n",
       "    switch (cursor) {\n",
       "        case 0:\n",
       "            cursor = 'pointer';\n",
       "            break;\n",
       "        case 1:\n",
       "            cursor = 'default';\n",
       "            break;\n",
       "        case 2:\n",
       "            cursor = 'crosshair';\n",
       "            break;\n",
       "        case 3:\n",
       "            cursor = 'move';\n",
       "            break;\n",
       "    }\n",
       "    fig.rubberband_canvas.style.cursor = cursor;\n",
       "};\n",
       "\n",
       "mpl.figure.prototype.handle_message = function (fig, msg) {\n",
       "    fig.message.textContent = msg['message'];\n",
       "};\n",
       "\n",
       "mpl.figure.prototype.handle_draw = function (fig, _msg) {\n",
       "    // Request the server to send over a new figure.\n",
       "    fig.send_draw_message();\n",
       "};\n",
       "\n",
       "mpl.figure.prototype.handle_image_mode = function (fig, msg) {\n",
       "    fig.image_mode = msg['mode'];\n",
       "};\n",
       "\n",
       "mpl.figure.prototype.handle_history_buttons = function (fig, msg) {\n",
       "    for (var key in msg) {\n",
       "        if (!(key in fig.buttons)) {\n",
       "            continue;\n",
       "        }\n",
       "        fig.buttons[key].disabled = !msg[key];\n",
       "        fig.buttons[key].setAttribute('aria-disabled', !msg[key]);\n",
       "    }\n",
       "};\n",
       "\n",
       "mpl.figure.prototype.handle_navigate_mode = function (fig, msg) {\n",
       "    if (msg['mode'] === 'PAN') {\n",
       "        fig.buttons['Pan'].classList.add('active');\n",
       "        fig.buttons['Zoom'].classList.remove('active');\n",
       "    } else if (msg['mode'] === 'ZOOM') {\n",
       "        fig.buttons['Pan'].classList.remove('active');\n",
       "        fig.buttons['Zoom'].classList.add('active');\n",
       "    } else {\n",
       "        fig.buttons['Pan'].classList.remove('active');\n",
       "        fig.buttons['Zoom'].classList.remove('active');\n",
       "    }\n",
       "};\n",
       "\n",
       "mpl.figure.prototype.updated_canvas_event = function () {\n",
       "    // Called whenever the canvas gets updated.\n",
       "    this.send_message('ack', {});\n",
       "};\n",
       "\n",
       "// A function to construct a web socket function for onmessage handling.\n",
       "// Called in the figure constructor.\n",
       "mpl.figure.prototype._make_on_message_function = function (fig) {\n",
       "    return function socket_on_message(evt) {\n",
       "        if (evt.data instanceof Blob) {\n",
       "            /* FIXME: We get \"Resource interpreted as Image but\n",
       "             * transferred with MIME type text/plain:\" errors on\n",
       "             * Chrome.  But how to set the MIME type?  It doesn't seem\n",
       "             * to be part of the websocket stream */\n",
       "            evt.data.type = 'image/png';\n",
       "\n",
       "            /* Free the memory for the previous frames */\n",
       "            if (fig.imageObj.src) {\n",
       "                (window.URL || window.webkitURL).revokeObjectURL(\n",
       "                    fig.imageObj.src\n",
       "                );\n",
       "            }\n",
       "\n",
       "            fig.imageObj.src = (window.URL || window.webkitURL).createObjectURL(\n",
       "                evt.data\n",
       "            );\n",
       "            fig.updated_canvas_event();\n",
       "            fig.waiting = false;\n",
       "            return;\n",
       "        } else if (\n",
       "            typeof evt.data === 'string' &&\n",
       "            evt.data.slice(0, 21) === 'data:image/png;base64'\n",
       "        ) {\n",
       "            fig.imageObj.src = evt.data;\n",
       "            fig.updated_canvas_event();\n",
       "            fig.waiting = false;\n",
       "            return;\n",
       "        }\n",
       "\n",
       "        var msg = JSON.parse(evt.data);\n",
       "        var msg_type = msg['type'];\n",
       "\n",
       "        // Call the  \"handle_{type}\" callback, which takes\n",
       "        // the figure and JSON message as its only arguments.\n",
       "        try {\n",
       "            var callback = fig['handle_' + msg_type];\n",
       "        } catch (e) {\n",
       "            console.log(\n",
       "                \"No handler for the '\" + msg_type + \"' message type: \",\n",
       "                msg\n",
       "            );\n",
       "            return;\n",
       "        }\n",
       "\n",
       "        if (callback) {\n",
       "            try {\n",
       "                // console.log(\"Handling '\" + msg_type + \"' message: \", msg);\n",
       "                callback(fig, msg);\n",
       "            } catch (e) {\n",
       "                console.log(\n",
       "                    \"Exception inside the 'handler_\" + msg_type + \"' callback:\",\n",
       "                    e,\n",
       "                    e.stack,\n",
       "                    msg\n",
       "                );\n",
       "            }\n",
       "        }\n",
       "    };\n",
       "};\n",
       "\n",
       "// from http://stackoverflow.com/questions/1114465/getting-mouse-location-in-canvas\n",
       "mpl.findpos = function (e) {\n",
       "    //this section is from http://www.quirksmode.org/js/events_properties.html\n",
       "    var targ;\n",
       "    if (!e) {\n",
       "        e = window.event;\n",
       "    }\n",
       "    if (e.target) {\n",
       "        targ = e.target;\n",
       "    } else if (e.srcElement) {\n",
       "        targ = e.srcElement;\n",
       "    }\n",
       "    if (targ.nodeType === 3) {\n",
       "        // defeat Safari bug\n",
       "        targ = targ.parentNode;\n",
       "    }\n",
       "\n",
       "    // pageX,Y are the mouse positions relative to the document\n",
       "    var boundingRect = targ.getBoundingClientRect();\n",
       "    var x = e.pageX - (boundingRect.left + document.body.scrollLeft);\n",
       "    var y = e.pageY - (boundingRect.top + document.body.scrollTop);\n",
       "\n",
       "    return { x: x, y: y };\n",
       "};\n",
       "\n",
       "/*\n",
       " * return a copy of an object with only non-object keys\n",
       " * we need this to avoid circular references\n",
       " * http://stackoverflow.com/a/24161582/3208463\n",
       " */\n",
       "function simpleKeys(original) {\n",
       "    return Object.keys(original).reduce(function (obj, key) {\n",
       "        if (typeof original[key] !== 'object') {\n",
       "            obj[key] = original[key];\n",
       "        }\n",
       "        return obj;\n",
       "    }, {});\n",
       "}\n",
       "\n",
       "mpl.figure.prototype.mouse_event = function (event, name) {\n",
       "    var canvas_pos = mpl.findpos(event);\n",
       "\n",
       "    if (name === 'button_press') {\n",
       "        this.canvas.focus();\n",
       "        this.canvas_div.focus();\n",
       "    }\n",
       "\n",
       "    var x = canvas_pos.x * this.ratio;\n",
       "    var y = canvas_pos.y * this.ratio;\n",
       "\n",
       "    this.send_message(name, {\n",
       "        x: x,\n",
       "        y: y,\n",
       "        button: event.button,\n",
       "        step: event.step,\n",
       "        guiEvent: simpleKeys(event),\n",
       "    });\n",
       "\n",
       "    /* This prevents the web browser from automatically changing to\n",
       "     * the text insertion cursor when the button is pressed.  We want\n",
       "     * to control all of the cursor setting manually through the\n",
       "     * 'cursor' event from matplotlib */\n",
       "    event.preventDefault();\n",
       "    return false;\n",
       "};\n",
       "\n",
       "mpl.figure.prototype._key_event_extra = function (_event, _name) {\n",
       "    // Handle any extra behaviour associated with a key event\n",
       "};\n",
       "\n",
       "mpl.figure.prototype.key_event = function (event, name) {\n",
       "    // Prevent repeat events\n",
       "    if (name === 'key_press') {\n",
       "        if (event.which === this._key) {\n",
       "            return;\n",
       "        } else {\n",
       "            this._key = event.which;\n",
       "        }\n",
       "    }\n",
       "    if (name === 'key_release') {\n",
       "        this._key = null;\n",
       "    }\n",
       "\n",
       "    var value = '';\n",
       "    if (event.ctrlKey && event.which !== 17) {\n",
       "        value += 'ctrl+';\n",
       "    }\n",
       "    if (event.altKey && event.which !== 18) {\n",
       "        value += 'alt+';\n",
       "    }\n",
       "    if (event.shiftKey && event.which !== 16) {\n",
       "        value += 'shift+';\n",
       "    }\n",
       "\n",
       "    value += 'k';\n",
       "    value += event.which.toString();\n",
       "\n",
       "    this._key_event_extra(event, name);\n",
       "\n",
       "    this.send_message(name, { key: value, guiEvent: simpleKeys(event) });\n",
       "    return false;\n",
       "};\n",
       "\n",
       "mpl.figure.prototype.toolbar_button_onclick = function (name) {\n",
       "    if (name === 'download') {\n",
       "        this.handle_save(this, null);\n",
       "    } else {\n",
       "        this.send_message('toolbar_button', { name: name });\n",
       "    }\n",
       "};\n",
       "\n",
       "mpl.figure.prototype.toolbar_button_onmouseover = function (tooltip) {\n",
       "    this.message.textContent = tooltip;\n",
       "};\n",
       "\n",
       "///////////////// REMAINING CONTENT GENERATED BY embed_js.py /////////////////\n",
       "// prettier-ignore\n",
       "var _JSXTOOLS_RESIZE_OBSERVER=function(A){var t,i=new WeakMap,n=new WeakMap,a=new WeakMap,r=new WeakMap,o=new Set;function s(e){if(!(this instanceof s))throw new TypeError(\"Constructor requires 'new' operator\");i.set(this,e)}function h(){throw new TypeError(\"Function is not a constructor\")}function c(e,t,i,n){e=0 in arguments?Number(arguments[0]):0,t=1 in arguments?Number(arguments[1]):0,i=2 in arguments?Number(arguments[2]):0,n=3 in arguments?Number(arguments[3]):0,this.right=(this.x=this.left=e)+(this.width=i),this.bottom=(this.y=this.top=t)+(this.height=n),Object.freeze(this)}function d(){t=requestAnimationFrame(d);var s=new WeakMap,p=new Set;o.forEach((function(t){r.get(t).forEach((function(i){var r=t instanceof window.SVGElement,o=a.get(t),d=r?0:parseFloat(o.paddingTop),f=r?0:parseFloat(o.paddingRight),l=r?0:parseFloat(o.paddingBottom),u=r?0:parseFloat(o.paddingLeft),g=r?0:parseFloat(o.borderTopWidth),m=r?0:parseFloat(o.borderRightWidth),w=r?0:parseFloat(o.borderBottomWidth),b=u+f,F=d+l,v=(r?0:parseFloat(o.borderLeftWidth))+m,W=g+w,y=r?0:t.offsetHeight-W-t.clientHeight,E=r?0:t.offsetWidth-v-t.clientWidth,R=b+v,z=F+W,M=r?t.width:parseFloat(o.width)-R-E,O=r?t.height:parseFloat(o.height)-z-y;if(n.has(t)){var k=n.get(t);if(k[0]===M&&k[1]===O)return}n.set(t,[M,O]);var S=Object.create(h.prototype);S.target=t,S.contentRect=new c(u,d,M,O),s.has(i)||(s.set(i,[]),p.add(i)),s.get(i).push(S)}))})),p.forEach((function(e){i.get(e).call(e,s.get(e),e)}))}return s.prototype.observe=function(i){if(i instanceof window.Element){r.has(i)||(r.set(i,new Set),o.add(i),a.set(i,window.getComputedStyle(i)));var n=r.get(i);n.has(this)||n.add(this),cancelAnimationFrame(t),t=requestAnimationFrame(d)}},s.prototype.unobserve=function(i){if(i instanceof window.Element&&r.has(i)){var n=r.get(i);n.has(this)&&(n.delete(this),n.size||(r.delete(i),o.delete(i))),n.size||r.delete(i),o.size||cancelAnimationFrame(t)}},A.DOMRectReadOnly=c,A.ResizeObserver=s,A.ResizeObserverEntry=h,A}; // eslint-disable-line\n",
       "mpl.toolbar_items = [[\"Home\", \"Reset original view\", \"fa fa-home icon-home\", \"home\"], [\"Back\", \"Back to previous view\", \"fa fa-arrow-left icon-arrow-left\", \"back\"], [\"Forward\", \"Forward to next view\", \"fa fa-arrow-right icon-arrow-right\", \"forward\"], [\"\", \"\", \"\", \"\"], [\"Pan\", \"Left button pans, Right button zooms\\nx/y fixes axis, CTRL fixes aspect\", \"fa fa-arrows icon-move\", \"pan\"], [\"Zoom\", \"Zoom to rectangle\\nx/y fixes axis, CTRL fixes aspect\", \"fa fa-square-o icon-check-empty\", \"zoom\"], [\"\", \"\", \"\", \"\"], [\"Download\", \"Download plot\", \"fa fa-floppy-o icon-save\", \"download\"]];\n",
       "\n",
       "mpl.extensions = [\"eps\", \"jpeg\", \"pdf\", \"png\", \"ps\", \"raw\", \"svg\", \"tif\"];\n",
       "\n",
       "mpl.default_extension = \"png\";/* global mpl */\n",
       "\n",
       "var comm_websocket_adapter = function (comm) {\n",
       "    // Create a \"websocket\"-like object which calls the given IPython comm\n",
       "    // object with the appropriate methods. Currently this is a non binary\n",
       "    // socket, so there is still some room for performance tuning.\n",
       "    var ws = {};\n",
       "\n",
       "    ws.close = function () {\n",
       "        comm.close();\n",
       "    };\n",
       "    ws.send = function (m) {\n",
       "        //console.log('sending', m);\n",
       "        comm.send(m);\n",
       "    };\n",
       "    // Register the callback with on_msg.\n",
       "    comm.on_msg(function (msg) {\n",
       "        //console.log('receiving', msg['content']['data'], msg);\n",
       "        // Pass the mpl event to the overridden (by mpl) onmessage function.\n",
       "        ws.onmessage(msg['content']['data']);\n",
       "    });\n",
       "    return ws;\n",
       "};\n",
       "\n",
       "mpl.mpl_figure_comm = function (comm, msg) {\n",
       "    // This is the function which gets called when the mpl process\n",
       "    // starts-up an IPython Comm through the \"matplotlib\" channel.\n",
       "\n",
       "    var id = msg.content.data.id;\n",
       "    // Get hold of the div created by the display call when the Comm\n",
       "    // socket was opened in Python.\n",
       "    var element = document.getElementById(id);\n",
       "    var ws_proxy = comm_websocket_adapter(comm);\n",
       "\n",
       "    function ondownload(figure, _format) {\n",
       "        window.open(figure.canvas.toDataURL());\n",
       "    }\n",
       "\n",
       "    var fig = new mpl.figure(id, ws_proxy, ondownload, element);\n",
       "\n",
       "    // Call onopen now - mpl needs it, as it is assuming we've passed it a real\n",
       "    // web socket which is closed, not our websocket->open comm proxy.\n",
       "    ws_proxy.onopen();\n",
       "\n",
       "    fig.parent_element = element;\n",
       "    fig.cell_info = mpl.find_output_cell(\"<div id='\" + id + \"'></div>\");\n",
       "    if (!fig.cell_info) {\n",
       "        console.error('Failed to find cell for figure', id, fig);\n",
       "        return;\n",
       "    }\n",
       "    fig.cell_info[0].output_area.element.on(\n",
       "        'cleared',\n",
       "        { fig: fig },\n",
       "        fig._remove_fig_handler\n",
       "    );\n",
       "};\n",
       "\n",
       "mpl.figure.prototype.handle_close = function (fig, msg) {\n",
       "    var width = fig.canvas.width / fig.ratio;\n",
       "    fig.cell_info[0].output_area.element.off(\n",
       "        'cleared',\n",
       "        fig._remove_fig_handler\n",
       "    );\n",
       "    fig.resizeObserverInstance.unobserve(fig.canvas_div);\n",
       "\n",
       "    // Update the output cell to use the data from the current canvas.\n",
       "    fig.push_to_output();\n",
       "    var dataURL = fig.canvas.toDataURL();\n",
       "    // Re-enable the keyboard manager in IPython - without this line, in FF,\n",
       "    // the notebook keyboard shortcuts fail.\n",
       "    IPython.keyboard_manager.enable();\n",
       "    fig.parent_element.innerHTML =\n",
       "        '<img src=\"' + dataURL + '\" width=\"' + width + '\">';\n",
       "    fig.close_ws(fig, msg);\n",
       "};\n",
       "\n",
       "mpl.figure.prototype.close_ws = function (fig, msg) {\n",
       "    fig.send_message('closing', msg);\n",
       "    // fig.ws.close()\n",
       "};\n",
       "\n",
       "mpl.figure.prototype.push_to_output = function (_remove_interactive) {\n",
       "    // Turn the data on the canvas into data in the output cell.\n",
       "    var width = this.canvas.width / this.ratio;\n",
       "    var dataURL = this.canvas.toDataURL();\n",
       "    this.cell_info[1]['text/html'] =\n",
       "        '<img src=\"' + dataURL + '\" width=\"' + width + '\">';\n",
       "};\n",
       "\n",
       "mpl.figure.prototype.updated_canvas_event = function () {\n",
       "    // Tell IPython that the notebook contents must change.\n",
       "    IPython.notebook.set_dirty(true);\n",
       "    this.send_message('ack', {});\n",
       "    var fig = this;\n",
       "    // Wait a second, then push the new image to the DOM so\n",
       "    // that it is saved nicely (might be nice to debounce this).\n",
       "    setTimeout(function () {\n",
       "        fig.push_to_output();\n",
       "    }, 1000);\n",
       "};\n",
       "\n",
       "mpl.figure.prototype._init_toolbar = function () {\n",
       "    var fig = this;\n",
       "\n",
       "    var toolbar = document.createElement('div');\n",
       "    toolbar.classList = 'btn-toolbar';\n",
       "    this.root.appendChild(toolbar);\n",
       "\n",
       "    function on_click_closure(name) {\n",
       "        return function (_event) {\n",
       "            return fig.toolbar_button_onclick(name);\n",
       "        };\n",
       "    }\n",
       "\n",
       "    function on_mouseover_closure(tooltip) {\n",
       "        return function (event) {\n",
       "            if (!event.currentTarget.disabled) {\n",
       "                return fig.toolbar_button_onmouseover(tooltip);\n",
       "            }\n",
       "        };\n",
       "    }\n",
       "\n",
       "    fig.buttons = {};\n",
       "    var buttonGroup = document.createElement('div');\n",
       "    buttonGroup.classList = 'btn-group';\n",
       "    var button;\n",
       "    for (var toolbar_ind in mpl.toolbar_items) {\n",
       "        var name = mpl.toolbar_items[toolbar_ind][0];\n",
       "        var tooltip = mpl.toolbar_items[toolbar_ind][1];\n",
       "        var image = mpl.toolbar_items[toolbar_ind][2];\n",
       "        var method_name = mpl.toolbar_items[toolbar_ind][3];\n",
       "\n",
       "        if (!name) {\n",
       "            /* Instead of a spacer, we start a new button group. */\n",
       "            if (buttonGroup.hasChildNodes()) {\n",
       "                toolbar.appendChild(buttonGroup);\n",
       "            }\n",
       "            buttonGroup = document.createElement('div');\n",
       "            buttonGroup.classList = 'btn-group';\n",
       "            continue;\n",
       "        }\n",
       "\n",
       "        button = fig.buttons[name] = document.createElement('button');\n",
       "        button.classList = 'btn btn-default';\n",
       "        button.href = '#';\n",
       "        button.title = name;\n",
       "        button.innerHTML = '<i class=\"fa ' + image + ' fa-lg\"></i>';\n",
       "        button.addEventListener('click', on_click_closure(method_name));\n",
       "        button.addEventListener('mouseover', on_mouseover_closure(tooltip));\n",
       "        buttonGroup.appendChild(button);\n",
       "    }\n",
       "\n",
       "    if (buttonGroup.hasChildNodes()) {\n",
       "        toolbar.appendChild(buttonGroup);\n",
       "    }\n",
       "\n",
       "    // Add the status bar.\n",
       "    var status_bar = document.createElement('span');\n",
       "    status_bar.classList = 'mpl-message pull-right';\n",
       "    toolbar.appendChild(status_bar);\n",
       "    this.message = status_bar;\n",
       "\n",
       "    // Add the close button to the window.\n",
       "    var buttongrp = document.createElement('div');\n",
       "    buttongrp.classList = 'btn-group inline pull-right';\n",
       "    button = document.createElement('button');\n",
       "    button.classList = 'btn btn-mini btn-primary';\n",
       "    button.href = '#';\n",
       "    button.title = 'Stop Interaction';\n",
       "    button.innerHTML = '<i class=\"fa fa-power-off icon-remove icon-large\"></i>';\n",
       "    button.addEventListener('click', function (_evt) {\n",
       "        fig.handle_close(fig, {});\n",
       "    });\n",
       "    button.addEventListener(\n",
       "        'mouseover',\n",
       "        on_mouseover_closure('Stop Interaction')\n",
       "    );\n",
       "    buttongrp.appendChild(button);\n",
       "    var titlebar = this.root.querySelector('.ui-dialog-titlebar');\n",
       "    titlebar.insertBefore(buttongrp, titlebar.firstChild);\n",
       "};\n",
       "\n",
       "mpl.figure.prototype._remove_fig_handler = function (event) {\n",
       "    var fig = event.data.fig;\n",
       "    if (event.target !== this) {\n",
       "        // Ignore bubbled events from children.\n",
       "        return;\n",
       "    }\n",
       "    fig.close_ws(fig, {});\n",
       "};\n",
       "\n",
       "mpl.figure.prototype._root_extra_style = function (el) {\n",
       "    el.style.boxSizing = 'content-box'; // override notebook setting of border-box.\n",
       "};\n",
       "\n",
       "mpl.figure.prototype._canvas_extra_style = function (el) {\n",
       "    // this is important to make the div 'focusable\n",
       "    el.setAttribute('tabindex', 0);\n",
       "    // reach out to IPython and tell the keyboard manager to turn it's self\n",
       "    // off when our div gets focus\n",
       "\n",
       "    // location in version 3\n",
       "    if (IPython.notebook.keyboard_manager) {\n",
       "        IPython.notebook.keyboard_manager.register_events(el);\n",
       "    } else {\n",
       "        // location in version 2\n",
       "        IPython.keyboard_manager.register_events(el);\n",
       "    }\n",
       "};\n",
       "\n",
       "mpl.figure.prototype._key_event_extra = function (event, _name) {\n",
       "    var manager = IPython.notebook.keyboard_manager;\n",
       "    if (!manager) {\n",
       "        manager = IPython.keyboard_manager;\n",
       "    }\n",
       "\n",
       "    // Check for shift+enter\n",
       "    if (event.shiftKey && event.which === 13) {\n",
       "        this.canvas_div.blur();\n",
       "        // select the cell after this one\n",
       "        var index = IPython.notebook.find_cell_index(this.cell_info[0]);\n",
       "        IPython.notebook.select(index + 1);\n",
       "    }\n",
       "};\n",
       "\n",
       "mpl.figure.prototype.handle_save = function (fig, _msg) {\n",
       "    fig.ondownload(fig, null);\n",
       "};\n",
       "\n",
       "mpl.find_output_cell = function (html_output) {\n",
       "    // Return the cell and output element which can be found *uniquely* in the notebook.\n",
       "    // Note - this is a bit hacky, but it is done because the \"notebook_saving.Notebook\"\n",
       "    // IPython event is triggered only after the cells have been serialised, which for\n",
       "    // our purposes (turning an active figure into a static one), is too late.\n",
       "    var cells = IPython.notebook.get_cells();\n",
       "    var ncells = cells.length;\n",
       "    for (var i = 0; i < ncells; i++) {\n",
       "        var cell = cells[i];\n",
       "        if (cell.cell_type === 'code') {\n",
       "            for (var j = 0; j < cell.output_area.outputs.length; j++) {\n",
       "                var data = cell.output_area.outputs[j];\n",
       "                if (data.data) {\n",
       "                    // IPython >= 3 moved mimebundle to data attribute of output\n",
       "                    data = data.data;\n",
       "                }\n",
       "                if (data['text/html'] === html_output) {\n",
       "                    return [cell, data, j];\n",
       "                }\n",
       "            }\n",
       "        }\n",
       "    }\n",
       "};\n",
       "\n",
       "// Register the function which deals with the matplotlib target/channel.\n",
       "// The kernel may be null if the page has been refreshed.\n",
       "if (IPython.notebook.kernel !== null) {\n",
       "    IPython.notebook.kernel.comm_manager.register_target(\n",
       "        'matplotlib',\n",
       "        mpl.mpl_figure_comm\n",
       "    );\n",
       "}\n"
      ],
      "text/plain": [
       "<IPython.core.display.Javascript object>"
      ]
     },
     "metadata": {},
     "output_type": "display_data"
    },
    {
     "data": {
      "text/html": [
       "<img src=\"data:image/png;base64,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\" width=\"1000\">"
      ],
      "text/plain": [
       "<IPython.core.display.HTML object>"
      ]
     },
     "metadata": {},
     "output_type": "display_data"
    },
    {
     "name": "stdout",
     "output_type": "stream",
     "text": [
      "Range of salinity:  6.5543615588351525 32.93037107935114\n"
     ]
    },
    {
     "name": "stderr",
     "output_type": "stream",
     "text": [
      "/home/rusty/src/stompy/stompy/xr_transect.py:996: UserWarning: No contour levels were found within the data range.\n",
      "  return f(x.values,yvals,scal.values,*args,**kwargs)\n"
     ]
    },
    {
     "data": {
      "text/plain": [
       "<matplotlib.lines.Line2D at 0x7f0e4e620f40>"
      ]
     },
     "execution_count": 36,
     "metadata": {},
     "output_type": "execute_result"
    }
   ],
   "source": [
    "fig=plt.figure(figsize=(10,9))\n",
    "\n",
    "G=gs.GridSpec(1+len(trans),5)\n",
    "\n",
    "axs=[]\n",
    "axv=ax=None\n",
    "axvs=[]\n",
    "for ti,t in enumerate(trans):\n",
    "    ax=fig.add_subplot(G[ti,:-1],sharex=ax,sharey=ax)\n",
    "    axs.append(ax)\n",
    "    axv=fig.add_subplot(G[ti,-1],sharex=axv,sharey=axv)\n",
    "    axvs.append(axv)\n",
    "\n",
    "    \n",
    "top_pos=axs[0].get_position()\n",
    "\n",
    "cax=fig.add_axes( [top_pos.xmin,top_pos.ymax+0.05,0.5*top_pos.width,0.02])\n",
    "    \n",
    "t=np.datetime64(\"2016-09-04T00:00\")\n",
    "#t=np.datetime64(\"2016-06-13T22:00\")\n",
    "#t=np.datetime64(\"2016-06-12T22:00\")\n",
    "dist=475 # pull a profile from here.\n",
    "#dist=185 # just inside mouth\n",
    "\n",
    "V=np.linspace(0,36,37)\n",
    "\n",
    "ttrans=[tran.isel(\n",
    "        time=min(np.searchsorted(tran.time.values,t),\n",
    "                 tran.dims['time']-1) )\n",
    "     for tran in trans]\n",
    "    \n",
    "\n",
    "for ax,tran in zip(axs,ttrans):\n",
    "    xrt.get_d_sample(tran)\n",
    "    cset=xrt.contourf(tran,'salinity',V,ax=ax,cmap=turbo,extend='both')\n",
    "    ax.set_ylabel('z (m)')\n",
    "    xrt.contour(tran,'salinity',np.r_[33.0],ax=ax,colors='k')\n",
    "    print(\"Range of salinity: \",float(tran['salinity'].min()),\n",
    "          float(tran['salinity'].max()))\n",
    "\n",
    "plt.colorbar(cset,cax=cax,label='Salinity',orientation='horizontal')\n",
    "\n",
    "sampxy=None\n",
    "for ax,axv,tran in zip(axs,axvs,ttrans):\n",
    "    txy=np.c_[ tran.x_sample.values, tran.y_sample.values]\n",
    "    if sampxy is None:\n",
    "        samp=np.searchsorted(tran.d_sample.values,dist)\n",
    "        sampxy=txy[samp]\n",
    "    else:\n",
    "        dists=utils.dist(sampxy, txy)\n",
    "        samp=np.argmin(dists)\n",
    "    axv.plot(tran['salinity'].isel(sample=samp),\n",
    "             tran['z_ctr'].isel(sample=samp),\n",
    "             marker='.')\n",
    "    ax.axvline(tran.d_sample.values[samp],ls='--')\n",
    "    ax.text(0.98,0.02,tran.attrs['run_dir'],transform=ax.transAxes,\n",
    "            ha='right')\n",
    "    # ghosted on other axes:\n",
    "    for ax_other in axvs:\n",
    "        if ax_other!=ax:\n",
    "            ax_other.plot(tran['salinity'].isel(sample=samp),\n",
    "                          tran['z_ctr'].isel(sample=samp),\n",
    "                          color='0.75',marker='.',zorder=-1)\n",
    "            \n",
    "\n",
    "axt=fig.add_subplot(G[-1,:])\n",
    "axt.plot( hiss[0].time, hiss[0]['waterlevel'].isel(stations=7),label='NCK waterlevel')\n",
    "\n",
    "for tran in ttrans:\n",
    "    axt.axvline( tran.time.values,color='k')\n",
    "    \n",
    "axt.axvline(t,color='b')"
   ]
  },
  {
   "cell_type": "code",
   "execution_count": 76,
   "metadata": {},
   "outputs": [
    {
     "data": {
      "application/javascript": [
       "/* Put everything inside the global mpl namespace */\n",
       "/* global mpl */\n",
       "window.mpl = {};\n",
       "\n",
       "mpl.get_websocket_type = function () {\n",
       "    if (typeof WebSocket !== 'undefined') {\n",
       "        return WebSocket;\n",
       "    } else if (typeof MozWebSocket !== 'undefined') {\n",
       "        return MozWebSocket;\n",
       "    } else {\n",
       "        alert(\n",
       "            'Your browser does not have WebSocket support. ' +\n",
       "                'Please try Chrome, Safari or Firefox ≥ 6. ' +\n",
       "                'Firefox 4 and 5 are also supported but you ' +\n",
       "                'have to enable WebSockets in about:config.'\n",
       "        );\n",
       "    }\n",
       "};\n",
       "\n",
       "mpl.figure = function (figure_id, websocket, ondownload, parent_element) {\n",
       "    this.id = figure_id;\n",
       "\n",
       "    this.ws = websocket;\n",
       "\n",
       "    this.supports_binary = this.ws.binaryType !== undefined;\n",
       "\n",
       "    if (!this.supports_binary) {\n",
       "        var warnings = document.getElementById('mpl-warnings');\n",
       "        if (warnings) {\n",
       "            warnings.style.display = 'block';\n",
       "            warnings.textContent =\n",
       "                'This browser does not support binary websocket messages. ' +\n",
       "                'Performance may be slow.';\n",
       "        }\n",
       "    }\n",
       "\n",
       "    this.imageObj = new Image();\n",
       "\n",
       "    this.context = undefined;\n",
       "    this.message = undefined;\n",
       "    this.canvas = undefined;\n",
       "    this.rubberband_canvas = undefined;\n",
       "    this.rubberband_context = undefined;\n",
       "    this.format_dropdown = undefined;\n",
       "\n",
       "    this.image_mode = 'full';\n",
       "\n",
       "    this.root = document.createElement('div');\n",
       "    this.root.setAttribute('style', 'display: inline-block');\n",
       "    this._root_extra_style(this.root);\n",
       "\n",
       "    parent_element.appendChild(this.root);\n",
       "\n",
       "    this._init_header(this);\n",
       "    this._init_canvas(this);\n",
       "    this._init_toolbar(this);\n",
       "\n",
       "    var fig = this;\n",
       "\n",
       "    this.waiting = false;\n",
       "\n",
       "    this.ws.onopen = function () {\n",
       "        fig.send_message('supports_binary', { value: fig.supports_binary });\n",
       "        fig.send_message('send_image_mode', {});\n",
       "        if (fig.ratio !== 1) {\n",
       "            fig.send_message('set_dpi_ratio', { dpi_ratio: fig.ratio });\n",
       "        }\n",
       "        fig.send_message('refresh', {});\n",
       "    };\n",
       "\n",
       "    this.imageObj.onload = function () {\n",
       "        if (fig.image_mode === 'full') {\n",
       "            // Full images could contain transparency (where diff images\n",
       "            // almost always do), so we need to clear the canvas so that\n",
       "            // there is no ghosting.\n",
       "            fig.context.clearRect(0, 0, fig.canvas.width, fig.canvas.height);\n",
       "        }\n",
       "        fig.context.drawImage(fig.imageObj, 0, 0);\n",
       "    };\n",
       "\n",
       "    this.imageObj.onunload = function () {\n",
       "        fig.ws.close();\n",
       "    };\n",
       "\n",
       "    this.ws.onmessage = this._make_on_message_function(this);\n",
       "\n",
       "    this.ondownload = ondownload;\n",
       "};\n",
       "\n",
       "mpl.figure.prototype._init_header = function () {\n",
       "    var titlebar = document.createElement('div');\n",
       "    titlebar.classList =\n",
       "        'ui-dialog-titlebar ui-widget-header ui-corner-all ui-helper-clearfix';\n",
       "    var titletext = document.createElement('div');\n",
       "    titletext.classList = 'ui-dialog-title';\n",
       "    titletext.setAttribute(\n",
       "        'style',\n",
       "        'width: 100%; text-align: center; padding: 3px;'\n",
       "    );\n",
       "    titlebar.appendChild(titletext);\n",
       "    this.root.appendChild(titlebar);\n",
       "    this.header = titletext;\n",
       "};\n",
       "\n",
       "mpl.figure.prototype._canvas_extra_style = function (_canvas_div) {};\n",
       "\n",
       "mpl.figure.prototype._root_extra_style = function (_canvas_div) {};\n",
       "\n",
       "mpl.figure.prototype._init_canvas = function () {\n",
       "    var fig = this;\n",
       "\n",
       "    var canvas_div = (this.canvas_div = document.createElement('div'));\n",
       "    canvas_div.setAttribute(\n",
       "        'style',\n",
       "        'border: 1px solid #ddd;' +\n",
       "            'box-sizing: content-box;' +\n",
       "            'clear: both;' +\n",
       "            'min-height: 1px;' +\n",
       "            'min-width: 1px;' +\n",
       "            'outline: 0;' +\n",
       "            'overflow: hidden;' +\n",
       "            'position: relative;' +\n",
       "            'resize: both;'\n",
       "    );\n",
       "\n",
       "    function on_keyboard_event_closure(name) {\n",
       "        return function (event) {\n",
       "            return fig.key_event(event, name);\n",
       "        };\n",
       "    }\n",
       "\n",
       "    canvas_div.addEventListener(\n",
       "        'keydown',\n",
       "        on_keyboard_event_closure('key_press')\n",
       "    );\n",
       "    canvas_div.addEventListener(\n",
       "        'keyup',\n",
       "        on_keyboard_event_closure('key_release')\n",
       "    );\n",
       "\n",
       "    this._canvas_extra_style(canvas_div);\n",
       "    this.root.appendChild(canvas_div);\n",
       "\n",
       "    var canvas = (this.canvas = document.createElement('canvas'));\n",
       "    canvas.classList.add('mpl-canvas');\n",
       "    canvas.setAttribute('style', 'box-sizing: content-box;');\n",
       "\n",
       "    this.context = canvas.getContext('2d');\n",
       "\n",
       "    var backingStore =\n",
       "        this.context.backingStorePixelRatio ||\n",
       "        this.context.webkitBackingStorePixelRatio ||\n",
       "        this.context.mozBackingStorePixelRatio ||\n",
       "        this.context.msBackingStorePixelRatio ||\n",
       "        this.context.oBackingStorePixelRatio ||\n",
       "        this.context.backingStorePixelRatio ||\n",
       "        1;\n",
       "\n",
       "    this.ratio = (window.devicePixelRatio || 1) / backingStore;\n",
       "\n",
       "    var rubberband_canvas = (this.rubberband_canvas = document.createElement(\n",
       "        'canvas'\n",
       "    ));\n",
       "    rubberband_canvas.setAttribute(\n",
       "        'style',\n",
       "        'box-sizing: content-box; position: absolute; left: 0; top: 0; z-index: 1;'\n",
       "    );\n",
       "\n",
       "    // Apply a ponyfill if ResizeObserver is not implemented by browser.\n",
       "    if (this.ResizeObserver === undefined) {\n",
       "        if (window.ResizeObserver !== undefined) {\n",
       "            this.ResizeObserver = window.ResizeObserver;\n",
       "        } else {\n",
       "            var obs = _JSXTOOLS_RESIZE_OBSERVER({});\n",
       "            this.ResizeObserver = obs.ResizeObserver;\n",
       "        }\n",
       "    }\n",
       "\n",
       "    this.resizeObserverInstance = new this.ResizeObserver(function (entries) {\n",
       "        var nentries = entries.length;\n",
       "        for (var i = 0; i < nentries; i++) {\n",
       "            var entry = entries[i];\n",
       "            var width, height;\n",
       "            if (entry.contentBoxSize) {\n",
       "                if (entry.contentBoxSize instanceof Array) {\n",
       "                    // Chrome 84 implements new version of spec.\n",
       "                    width = entry.contentBoxSize[0].inlineSize;\n",
       "                    height = entry.contentBoxSize[0].blockSize;\n",
       "                } else {\n",
       "                    // Firefox implements old version of spec.\n",
       "                    width = entry.contentBoxSize.inlineSize;\n",
       "                    height = entry.contentBoxSize.blockSize;\n",
       "                }\n",
       "            } else {\n",
       "                // Chrome <84 implements even older version of spec.\n",
       "                width = entry.contentRect.width;\n",
       "                height = entry.contentRect.height;\n",
       "            }\n",
       "\n",
       "            // Keep the size of the canvas and rubber band canvas in sync with\n",
       "            // the canvas container.\n",
       "            if (entry.devicePixelContentBoxSize) {\n",
       "                // Chrome 84 implements new version of spec.\n",
       "                canvas.setAttribute(\n",
       "                    'width',\n",
       "                    entry.devicePixelContentBoxSize[0].inlineSize\n",
       "                );\n",
       "                canvas.setAttribute(\n",
       "                    'height',\n",
       "                    entry.devicePixelContentBoxSize[0].blockSize\n",
       "                );\n",
       "            } else {\n",
       "                canvas.setAttribute('width', width * fig.ratio);\n",
       "                canvas.setAttribute('height', height * fig.ratio);\n",
       "            }\n",
       "            canvas.setAttribute(\n",
       "                'style',\n",
       "                'width: ' + width + 'px; height: ' + height + 'px;'\n",
       "            );\n",
       "\n",
       "            rubberband_canvas.setAttribute('width', width);\n",
       "            rubberband_canvas.setAttribute('height', height);\n",
       "\n",
       "            // And update the size in Python. We ignore the initial 0/0 size\n",
       "            // that occurs as the element is placed into the DOM, which should\n",
       "            // otherwise not happen due to the minimum size styling.\n",
       "            if (fig.ws.readyState == 1 && width != 0 && height != 0) {\n",
       "                fig.request_resize(width, height);\n",
       "            }\n",
       "        }\n",
       "    });\n",
       "    this.resizeObserverInstance.observe(canvas_div);\n",
       "\n",
       "    function on_mouse_event_closure(name) {\n",
       "        return function (event) {\n",
       "            return fig.mouse_event(event, name);\n",
       "        };\n",
       "    }\n",
       "\n",
       "    rubberband_canvas.addEventListener(\n",
       "        'mousedown',\n",
       "        on_mouse_event_closure('button_press')\n",
       "    );\n",
       "    rubberband_canvas.addEventListener(\n",
       "        'mouseup',\n",
       "        on_mouse_event_closure('button_release')\n",
       "    );\n",
       "    rubberband_canvas.addEventListener(\n",
       "        'dblclick',\n",
       "        on_mouse_event_closure('dblclick')\n",
       "    );\n",
       "    // Throttle sequential mouse events to 1 every 20ms.\n",
       "    rubberband_canvas.addEventListener(\n",
       "        'mousemove',\n",
       "        on_mouse_event_closure('motion_notify')\n",
       "    );\n",
       "\n",
       "    rubberband_canvas.addEventListener(\n",
       "        'mouseenter',\n",
       "        on_mouse_event_closure('figure_enter')\n",
       "    );\n",
       "    rubberband_canvas.addEventListener(\n",
       "        'mouseleave',\n",
       "        on_mouse_event_closure('figure_leave')\n",
       "    );\n",
       "\n",
       "    canvas_div.addEventListener('wheel', function (event) {\n",
       "        if (event.deltaY < 0) {\n",
       "            event.step = 1;\n",
       "        } else {\n",
       "            event.step = -1;\n",
       "        }\n",
       "        on_mouse_event_closure('scroll')(event);\n",
       "    });\n",
       "\n",
       "    canvas_div.appendChild(canvas);\n",
       "    canvas_div.appendChild(rubberband_canvas);\n",
       "\n",
       "    this.rubberband_context = rubberband_canvas.getContext('2d');\n",
       "    this.rubberband_context.strokeStyle = '#000000';\n",
       "\n",
       "    this._resize_canvas = function (width, height, forward) {\n",
       "        if (forward) {\n",
       "            canvas_div.style.width = width + 'px';\n",
       "            canvas_div.style.height = height + 'px';\n",
       "        }\n",
       "    };\n",
       "\n",
       "    // Disable right mouse context menu.\n",
       "    this.rubberband_canvas.addEventListener('contextmenu', function (_e) {\n",
       "        event.preventDefault();\n",
       "        return false;\n",
       "    });\n",
       "\n",
       "    function set_focus() {\n",
       "        canvas.focus();\n",
       "        canvas_div.focus();\n",
       "    }\n",
       "\n",
       "    window.setTimeout(set_focus, 100);\n",
       "};\n",
       "\n",
       "mpl.figure.prototype._init_toolbar = function () {\n",
       "    var fig = this;\n",
       "\n",
       "    var toolbar = document.createElement('div');\n",
       "    toolbar.classList = 'mpl-toolbar';\n",
       "    this.root.appendChild(toolbar);\n",
       "\n",
       "    function on_click_closure(name) {\n",
       "        return function (_event) {\n",
       "            return fig.toolbar_button_onclick(name);\n",
       "        };\n",
       "    }\n",
       "\n",
       "    function on_mouseover_closure(tooltip) {\n",
       "        return function (event) {\n",
       "            if (!event.currentTarget.disabled) {\n",
       "                return fig.toolbar_button_onmouseover(tooltip);\n",
       "            }\n",
       "        };\n",
       "    }\n",
       "\n",
       "    fig.buttons = {};\n",
       "    var buttonGroup = document.createElement('div');\n",
       "    buttonGroup.classList = 'mpl-button-group';\n",
       "    for (var toolbar_ind in mpl.toolbar_items) {\n",
       "        var name = mpl.toolbar_items[toolbar_ind][0];\n",
       "        var tooltip = mpl.toolbar_items[toolbar_ind][1];\n",
       "        var image = mpl.toolbar_items[toolbar_ind][2];\n",
       "        var method_name = mpl.toolbar_items[toolbar_ind][3];\n",
       "\n",
       "        if (!name) {\n",
       "            /* Instead of a spacer, we start a new button group. */\n",
       "            if (buttonGroup.hasChildNodes()) {\n",
       "                toolbar.appendChild(buttonGroup);\n",
       "            }\n",
       "            buttonGroup = document.createElement('div');\n",
       "            buttonGroup.classList = 'mpl-button-group';\n",
       "            continue;\n",
       "        }\n",
       "\n",
       "        var button = (fig.buttons[name] = document.createElement('button'));\n",
       "        button.classList = 'mpl-widget';\n",
       "        button.setAttribute('role', 'button');\n",
       "        button.setAttribute('aria-disabled', 'false');\n",
       "        button.addEventListener('click', on_click_closure(method_name));\n",
       "        button.addEventListener('mouseover', on_mouseover_closure(tooltip));\n",
       "\n",
       "        var icon_img = document.createElement('img');\n",
       "        icon_img.src = '_images/' + image + '.png';\n",
       "        icon_img.srcset = '_images/' + image + '_large.png 2x';\n",
       "        icon_img.alt = tooltip;\n",
       "        button.appendChild(icon_img);\n",
       "\n",
       "        buttonGroup.appendChild(button);\n",
       "    }\n",
       "\n",
       "    if (buttonGroup.hasChildNodes()) {\n",
       "        toolbar.appendChild(buttonGroup);\n",
       "    }\n",
       "\n",
       "    var fmt_picker = document.createElement('select');\n",
       "    fmt_picker.classList = 'mpl-widget';\n",
       "    toolbar.appendChild(fmt_picker);\n",
       "    this.format_dropdown = fmt_picker;\n",
       "\n",
       "    for (var ind in mpl.extensions) {\n",
       "        var fmt = mpl.extensions[ind];\n",
       "        var option = document.createElement('option');\n",
       "        option.selected = fmt === mpl.default_extension;\n",
       "        option.innerHTML = fmt;\n",
       "        fmt_picker.appendChild(option);\n",
       "    }\n",
       "\n",
       "    var status_bar = document.createElement('span');\n",
       "    status_bar.classList = 'mpl-message';\n",
       "    toolbar.appendChild(status_bar);\n",
       "    this.message = status_bar;\n",
       "};\n",
       "\n",
       "mpl.figure.prototype.request_resize = function (x_pixels, y_pixels) {\n",
       "    // Request matplotlib to resize the figure. Matplotlib will then trigger a resize in the client,\n",
       "    // which will in turn request a refresh of the image.\n",
       "    this.send_message('resize', { width: x_pixels, height: y_pixels });\n",
       "};\n",
       "\n",
       "mpl.figure.prototype.send_message = function (type, properties) {\n",
       "    properties['type'] = type;\n",
       "    properties['figure_id'] = this.id;\n",
       "    this.ws.send(JSON.stringify(properties));\n",
       "};\n",
       "\n",
       "mpl.figure.prototype.send_draw_message = function () {\n",
       "    if (!this.waiting) {\n",
       "        this.waiting = true;\n",
       "        this.ws.send(JSON.stringify({ type: 'draw', figure_id: this.id }));\n",
       "    }\n",
       "};\n",
       "\n",
       "mpl.figure.prototype.handle_save = function (fig, _msg) {\n",
       "    var format_dropdown = fig.format_dropdown;\n",
       "    var format = format_dropdown.options[format_dropdown.selectedIndex].value;\n",
       "    fig.ondownload(fig, format);\n",
       "};\n",
       "\n",
       "mpl.figure.prototype.handle_resize = function (fig, msg) {\n",
       "    var size = msg['size'];\n",
       "    if (size[0] !== fig.canvas.width || size[1] !== fig.canvas.height) {\n",
       "        fig._resize_canvas(size[0], size[1], msg['forward']);\n",
       "        fig.send_message('refresh', {});\n",
       "    }\n",
       "};\n",
       "\n",
       "mpl.figure.prototype.handle_rubberband = function (fig, msg) {\n",
       "    var x0 = msg['x0'] / fig.ratio;\n",
       "    var y0 = (fig.canvas.height - msg['y0']) / fig.ratio;\n",
       "    var x1 = msg['x1'] / fig.ratio;\n",
       "    var y1 = (fig.canvas.height - msg['y1']) / fig.ratio;\n",
       "    x0 = Math.floor(x0) + 0.5;\n",
       "    y0 = Math.floor(y0) + 0.5;\n",
       "    x1 = Math.floor(x1) + 0.5;\n",
       "    y1 = Math.floor(y1) + 0.5;\n",
       "    var min_x = Math.min(x0, x1);\n",
       "    var min_y = Math.min(y0, y1);\n",
       "    var width = Math.abs(x1 - x0);\n",
       "    var height = Math.abs(y1 - y0);\n",
       "\n",
       "    fig.rubberband_context.clearRect(\n",
       "        0,\n",
       "        0,\n",
       "        fig.canvas.width / fig.ratio,\n",
       "        fig.canvas.height / fig.ratio\n",
       "    );\n",
       "\n",
       "    fig.rubberband_context.strokeRect(min_x, min_y, width, height);\n",
       "};\n",
       "\n",
       "mpl.figure.prototype.handle_figure_label = function (fig, msg) {\n",
       "    // Updates the figure title.\n",
       "    fig.header.textContent = msg['label'];\n",
       "};\n",
       "\n",
       "mpl.figure.prototype.handle_cursor = function (fig, msg) {\n",
       "    var cursor = msg['cursor'];\n",
       "    switch (cursor) {\n",
       "        case 0:\n",
       "            cursor = 'pointer';\n",
       "            break;\n",
       "        case 1:\n",
       "            cursor = 'default';\n",
       "            break;\n",
       "        case 2:\n",
       "            cursor = 'crosshair';\n",
       "            break;\n",
       "        case 3:\n",
       "            cursor = 'move';\n",
       "            break;\n",
       "    }\n",
       "    fig.rubberband_canvas.style.cursor = cursor;\n",
       "};\n",
       "\n",
       "mpl.figure.prototype.handle_message = function (fig, msg) {\n",
       "    fig.message.textContent = msg['message'];\n",
       "};\n",
       "\n",
       "mpl.figure.prototype.handle_draw = function (fig, _msg) {\n",
       "    // Request the server to send over a new figure.\n",
       "    fig.send_draw_message();\n",
       "};\n",
       "\n",
       "mpl.figure.prototype.handle_image_mode = function (fig, msg) {\n",
       "    fig.image_mode = msg['mode'];\n",
       "};\n",
       "\n",
       "mpl.figure.prototype.handle_history_buttons = function (fig, msg) {\n",
       "    for (var key in msg) {\n",
       "        if (!(key in fig.buttons)) {\n",
       "            continue;\n",
       "        }\n",
       "        fig.buttons[key].disabled = !msg[key];\n",
       "        fig.buttons[key].setAttribute('aria-disabled', !msg[key]);\n",
       "    }\n",
       "};\n",
       "\n",
       "mpl.figure.prototype.handle_navigate_mode = function (fig, msg) {\n",
       "    if (msg['mode'] === 'PAN') {\n",
       "        fig.buttons['Pan'].classList.add('active');\n",
       "        fig.buttons['Zoom'].classList.remove('active');\n",
       "    } else if (msg['mode'] === 'ZOOM') {\n",
       "        fig.buttons['Pan'].classList.remove('active');\n",
       "        fig.buttons['Zoom'].classList.add('active');\n",
       "    } else {\n",
       "        fig.buttons['Pan'].classList.remove('active');\n",
       "        fig.buttons['Zoom'].classList.remove('active');\n",
       "    }\n",
       "};\n",
       "\n",
       "mpl.figure.prototype.updated_canvas_event = function () {\n",
       "    // Called whenever the canvas gets updated.\n",
       "    this.send_message('ack', {});\n",
       "};\n",
       "\n",
       "// A function to construct a web socket function for onmessage handling.\n",
       "// Called in the figure constructor.\n",
       "mpl.figure.prototype._make_on_message_function = function (fig) {\n",
       "    return function socket_on_message(evt) {\n",
       "        if (evt.data instanceof Blob) {\n",
       "            var img = evt.data;\n",
       "            if (img.type !== 'image/png') {\n",
       "                /* FIXME: We get \"Resource interpreted as Image but\n",
       "                 * transferred with MIME type text/plain:\" errors on\n",
       "                 * Chrome.  But how to set the MIME type?  It doesn't seem\n",
       "                 * to be part of the websocket stream */\n",
       "                img.type = 'image/png';\n",
       "            }\n",
       "\n",
       "            /* Free the memory for the previous frames */\n",
       "            if (fig.imageObj.src) {\n",
       "                (window.URL || window.webkitURL).revokeObjectURL(\n",
       "                    fig.imageObj.src\n",
       "                );\n",
       "            }\n",
       "\n",
       "            fig.imageObj.src = (window.URL || window.webkitURL).createObjectURL(\n",
       "                img\n",
       "            );\n",
       "            fig.updated_canvas_event();\n",
       "            fig.waiting = false;\n",
       "            return;\n",
       "        } else if (\n",
       "            typeof evt.data === 'string' &&\n",
       "            evt.data.slice(0, 21) === 'data:image/png;base64'\n",
       "        ) {\n",
       "            fig.imageObj.src = evt.data;\n",
       "            fig.updated_canvas_event();\n",
       "            fig.waiting = false;\n",
       "            return;\n",
       "        }\n",
       "\n",
       "        var msg = JSON.parse(evt.data);\n",
       "        var msg_type = msg['type'];\n",
       "\n",
       "        // Call the  \"handle_{type}\" callback, which takes\n",
       "        // the figure and JSON message as its only arguments.\n",
       "        try {\n",
       "            var callback = fig['handle_' + msg_type];\n",
       "        } catch (e) {\n",
       "            console.log(\n",
       "                \"No handler for the '\" + msg_type + \"' message type: \",\n",
       "                msg\n",
       "            );\n",
       "            return;\n",
       "        }\n",
       "\n",
       "        if (callback) {\n",
       "            try {\n",
       "                // console.log(\"Handling '\" + msg_type + \"' message: \", msg);\n",
       "                callback(fig, msg);\n",
       "            } catch (e) {\n",
       "                console.log(\n",
       "                    \"Exception inside the 'handler_\" + msg_type + \"' callback:\",\n",
       "                    e,\n",
       "                    e.stack,\n",
       "                    msg\n",
       "                );\n",
       "            }\n",
       "        }\n",
       "    };\n",
       "};\n",
       "\n",
       "// from http://stackoverflow.com/questions/1114465/getting-mouse-location-in-canvas\n",
       "mpl.findpos = function (e) {\n",
       "    //this section is from http://www.quirksmode.org/js/events_properties.html\n",
       "    var targ;\n",
       "    if (!e) {\n",
       "        e = window.event;\n",
       "    }\n",
       "    if (e.target) {\n",
       "        targ = e.target;\n",
       "    } else if (e.srcElement) {\n",
       "        targ = e.srcElement;\n",
       "    }\n",
       "    if (targ.nodeType === 3) {\n",
       "        // defeat Safari bug\n",
       "        targ = targ.parentNode;\n",
       "    }\n",
       "\n",
       "    // pageX,Y are the mouse positions relative to the document\n",
       "    var boundingRect = targ.getBoundingClientRect();\n",
       "    var x = e.pageX - (boundingRect.left + document.body.scrollLeft);\n",
       "    var y = e.pageY - (boundingRect.top + document.body.scrollTop);\n",
       "\n",
       "    return { x: x, y: y };\n",
       "};\n",
       "\n",
       "/*\n",
       " * return a copy of an object with only non-object keys\n",
       " * we need this to avoid circular references\n",
       " * http://stackoverflow.com/a/24161582/3208463\n",
       " */\n",
       "function simpleKeys(original) {\n",
       "    return Object.keys(original).reduce(function (obj, key) {\n",
       "        if (typeof original[key] !== 'object') {\n",
       "            obj[key] = original[key];\n",
       "        }\n",
       "        return obj;\n",
       "    }, {});\n",
       "}\n",
       "\n",
       "mpl.figure.prototype.mouse_event = function (event, name) {\n",
       "    var canvas_pos = mpl.findpos(event);\n",
       "\n",
       "    if (name === 'button_press') {\n",
       "        this.canvas.focus();\n",
       "        this.canvas_div.focus();\n",
       "    }\n",
       "\n",
       "    var x = canvas_pos.x * this.ratio;\n",
       "    var y = canvas_pos.y * this.ratio;\n",
       "\n",
       "    this.send_message(name, {\n",
       "        x: x,\n",
       "        y: y,\n",
       "        button: event.button,\n",
       "        step: event.step,\n",
       "        guiEvent: simpleKeys(event),\n",
       "    });\n",
       "\n",
       "    /* This prevents the web browser from automatically changing to\n",
       "     * the text insertion cursor when the button is pressed.  We want\n",
       "     * to control all of the cursor setting manually through the\n",
       "     * 'cursor' event from matplotlib */\n",
       "    event.preventDefault();\n",
       "    return false;\n",
       "};\n",
       "\n",
       "mpl.figure.prototype._key_event_extra = function (_event, _name) {\n",
       "    // Handle any extra behaviour associated with a key event\n",
       "};\n",
       "\n",
       "mpl.figure.prototype.key_event = function (event, name) {\n",
       "    // Prevent repeat events\n",
       "    if (name === 'key_press') {\n",
       "        if (event.key === this._key) {\n",
       "            return;\n",
       "        } else {\n",
       "            this._key = event.key;\n",
       "        }\n",
       "    }\n",
       "    if (name === 'key_release') {\n",
       "        this._key = null;\n",
       "    }\n",
       "\n",
       "    var value = '';\n",
       "    if (event.ctrlKey && event.key !== 'Control') {\n",
       "        value += 'ctrl+';\n",
       "    }\n",
       "    else if (event.altKey && event.key !== 'Alt') {\n",
       "        value += 'alt+';\n",
       "    }\n",
       "    else if (event.shiftKey && event.key !== 'Shift') {\n",
       "        value += 'shift+';\n",
       "    }\n",
       "\n",
       "    value += 'k' + event.key;\n",
       "\n",
       "    this._key_event_extra(event, name);\n",
       "\n",
       "    this.send_message(name, { key: value, guiEvent: simpleKeys(event) });\n",
       "    return false;\n",
       "};\n",
       "\n",
       "mpl.figure.prototype.toolbar_button_onclick = function (name) {\n",
       "    if (name === 'download') {\n",
       "        this.handle_save(this, null);\n",
       "    } else {\n",
       "        this.send_message('toolbar_button', { name: name });\n",
       "    }\n",
       "};\n",
       "\n",
       "mpl.figure.prototype.toolbar_button_onmouseover = function (tooltip) {\n",
       "    this.message.textContent = tooltip;\n",
       "};\n",
       "\n",
       "///////////////// REMAINING CONTENT GENERATED BY embed_js.py /////////////////\n",
       "// prettier-ignore\n",
       "var _JSXTOOLS_RESIZE_OBSERVER=function(A){var t,i=new WeakMap,n=new WeakMap,a=new WeakMap,r=new WeakMap,o=new Set;function s(e){if(!(this instanceof s))throw new TypeError(\"Constructor requires 'new' operator\");i.set(this,e)}function h(){throw new TypeError(\"Function is not a constructor\")}function c(e,t,i,n){e=0 in arguments?Number(arguments[0]):0,t=1 in arguments?Number(arguments[1]):0,i=2 in arguments?Number(arguments[2]):0,n=3 in arguments?Number(arguments[3]):0,this.right=(this.x=this.left=e)+(this.width=i),this.bottom=(this.y=this.top=t)+(this.height=n),Object.freeze(this)}function d(){t=requestAnimationFrame(d);var s=new WeakMap,p=new Set;o.forEach((function(t){r.get(t).forEach((function(i){var r=t instanceof window.SVGElement,o=a.get(t),d=r?0:parseFloat(o.paddingTop),f=r?0:parseFloat(o.paddingRight),l=r?0:parseFloat(o.paddingBottom),u=r?0:parseFloat(o.paddingLeft),g=r?0:parseFloat(o.borderTopWidth),m=r?0:parseFloat(o.borderRightWidth),w=r?0:parseFloat(o.borderBottomWidth),b=u+f,F=d+l,v=(r?0:parseFloat(o.borderLeftWidth))+m,W=g+w,y=r?0:t.offsetHeight-W-t.clientHeight,E=r?0:t.offsetWidth-v-t.clientWidth,R=b+v,z=F+W,M=r?t.width:parseFloat(o.width)-R-E,O=r?t.height:parseFloat(o.height)-z-y;if(n.has(t)){var k=n.get(t);if(k[0]===M&&k[1]===O)return}n.set(t,[M,O]);var S=Object.create(h.prototype);S.target=t,S.contentRect=new c(u,d,M,O),s.has(i)||(s.set(i,[]),p.add(i)),s.get(i).push(S)}))})),p.forEach((function(e){i.get(e).call(e,s.get(e),e)}))}return s.prototype.observe=function(i){if(i instanceof window.Element){r.has(i)||(r.set(i,new Set),o.add(i),a.set(i,window.getComputedStyle(i)));var n=r.get(i);n.has(this)||n.add(this),cancelAnimationFrame(t),t=requestAnimationFrame(d)}},s.prototype.unobserve=function(i){if(i instanceof window.Element&&r.has(i)){var n=r.get(i);n.has(this)&&(n.delete(this),n.size||(r.delete(i),o.delete(i))),n.size||r.delete(i),o.size||cancelAnimationFrame(t)}},A.DOMRectReadOnly=c,A.ResizeObserver=s,A.ResizeObserverEntry=h,A}; // eslint-disable-line\n",
       "mpl.toolbar_items = [[\"Home\", \"Reset original view\", \"fa fa-home icon-home\", \"home\"], [\"Back\", \"Back to previous view\", \"fa fa-arrow-left icon-arrow-left\", \"back\"], [\"Forward\", \"Forward to next view\", \"fa fa-arrow-right icon-arrow-right\", \"forward\"], [\"\", \"\", \"\", \"\"], [\"Pan\", \"Left button pans, Right button zooms\\nx/y fixes axis, CTRL fixes aspect\", \"fa fa-arrows icon-move\", \"pan\"], [\"Zoom\", \"Zoom to rectangle\\nx/y fixes axis, CTRL fixes aspect\", \"fa fa-square-o icon-check-empty\", \"zoom\"], [\"\", \"\", \"\", \"\"], [\"Download\", \"Download plot\", \"fa fa-floppy-o icon-save\", \"download\"]];\n",
       "\n",
       "mpl.extensions = [\"eps\", \"jpeg\", \"pgf\", \"pdf\", \"png\", \"ps\", \"raw\", \"svg\", \"tif\"];\n",
       "\n",
       "mpl.default_extension = \"png\";/* global mpl */\n",
       "\n",
       "var comm_websocket_adapter = function (comm) {\n",
       "    // Create a \"websocket\"-like object which calls the given IPython comm\n",
       "    // object with the appropriate methods. Currently this is a non binary\n",
       "    // socket, so there is still some room for performance tuning.\n",
       "    var ws = {};\n",
       "\n",
       "    ws.binaryType = comm.kernel.ws.binaryType;\n",
       "    ws.readyState = comm.kernel.ws.readyState;\n",
       "    function updateReadyState(_event) {\n",
       "        if (comm.kernel.ws) {\n",
       "            ws.readyState = comm.kernel.ws.readyState;\n",
       "        } else {\n",
       "            ws.readyState = 3; // Closed state.\n",
       "        }\n",
       "    }\n",
       "    comm.kernel.ws.addEventListener('open', updateReadyState);\n",
       "    comm.kernel.ws.addEventListener('close', updateReadyState);\n",
       "    comm.kernel.ws.addEventListener('error', updateReadyState);\n",
       "\n",
       "    ws.close = function () {\n",
       "        comm.close();\n",
       "    };\n",
       "    ws.send = function (m) {\n",
       "        //console.log('sending', m);\n",
       "        comm.send(m);\n",
       "    };\n",
       "    // Register the callback with on_msg.\n",
       "    comm.on_msg(function (msg) {\n",
       "        //console.log('receiving', msg['content']['data'], msg);\n",
       "        var data = msg['content']['data'];\n",
       "        if (data['blob'] !== undefined) {\n",
       "            data = {\n",
       "                data: new Blob(msg['buffers'], { type: data['blob'] }),\n",
       "            };\n",
       "        }\n",
       "        // Pass the mpl event to the overridden (by mpl) onmessage function.\n",
       "        ws.onmessage(data);\n",
       "    });\n",
       "    return ws;\n",
       "};\n",
       "\n",
       "mpl.mpl_figure_comm = function (comm, msg) {\n",
       "    // This is the function which gets called when the mpl process\n",
       "    // starts-up an IPython Comm through the \"matplotlib\" channel.\n",
       "\n",
       "    var id = msg.content.data.id;\n",
       "    // Get hold of the div created by the display call when the Comm\n",
       "    // socket was opened in Python.\n",
       "    var element = document.getElementById(id);\n",
       "    var ws_proxy = comm_websocket_adapter(comm);\n",
       "\n",
       "    function ondownload(figure, _format) {\n",
       "        window.open(figure.canvas.toDataURL());\n",
       "    }\n",
       "\n",
       "    var fig = new mpl.figure(id, ws_proxy, ondownload, element);\n",
       "\n",
       "    // Call onopen now - mpl needs it, as it is assuming we've passed it a real\n",
       "    // web socket which is closed, not our websocket->open comm proxy.\n",
       "    ws_proxy.onopen();\n",
       "\n",
       "    fig.parent_element = element;\n",
       "    fig.cell_info = mpl.find_output_cell(\"<div id='\" + id + \"'></div>\");\n",
       "    if (!fig.cell_info) {\n",
       "        console.error('Failed to find cell for figure', id, fig);\n",
       "        return;\n",
       "    }\n",
       "    fig.cell_info[0].output_area.element.on(\n",
       "        'cleared',\n",
       "        { fig: fig },\n",
       "        fig._remove_fig_handler\n",
       "    );\n",
       "};\n",
       "\n",
       "mpl.figure.prototype.handle_close = function (fig, msg) {\n",
       "    var width = fig.canvas.width / fig.ratio;\n",
       "    fig.cell_info[0].output_area.element.off(\n",
       "        'cleared',\n",
       "        fig._remove_fig_handler\n",
       "    );\n",
       "    fig.resizeObserverInstance.unobserve(fig.canvas_div);\n",
       "\n",
       "    // Update the output cell to use the data from the current canvas.\n",
       "    fig.push_to_output();\n",
       "    var dataURL = fig.canvas.toDataURL();\n",
       "    // Re-enable the keyboard manager in IPython - without this line, in FF,\n",
       "    // the notebook keyboard shortcuts fail.\n",
       "    IPython.keyboard_manager.enable();\n",
       "    fig.parent_element.innerHTML =\n",
       "        '<img src=\"' + dataURL + '\" width=\"' + width + '\">';\n",
       "    fig.close_ws(fig, msg);\n",
       "};\n",
       "\n",
       "mpl.figure.prototype.close_ws = function (fig, msg) {\n",
       "    fig.send_message('closing', msg);\n",
       "    // fig.ws.close()\n",
       "};\n",
       "\n",
       "mpl.figure.prototype.push_to_output = function (_remove_interactive) {\n",
       "    // Turn the data on the canvas into data in the output cell.\n",
       "    var width = this.canvas.width / this.ratio;\n",
       "    var dataURL = this.canvas.toDataURL();\n",
       "    this.cell_info[1]['text/html'] =\n",
       "        '<img src=\"' + dataURL + '\" width=\"' + width + '\">';\n",
       "};\n",
       "\n",
       "mpl.figure.prototype.updated_canvas_event = function () {\n",
       "    // Tell IPython that the notebook contents must change.\n",
       "    IPython.notebook.set_dirty(true);\n",
       "    this.send_message('ack', {});\n",
       "    var fig = this;\n",
       "    // Wait a second, then push the new image to the DOM so\n",
       "    // that it is saved nicely (might be nice to debounce this).\n",
       "    setTimeout(function () {\n",
       "        fig.push_to_output();\n",
       "    }, 1000);\n",
       "};\n",
       "\n",
       "mpl.figure.prototype._init_toolbar = function () {\n",
       "    var fig = this;\n",
       "\n",
       "    var toolbar = document.createElement('div');\n",
       "    toolbar.classList = 'btn-toolbar';\n",
       "    this.root.appendChild(toolbar);\n",
       "\n",
       "    function on_click_closure(name) {\n",
       "        return function (_event) {\n",
       "            return fig.toolbar_button_onclick(name);\n",
       "        };\n",
       "    }\n",
       "\n",
       "    function on_mouseover_closure(tooltip) {\n",
       "        return function (event) {\n",
       "            if (!event.currentTarget.disabled) {\n",
       "                return fig.toolbar_button_onmouseover(tooltip);\n",
       "            }\n",
       "        };\n",
       "    }\n",
       "\n",
       "    fig.buttons = {};\n",
       "    var buttonGroup = document.createElement('div');\n",
       "    buttonGroup.classList = 'btn-group';\n",
       "    var button;\n",
       "    for (var toolbar_ind in mpl.toolbar_items) {\n",
       "        var name = mpl.toolbar_items[toolbar_ind][0];\n",
       "        var tooltip = mpl.toolbar_items[toolbar_ind][1];\n",
       "        var image = mpl.toolbar_items[toolbar_ind][2];\n",
       "        var method_name = mpl.toolbar_items[toolbar_ind][3];\n",
       "\n",
       "        if (!name) {\n",
       "            /* Instead of a spacer, we start a new button group. */\n",
       "            if (buttonGroup.hasChildNodes()) {\n",
       "                toolbar.appendChild(buttonGroup);\n",
       "            }\n",
       "            buttonGroup = document.createElement('div');\n",
       "            buttonGroup.classList = 'btn-group';\n",
       "            continue;\n",
       "        }\n",
       "\n",
       "        button = fig.buttons[name] = document.createElement('button');\n",
       "        button.classList = 'btn btn-default';\n",
       "        button.href = '#';\n",
       "        button.title = name;\n",
       "        button.innerHTML = '<i class=\"fa ' + image + ' fa-lg\"></i>';\n",
       "        button.addEventListener('click', on_click_closure(method_name));\n",
       "        button.addEventListener('mouseover', on_mouseover_closure(tooltip));\n",
       "        buttonGroup.appendChild(button);\n",
       "    }\n",
       "\n",
       "    if (buttonGroup.hasChildNodes()) {\n",
       "        toolbar.appendChild(buttonGroup);\n",
       "    }\n",
       "\n",
       "    // Add the status bar.\n",
       "    var status_bar = document.createElement('span');\n",
       "    status_bar.classList = 'mpl-message pull-right';\n",
       "    toolbar.appendChild(status_bar);\n",
       "    this.message = status_bar;\n",
       "\n",
       "    // Add the close button to the window.\n",
       "    var buttongrp = document.createElement('div');\n",
       "    buttongrp.classList = 'btn-group inline pull-right';\n",
       "    button = document.createElement('button');\n",
       "    button.classList = 'btn btn-mini btn-primary';\n",
       "    button.href = '#';\n",
       "    button.title = 'Stop Interaction';\n",
       "    button.innerHTML = '<i class=\"fa fa-power-off icon-remove icon-large\"></i>';\n",
       "    button.addEventListener('click', function (_evt) {\n",
       "        fig.handle_close(fig, {});\n",
       "    });\n",
       "    button.addEventListener(\n",
       "        'mouseover',\n",
       "        on_mouseover_closure('Stop Interaction')\n",
       "    );\n",
       "    buttongrp.appendChild(button);\n",
       "    var titlebar = this.root.querySelector('.ui-dialog-titlebar');\n",
       "    titlebar.insertBefore(buttongrp, titlebar.firstChild);\n",
       "};\n",
       "\n",
       "mpl.figure.prototype._remove_fig_handler = function (event) {\n",
       "    var fig = event.data.fig;\n",
       "    if (event.target !== this) {\n",
       "        // Ignore bubbled events from children.\n",
       "        return;\n",
       "    }\n",
       "    fig.close_ws(fig, {});\n",
       "};\n",
       "\n",
       "mpl.figure.prototype._root_extra_style = function (el) {\n",
       "    el.style.boxSizing = 'content-box'; // override notebook setting of border-box.\n",
       "};\n",
       "\n",
       "mpl.figure.prototype._canvas_extra_style = function (el) {\n",
       "    // this is important to make the div 'focusable\n",
       "    el.setAttribute('tabindex', 0);\n",
       "    // reach out to IPython and tell the keyboard manager to turn it's self\n",
       "    // off when our div gets focus\n",
       "\n",
       "    // location in version 3\n",
       "    if (IPython.notebook.keyboard_manager) {\n",
       "        IPython.notebook.keyboard_manager.register_events(el);\n",
       "    } else {\n",
       "        // location in version 2\n",
       "        IPython.keyboard_manager.register_events(el);\n",
       "    }\n",
       "};\n",
       "\n",
       "mpl.figure.prototype._key_event_extra = function (event, _name) {\n",
       "    var manager = IPython.notebook.keyboard_manager;\n",
       "    if (!manager) {\n",
       "        manager = IPython.keyboard_manager;\n",
       "    }\n",
       "\n",
       "    // Check for shift+enter\n",
       "    if (event.shiftKey && event.which === 13) {\n",
       "        this.canvas_div.blur();\n",
       "        // select the cell after this one\n",
       "        var index = IPython.notebook.find_cell_index(this.cell_info[0]);\n",
       "        IPython.notebook.select(index + 1);\n",
       "    }\n",
       "};\n",
       "\n",
       "mpl.figure.prototype.handle_save = function (fig, _msg) {\n",
       "    fig.ondownload(fig, null);\n",
       "};\n",
       "\n",
       "mpl.find_output_cell = function (html_output) {\n",
       "    // Return the cell and output element which can be found *uniquely* in the notebook.\n",
       "    // Note - this is a bit hacky, but it is done because the \"notebook_saving.Notebook\"\n",
       "    // IPython event is triggered only after the cells have been serialised, which for\n",
       "    // our purposes (turning an active figure into a static one), is too late.\n",
       "    var cells = IPython.notebook.get_cells();\n",
       "    var ncells = cells.length;\n",
       "    for (var i = 0; i < ncells; i++) {\n",
       "        var cell = cells[i];\n",
       "        if (cell.cell_type === 'code') {\n",
       "            for (var j = 0; j < cell.output_area.outputs.length; j++) {\n",
       "                var data = cell.output_area.outputs[j];\n",
       "                if (data.data) {\n",
       "                    // IPython >= 3 moved mimebundle to data attribute of output\n",
       "                    data = data.data;\n",
       "                }\n",
       "                if (data['text/html'] === html_output) {\n",
       "                    return [cell, data, j];\n",
       "                }\n",
       "            }\n",
       "        }\n",
       "    }\n",
       "};\n",
       "\n",
       "// Register the function which deals with the matplotlib target/channel.\n",
       "// The kernel may be null if the page has been refreshed.\n",
       "if (IPython.notebook.kernel !== null) {\n",
       "    IPython.notebook.kernel.comm_manager.register_target(\n",
       "        'matplotlib',\n",
       "        mpl.mpl_figure_comm\n",
       "    );\n",
       "}\n"
      ],
      "text/plain": [
       "<IPython.core.display.Javascript object>"
      ]
     },
     "metadata": {},
     "output_type": "display_data"
    },
    {
     "data": {
      "text/html": [
       "<img src=\"data:image/png;base64,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\" width=\"1000\">"
      ],
      "text/plain": [
       "<IPython.core.display.HTML object>"
      ]
     },
     "metadata": {},
     "output_type": "display_data"
    }
   ],
   "source": [
    "# How to animate those sections:\n",
    "fig=plt.figure(figsize=(10,9))\n",
    "\n",
    "G=gs.GridSpec(1+len(trans),5)\n",
    "\n",
    "axs=[]\n",
    "axv=ax=None\n",
    "axvs=[]\n",
    "for ti,t in enumerate(trans):\n",
    "    ax=fig.add_subplot(G[ti,:-1],sharex=ax,sharey=ax)\n",
    "    axs.append(ax)\n",
    "    axv=fig.add_subplot(G[ti,-1],sharex=axv,sharey=axv)\n",
    "    axvs.append(axv)\n",
    "    ax.text(0.98,0.02,t.attrs['run_dir'],transform=ax.transAxes,\n",
    "            ha='right')\n",
    "    \n",
    "top_pos=axs[0].get_position()\n",
    "\n",
    "cax=fig.add_axes( [top_pos.xmin,top_pos.ymax+0.05,0.5*top_pos.width,0.02])\n",
    "    \n",
    "t=np.datetime64(\"2016-06-16T12:00\")\n",
    "#t=np.datetime64(\"2016-06-13T22:00\")\n",
    "#t=np.datetime64(\"2016-06-12T22:00\")\n",
    "dist=475 # pull a profile from here.\n",
    "#dist=185 # just inside mouth\n",
    "\n",
    "V=np.linspace(0,36,37)\n",
    "axt=fig.add_subplot(G[-1,:])\n",
    "axt.plot( hiss[0].time, hiss[0]['waterlevel'].isel(stations=7),label='NCK waterlevel')\n",
    "\n",
    "def freeze(fig):\n",
    "    return [ dict(collections=list(ax.collections),lines=list(ax.lines)) \n",
    "             for ax in fig.axes ]\n",
    "def thaw(fig,state):\n",
    "    for ax,ax_state in zip(fig.axes,state):\n",
    "        for k in ax_state:\n",
    "            setattr(ax,k,list(ax_state[k]))\n",
    "frozen=freeze(fig)"
   ]
  },
  {
   "cell_type": "code",
   "execution_count": 77,
   "metadata": {},
   "outputs": [
    {
     "name": "stderr",
     "output_type": "stream",
     "text": [
      "/home/rustyh/src/stompy/stompy/xr_transect.py:996: UserWarning: No contour levels were found within the data range.\n",
      "  return f(x.values,yvals,scal.values,*args,**kwargs)\n"
     ]
    },
    {
     "name": "stdout",
     "output_type": "stream",
     "text": [
      "Range of salinity:  3.153751417964936 32.999999653391505\n",
      "Range of salinity:  2.991720202505432 32.999999831940166\n",
      "Range of salinity:  3.2291062982544094 32.999981753155915\n",
      "Range of salinity:  1.7284794356912858 32.9999986905573\n"
     ]
    },
    {
     "name": "stderr",
     "output_type": "stream",
     "text": [
      "/home/rustyh/src/stompy/stompy/xr_transect.py:996: UserWarning: No contour levels were found within the data range.\n",
      "  return f(x.values,yvals,scal.values,*args,**kwargs)\n"
     ]
    },
    {
     "name": "stdout",
     "output_type": "stream",
     "text": [
      "Range of salinity:  3.1608565770490995 32.998231286092825\n",
      "Range of salinity:  2.924155185450276 32.99997938396323\n",
      "Range of salinity:  3.5669110569260547 32.99897311879798\n",
      "Range of salinity:  1.967574195025976 32.99999869740914\n"
     ]
    },
    {
     "name": "stderr",
     "output_type": "stream",
     "text": [
      "/home/rustyh/src/stompy/stompy/xr_transect.py:996: UserWarning: No contour levels were found within the data range.\n",
      "  return f(x.values,yvals,scal.values,*args,**kwargs)\n"
     ]
    },
    {
     "name": "stdout",
     "output_type": "stream",
     "text": [
      "Range of salinity:  3.184553131299092 32.99957766855753\n",
      "Range of salinity:  2.8529653918798923 32.999968175469235\n",
      "Range of salinity:  3.3480220059933843 32.99989058544758\n",
      "Range of salinity:  2.1690585498999484 33.00001511061065\n"
     ]
    },
    {
     "name": "stderr",
     "output_type": "stream",
     "text": [
      "/home/rustyh/src/stompy/stompy/xr_transect.py:996: UserWarning: No contour levels were found within the data range.\n",
      "  return f(x.values,yvals,scal.values,*args,**kwargs)\n"
     ]
    },
    {
     "name": "stdout",
     "output_type": "stream",
     "text": [
      "Range of salinity:  2.9755959354472568 32.99998492260748\n",
      "Range of salinity:  2.719823946384905 32.99996352473611\n",
      "Range of salinity:  3.247586687945135 32.99988449313035\n",
      "Range of salinity:  2.1954281097223465 32.99996361600774\n"
     ]
    },
    {
     "name": "stderr",
     "output_type": "stream",
     "text": [
      "/home/rustyh/src/stompy/stompy/xr_transect.py:996: UserWarning: No contour levels were found within the data range.\n",
      "  return f(x.values,yvals,scal.values,*args,**kwargs)\n"
     ]
    },
    {
     "name": "stdout",
     "output_type": "stream",
     "text": [
      "Range of salinity:  2.7849795618610496 32.999997039687294\n",
      "Range of salinity:  2.6081883568005266 32.9999879280807\n",
      "Range of salinity:  3.111409957041101 32.999965395435176\n",
      "Range of salinity:  2.1795713465894124 32.999977580005975\n"
     ]
    },
    {
     "name": "stderr",
     "output_type": "stream",
     "text": [
      "/home/rustyh/src/stompy/stompy/xr_transect.py:996: UserWarning: No contour levels were found within the data range.\n",
      "  return f(x.values,yvals,scal.values,*args,**kwargs)\n"
     ]
    },
    {
     "name": "stdout",
     "output_type": "stream",
     "text": [
      "Range of salinity:  2.7468861635745747 32.99987019021367\n",
      "Range of salinity:  2.744706184829972 32.99999307554254\n",
      "Range of salinity:  3.1388437796603843 32.999988353276436\n",
      "Range of salinity:  2.191624430557542 32.99999565179418\n"
     ]
    },
    {
     "name": "stderr",
     "output_type": "stream",
     "text": [
      "/home/rustyh/src/stompy/stompy/xr_transect.py:996: UserWarning: No contour levels were found within the data range.\n",
      "  return f(x.values,yvals,scal.values,*args,**kwargs)\n"
     ]
    },
    {
     "name": "stdout",
     "output_type": "stream",
     "text": [
      "Range of salinity:  2.7757146063121376 32.99986342932729\n",
      "Range of salinity:  2.744936206096205 32.999995766475564\n",
      "Range of salinity:  3.0776032069741306 32.999998105764114\n",
      "Range of salinity:  2.1732549195401583 32.99999877734045\n"
     ]
    },
    {
     "name": "stderr",
     "output_type": "stream",
     "text": [
      "/home/rustyh/src/stompy/stompy/xr_transect.py:996: UserWarning: No contour levels were found within the data range.\n",
      "  return f(x.values,yvals,scal.values,*args,**kwargs)\n"
     ]
    },
    {
     "name": "stdout",
     "output_type": "stream",
     "text": [
      "Range of salinity:  2.852956188669877 32.999928016018735\n",
      "Range of salinity:  2.8301006895609455 32.99998799874573\n",
      "Range of salinity:  3.115586155738776 32.99999982422763\n",
      "Range of salinity:  2.1430512437996287 32.99999850306043\n"
     ]
    },
    {
     "name": "stderr",
     "output_type": "stream",
     "text": [
      "/home/rustyh/src/stompy/stompy/xr_transect.py:996: UserWarning: No contour levels were found within the data range.\n",
      "  return f(x.values,yvals,scal.values,*args,**kwargs)\n"
     ]
    },
    {
     "name": "stdout",
     "output_type": "stream",
     "text": [
      "Range of salinity:  2.9998906319910534 32.99996169049354\n",
      "Range of salinity:  2.906463531545416 32.99998927664337\n",
      "Range of salinity:  3.108720544974365 33.000003406966556\n",
      "Range of salinity:  2.2071925731741873 32.999998496546056\n"
     ]
    },
    {
     "name": "stderr",
     "output_type": "stream",
     "text": [
      "/home/rustyh/src/stompy/stompy/xr_transect.py:996: UserWarning: No contour levels were found within the data range.\n",
      "  return f(x.values,yvals,scal.values,*args,**kwargs)\n"
     ]
    },
    {
     "name": "stdout",
     "output_type": "stream",
     "text": [
      "Range of salinity:  3.020788508386074 32.999977931655366\n",
      "Range of salinity:  2.948154713469562 32.99999366571878\n",
      "Range of salinity:  3.101932131138133 32.99999958479713\n",
      "Range of salinity:  2.130795238667905 32.99999499377818\n"
     ]
    },
    {
     "name": "stderr",
     "output_type": "stream",
     "text": [
      "/home/rustyh/src/stompy/stompy/xr_transect.py:996: UserWarning: No contour levels were found within the data range.\n",
      "  return f(x.values,yvals,scal.values,*args,**kwargs)\n"
     ]
    },
    {
     "name": "stdout",
     "output_type": "stream",
     "text": [
      "Range of salinity:  2.9635574734952432 32.99998749132589\n",
      "Range of salinity:  3.0484196941652884 32.99992254088776\n",
      "Range of salinity:  3.200544751486183 32.999999643830336\n",
      "Range of salinity:  2.17497156981365 32.999996383225074\n"
     ]
    },
    {
     "name": "stderr",
     "output_type": "stream",
     "text": [
      "/home/rustyh/src/stompy/stompy/xr_transect.py:996: UserWarning: No contour levels were found within the data range.\n",
      "  return f(x.values,yvals,scal.values,*args,**kwargs)\n"
     ]
    },
    {
     "name": "stdout",
     "output_type": "stream",
     "text": [
      "Range of salinity:  2.990463901545008 32.99999350180024\n",
      "Range of salinity:  3.0335402732758636 32.999641337918625\n",
      "Range of salinity:  3.2154413079843045 32.999998179136924\n",
      "Range of salinity:  2.1738586937332216 32.999987466715275\n"
     ]
    },
    {
     "name": "stderr",
     "output_type": "stream",
     "text": [
      "/home/rustyh/src/stompy/stompy/xr_transect.py:996: UserWarning: No contour levels were found within the data range.\n",
      "  return f(x.values,yvals,scal.values,*args,**kwargs)\n"
     ]
    },
    {
     "name": "stdout",
     "output_type": "stream",
     "text": [
      "Range of salinity:  3.0534911476333093 32.99999096597304\n",
      "Range of salinity:  3.090973277480115 32.999627419980264\n",
      "Range of salinity:  3.3550498566320606 32.999954392429196\n",
      "Range of salinity:  2.215818124140563 32.99996734222511\n"
     ]
    },
    {
     "name": "stderr",
     "output_type": "stream",
     "text": [
      "/home/rustyh/src/stompy/stompy/xr_transect.py:996: UserWarning: No contour levels were found within the data range.\n",
      "  return f(x.values,yvals,scal.values,*args,**kwargs)\n"
     ]
    },
    {
     "name": "stdout",
     "output_type": "stream",
     "text": [
      "Range of salinity:  3.0758394954318153 32.999995382620085\n",
      "Range of salinity:  3.170072315007847 32.99995975261753\n",
      "Range of salinity:  3.542049173146785 32.99995364790874\n",
      "Range of salinity:  2.1909056320640006 32.999997608305506\n",
      "Range of salinity:  3.1737118835648928 33.00002038797365\n",
      "Range of salinity:  3.1770978113789208 32.9999343696844\n",
      "Range of salinity:  3.555753584447017 32.999989135728974\n",
      "Range of salinity:  2.276136259783121 32.999999213538516\n"
     ]
    },
    {
     "name": "stderr",
     "output_type": "stream",
     "text": [
      "/home/rustyh/src/stompy/stompy/xr_transect.py:996: UserWarning: No contour levels were found within the data range.\n",
      "  return f(x.values,yvals,scal.values,*args,**kwargs)\n"
     ]
    },
    {
     "name": "stdout",
     "output_type": "stream",
     "text": [
      "Range of salinity:  3.320464027754689 33.00001079371258\n",
      "Range of salinity:  3.2208161545551803 32.993507661496324\n",
      "Range of salinity:  3.741643502039079 32.99999886398675\n",
      "Range of salinity:  2.2449870473772093 32.99995008239952\n"
     ]
    },
    {
     "name": "stderr",
     "output_type": "stream",
     "text": [
      "/home/rustyh/src/stompy/stompy/xr_transect.py:996: UserWarning: No contour levels were found within the data range.\n",
      "  return f(x.values,yvals,scal.values,*args,**kwargs)\n",
      "/home/rustyh/src/stompy/stompy/xr_transect.py:996: UserWarning: No contour levels were found within the data range.\n",
      "  return f(x.values,yvals,scal.values,*args,**kwargs)\n"
     ]
    },
    {
     "name": "stdout",
     "output_type": "stream",
     "text": [
      "Range of salinity:  3.3017981608402134 32.99999720988815\n",
      "Range of salinity:  3.277873764593638 32.995723924262144\n",
      "Range of salinity:  3.8004500550044993 32.999941721648746\n",
      "Range of salinity:  2.256860015491457 32.999574147810904\n"
     ]
    },
    {
     "name": "stderr",
     "output_type": "stream",
     "text": [
      "/home/rustyh/src/stompy/stompy/xr_transect.py:996: UserWarning: No contour levels were found within the data range.\n",
      "  return f(x.values,yvals,scal.values,*args,**kwargs)\n"
     ]
    },
    {
     "name": "stdout",
     "output_type": "stream",
     "text": [
      "Range of salinity:  3.429884793731534 32.99999908421249\n",
      "Range of salinity:  3.231391829820532 32.99912786448842\n",
      "Range of salinity:  3.8144620435667163 32.999433016125906\n",
      "Range of salinity:  2.315223688237562 32.99970039026465\n"
     ]
    },
    {
     "name": "stderr",
     "output_type": "stream",
     "text": [
      "/home/rustyh/src/stompy/stompy/xr_transect.py:996: UserWarning: No contour levels were found within the data range.\n",
      "  return f(x.values,yvals,scal.values,*args,**kwargs)\n"
     ]
    },
    {
     "name": "stdout",
     "output_type": "stream",
     "text": [
      "Range of salinity:  3.33589179718554 32.999816621440985\n",
      "Range of salinity:  3.1737548236579167 32.999418955941636\n",
      "Range of salinity:  3.821131888501668 32.99979926724954\n",
      "Range of salinity:  2.296611659112701 32.99996689457522\n"
     ]
    },
    {
     "name": "stderr",
     "output_type": "stream",
     "text": [
      "/home/rustyh/src/stompy/stompy/xr_transect.py:996: UserWarning: No contour levels were found within the data range.\n",
      "  return f(x.values,yvals,scal.values,*args,**kwargs)\n"
     ]
    },
    {
     "name": "stdout",
     "output_type": "stream",
     "text": [
      "Range of salinity:  3.2863171396028905 32.99892669031922\n",
      "Range of salinity:  3.246782096754349 32.99999434541855\n",
      "Range of salinity:  3.725736340702644 32.99957498726342\n",
      "Range of salinity:  2.3587457254392548 32.999818760990024\n"
     ]
    },
    {
     "name": "stderr",
     "output_type": "stream",
     "text": [
      "/home/rustyh/src/stompy/stompy/xr_transect.py:996: UserWarning: No contour levels were found within the data range.\n",
      "  return f(x.values,yvals,scal.values,*args,**kwargs)\n"
     ]
    },
    {
     "name": "stdout",
     "output_type": "stream",
     "text": [
      "Range of salinity:  3.3456351056664193 32.999520799287616\n",
      "Range of salinity:  3.1486270479261496 33.00039351036733\n",
      "Range of salinity:  3.7666861253357227 32.999163171337756\n",
      "Range of salinity:  2.3271858165955086 32.99999307548227\n"
     ]
    },
    {
     "name": "stderr",
     "output_type": "stream",
     "text": [
      "/home/rustyh/src/stompy/stompy/xr_transect.py:996: UserWarning: No contour levels were found within the data range.\n",
      "  return f(x.values,yvals,scal.values,*args,**kwargs)\n"
     ]
    },
    {
     "name": "stdout",
     "output_type": "stream",
     "text": [
      "Range of salinity:  3.288093370603394 32.99985177450704\n",
      "Range of salinity:  3.0581848689271256 32.99999699910984\n",
      "Range of salinity:  3.6588678145439917 32.999827718236254\n",
      "Range of salinity:  2.3360662205650278 32.99932128336298\n"
     ]
    },
    {
     "name": "stderr",
     "output_type": "stream",
     "text": [
      "/home/rustyh/src/stompy/stompy/xr_transect.py:996: UserWarning: No contour levels were found within the data range.\n",
      "  return f(x.values,yvals,scal.values,*args,**kwargs)\n"
     ]
    },
    {
     "name": "stdout",
     "output_type": "stream",
     "text": [
      "Range of salinity:  3.2492930608965036 32.999928953781996\n",
      "Range of salinity:  2.9945843635226663 32.99990434173526\n",
      "Range of salinity:  3.6517836898523117 32.99998996453352\n",
      "Range of salinity:  2.332236673034929 32.998597457849435\n"
     ]
    },
    {
     "name": "stderr",
     "output_type": "stream",
     "text": [
      "/home/rustyh/src/stompy/stompy/xr_transect.py:996: UserWarning: No contour levels were found within the data range.\n",
      "  return f(x.values,yvals,scal.values,*args,**kwargs)\n"
     ]
    },
    {
     "name": "stdout",
     "output_type": "stream",
     "text": [
      "Range of salinity:  3.428793236434918 32.99887992191336\n",
      "Range of salinity:  3.046356944177634 32.99999031385255\n",
      "Range of salinity:  3.4637279464415265 32.99999707939271\n",
      "Range of salinity:  2.3553779304361 32.99866860408184\n"
     ]
    },
    {
     "name": "stderr",
     "output_type": "stream",
     "text": [
      "/home/rustyh/src/stompy/stompy/xr_transect.py:996: UserWarning: No contour levels were found within the data range.\n",
      "  return f(x.values,yvals,scal.values,*args,**kwargs)\n"
     ]
    },
    {
     "name": "stdout",
     "output_type": "stream",
     "text": [
      "Range of salinity:  3.3634743636478293 32.99921968857516\n",
      "Range of salinity:  2.993291053969902 32.99983127972294\n",
      "Range of salinity:  3.3417708249638394 32.99999422864254\n",
      "Range of salinity:  2.3393264200324952 32.99999889655462\n"
     ]
    },
    {
     "name": "stderr",
     "output_type": "stream",
     "text": [
      "/home/rustyh/src/stompy/stompy/xr_transect.py:996: UserWarning: No contour levels were found within the data range.\n",
      "  return f(x.values,yvals,scal.values,*args,**kwargs)\n"
     ]
    },
    {
     "name": "stdout",
     "output_type": "stream",
     "text": [
      "Range of salinity:  3.24039566859986 32.99866822570502\n",
      "Range of salinity:  2.93513238786896 32.99762983046755\n",
      "Range of salinity:  3.273276280624469 32.9996619648619\n",
      "Range of salinity:  2.323704896638305 32.99994224111784\n"
     ]
    },
    {
     "name": "stderr",
     "output_type": "stream",
     "text": [
      "/home/rustyh/src/stompy/stompy/xr_transect.py:996: UserWarning: No contour levels were found within the data range.\n",
      "  return f(x.values,yvals,scal.values,*args,**kwargs)\n"
     ]
    },
    {
     "name": "stdout",
     "output_type": "stream",
     "text": [
      "Range of salinity:  3.3055690352623386 32.99999796679468\n",
      "Range of salinity:  2.8647026148504544 32.99455369691216\n",
      "Range of salinity:  3.1391942155535553 32.999645002390515\n",
      "Range of salinity:  2.394692803809497 32.99891071947053\n"
     ]
    },
    {
     "name": "stderr",
     "output_type": "stream",
     "text": [
      "/home/rustyh/src/stompy/stompy/xr_transect.py:996: UserWarning: No contour levels were found within the data range.\n",
      "  return f(x.values,yvals,scal.values,*args,**kwargs)\n"
     ]
    },
    {
     "name": "stdout",
     "output_type": "stream",
     "text": [
      "Range of salinity:  3.186817289203964 32.999999995694516\n",
      "Range of salinity:  2.8362110765671167 32.99343721573781\n",
      "Range of salinity:  3.0979174839636685 32.999871553695705\n",
      "Range of salinity:  2.3937898617738185 32.99695118032023\n"
     ]
    },
    {
     "name": "stderr",
     "output_type": "stream",
     "text": [
      "/home/rustyh/src/stompy/stompy/xr_transect.py:996: UserWarning: No contour levels were found within the data range.\n",
      "  return f(x.values,yvals,scal.values,*args,**kwargs)\n"
     ]
    },
    {
     "name": "stdout",
     "output_type": "stream",
     "text": [
      "Range of salinity:  3.202332750201546 32.9999999999449\n",
      "Range of salinity:  2.7423546673825485 32.999488601527325\n",
      "Range of salinity:  3.047190149113987 32.999969680284984\n",
      "Range of salinity:  2.400514250453711 32.9971105547277\n"
     ]
    },
    {
     "name": "stderr",
     "output_type": "stream",
     "text": [
      "/home/rustyh/src/stompy/stompy/xr_transect.py:996: UserWarning: No contour levels were found within the data range.\n",
      "  return f(x.values,yvals,scal.values,*args,**kwargs)\n"
     ]
    },
    {
     "name": "stdout",
     "output_type": "stream",
     "text": [
      "Range of salinity:  3.090420615686001 32.99999999998891\n",
      "Range of salinity:  2.819751859754141 32.999994919700704\n",
      "Range of salinity:  3.0838434373132135 32.99999422572309\n",
      "Range of salinity:  2.4074124131619903 32.99963757129542\n",
      "Range of salinity:  3.0411789244200476 33.000011076669075\n",
      "Range of salinity:  2.786317248173576 32.99999555221784\n",
      "Range of salinity:  3.0636165849088997 32.999998663405094\n",
      "Range of salinity:  2.4003569962219458 32.99940744793549\n"
     ]
    },
    {
     "name": "stderr",
     "output_type": "stream",
     "text": [
      "/home/rustyh/src/stompy/stompy/xr_transect.py:996: UserWarning: No contour levels were found within the data range.\n",
      "  return f(x.values,yvals,scal.values,*args,**kwargs)\n"
     ]
    },
    {
     "name": "stdout",
     "output_type": "stream",
     "text": [
      "Range of salinity:  2.9880888008839728 33.000032478779865\n",
      "Range of salinity:  2.681031459501427 32.99986391556895\n",
      "Range of salinity:  2.939765651462451 32.99999989453982\n",
      "Range of salinity:  2.393215635379441 32.999193364044594\n"
     ]
    },
    {
     "name": "stderr",
     "output_type": "stream",
     "text": [
      "/home/rustyh/src/stompy/stompy/xr_transect.py:996: UserWarning: No contour levels were found within the data range.\n",
      "  return f(x.values,yvals,scal.values,*args,**kwargs)\n",
      "/home/rustyh/src/stompy/stompy/xr_transect.py:996: UserWarning: No contour levels were found within the data range.\n",
      "  return f(x.values,yvals,scal.values,*args,**kwargs)\n"
     ]
    },
    {
     "name": "stdout",
     "output_type": "stream",
     "text": [
      "Range of salinity:  3.0181660616551476 32.99999999196415\n",
      "Range of salinity:  2.645114297381597 32.99967209692437\n",
      "Range of salinity:  2.8624451050513944 32.999999998407205\n",
      "Range of salinity:  2.416784979429568 32.99816492864038\n"
     ]
    },
    {
     "name": "stderr",
     "output_type": "stream",
     "text": [
      "/home/rustyh/src/stompy/stompy/xr_transect.py:996: UserWarning: No contour levels were found within the data range.\n",
      "  return f(x.values,yvals,scal.values,*args,**kwargs)\n"
     ]
    },
    {
     "name": "stdout",
     "output_type": "stream",
     "text": [
      "Range of salinity:  2.9857096695576493 32.9999986720567\n",
      "Range of salinity:  2.6287261500673145 32.9994692757889\n",
      "Range of salinity:  2.759326174230265 33.00000000015547\n",
      "Range of salinity:  2.402756177115931 32.999584911546094\n"
     ]
    },
    {
     "name": "stderr",
     "output_type": "stream",
     "text": [
      "/home/rustyh/src/stompy/stompy/xr_transect.py:996: UserWarning: No contour levels were found within the data range.\n",
      "  return f(x.values,yvals,scal.values,*args,**kwargs)\n"
     ]
    },
    {
     "name": "stdout",
     "output_type": "stream",
     "text": [
      "Range of salinity:  2.99859042156595 32.999965937995555\n",
      "Range of salinity:  2.6011177939358707 32.99947349166361\n",
      "Range of salinity:  2.652682162516519 33.000000000336556\n",
      "Range of salinity:  2.419249162560958 32.99999618267474\n"
     ]
    },
    {
     "name": "stderr",
     "output_type": "stream",
     "text": [
      "/home/rustyh/src/stompy/stompy/xr_transect.py:996: UserWarning: No contour levels were found within the data range.\n",
      "  return f(x.values,yvals,scal.values,*args,**kwargs)\n"
     ]
    },
    {
     "name": "stdout",
     "output_type": "stream",
     "text": [
      "Range of salinity:  2.897302630305523 32.999894194938044\n",
      "Range of salinity:  2.5813005487069622 32.99942629302335\n",
      "Range of salinity:  2.580705884865236 33.00000390864099\n",
      "Range of salinity:  2.430959979708619 32.99999992270285\n"
     ]
    },
    {
     "name": "stderr",
     "output_type": "stream",
     "text": [
      "/home/rustyh/src/stompy/stompy/xr_transect.py:996: UserWarning: No contour levels were found within the data range.\n",
      "  return f(x.values,yvals,scal.values,*args,**kwargs)\n"
     ]
    },
    {
     "name": "stdout",
     "output_type": "stream",
     "text": [
      "Range of salinity:  2.9029918322802826 32.99986271116411\n",
      "Range of salinity:  2.6232558726757014 32.99946544309494\n",
      "Range of salinity:  2.446381950296971 33.00000555161318\n",
      "Range of salinity:  2.456306458400413 32.99999999173654\n"
     ]
    },
    {
     "name": "stderr",
     "output_type": "stream",
     "text": [
      "/home/rustyh/src/stompy/stompy/xr_transect.py:996: UserWarning: No contour levels were found within the data range.\n",
      "  return f(x.values,yvals,scal.values,*args,**kwargs)\n"
     ]
    },
    {
     "name": "stdout",
     "output_type": "stream",
     "text": [
      "Range of salinity:  2.8694382740107085 32.99993796543989\n",
      "Range of salinity:  2.750415761598842 32.99979418426674\n",
      "Range of salinity:  2.413449901513094 33.000013077058185\n",
      "Range of salinity:  2.4489464681524495 33.000005002668395\n"
     ]
    },
    {
     "name": "stderr",
     "output_type": "stream",
     "text": [
      "/home/rustyh/src/stompy/stompy/xr_transect.py:996: UserWarning: No contour levels were found within the data range.\n",
      "  return f(x.values,yvals,scal.values,*args,**kwargs)\n"
     ]
    },
    {
     "name": "stdout",
     "output_type": "stream",
     "text": [
      "Range of salinity:  2.7965061950352452 32.999974207624895\n",
      "Range of salinity:  2.8123965994248463 32.99998579923721\n",
      "Range of salinity:  2.3594929028272174 33.00002502237021\n",
      "Range of salinity:  2.46484947768686 32.999999994519115\n"
     ]
    },
    {
     "name": "stderr",
     "output_type": "stream",
     "text": [
      "/home/rustyh/src/stompy/stompy/xr_transect.py:996: UserWarning: No contour levels were found within the data range.\n",
      "  return f(x.values,yvals,scal.values,*args,**kwargs)\n"
     ]
    },
    {
     "name": "stdout",
     "output_type": "stream",
     "text": [
      "Range of salinity:  2.701728328290495 32.999986786147545\n",
      "Range of salinity:  2.8257629716140245 32.99999331246994\n",
      "Range of salinity:  2.204851680081056 33.00000183644231\n",
      "Range of salinity:  2.46348573526794 32.999999992289574\n"
     ]
    },
    {
     "name": "stderr",
     "output_type": "stream",
     "text": [
      "/home/rustyh/src/stompy/stompy/xr_transect.py:996: UserWarning: No contour levels were found within the data range.\n",
      "  return f(x.values,yvals,scal.values,*args,**kwargs)\n"
     ]
    },
    {
     "name": "stdout",
     "output_type": "stream",
     "text": [
      "Range of salinity:  2.6267604845918306 32.99999006988921\n",
      "Range of salinity:  2.6586013270195004 32.99999409318022\n",
      "Range of salinity:  1.9014416770088771 33.00000011424083\n",
      "Range of salinity:  2.4616505736461023 32.99999999155134\n"
     ]
    },
    {
     "name": "stderr",
     "output_type": "stream",
     "text": [
      "/home/rustyh/src/stompy/stompy/xr_transect.py:996: UserWarning: No contour levels were found within the data range.\n",
      "  return f(x.values,yvals,scal.values,*args,**kwargs)\n"
     ]
    },
    {
     "name": "stdout",
     "output_type": "stream",
     "text": [
      "Range of salinity:  2.1544887290961094 32.99999125274163\n",
      "Range of salinity:  2.651112869219933 32.99999660212186\n",
      "Range of salinity:  1.6701436608455975 32.99999999999754\n",
      "Range of salinity:  2.4011534925740907 32.999999993195225\n"
     ]
    },
    {
     "name": "stderr",
     "output_type": "stream",
     "text": [
      "/home/rustyh/src/stompy/stompy/xr_transect.py:996: UserWarning: No contour levels were found within the data range.\n",
      "  return f(x.values,yvals,scal.values,*args,**kwargs)\n"
     ]
    },
    {
     "name": "stdout",
     "output_type": "stream",
     "text": [
      "Range of salinity:  2.112010205312364 32.999991348610564\n",
      "Range of salinity:  2.536752195459188 32.99999554384032\n",
      "Range of salinity:  1.2955436707563022 32.99999999998747\n",
      "Range of salinity:  2.3880699757693264 32.9999999963263\n"
     ]
    },
    {
     "name": "stderr",
     "output_type": "stream",
     "text": [
      "/home/rustyh/src/stompy/stompy/xr_transect.py:996: UserWarning: No contour levels were found within the data range.\n",
      "  return f(x.values,yvals,scal.values,*args,**kwargs)\n"
     ]
    },
    {
     "name": "stdout",
     "output_type": "stream",
     "text": [
      "Range of salinity:  1.8613577651501099 32.99999433687189\n",
      "Range of salinity:  2.3586515345286583 32.99998640541785\n",
      "Range of salinity:  1.2448548826626074 32.999999827641055\n",
      "Range of salinity:  2.3707399996936824 33.000000034185014\n"
     ]
    },
    {
     "name": "stderr",
     "output_type": "stream",
     "text": [
      "/home/rustyh/src/stompy/stompy/xr_transect.py:996: UserWarning: No contour levels were found within the data range.\n",
      "  return f(x.values,yvals,scal.values,*args,**kwargs)\n"
     ]
    },
    {
     "name": "stdout",
     "output_type": "stream",
     "text": [
      "Range of salinity:  1.7697984751143647 32.99999690427307\n",
      "Range of salinity:  2.296702453458672 32.999921288787064\n",
      "Range of salinity:  1.1944834099619537 33.000210403174925\n",
      "Range of salinity:  2.3183683180871286 32.999999998015554\n"
     ]
    },
    {
     "name": "stderr",
     "output_type": "stream",
     "text": [
      "/home/rustyh/src/stompy/stompy/xr_transect.py:996: UserWarning: No contour levels were found within the data range.\n",
      "  return f(x.values,yvals,scal.values,*args,**kwargs)\n"
     ]
    },
    {
     "name": "stdout",
     "output_type": "stream",
     "text": [
      "Range of salinity:  1.8051396757119968 32.9999668486212\n",
      "Range of salinity:  2.2123669001754047 32.999869913553006\n",
      "Range of salinity:  1.3175694060639374 32.9999939579235\n",
      "Range of salinity:  2.143730960537813 32.99999828059044\n"
     ]
    },
    {
     "name": "stderr",
     "output_type": "stream",
     "text": [
      "/home/rustyh/src/stompy/stompy/xr_transect.py:996: UserWarning: No contour levels were found within the data range.\n",
      "  return f(x.values,yvals,scal.values,*args,**kwargs)\n"
     ]
    },
    {
     "name": "stdout",
     "output_type": "stream",
     "text": [
      "Range of salinity:  1.8527598072168565 32.999911468491646\n",
      "Range of salinity:  2.24444239874203 32.999765823619384\n",
      "Range of salinity:  1.397072511628864 32.99999038397403\n",
      "Range of salinity:  2.1125406943143066 32.99999379441224\n"
     ]
    },
    {
     "name": "stderr",
     "output_type": "stream",
     "text": [
      "/home/rustyh/src/stompy/stompy/xr_transect.py:996: UserWarning: No contour levels were found within the data range.\n",
      "  return f(x.values,yvals,scal.values,*args,**kwargs)\n"
     ]
    },
    {
     "name": "stdout",
     "output_type": "stream",
     "text": [
      "Range of salinity:  1.90432481989524 32.99997434427133\n",
      "Range of salinity:  2.2094736858387884 32.999829571877505\n",
      "Range of salinity:  1.4792606252183909 32.999997100512225\n",
      "Range of salinity:  2.0925778019449206 32.99999663167297\n"
     ]
    },
    {
     "name": "stderr",
     "output_type": "stream",
     "text": [
      "/home/rustyh/src/stompy/stompy/xr_transect.py:996: UserWarning: No contour levels were found within the data range.\n",
      "  return f(x.values,yvals,scal.values,*args,**kwargs)\n"
     ]
    },
    {
     "name": "stdout",
     "output_type": "stream",
     "text": [
      "Range of salinity:  1.9228404078275605 32.99999308781889\n",
      "Range of salinity:  2.268576874296429 32.99989568128991\n",
      "Range of salinity:  1.5437991485189877 32.999999690951434\n",
      "Range of salinity:  1.9663645187296834 32.99999784930911\n"
     ]
    },
    {
     "name": "stderr",
     "output_type": "stream",
     "text": [
      "/home/rustyh/src/stompy/stompy/xr_transect.py:996: UserWarning: No contour levels were found within the data range.\n",
      "  return f(x.values,yvals,scal.values,*args,**kwargs)\n"
     ]
    },
    {
     "name": "stdout",
     "output_type": "stream",
     "text": [
      "Range of salinity:  2.004806796307638 32.99995501392351\n",
      "Range of salinity:  2.2366203431815674 32.999804245662645\n",
      "Range of salinity:  1.5905799344257574 32.99999979301235\n",
      "Range of salinity:  1.9036105836171002 32.99981265829233\n"
     ]
    },
    {
     "name": "stderr",
     "output_type": "stream",
     "text": [
      "/home/rustyh/src/stompy/stompy/xr_transect.py:996: UserWarning: No contour levels were found within the data range.\n",
      "  return f(x.values,yvals,scal.values,*args,**kwargs)\n"
     ]
    },
    {
     "name": "stdout",
     "output_type": "stream",
     "text": [
      "Range of salinity:  1.959124021680833 32.999433443491846\n",
      "Range of salinity:  2.2837102092484294 32.999808508316725\n",
      "Range of salinity:  1.7314470000065414 32.99998915909953\n",
      "Range of salinity:  1.9531127992396062 32.99991768889929\n"
     ]
    },
    {
     "name": "stderr",
     "output_type": "stream",
     "text": [
      "/home/rustyh/src/stompy/stompy/xr_transect.py:996: UserWarning: No contour levels were found within the data range.\n",
      "  return f(x.values,yvals,scal.values,*args,**kwargs)\n"
     ]
    },
    {
     "name": "stdout",
     "output_type": "stream",
     "text": [
      "Range of salinity:  2.037612464389299 32.99961782631481\n",
      "Range of salinity:  2.2495011871238266 32.9994389561771\n",
      "Range of salinity:  1.9000132065369246 32.99995004155128\n",
      "Range of salinity:  1.93935383387089 32.99935473333398\n"
     ]
    },
    {
     "name": "stderr",
     "output_type": "stream",
     "text": [
      "/home/rustyh/src/stompy/stompy/xr_transect.py:996: UserWarning: No contour levels were found within the data range.\n",
      "  return f(x.values,yvals,scal.values,*args,**kwargs)\n"
     ]
    },
    {
     "name": "stdout",
     "output_type": "stream",
     "text": [
      "Range of salinity:  1.9553980802831914 32.9995390654188\n",
      "Range of salinity:  2.183463318025609 32.99860154876125\n",
      "Range of salinity:  2.066508078527955 32.99994201617874\n",
      "Range of salinity:  1.9333300789774934 32.999435341842855\n"
     ]
    },
    {
     "name": "stderr",
     "output_type": "stream",
     "text": [
      "/home/rustyh/src/stompy/stompy/xr_transect.py:996: UserWarning: No contour levels were found within the data range.\n",
      "  return f(x.values,yvals,scal.values,*args,**kwargs)\n"
     ]
    },
    {
     "name": "stdout",
     "output_type": "stream",
     "text": [
      "Range of salinity:  2.0226506199056296 32.998645074835686\n",
      "Range of salinity:  2.115501800652229 32.99942268875708\n",
      "Range of salinity:  2.2387162073825575 32.999998343953244\n",
      "Range of salinity:  1.9013117511430724 32.999048457123344\n"
     ]
    },
    {
     "name": "stderr",
     "output_type": "stream",
     "text": [
      "/home/rustyh/src/stompy/stompy/xr_transect.py:996: UserWarning: No contour levels were found within the data range.\n",
      "  return f(x.values,yvals,scal.values,*args,**kwargs)\n"
     ]
    },
    {
     "name": "stdout",
     "output_type": "stream",
     "text": [
      "Range of salinity:  1.9205242529620128 32.998946298386926\n",
      "Range of salinity:  2.0396489383834533 32.99986206817561\n",
      "Range of salinity:  2.3380949998170184 32.998700467487154\n",
      "Range of salinity:  1.882597726330645 32.99916138032222\n"
     ]
    },
    {
     "name": "stderr",
     "output_type": "stream",
     "text": [
      "/home/rustyh/src/stompy/stompy/xr_transect.py:996: UserWarning: No contour levels were found within the data range.\n",
      "  return f(x.values,yvals,scal.values,*args,**kwargs)\n"
     ]
    },
    {
     "name": "stdout",
     "output_type": "stream",
     "text": [
      "Range of salinity:  1.7912523377794292 32.99928794057315\n",
      "Range of salinity:  1.9554681711975648 32.99992511958221\n",
      "Range of salinity:  2.5386549017929503 32.99759557143948\n",
      "Range of salinity:  1.8663183226898519 32.99995440731543\n"
     ]
    },
    {
     "name": "stderr",
     "output_type": "stream",
     "text": [
      "/home/rustyh/src/stompy/stompy/xr_transect.py:996: UserWarning: No contour levels were found within the data range.\n",
      "  return f(x.values,yvals,scal.values,*args,**kwargs)\n"
     ]
    },
    {
     "name": "stdout",
     "output_type": "stream",
     "text": [
      "Range of salinity:  1.884630001054278 32.99966258996802\n",
      "Range of salinity:  1.8919207311626114 32.99980888701661\n",
      "Range of salinity:  2.3979876658677957 32.99310969388089\n",
      "Range of salinity:  1.8792389038710082 32.99942279855744\n"
     ]
    },
    {
     "name": "stderr",
     "output_type": "stream",
     "text": [
      "/home/rustyh/src/stompy/stompy/xr_transect.py:996: UserWarning: No contour levels were found within the data range.\n",
      "  return f(x.values,yvals,scal.values,*args,**kwargs)\n"
     ]
    },
    {
     "name": "stdout",
     "output_type": "stream",
     "text": [
      "Range of salinity:  1.7965058258889492 32.99757856019324\n",
      "Range of salinity:  1.9695151944317948 32.99971064111979\n",
      "Range of salinity:  2.5056545387240763 32.995479909012026\n",
      "Range of salinity:  1.858115364858698 32.998922945955826\n"
     ]
    },
    {
     "name": "stderr",
     "output_type": "stream",
     "text": [
      "/home/rustyh/src/stompy/stompy/xr_transect.py:996: UserWarning: No contour levels were found within the data range.\n",
      "  return f(x.values,yvals,scal.values,*args,**kwargs)\n"
     ]
    },
    {
     "name": "stdout",
     "output_type": "stream",
     "text": [
      "Range of salinity:  1.7431932078712198 32.9970979311276\n",
      "Range of salinity:  1.9038987910700802 32.9987981162179\n",
      "Range of salinity:  2.432786165497175 32.99994259846075\n",
      "Range of salinity:  1.8381437143624024 32.99733789575407\n"
     ]
    },
    {
     "name": "stderr",
     "output_type": "stream",
     "text": [
      "/home/rustyh/src/stompy/stompy/xr_transect.py:996: UserWarning: No contour levels were found within the data range.\n",
      "  return f(x.values,yvals,scal.values,*args,**kwargs)\n"
     ]
    },
    {
     "name": "stdout",
     "output_type": "stream",
     "text": [
      "Range of salinity:  1.6856675706554651 32.999652266188406\n",
      "Range of salinity:  1.8632857883608875 32.99983808413428\n",
      "Range of salinity:  2.3965350139899972 32.99945289128655\n",
      "Range of salinity:  1.814563190981911 32.998124371767624\n"
     ]
    },
    {
     "name": "stderr",
     "output_type": "stream",
     "text": [
      "/home/rustyh/src/stompy/stompy/xr_transect.py:996: UserWarning: No contour levels were found within the data range.\n",
      "  return f(x.values,yvals,scal.values,*args,**kwargs)\n"
     ]
    },
    {
     "name": "stdout",
     "output_type": "stream",
     "text": [
      "Range of salinity:  1.664770655751247 32.9998748636349\n",
      "Range of salinity:  1.822759169927118 32.99998875863789\n",
      "Range of salinity:  2.397727453712242 32.999239711734084\n",
      "Range of salinity:  1.7757407542688803 32.99942569552836\n"
     ]
    },
    {
     "name": "stderr",
     "output_type": "stream",
     "text": [
      "/home/rustyh/src/stompy/stompy/xr_transect.py:996: UserWarning: No contour levels were found within the data range.\n",
      "  return f(x.values,yvals,scal.values,*args,**kwargs)\n"
     ]
    },
    {
     "name": "stdout",
     "output_type": "stream",
     "text": [
      "Range of salinity:  1.7940441634202346 32.999175638783875\n",
      "Range of salinity:  1.7793744339957618 32.999262016606906\n",
      "Range of salinity:  2.3168076673385607 32.995036505329765\n",
      "Range of salinity:  1.7510331761755038 32.999994682664564\n"
     ]
    },
    {
     "name": "stderr",
     "output_type": "stream",
     "text": [
      "/home/rustyh/src/stompy/stompy/xr_transect.py:996: UserWarning: No contour levels were found within the data range.\n",
      "  return f(x.values,yvals,scal.values,*args,**kwargs)\n"
     ]
    },
    {
     "name": "stdout",
     "output_type": "stream",
     "text": [
      "Range of salinity:  1.7486682508972675 32.99863822612534\n",
      "Range of salinity:  1.7220647335211405 32.998868563677405\n",
      "Range of salinity:  2.2760852004889163 32.99937352343793\n",
      "Range of salinity:  1.7141286653531989 32.996614991199266\n"
     ]
    },
    {
     "name": "stderr",
     "output_type": "stream",
     "text": [
      "/home/rustyh/src/stompy/stompy/xr_transect.py:996: UserWarning: No contour levels were found within the data range.\n",
      "  return f(x.values,yvals,scal.values,*args,**kwargs)\n"
     ]
    },
    {
     "name": "stdout",
     "output_type": "stream",
     "text": [
      "Range of salinity:  1.6903916036108027 32.99620796401808\n",
      "Range of salinity:  1.6756598360418882 32.99906575004788\n",
      "Range of salinity:  2.200438748946374 32.99987652392592\n",
      "Range of salinity:  1.6809555943819718 32.99483163740445\n"
     ]
    },
    {
     "name": "stderr",
     "output_type": "stream",
     "text": [
      "/home/rustyh/src/stompy/stompy/xr_transect.py:996: UserWarning: No contour levels were found within the data range.\n",
      "  return f(x.values,yvals,scal.values,*args,**kwargs)\n"
     ]
    },
    {
     "name": "stdout",
     "output_type": "stream",
     "text": [
      "Range of salinity:  1.6270355493165831 32.99745755551287\n",
      "Range of salinity:  1.6124892840212333 32.996162094063706\n",
      "Range of salinity:  2.2492887322884316 32.995849572250776\n",
      "Range of salinity:  1.6646296346851248 32.9947285484952\n"
     ]
    },
    {
     "name": "stderr",
     "output_type": "stream",
     "text": [
      "/home/rustyh/src/stompy/stompy/xr_transect.py:996: UserWarning: No contour levels were found within the data range.\n",
      "  return f(x.values,yvals,scal.values,*args,**kwargs)\n"
     ]
    },
    {
     "name": "stdout",
     "output_type": "stream",
     "text": [
      "Range of salinity:  1.5971223183977188 32.99836875621726\n",
      "Range of salinity:  1.576998538440302 32.99808593582504\n",
      "Range of salinity:  2.223498283492007 32.994928296904426\n",
      "Range of salinity:  1.6608601669293424 32.99487958631926\n"
     ]
    },
    {
     "name": "stderr",
     "output_type": "stream",
     "text": [
      "/home/rustyh/src/stompy/stompy/xr_transect.py:996: UserWarning: No contour levels were found within the data range.\n",
      "  return f(x.values,yvals,scal.values,*args,**kwargs)\n"
     ]
    },
    {
     "name": "stdout",
     "output_type": "stream",
     "text": [
      "Range of salinity:  1.556706185719836 32.999353543253385\n",
      "Range of salinity:  1.5485788150488877 32.9990357872944\n",
      "Range of salinity:  2.1771711383677252 32.99434620291356\n",
      "Range of salinity:  1.7268906822961825 32.99883502033355\n"
     ]
    },
    {
     "name": "stderr",
     "output_type": "stream",
     "text": [
      "/home/rustyh/src/stompy/stompy/xr_transect.py:996: UserWarning: No contour levels were found within the data range.\n",
      "  return f(x.values,yvals,scal.values,*args,**kwargs)\n"
     ]
    },
    {
     "name": "stdout",
     "output_type": "stream",
     "text": [
      "Range of salinity:  1.52550962891809 32.99680350758973\n",
      "Range of salinity:  1.6844973241192627 32.998921270313225\n",
      "Range of salinity:  2.067150398148239 32.9980107128276\n",
      "Range of salinity:  1.675714312845256 32.997881843189376\n"
     ]
    },
    {
     "name": "stderr",
     "output_type": "stream",
     "text": [
      "/home/rustyh/src/stompy/stompy/xr_transect.py:996: UserWarning: No contour levels were found within the data range.\n",
      "  return f(x.values,yvals,scal.values,*args,**kwargs)\n"
     ]
    },
    {
     "name": "stdout",
     "output_type": "stream",
     "text": [
      "Range of salinity:  1.604521806770541 32.99781641538916\n",
      "Range of salinity:  1.6567303524932526 32.9991264620936\n",
      "Range of salinity:  1.9790893923634167 32.99913620466357\n",
      "Range of salinity:  1.6551000211512923 32.99632479595928\n"
     ]
    },
    {
     "name": "stderr",
     "output_type": "stream",
     "text": [
      "/home/rustyh/src/stompy/stompy/xr_transect.py:996: UserWarning: No contour levels were found within the data range.\n",
      "  return f(x.values,yvals,scal.values,*args,**kwargs)\n"
     ]
    },
    {
     "name": "stdout",
     "output_type": "stream",
     "text": [
      "Range of salinity:  1.5972279079526563 32.99260552319132\n",
      "Range of salinity:  1.591239693253577 32.99829421772922\n",
      "Range of salinity:  1.901879963103094 32.9970728034935\n",
      "Range of salinity:  1.6403984668247218 32.994864904450935\n"
     ]
    },
    {
     "name": "stderr",
     "output_type": "stream",
     "text": [
      "/home/rustyh/src/stompy/stompy/xr_transect.py:996: UserWarning: No contour levels were found within the data range.\n",
      "  return f(x.values,yvals,scal.values,*args,**kwargs)\n"
     ]
    },
    {
     "name": "stdout",
     "output_type": "stream",
     "text": [
      "Range of salinity:  1.5821668752771452 32.99620282014277\n",
      "Range of salinity:  1.557966759294433 32.998256585956796\n",
      "Range of salinity:  1.810194138003223 32.99564539722267\n",
      "Range of salinity:  1.6085358613594778 32.99794953956834\n"
     ]
    },
    {
     "name": "stderr",
     "output_type": "stream",
     "text": [
      "/home/rustyh/src/stompy/stompy/xr_transect.py:996: UserWarning: No contour levels were found within the data range.\n",
      "  return f(x.values,yvals,scal.values,*args,**kwargs)\n"
     ]
    },
    {
     "name": "stdout",
     "output_type": "stream",
     "text": [
      "Range of salinity:  1.5906675088354658 32.99575249622617\n",
      "Range of salinity:  1.526561105427157 32.99936784757272\n",
      "Range of salinity:  1.8187628010343657 32.99716135383556\n",
      "Range of salinity:  1.5909220443215184 32.99709741003266\n"
     ]
    },
    {
     "name": "stderr",
     "output_type": "stream",
     "text": [
      "/home/rustyh/src/stompy/stompy/xr_transect.py:996: UserWarning: No contour levels were found within the data range.\n",
      "  return f(x.values,yvals,scal.values,*args,**kwargs)\n"
     ]
    },
    {
     "name": "stdout",
     "output_type": "stream",
     "text": [
      "Range of salinity:  1.5843878296136154 32.99992609050277\n",
      "Range of salinity:  1.5225106715503909 32.99999797456356\n",
      "Range of salinity:  1.741990076693171 32.998711078665295\n",
      "Range of salinity:  1.5838171816392819 32.99696569412695\n"
     ]
    },
    {
     "name": "stderr",
     "output_type": "stream",
     "text": [
      "/home/rustyh/src/stompy/stompy/xr_transect.py:996: UserWarning: No contour levels were found within the data range.\n",
      "  return f(x.values,yvals,scal.values,*args,**kwargs)\n"
     ]
    },
    {
     "name": "stdout",
     "output_type": "stream",
     "text": [
      "Range of salinity:  1.5761245863030657 32.99999957574083\n",
      "Range of salinity:  1.499695707241499 32.999999717472754\n",
      "Range of salinity:  1.6633964412663198 32.99856416273802\n",
      "Range of salinity:  1.5775400049586672 32.997975445320726\n"
     ]
    },
    {
     "name": "stderr",
     "output_type": "stream",
     "text": [
      "/home/rustyh/src/stompy/stompy/xr_transect.py:996: UserWarning: No contour levels were found within the data range.\n",
      "  return f(x.values,yvals,scal.values,*args,**kwargs)\n"
     ]
    },
    {
     "name": "stdout",
     "output_type": "stream",
     "text": [
      "Range of salinity:  1.5610753163405213 32.999597784127054\n",
      "Range of salinity:  1.462896713047133 32.99958557172258\n",
      "Range of salinity:  1.6205906089874373 32.99995360069676\n",
      "Range of salinity:  1.5685513879390836 32.99920515315062\n"
     ]
    },
    {
     "name": "stderr",
     "output_type": "stream",
     "text": [
      "/home/rustyh/src/stompy/stompy/xr_transect.py:996: UserWarning: No contour levels were found within the data range.\n",
      "  return f(x.values,yvals,scal.values,*args,**kwargs)\n"
     ]
    },
    {
     "name": "stdout",
     "output_type": "stream",
     "text": [
      "Range of salinity:  1.5674047111883957 32.99955968510174\n",
      "Range of salinity:  1.4450829150636937 32.99967350652374\n",
      "Range of salinity:  1.6383458980286172 32.9999992565433\n",
      "Range of salinity:  1.5603365030586247 32.99953685967152\n"
     ]
    },
    {
     "name": "stderr",
     "output_type": "stream",
     "text": [
      "/home/rustyh/src/stompy/stompy/xr_transect.py:996: UserWarning: No contour levels were found within the data range.\n",
      "  return f(x.values,yvals,scal.values,*args,**kwargs)\n"
     ]
    },
    {
     "name": "stdout",
     "output_type": "stream",
     "text": [
      "Range of salinity:  1.5893689651920602 32.99844178149117\n",
      "Range of salinity:  1.4150602531718457 32.999640125543635\n",
      "Range of salinity:  1.6523125560078884 32.9999996950756\n",
      "Range of salinity:  1.5487323675413716 32.99971153740247\n"
     ]
    },
    {
     "name": "stderr",
     "output_type": "stream",
     "text": [
      "/home/rustyh/src/stompy/stompy/xr_transect.py:996: UserWarning: No contour levels were found within the data range.\n",
      "  return f(x.values,yvals,scal.values,*args,**kwargs)\n"
     ]
    },
    {
     "name": "stdout",
     "output_type": "stream",
     "text": [
      "Range of salinity:  1.5856849707691154 32.998940141327495\n",
      "Range of salinity:  1.3856521344838482 32.99935787425353\n",
      "Range of salinity:  1.6445573247041723 32.99992404358948\n",
      "Range of salinity:  1.6212001168921315 32.999743758757056\n"
     ]
    },
    {
     "name": "stderr",
     "output_type": "stream",
     "text": [
      "/home/rustyh/src/stompy/stompy/xr_transect.py:996: UserWarning: No contour levels were found within the data range.\n",
      "  return f(x.values,yvals,scal.values,*args,**kwargs)\n"
     ]
    },
    {
     "name": "stdout",
     "output_type": "stream",
     "text": [
      "Range of salinity:  1.6147261093498757 32.999925270240716\n",
      "Range of salinity:  1.3779875464341997 32.999254896440846\n",
      "Range of salinity:  1.6482434922802045 32.999691179603715\n",
      "Range of salinity:  1.6013501689096408 32.99985155443386\n"
     ]
    },
    {
     "name": "stderr",
     "output_type": "stream",
     "text": [
      "/home/rustyh/src/stompy/stompy/xr_transect.py:996: UserWarning: No contour levels were found within the data range.\n",
      "  return f(x.values,yvals,scal.values,*args,**kwargs)\n"
     ]
    },
    {
     "name": "stdout",
     "output_type": "stream",
     "text": [
      "Range of salinity:  1.6261619599747699 32.99999694909259\n",
      "Range of salinity:  1.3633897343664572 32.998732621512\n",
      "Range of salinity:  1.6517281101866175 32.99935447533223\n",
      "Range of salinity:  1.5898025470079573 32.999948990183015\n"
     ]
    },
    {
     "name": "stderr",
     "output_type": "stream",
     "text": [
      "/home/rustyh/src/stompy/stompy/xr_transect.py:996: UserWarning: No contour levels were found within the data range.\n",
      "  return f(x.values,yvals,scal.values,*args,**kwargs)\n"
     ]
    },
    {
     "name": "stdout",
     "output_type": "stream",
     "text": [
      "Range of salinity:  1.6355015330362437 32.99999990095115\n",
      "Range of salinity:  1.3485257685148202 32.99831200395412\n",
      "Range of salinity:  1.66126317263723 32.99937810665143\n",
      "Range of salinity:  1.5814602316251396 32.9999767815419\n"
     ]
    },
    {
     "name": "stderr",
     "output_type": "stream",
     "text": [
      "/home/rustyh/src/stompy/stompy/xr_transect.py:996: UserWarning: No contour levels were found within the data range.\n",
      "  return f(x.values,yvals,scal.values,*args,**kwargs)\n"
     ]
    },
    {
     "name": "stdout",
     "output_type": "stream",
     "text": [
      "Range of salinity:  1.6048480930028173 32.9999999858852\n",
      "Range of salinity:  1.4121216489420099 32.99999644138417\n",
      "Range of salinity:  1.73432223765981 32.99908761322517\n",
      "Range of salinity:  1.5695741600146547 32.99995959373518\n"
     ]
    },
    {
     "name": "stderr",
     "output_type": "stream",
     "text": [
      "/home/rustyh/src/stompy/stompy/xr_transect.py:996: UserWarning: No contour levels were found within the data range.\n",
      "  return f(x.values,yvals,scal.values,*args,**kwargs)\n"
     ]
    },
    {
     "name": "stdout",
     "output_type": "stream",
     "text": [
      "Range of salinity:  1.6134987071961886 32.999999994994354\n",
      "Range of salinity:  1.428053611359706 32.9999999201804\n",
      "Range of salinity:  1.9629802961094103 32.999778553391735\n",
      "Range of salinity:  1.6173087340935604 32.999972463272215\n"
     ]
    },
    {
     "name": "stderr",
     "output_type": "stream",
     "text": [
      "/home/rustyh/src/stompy/stompy/xr_transect.py:996: UserWarning: No contour levels were found within the data range.\n",
      "  return f(x.values,yvals,scal.values,*args,**kwargs)\n"
     ]
    },
    {
     "name": "stdout",
     "output_type": "stream",
     "text": [
      "Range of salinity:  1.6919971699727512 32.9999998088218\n",
      "Range of salinity:  1.426981627341055 32.99999999018457\n",
      "Range of salinity:  2.6623881370793807 32.999968607335774\n",
      "Range of salinity:  1.6174145990985338 32.99998245458293\n"
     ]
    },
    {
     "name": "stderr",
     "output_type": "stream",
     "text": [
      "/home/rustyh/src/stompy/stompy/xr_transect.py:996: UserWarning: No contour levels were found within the data range.\n",
      "  return f(x.values,yvals,scal.values,*args,**kwargs)\n"
     ]
    },
    {
     "name": "stdout",
     "output_type": "stream",
     "text": [
      "Range of salinity:  1.841731922616447 32.99999890739439\n",
      "Range of salinity:  1.473471067107178 32.9999999968763\n",
      "Range of salinity:  4.1295020335756405 32.99999586289559\n",
      "Range of salinity:  1.6109855263381916 32.99998498557369\n"
     ]
    },
    {
     "name": "stderr",
     "output_type": "stream",
     "text": [
      "/home/rustyh/src/stompy/stompy/xr_transect.py:996: UserWarning: No contour levels were found within the data range.\n",
      "  return f(x.values,yvals,scal.values,*args,**kwargs)\n"
     ]
    },
    {
     "name": "stdout",
     "output_type": "stream",
     "text": [
      "Range of salinity:  2.11752644155327 32.999998710242345\n",
      "Range of salinity:  1.6118864049932744 32.99999999871243\n",
      "Range of salinity:  3.572008441605862 32.999998728271535\n",
      "Range of salinity:  1.6644520709046131 32.99997688245797\n"
     ]
    },
    {
     "name": "stderr",
     "output_type": "stream",
     "text": [
      "/home/rustyh/src/stompy/stompy/xr_transect.py:996: UserWarning: No contour levels were found within the data range.\n",
      "  return f(x.values,yvals,scal.values,*args,**kwargs)\n"
     ]
    },
    {
     "name": "stdout",
     "output_type": "stream",
     "text": [
      "Range of salinity:  2.74465365026858 32.99999851726303\n",
      "Range of salinity:  1.8921481435048593 33.00000000961145\n",
      "Range of salinity:  3.340098967598089 32.99999938321244\n",
      "Range of salinity:  1.7318120044319272 32.99999038297381\n"
     ]
    },
    {
     "name": "stderr",
     "output_type": "stream",
     "text": [
      "/home/rustyh/src/stompy/stompy/xr_transect.py:996: UserWarning: No contour levels were found within the data range.\n",
      "  return f(x.values,yvals,scal.values,*args,**kwargs)\n"
     ]
    },
    {
     "name": "stdout",
     "output_type": "stream",
     "text": [
      "Range of salinity:  3.2573330593499117 32.999996061067165\n",
      "Range of salinity:  2.3438549199485084 33.000000019791706\n",
      "Range of salinity:  2.338095449083939 32.99999978220473\n",
      "Range of salinity:  1.8837415865625873 32.99999779151936\n"
     ]
    },
    {
     "name": "stderr",
     "output_type": "stream",
     "text": [
      "/home/rustyh/src/stompy/stompy/xr_transect.py:996: UserWarning: No contour levels were found within the data range.\n",
      "  return f(x.values,yvals,scal.values,*args,**kwargs)\n"
     ]
    },
    {
     "name": "stdout",
     "output_type": "stream",
     "text": [
      "Range of salinity:  3.064079133837555 32.999996381983465\n",
      "Range of salinity:  2.8979244819701973 33.00000679054213\n",
      "Range of salinity:  2.2943045292049034 32.99999998363118\n",
      "Range of salinity:  1.9375900190020539 32.99999949829669\n"
     ]
    },
    {
     "name": "stderr",
     "output_type": "stream",
     "text": [
      "/home/rustyh/src/stompy/stompy/xr_transect.py:996: UserWarning: No contour levels were found within the data range.\n",
      "  return f(x.values,yvals,scal.values,*args,**kwargs)\n"
     ]
    },
    {
     "name": "stdout",
     "output_type": "stream",
     "text": [
      "Range of salinity:  2.3012098419806657 32.999997519049764\n",
      "Range of salinity:  3.367333965812751 32.999999773644255\n",
      "Range of salinity:  2.106453942705826 32.999999998571425\n",
      "Range of salinity:  1.9761974973784828 32.999999890270395\n"
     ]
    },
    {
     "name": "stderr",
     "output_type": "stream",
     "text": [
      "/home/rustyh/src/stompy/stompy/xr_transect.py:996: UserWarning: No contour levels were found within the data range.\n",
      "  return f(x.values,yvals,scal.values,*args,**kwargs)\n"
     ]
    },
    {
     "name": "stdout",
     "output_type": "stream",
     "text": [
      "Range of salinity:  2.290839829456604 32.99999764002183\n",
      "Range of salinity:  2.941670322530984 32.999999304440905\n",
      "Range of salinity:  2.14146065719639 32.99999999973917\n",
      "Range of salinity:  2.164979352572323 32.99999998193514\n"
     ]
    },
    {
     "name": "stderr",
     "output_type": "stream",
     "text": [
      "/home/rustyh/src/stompy/stompy/xr_transect.py:996: UserWarning: No contour levels were found within the data range.\n",
      "  return f(x.values,yvals,scal.values,*args,**kwargs)\n"
     ]
    },
    {
     "name": "stdout",
     "output_type": "stream",
     "text": [
      "Range of salinity:  2.22545409207814 32.999998643425045\n",
      "Range of salinity:  2.747916220129013 32.999999496367344\n",
      "Range of salinity:  1.9274055230963436 32.99999999993106\n",
      "Range of salinity:  2.0344110764026464 32.99999999673291\n"
     ]
    },
    {
     "name": "stderr",
     "output_type": "stream",
     "text": [
      "/home/rustyh/src/stompy/stompy/xr_transect.py:996: UserWarning: No contour levels were found within the data range.\n",
      "  return f(x.values,yvals,scal.values,*args,**kwargs)\n"
     ]
    },
    {
     "name": "stdout",
     "output_type": "stream",
     "text": [
      "Range of salinity:  2.283359462522384 32.99999989925602\n",
      "Range of salinity:  2.604527894028423 32.99999923390121\n",
      "Range of salinity:  1.8085945544776827 32.999999999975174\n",
      "Range of salinity:  2.0357854925995253 32.999999999138694\n",
      "Range of salinity:  2.233236289068714 33.00000034758542\n",
      "Range of salinity:  2.2975184517240885 32.99999939057462\n",
      "Range of salinity:  2.0536508705723953 32.999999999986834\n",
      "Range of salinity:  2.0873586713296906 33.00006424615315\n"
     ]
    },
    {
     "name": "stderr",
     "output_type": "stream",
     "text": [
      "/home/rustyh/src/stompy/stompy/xr_transect.py:996: UserWarning: No contour levels were found within the data range.\n",
      "  return f(x.values,yvals,scal.values,*args,**kwargs)\n"
     ]
    },
    {
     "name": "stdout",
     "output_type": "stream",
     "text": [
      "Range of salinity:  1.9399671695374412 33.00000159430749\n",
      "Range of salinity:  2.2416733843184655 32.99999976388237\n",
      "Range of salinity:  2.153326683784347 32.99999999998822\n",
      "Range of salinity:  1.978315891089842 33.00006858337392\n"
     ]
    },
    {
     "name": "stderr",
     "output_type": "stream",
     "text": [
      "/home/rustyh/src/stompy/stompy/xr_transect.py:996: UserWarning: No contour levels were found within the data range.\n",
      "  return f(x.values,yvals,scal.values,*args,**kwargs)\n"
     ]
    },
    {
     "name": "stdout",
     "output_type": "stream",
     "text": [
      "Range of salinity:  1.9217816524430325 33.000002768862984\n",
      "Range of salinity:  2.099493717618673 32.999999908688736\n",
      "Range of salinity:  2.3338332322626303 33.00000037586302\n",
      "Range of salinity:  1.9794124650703602 33.00005140727009\n"
     ]
    },
    {
     "name": "stderr",
     "output_type": "stream",
     "text": [
      "/home/rustyh/src/stompy/stompy/xr_transect.py:996: UserWarning: No contour levels were found within the data range.\n",
      "  return f(x.values,yvals,scal.values,*args,**kwargs)\n"
     ]
    },
    {
     "name": "stdout",
     "output_type": "stream",
     "text": [
      "Range of salinity:  2.12633643023204 33.00001840950119\n",
      "Range of salinity:  1.927395843849409 32.99999995084957\n",
      "Range of salinity:  2.1166297473943465 33.00000432845786\n",
      "Range of salinity:  1.7843509585300776 33.00003299625093\n"
     ]
    },
    {
     "name": "stderr",
     "output_type": "stream",
     "text": [
      "/home/rustyh/src/stompy/stompy/xr_transect.py:996: UserWarning: No contour levels were found within the data range.\n",
      "  return f(x.values,yvals,scal.values,*args,**kwargs)\n"
     ]
    },
    {
     "name": "stdout",
     "output_type": "stream",
     "text": [
      "Range of salinity:  2.179147230810193 33.00000069941613\n",
      "Range of salinity:  2.1734238405801793 32.99999984986864\n",
      "Range of salinity:  2.1393473824274087 33.000000000215586\n",
      "Range of salinity:  1.742475528440424 33.00000000030906\n"
     ]
    },
    {
     "name": "stderr",
     "output_type": "stream",
     "text": [
      "/home/rustyh/src/stompy/stompy/xr_transect.py:996: UserWarning: No contour levels were found within the data range.\n",
      "  return f(x.values,yvals,scal.values,*args,**kwargs)\n",
      "/home/rustyh/src/stompy/stompy/xr_transect.py:996: UserWarning: No contour levels were found within the data range.\n",
      "  return f(x.values,yvals,scal.values,*args,**kwargs)\n"
     ]
    },
    {
     "name": "stdout",
     "output_type": "stream",
     "text": [
      "Range of salinity:  2.945832340480297 32.999999660821366\n",
      "Range of salinity:  2.7846101619105874 32.999998098104044\n",
      "Range of salinity:  3.1547868404168833 33.00000000077319\n",
      "Range of salinity:  1.7497964005787683 33.000000000385704\n"
     ]
    },
    {
     "name": "stderr",
     "output_type": "stream",
     "text": [
      "/home/rustyh/src/stompy/stompy/xr_transect.py:996: UserWarning: No contour levels were found within the data range.\n",
      "  return f(x.values,yvals,scal.values,*args,**kwargs)\n"
     ]
    },
    {
     "name": "stdout",
     "output_type": "stream",
     "text": [
      "Range of salinity:  3.0960543318512945 32.999999888465794\n",
      "Range of salinity:  3.0623154397166923 32.99999392293851\n",
      "Range of salinity:  3.734433386870767 32.99999999954664\n",
      "Range of salinity:  2.0639545209782546 33.00000000006827\n"
     ]
    }
   ],
   "source": [
    "for t in his.time.values[200:300]:\n",
    "    draw(t)\n",
    "    fig.canvas.draw()\n",
    "    plt.pause(0.01)"
   ]
  },
  {
   "cell_type": "code",
   "execution_count": 72,
   "metadata": {},
   "outputs": [],
   "source": [
    "def draw(t):\n",
    "    thaw(fig,frozen)\n",
    "    ttrans=[tran.isel(\n",
    "            time=min(np.searchsorted(tran.time.values,t),\n",
    "                     tran.dims['time']-1) )\n",
    "         for tran in trans]\n",
    "\n",
    "\n",
    "    for ax,tran in zip(axs,ttrans):\n",
    "        xrt.get_d_sample(tran)\n",
    "        cset=xrt.contourf(tran,'salinity',V,ax=ax,cmap=turbo,extend='both')\n",
    "        ax.set_ylabel('z (m)')\n",
    "        xrt.contour(tran,'salinity',np.r_[33.0],ax=ax,colors='k')\n",
    "        print(\"Range of salinity: \",float(tran['salinity'].min()),\n",
    "              float(tran['salinity'].max()))\n",
    "\n",
    "    plt.colorbar(cset,cax=cax,label='Salinity',orientation='horizontal')\n",
    "\n",
    "    sampxy=None\n",
    "    for ax,axv,tran in zip(axs,axvs,ttrans):\n",
    "        txy=np.c_[ tran.x_sample.values, tran.y_sample.values]\n",
    "        if sampxy is None:\n",
    "            samp=np.searchsorted(tran.d_sample.values,dist)\n",
    "            sampxy=txy[samp]\n",
    "        else:\n",
    "            dists=utils.dist(sampxy, txy)\n",
    "            samp=np.argmin(dists)\n",
    "        axv.plot(tran['salinity'].isel(sample=samp),\n",
    "                 tran['z_ctr'].isel(sample=samp),\n",
    "                 marker='.')\n",
    "        ax.axvline(tran.d_sample.values[samp],ls='--')\n",
    "\n",
    "        # ghosted on other axes:\n",
    "        for ax_other in axvs:\n",
    "            if ax_other!=ax:\n",
    "                ax_other.plot(tran['salinity'].isel(sample=samp),\n",
    "                              tran['z_ctr'].isel(sample=samp),\n",
    "                              color='0.75',marker='.',zorder=-1)\n",
    "\n",
    "\n",
    "\n",
    "    for tran in ttrans:\n",
    "        axt.axvline( tran.time.values,color='k')\n",
    "\n",
    "    axt.axvline(t,color='b')\n"
   ]
  },
  {
   "cell_type": "code",
   "execution_count": 71,
   "metadata": {},
   "outputs": [
    {
     "data": {
      "text/plain": [
       "<xarray.DataArray 'time' (time: 961)>\n",
       "array(['2016-06-10T00:00:00.000000000', '2016-06-10T00:15:00.000000000',\n",
       "       '2016-06-10T00:30:00.000000000', ..., '2016-06-19T23:30:00.000000000',\n",
       "       '2016-06-19T23:45:00.000000000', '2016-06-20T00:00:00.000000000'],\n",
       "      dtype='datetime64[ns]')\n",
       "Coordinates:\n",
       "  * time     (time) datetime64[ns] 2016-06-10 2016-06-10T00:15:00 ... 2016-06-20\n",
       "Attributes:\n",
       "    standard_name:  time"
      ]
     },
     "execution_count": 71,
     "metadata": {},
     "output_type": "execute_result"
    }
   ],
   "source": [
    "his.time"
   ]
  },
  {
   "cell_type": "code",
   "execution_count": null,
   "metadata": {},
   "outputs": [],
   "source": [
    "\n",
    "\n",
    "\n",
    "\n",
    "\n",
    "\n",
    "\n",
    "\n",
    "\n",
    "\n",
    "\n",
    "\n",
    "\n",
    "\n",
    "\n",
    "\n",
    "\n",
    "\n",
    "\n",
    "\n",
    "\n",
    "\n",
    "\n",
    "\n",
    "\n",
    "\n",
    "\n",
    "\n",
    "\n",
    "\n",
    "\n",
    "\n",
    "\n",
    "\n",
    "\n",
    "\n",
    "\n"
   ]
  },
  {
   "cell_type": "code",
   "execution_count": null,
   "metadata": {},
   "outputs": [],
   "source": []
  }
 ],
 "metadata": {
  "kernelspec": {
   "display_name": "Python 3",
   "language": "python",
   "name": "python3"
  },
  "language_info": {
   "codemirror_mode": {
    "name": "ipython",
    "version": 3
   },
   "file_extension": ".py",
   "mimetype": "text/x-python",
   "name": "python",
   "nbconvert_exporter": "python",
   "pygments_lexer": "ipython3",
   "version": "3.9.1"
  }
 },
 "nbformat": 4,
 "nbformat_minor": 2
}
