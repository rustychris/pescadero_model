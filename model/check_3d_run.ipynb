{
 "cells": [
  {
   "cell_type": "code",
   "execution_count": 1,
   "metadata": {},
   "outputs": [],
   "source": [
    "import xarray as xr\n",
    "import matplotlib.pyplot as plt\n",
    "from stompy.grid import unstructured_grid\n",
    "from stompy import utils\n",
    "import numpy as np\n",
    "import os\n",
    "%matplotlib notebook"
   ]
  },
  {
   "cell_type": "code",
   "execution_count": 3,
   "metadata": {},
   "outputs": [
    {
     "data": {
      "text/plain": [
       "<module 'stompy.grid.multi_ugrid' from '/home/rusty/src/stompy/stompy/grid/multi_ugrid.py'>"
      ]
     },
     "execution_count": 3,
     "metadata": {},
     "output_type": "execute_result"
    }
   ],
   "source": [
    "from stompy.grid import multi_ugrid\n",
    "import six\n",
    "six.moves.reload_module(multi_ugrid)"
   ]
  },
  {
   "cell_type": "code",
   "execution_count": 4,
   "metadata": {
    "scrolled": true
   },
   "outputs": [
    {
     "name": "stderr",
     "output_type": "stream",
     "text": [
      "INFO:UnstructuredGrid:Regenerating edges\n",
      "INFO:UnstructuredGrid:Removing orphaned nodes\n",
      "INFO:UnstructuredGrid:0 nodes found to be orphans\n",
      "INFO:UnstructuredGrid:Removing duplicate nodes\n",
      "INFO:UnstructuredGrid:Renumbering nodes\n",
      "INFO:UnstructuredGrid:Renumbering edges\n",
      "INFO:UnstructuredGrid:Extracting grid boundary\n",
      "WARNING:multi_ugrid:Dropping extra cell field mesh2d_face_x_bnd to avoid max_sides issues\n",
      "WARNING:multi_ugrid:Dropping extra cell field mesh2d_face_y_bnd to avoid max_sides issues\n",
      "INFO:UnstructuredGrid:Regenerating edges\n",
      "INFO:UnstructuredGrid:Removing orphaned nodes\n",
      "INFO:UnstructuredGrid:0 nodes found to be orphans\n",
      "INFO:UnstructuredGrid:Removing duplicate nodes\n",
      "INFO:UnstructuredGrid:Renumbering nodes\n",
      "INFO:UnstructuredGrid:Renumbering edges\n",
      "INFO:UnstructuredGrid:Extracting grid boundary\n",
      "WARNING:multi_ugrid:Dropping extra cell field mesh2d_face_x_bnd to avoid max_sides issues\n",
      "WARNING:multi_ugrid:Dropping extra cell field mesh2d_face_y_bnd to avoid max_sides issues\n",
      "INFO:UnstructuredGrid:Regenerating edges\n",
      "INFO:UnstructuredGrid:Removing orphaned nodes\n",
      "INFO:UnstructuredGrid:0 nodes found to be orphans\n",
      "INFO:UnstructuredGrid:Removing duplicate nodes\n",
      "INFO:UnstructuredGrid:Renumbering nodes\n",
      "INFO:UnstructuredGrid:Renumbering edges\n",
      "INFO:UnstructuredGrid:Extracting grid boundary\n",
      "WARNING:multi_ugrid:Dropping extra cell field mesh2d_face_x_bnd to avoid max_sides issues\n",
      "WARNING:multi_ugrid:Dropping extra cell field mesh2d_face_y_bnd to avoid max_sides issues\n",
      "INFO:UnstructuredGrid:Regenerating edges\n",
      "INFO:UnstructuredGrid:Removing orphaned nodes\n",
      "INFO:UnstructuredGrid:0 nodes found to be orphans\n",
      "INFO:UnstructuredGrid:Removing duplicate nodes\n",
      "INFO:UnstructuredGrid:Renumbering nodes\n",
      "INFO:UnstructuredGrid:Renumbering edges\n",
      "INFO:UnstructuredGrid:Extracting grid boundary\n",
      "WARNING:multi_ugrid:Dropping extra cell field mesh2d_face_x_bnd to avoid max_sides issues\n",
      "WARNING:multi_ugrid:Dropping extra cell field mesh2d_face_y_bnd to avoid max_sides issues\n",
      "INFO:UnstructuredGrid:Regenerating edges\n",
      "INFO:UnstructuredGrid:Removing orphaned nodes\n",
      "INFO:UnstructuredGrid:0 nodes found to be orphans\n",
      "INFO:UnstructuredGrid:Removing duplicate nodes\n",
      "INFO:UnstructuredGrid:Renumbering nodes\n",
      "INFO:UnstructuredGrid:Renumbering edges\n",
      "INFO:UnstructuredGrid:Extracting grid boundary\n",
      "WARNING:multi_ugrid:Dropping extra cell field mesh2d_face_x_bnd to avoid max_sides issues\n",
      "WARNING:multi_ugrid:Dropping extra cell field mesh2d_face_y_bnd to avoid max_sides issues\n",
      "INFO:UnstructuredGrid:Regenerating edges\n",
      "INFO:UnstructuredGrid:Removing orphaned nodes\n",
      "INFO:UnstructuredGrid:0 nodes found to be orphans\n",
      "INFO:UnstructuredGrid:Removing duplicate nodes\n",
      "INFO:UnstructuredGrid:Renumbering nodes\n",
      "INFO:UnstructuredGrid:Renumbering edges\n",
      "INFO:UnstructuredGrid:Extracting grid boundary\n",
      "WARNING:multi_ugrid:Dropping extra cell field mesh2d_face_x_bnd to avoid max_sides issues\n",
      "WARNING:multi_ugrid:Dropping extra cell field mesh2d_face_y_bnd to avoid max_sides issues\n",
      "INFO:UnstructuredGrid:Regenerating edges\n",
      "INFO:UnstructuredGrid:Removing orphaned nodes\n",
      "INFO:UnstructuredGrid:0 nodes found to be orphans\n",
      "INFO:UnstructuredGrid:Removing duplicate nodes\n",
      "INFO:UnstructuredGrid:Renumbering nodes\n",
      "INFO:UnstructuredGrid:Renumbering edges\n",
      "INFO:UnstructuredGrid:Extracting grid boundary\n",
      "WARNING:multi_ugrid:Dropping extra cell field mesh2d_face_x_bnd to avoid max_sides issues\n",
      "WARNING:multi_ugrid:Dropping extra cell field mesh2d_face_y_bnd to avoid max_sides issues\n",
      "INFO:UnstructuredGrid:Regenerating edges\n",
      "INFO:UnstructuredGrid:Removing orphaned nodes\n",
      "INFO:UnstructuredGrid:0 nodes found to be orphans\n",
      "INFO:UnstructuredGrid:Removing duplicate nodes\n",
      "INFO:UnstructuredGrid:Renumbering nodes\n",
      "INFO:UnstructuredGrid:Renumbering edges\n",
      "INFO:UnstructuredGrid:Extracting grid boundary\n",
      "WARNING:multi_ugrid:Dropping extra cell field mesh2d_face_x_bnd to avoid max_sides issues\n",
      "WARNING:multi_ugrid:Dropping extra cell field mesh2d_face_y_bnd to avoid max_sides issues\n",
      "INFO:UnstructuredGrid:Regenerating edges\n",
      "INFO:UnstructuredGrid:Removing orphaned nodes\n",
      "INFO:UnstructuredGrid:0 nodes found to be orphans\n",
      "INFO:UnstructuredGrid:Removing duplicate nodes\n",
      "INFO:UnstructuredGrid:Renumbering nodes\n",
      "INFO:UnstructuredGrid:Renumbering edges\n",
      "INFO:UnstructuredGrid:Extracting grid boundary\n",
      "WARNING:multi_ugrid:Dropping extra cell field mesh2d_face_x_bnd to avoid max_sides issues\n",
      "WARNING:multi_ugrid:Dropping extra cell field mesh2d_face_y_bnd to avoid max_sides issues\n",
      "INFO:UnstructuredGrid:Regenerating edges\n",
      "INFO:UnstructuredGrid:Removing orphaned nodes\n",
      "INFO:UnstructuredGrid:0 nodes found to be orphans\n",
      "INFO:UnstructuredGrid:Removing duplicate nodes\n",
      "INFO:UnstructuredGrid:Renumbering nodes\n",
      "INFO:UnstructuredGrid:Renumbering edges\n",
      "INFO:UnstructuredGrid:Extracting grid boundary\n",
      "WARNING:multi_ugrid:Dropping extra cell field mesh2d_face_x_bnd to avoid max_sides issues\n",
      "WARNING:multi_ugrid:Dropping extra cell field mesh2d_face_y_bnd to avoid max_sides issues\n",
      "INFO:UnstructuredGrid:Regenerating edges\n",
      "INFO:UnstructuredGrid:Removing orphaned nodes\n",
      "INFO:UnstructuredGrid:0 nodes found to be orphans\n",
      "INFO:UnstructuredGrid:Removing duplicate nodes\n",
      "INFO:UnstructuredGrid:Renumbering nodes\n",
      "INFO:UnstructuredGrid:Renumbering edges\n",
      "INFO:UnstructuredGrid:Extracting grid boundary\n",
      "WARNING:multi_ugrid:Dropping extra cell field mesh2d_face_x_bnd to avoid max_sides issues\n",
      "WARNING:multi_ugrid:Dropping extra cell field mesh2d_face_y_bnd to avoid max_sides issues\n",
      "INFO:UnstructuredGrid:Regenerating edges\n",
      "INFO:UnstructuredGrid:Removing orphaned nodes\n",
      "INFO:UnstructuredGrid:0 nodes found to be orphans\n",
      "INFO:UnstructuredGrid:Removing duplicate nodes\n",
      "INFO:UnstructuredGrid:Renumbering nodes\n",
      "INFO:UnstructuredGrid:Renumbering edges\n",
      "INFO:UnstructuredGrid:Extracting grid boundary\n",
      "WARNING:multi_ugrid:Dropping extra cell field mesh2d_face_x_bnd to avoid max_sides issues\n",
      "WARNING:multi_ugrid:Dropping extra cell field mesh2d_face_y_bnd to avoid max_sides issues\n",
      "INFO:UnstructuredGrid:Regenerating edges\n",
      "INFO:UnstructuredGrid:Removing orphaned nodes\n",
      "INFO:UnstructuredGrid:0 nodes found to be orphans\n",
      "INFO:UnstructuredGrid:Removing duplicate nodes\n",
      "INFO:UnstructuredGrid:Renumbering nodes\n",
      "INFO:UnstructuredGrid:Renumbering edges\n",
      "INFO:UnstructuredGrid:Extracting grid boundary\n",
      "WARNING:multi_ugrid:Dropping extra cell field mesh2d_face_x_bnd to avoid max_sides issues\n",
      "WARNING:multi_ugrid:Dropping extra cell field mesh2d_face_y_bnd to avoid max_sides issues\n",
      "INFO:UnstructuredGrid:Regenerating edges\n",
      "INFO:UnstructuredGrid:Removing orphaned nodes\n",
      "INFO:UnstructuredGrid:0 nodes found to be orphans\n",
      "INFO:UnstructuredGrid:Removing duplicate nodes\n",
      "INFO:UnstructuredGrid:Renumbering nodes\n",
      "INFO:UnstructuredGrid:Renumbering edges\n",
      "INFO:UnstructuredGrid:Extracting grid boundary\n",
      "WARNING:multi_ugrid:Dropping extra cell field mesh2d_face_x_bnd to avoid max_sides issues\n",
      "WARNING:multi_ugrid:Dropping extra cell field mesh2d_face_y_bnd to avoid max_sides issues\n",
      "INFO:UnstructuredGrid:Regenerating edges\n",
      "INFO:UnstructuredGrid:Removing orphaned nodes\n",
      "INFO:UnstructuredGrid:0 nodes found to be orphans\n",
      "INFO:UnstructuredGrid:Removing duplicate nodes\n",
      "INFO:UnstructuredGrid:Renumbering nodes\n",
      "INFO:UnstructuredGrid:Renumbering edges\n",
      "INFO:UnstructuredGrid:Extracting grid boundary\n",
      "WARNING:multi_ugrid:Dropping extra cell field mesh2d_face_x_bnd to avoid max_sides issues\n",
      "WARNING:multi_ugrid:Dropping extra cell field mesh2d_face_y_bnd to avoid max_sides issues\n",
      "INFO:UnstructuredGrid:Regenerating edges\n",
      "INFO:UnstructuredGrid:Removing orphaned nodes\n",
      "INFO:UnstructuredGrid:0 nodes found to be orphans\n",
      "INFO:UnstructuredGrid:Removing duplicate nodes\n",
      "INFO:UnstructuredGrid:Renumbering nodes\n",
      "INFO:UnstructuredGrid:Renumbering edges\n",
      "INFO:UnstructuredGrid:Extracting grid boundary\n",
      "WARNING:multi_ugrid:Dropping extra cell field mesh2d_face_x_bnd to avoid max_sides issues\n",
      "WARNING:multi_ugrid:Dropping extra cell field mesh2d_face_y_bnd to avoid max_sides issues\n",
      "INFO:UnstructuredGrid:Regenerating edges\n",
      "INFO:UnstructuredGrid:Removing orphaned nodes\n",
      "INFO:UnstructuredGrid:0 nodes found to be orphans\n",
      "INFO:UnstructuredGrid:Removing duplicate nodes\n",
      "INFO:UnstructuredGrid:Renumbering nodes\n",
      "INFO:UnstructuredGrid:Renumbering edges\n",
      "INFO:UnstructuredGrid:Extracting grid boundary\n",
      "WARNING:multi_ugrid:Dropping extra cell field mesh2d_face_x_bnd to avoid max_sides issues\n"
     ]
    },
    {
     "name": "stderr",
     "output_type": "stream",
     "text": [
      "WARNING:multi_ugrid:Dropping extra cell field mesh2d_face_y_bnd to avoid max_sides issues\n",
      "WARNING:UnstructuredGrid:max_sides is okay (4)\n",
      "WARNING:UnstructuredGrid:max_sides is okay (4)\n",
      "WARNING:UnstructuredGrid:max_sides is okay (4)\n",
      "WARNING:UnstructuredGrid:max_sides is okay (4)\n",
      "WARNING:UnstructuredGrid:max_sides is okay (4)\n",
      "WARNING:UnstructuredGrid:max_sides is okay (4)\n",
      "WARNING:UnstructuredGrid:max_sides is okay (4)\n",
      "WARNING:UnstructuredGrid:max_sides is okay (4)\n",
      "WARNING:UnstructuredGrid:max_sides is okay (4)\n",
      "WARNING:UnstructuredGrid:max_sides is okay (4)\n",
      "WARNING:UnstructuredGrid:max_sides is okay (4)\n",
      "WARNING:UnstructuredGrid:max_sides is okay (4)\n",
      "WARNING:UnstructuredGrid:max_sides is okay (4)\n",
      "WARNING:UnstructuredGrid:max_sides is okay (4)\n",
      "WARNING:UnstructuredGrid:max_sides is okay (4)\n",
      "WARNING:UnstructuredGrid:max_sides is okay (4)\n"
     ]
    }
   ],
   "source": [
    "mu=multi_ugrid.MultiUgrid(paths=\"run_salt_20160520-v91/DFM_OUTPUT_flowfm/*_map.nc\",\n",
    "                          cleanup_dfm=True)\n",
    "#                         xr_kwargs=dict(decode_times=False))"
   ]
  },
  {
   "cell_type": "code",
   "execution_count": null,
   "metadata": {},
   "outputs": [],
   "source": [
    "ds=mu.dss[0]"
   ]
  },
  {
   "cell_type": "code",
   "execution_count": null,
   "metadata": {},
   "outputs": [],
   "source": [
    "mu.reload()\n",
    "print(\"Evolution of timesteps\")\n",
    "mu.dss[0].timestep"
   ]
  },
  {
   "cell_type": "code",
   "execution_count": null,
   "metadata": {},
   "outputs": [],
   "source": [
    "# Diagnosing CFL constraints at flow control structure"
   ]
  },
  {
   "cell_type": "code",
   "execution_count": null,
   "metadata": {},
   "outputs": [],
   "source": [
    "# First find the bad cell, so we can figure out which time\n",
    "# step to focus on\n",
    "plt.figure()\n",
    "#mu.grid.plot_cells(values=mu['s1'].isel(time=-1),cmap='turbo',clim=[1.55,1.60])\n",
    "mu.grid.plot_cells(values=mu['mesh2d_Numlimdt'].isel(time=-1),cmap='turbo')\n",
    "\n",
    "plt.axis('tight')\n",
    "plt.axis('equal')\n",
    "\n",
    "plt.axis( (552551.266464832, 552612.551966955, 4124419.5659065135, 4124465.2334903535) )\n"
   ]
  },
  {
   "cell_type": "code",
   "execution_count": null,
   "metadata": {},
   "outputs": [],
   "source": [
    "c=mu.grid.select_cells_nearest([552589,4124432],inside=True)"
   ]
  },
  {
   "cell_type": "code",
   "execution_count": null,
   "metadata": {},
   "outputs": [],
   "source": [
    "# edge mapping appears to be broken.\n"
   ]
  },
  {
   "cell_type": "code",
   "execution_count": null,
   "metadata": {},
   "outputs": [],
   "source": [
    "mu['mesh2d_Numlimdt']"
   ]
  },
  {
   "cell_type": "code",
   "execution_count": null,
   "metadata": {},
   "outputs": [],
   "source": [
    "plt.figure()\n",
    "# So time=7 is reasonable time to check.\n",
    "plt.plot( mu.time.values, mu['mesh2d_Numlimdt'].values[:,c],'g-o')"
   ]
  },
  {
   "cell_type": "code",
   "execution_count": null,
   "metadata": {},
   "outputs": [],
   "source": [
    "mu.dss[0]"
   ]
  },
  {
   "cell_type": "code",
   "execution_count": null,
   "metadata": {},
   "outputs": [],
   "source": [
    "time=7\n",
    "layer=5\n",
    "\n",
    "# \n",
    "flow_x=mu['mesh2d_edge_x'].values\n",
    "flow_y=mu['mesh2d_edge_y'].values\n",
    "\n",
    "unorm=mu['mesh2d_u1'].isel(time=time,mesh2d_nLayers=layer)"
   ]
  },
  {
   "cell_type": "code",
   "execution_count": null,
   "metadata": {
    "scrolled": false
   },
   "outputs": [],
   "source": [
    "plt.figure()\n",
    "mu.grid.plot_edges(color='0.5',lw=0.5)\n",
    "#mu.grid.plot_cells(values=mu['mesh2d_Numlimdt'].isel(time=-1).values-mu['mesh2d_Numlimdt'].isel(time=-2).values)\n",
    "plt.axis('tight')\n",
    "plt.axis('equal')\n",
    "plt.axis( (552551.266464832, 552612.551966955, 4124419.5659065135, 4124465.2334903535) )\n",
    "\n",
    "norms=mu.grid.edges_normals()\n",
    "#plt.quiver( flow_x, flow_y, norms[:,0], norms[:,1], scale=25 )\n",
    "plt.plot( flow_x, flow_y, 'g.')"
   ]
  },
  {
   "cell_type": "code",
   "execution_count": null,
   "metadata": {},
   "outputs": [],
   "source": []
  },
  {
   "cell_type": "code",
   "execution_count": null,
   "metadata": {},
   "outputs": [],
   "source": [
    "ds=mu.dss[proc]\n",
    "assert ds.dims['nFlowElem']==ds.dims['nNetElem']\n",
    "\n",
    "# Create a kdtree of NetLink centers, match to FlowLink centers.\n",
    "kdt=cKDTree(data=np.c_[ds['NetLink_xu'].values,ds['NetLink_yu'].values])\n",
    "dists,matches=kdt.query(np.c_[ds['FlowLink_xu'].values,ds['FlowLink_yu'].values])\n",
    "assert dists.max()<1e-5 # really should be indentically 0.\n",
    "f2n=matches\n",
    "n2f=9999999*np.zeros(g_local.Nedges(),np.int32)\n",
    "n2f[matches]=np.arange(ds.dims['nFlowLink'])"
   ]
  },
  {
   "cell_type": "code",
   "execution_count": null,
   "metadata": {},
   "outputs": [],
   "source": [
    "g_local.cell_to_edges(c_local) # those are NetLinks\n",
    "flowlinks=n2f[g_local.cell_to_edges(c_local)]\n",
    "flows=mu.dss[proc].q1.isel(time=time,nFlowLink=flowlinks)\n",
    "u0_edge=mu.dss[proc].u0.isel(time=time,nFlowLink=flowlinks)\n",
    "u_edge=mu.dss[proc].unorm.isel(time=time,nFlowLink=flowlinks)\n",
    "\n",
    "# So laydim 5 is the super thin one.\n",
    "# It's area is 30.685 m2, with a thickness of 0.0001 m\n",
    "# It has a flow of 0.006997 m3/s.\n",
    "print(\"q1\")\n",
    "flows.to_dataframe()['q1'].unstack('nFlowLink')"
   ]
  },
  {
   "cell_type": "code",
   "execution_count": null,
   "metadata": {},
   "outputs": [],
   "source": [
    "fig,ax=plt.subplots(1,1)\n",
    "g_local.plot_edges(color='0.6',lw=0.4,alpha=0.5)\n",
    "g_local.plot_cells(mask=[c_local],alpha=0.4)\n",
    "g_local.plot_edges(mask=g_local.cell_to_edges(cell),color='tab:blue')\n",
    "plt.plot(flows.FlowLink_xu,flows.FlowLink_yu,'ro') # lines up. good.\n",
    "\n",
    "# nodes=np.r_[350,356]-1\n",
    "g_local.plot_nodes(clip=zoom,labeler=lambda i,rec: f\"{ds['NetNode_z'].isel(nNetNode=i).values:.4f}\",\n",
    "                   sizes=5)\n",
    "# g_local.plot_nodes(mask=nodes,color='g')\n",
    "pad=8\n",
    "zoom=[cell_center[0]-pad,cell_center[0]+pad,\n",
    "      cell_center[1]-pad,cell_center[1]+pad]\n",
    "ds=mu.dss[proc]\n",
    "g_local.plot_cells(labeler=lambda c,rec: f\"{ds['FlowElem_bl'].isel(nFlowElem=c).values:.4f}\",\n",
    "                   clip=zoom,color='none')\n",
    "ax.axis(zoom)\n",
    "\n"
   ]
  },
  {
   "cell_type": "code",
   "execution_count": null,
   "metadata": {},
   "outputs": [],
   "source": [
    "# With bedlevtype=6, the node means gave the cell bl,\n",
    "# and roughly it appeared that the average of the two\n",
    "# cell bl gave the edge depth.\n",
    "# np.mean([1.0184,1.0655,1.4509,1.4647]) # 1.24987\n",
    "# np.mean([0.9179,1.0184,1.0655,0.9492]) # 0.9878\n",
    "# 1.25-np.mean([0.9877,1.2499]) # 0.1312\n",
    "\n",
    "# With bedlevtyp=5, looks like edges get the shallower of \n",
    "# the nodes, and cells get the deepest of the edges. that\n",
    "# sounds safer.\n",
    "\n",
    "\n",
    "\n",
    "# unorm and q1 implied this to be \n",
    "# dz=0.1346577\n",
    "\n",
    "# Those are similar, but not within the realm of simple\n",
    "# rounding error. The difference could be due to time\n",
    "# staggering, if q1 is an integrated quantity and unorm\n",
    "# is instantaneous. checked against integration from u0\n",
    "# to unorm, but that is too small. Still, q1 could be \n",
    "# integrated from the previuos map output, or previous\n",
    "# user timestep."
   ]
  },
  {
   "cell_type": "code",
   "execution_count": null,
   "metadata": {},
   "outputs": [],
   "source": [
    "(mu.FlowElem_bl.values % 0.25).max()"
   ]
  },
  {
   "cell_type": "code",
   "execution_count": null,
   "metadata": {},
   "outputs": [],
   "source": [
    "ds['ucx'].isel(time=6,nFlowElem=cell)\n",
    "(ds['timestep']/np.timedelta64(1,'s')).to_dataframe()"
   ]
  },
  {
   "cell_type": "code",
   "execution_count": null,
   "metadata": {},
   "outputs": [],
   "source": [
    "A=g11.cells_area(cell)\n",
    "dz=1.25-ds['FlowElem_bl'].values[cell]\n",
    "A*dz # 0.003 m3.\n",
    "A*dz / 0.009 # CFL=1.0 for dt=0.35 s, at time=5 (goes nan at time=6)"
   ]
  },
  {
   "cell_type": "code",
   "execution_count": null,
   "metadata": {},
   "outputs": [],
   "source": [
    "g11.cells_center()[cell]"
   ]
  },
  {
   "cell_type": "code",
   "execution_count": null,
   "metadata": {},
   "outputs": [],
   "source": [
    "flows.isel(laydim=5,nFlowLink=3), u_edge.isel(laydim=5,nFlowLink=3)"
   ]
  },
  {
   "cell_type": "code",
   "execution_count": null,
   "metadata": {},
   "outputs": [],
   "source": [
    "# Testing for consistency of layer thickness.\n",
    "A_hor = (flows/u_edge).isel(laydim=5,nFlowLink=3)\n",
    "A_hor # 0.9576 m2.\n",
    "# This edge should be about 7m long.\n",
    "# This doesn't square. That would make the thickness of the\n",
    "# flux face \n",
    "# A_hor.values/g11.edges_length(g11.cell_to_edges(cell)[3])\n",
    "# = 0.1346577m.\n",
    "# Based on the bedlevel and the layer interfaces, it should be\n",
    "# 0.0001 m thick.\n",
    "# Check back on bedlevtype=6 and the adjacent node values.\n",
    "# Adjacent node values if used directly would give 1.06 to 1.08\n",
    "#ds['ww1'].isel(time=5,nFlowElem=cell,wdim=6).values * A / (u_edge.isel(laydim=5,nFlowLink=3).values"
   ]
  },
  {
   "cell_type": "code",
   "execution_count": null,
   "metadata": {},
   "outputs": [],
   "source": [
    "j_length=g11.edges_length(g11.cell_to_edges(cell)[3])\n",
    "\n",
    "dz_est=(flows/u_edge).isel(laydim=5,nFlowLink=3).values/j_length\n",
    "dz_est"
   ]
  },
  {
   "cell_type": "code",
   "execution_count": null,
   "metadata": {},
   "outputs": [],
   "source": [
    "netlinks=g11.cell_to_edges(cell)\n",
    "netlinks,flowlinks\n",
    "jnet=netlinks[3]\n",
    "nodes=ds.NetLink.isel(nNetLink=jnet).values # 1-based, NetNode 350 356, confirms with NetElemNode[cell]\n",
    "\n",
    "ds.NetNode_z.isel(nNetNode=nodes-1)\n",
    "# That gives 1.0183, 1.0655.\n",
    "\n",
    "ds.FlowElem_zcc.isel(nFlowElem=cell) # depth matching elevation of FlowElem_bl"
   ]
  },
  {
   "cell_type": "code",
   "execution_count": null,
   "metadata": {},
   "outputs": [],
   "source": [
    "ds"
   ]
  },
  {
   "cell_type": "code",
   "execution_count": null,
   "metadata": {},
   "outputs": [],
   "source": [
    "ds."
   ]
  },
  {
   "cell_type": "code",
   "execution_count": null,
   "metadata": {},
   "outputs": [],
   "source": [
    "recs=[]\n",
    "\n",
    "if 'laydim' in mu.dims:\n",
    "    nlayer=mu.dims['laydim']\n",
    "    layer_kw={'laydim':0}\n",
    "else:\n",
    "    layer_kw={}\n",
    "    nlayer=0\n",
    "    \n",
    "salt_thresh=34\n",
    "for t in utils.progress(range(mu.dss[0].dims['time'])):\n",
    "    if nlayer<2:\n",
    "        t_max=np.max(mu['tem1'].isel(time=t,**layer_kw))\n",
    "        s_max=np.max(mu['sa1'].isel(time=t,**layer_kw))\n",
    "        # print(f\"t={t:4d}:  max T={t_max:8.3f}  max s={s_max:8.3f}\")\n",
    "        excess_salt=( (mu['sa1'].isel(time=t,**layer_kw).values-salt_thresh).clip(0) \n",
    "                      * mu['waterdepth'].isel(time=t) * mu['FlowElem_bac']).sum()\n",
    "    else:\n",
    "        # proper 3D \n",
    "        wet=np.isfinite(mu['ucx'].isel(time=t).values)\n",
    "        T=mu['tem1'].isel(time=t).values\n",
    "        t_max=T[wet].max()\n",
    "        salt=mu['sa1'].isel(time=t).values\n",
    "        s_max=salt[wet].max()\n",
    "        # print(f\"t={t:4d}:  max T={t_max:8.3f}  max s={s_max:8.3f}\")\n",
    "        excess_salt=0.0 # not ready for this calc \n",
    "    recs.append(dict(t=t,T_max=t_max,s_max=s_max,excess_salt=excess_salt))\n"
   ]
  },
  {
   "cell_type": "code",
   "execution_count": null,
   "metadata": {},
   "outputs": [],
   "source": [
    "import pandas as pd\n",
    "df=pd.DataFrame(recs)\n",
    "\n",
    "fig,axs=plt.subplots(2,1,sharex=True)\n",
    "\n",
    "axs[0].plot(df.t,df.T_max,label='T max')\n",
    "axs[0].plot(df.t,df.s_max,label='s max')\n",
    "axs[0].legend()\n",
    "\n",
    "axs[1].plot(df.t,df.excess_salt,label='Excess salt (kg)')\n",
    "axs[1].legend()"
   ]
  },
  {
   "cell_type": "code",
   "execution_count": null,
   "metadata": {},
   "outputs": [],
   "source": [
    "# Try to infer z layer structure:\n",
    "\n",
    "# We have bedlevel, water level, nan ucx in cells below the bed,\n",
    "# and I think also for cells above the water surface.\n",
    "\n",
    "t=2\n",
    "\n",
    "nlayers=mu.dims['laydim']\n",
    "dzmin=np.inf\n",
    "\n",
    "z_laymaxs=np.inf*np.ones(nlayers) # upper limit of layer\n",
    "\n",
    "all_ucx=mu['ucx'].isel(time=t).values\n",
    "all_s1=mu['s1'].isel(time=t).values\n",
    "all_bl=mu['FlowElem_bl'].values\n",
    "\n",
    "for c in utils.progress(range(mu.grid.Ncells())):\n",
    "    s1=all_s1[c]\n",
    "    bl=all_bl[c]\n",
    "    dzmin=min(dzmin,s1-bl)\n",
    "\n",
    "    wet_layers=np.isfinite(all_ucx[c,:])\n",
    "\n",
    "    # This watercolumn bed is at 0.2793.\n",
    "    # and the bottom 4 layers are empty.\n",
    "    # so the upper interface of layer=3 is not above\n",
    "    # 0.2793.\n",
    "    z_laymaxs[~wet_layers]=np.minimum(z_laymaxs[~wet_layers],bl)\n",
    "\n",
    "# That seems to work okay. Get interface locations, and nothing\n",
    "# for the top of the last layer.\n",
    "z_laymaxs"
   ]
  },
  {
   "cell_type": "code",
   "execution_count": null,
   "metadata": {},
   "outputs": [],
   "source": [
    "dz=np.median(np.diff(z_laymaxs))\n",
    "z_bot=z_laymaxs[0]-dz\n",
    "z_top=z_laymaxs[-2]+dz\n",
    "print(f\"Inferred dz={dz:.5f}  z_bot={z_bot:.4f}   z_top={z_top:.4f}\")\n",
    "# That z_bot is pretty close to the deepest cell in the domain at \n",
    "# -0.22637 m, and the z_top is the initial water level\n",
    "# of 1.4981"
   ]
  },
  {
   "cell_type": "code",
   "execution_count": null,
   "metadata": {},
   "outputs": [],
   "source": []
  },
  {
   "cell_type": "code",
   "execution_count": null,
   "metadata": {},
   "outputs": [],
   "source": [
    "mu.reload()"
   ]
  },
  {
   "cell_type": "code",
   "execution_count": null,
   "metadata": {},
   "outputs": [],
   "source": [
    "plt.figure()\n",
    "\n",
    "#mu.grid.plot_edges(lw=0.5,color='k',alpha=0.4)\n",
    "ccoll=mu.grid.plot_cells(values=mu['sa1'].isel(time=-1),cmap='turbo')\n",
    "plt.colorbar(ccoll)\n",
    "plt.axis('off')\n",
    "plt.axis('tight')\n",
    "plt.axis('equal')\n",
    "#plt.axis((551938.0292926112, 552765.2786743934, 4124006.5426040255, 4124777.0853749597))"
   ]
  },
  {
   "cell_type": "code",
   "execution_count": null,
   "metadata": {},
   "outputs": [],
   "source": [
    "# What?! his file is now split across domains?\n",
    "his_fn=os.path.join( os.path.dirname(mu.paths[0]), 'flowfm_0000_his.nc')"
   ]
  },
  {
   "cell_type": "code",
   "execution_count": null,
   "metadata": {},
   "outputs": [],
   "source": [
    "his_ds=xr.open_dataset(his_fn)"
   ]
  },
  {
   "cell_type": "code",
   "execution_count": null,
   "metadata": {},
   "outputs": [],
   "source": [
    "his_ds"
   ]
  },
  {
   "cell_type": "code",
   "execution_count": null,
   "metadata": {},
   "outputs": [],
   "source": [
    "# History file has more information on z coordinates\n",
    "# zcoordinate_c gives elevation of the vertical center\n",
    "# of the layers, on a time and cell basis.\n",
    "his_ds.zcoordinate_w.isel(time=4,stations=5)"
   ]
  },
  {
   "cell_type": "code",
   "execution_count": null,
   "metadata": {},
   "outputs": [],
   "source": [
    "mu.paths[0]"
   ]
  },
  {
   "cell_type": "code",
   "execution_count": null,
   "metadata": {},
   "outputs": [],
   "source": [
    "# See if there is useful crash data in the last restart file\n",
    "p=0\n",
    "ds=xr.open_dataset(f'run_salt_20160520-v44/DFM_OUTPUT_flowfm/flowfm_{p:04d}_20160520_002809_rst.nc')"
   ]
  },
  {
   "cell_type": "code",
   "execution_count": null,
   "metadata": {},
   "outputs": [],
   "source": [
    "ds"
   ]
  },
  {
   "cell_type": "code",
   "execution_count": null,
   "metadata": {},
   "outputs": [],
   "source": [
    "\n"
   ]
  },
  {
   "cell_type": "code",
   "execution_count": null,
   "metadata": {},
   "outputs": [],
   "source": [
    "ds.timestep.values/np.timedelta64(1,'s') # 0.00033 s\n",
    "# squ is the cell-centerd outgoing flux.  seems useful."
   ]
  },
  {
   "cell_type": "code",
   "execution_count": null,
   "metadata": {},
   "outputs": [],
   "source": []
  },
  {
   "cell_type": "code",
   "execution_count": null,
   "metadata": {},
   "outputs": [],
   "source": [
    "squ[squ==-999]=np.nan"
   ]
  },
  {
   "cell_type": "code",
   "execution_count": null,
   "metadata": {},
   "outputs": [],
   "source": [
    "np.nanmax(squ),np.nanmin(squ) # 0.2822, 0.0"
   ]
  },
  {
   "cell_type": "code",
   "execution_count": null,
   "metadata": {},
   "outputs": [],
   "source": []
  },
  {
   "cell_type": "code",
   "execution_count": null,
   "metadata": {
    "scrolled": false
   },
   "outputs": [],
   "source": [
    "# Calculate 2D CFL #s\n",
    "plt.figure()\n",
    "colls=[]\n",
    "for p in range(len(mu.paths)):\n",
    "    print(p)\n",
    "    ds=xr.open_dataset(f'run_salt_20160520-v44/DFM_OUTPUT_flowfm/flowfm_{p:04d}_20160520_002809_rst.nc')\n",
    "    g_p=unstructured_grid.UnstructuredGrid.read_ugrid(mu.dss[p])\n",
    "    squ=ds.squ.values[0,:,:] # cell, wdim\n",
    "    squ_zsum=np.sum(squ.clip(0),axis=1)\n",
    "    # colls.append( g_p.plot_cells(values=squ_zsum,cmap='turbo',clim=[0,10]) )\n",
    "    # normalize by cell area:\n",
    "    Ac=g_p.cells_area()\n",
    "    dz=ds.s1.values[0,:] - ds.FlowElem_bl.values[0,:]\n",
    "    Vc=Ac*dz\n",
    "    t_max=np.where(squ_zsum>0, Vc/squ_zsum, 1e3)\n",
    "    colls.append( g_p.plot_cells(values=t_max,cmap='turbo',clim=[0,2]) )\n",
    "    print(\"Min(t_max):\",t_max.min())\n",
    "    ds.close()\n",
    "\n",
    "plt.colorbar(colls[0],label='t max (s)')\n",
    "plt.axis('tight')\n",
    "plt.axis('equal')"
   ]
  },
  {
   "cell_type": "code",
   "execution_count": null,
   "metadata": {
    "scrolled": false
   },
   "outputs": [],
   "source": [
    "# Survey vertical velocity\n",
    "plt.figure()\n",
    "colls=[]\n",
    "for p in range(len(mu.paths)):\n",
    "    print(p)\n",
    "    ds=xr.open_dataset(f'run_salt_20160520-v44/DFM_OUTPUT_flowfm/flowfm_{p:04d}_20160520_002809_rst.nc')\n",
    "    g_p=unstructured_grid.UnstructuredGrid.read_ugrid(mu.dss[p])\n",
    "    ww1=ds.ww1.isel(time=0).values # element, wdim\n",
    "    ww1[ww1==-999]=np.nan\n",
    "    w_absmax=np.nanmax(np.abs(ww1),axis=1)\n",
    "    colls.append( g_p.plot_cells(values=w_absmax,cmap='turbo',clim=[0,0.02]) )\n",
    "    print(\"max w_absmax:\",w_absmax.max())\n",
    "    # surface layer thickness\n",
    "    dz_surf=ds.s1.isel(time=0).values %0.25\n",
    "    max_dt_vert=np.where(w_absmax>0,dz_surf/w_absmax,1e3)\n",
    "    print(\"min dt_max vertical (conservative): \",min(max_dt_vert))\n",
    "    ds.close()\n",
    "\n",
    "plt.colorbar(colls[0],label='max |w| (m/s)')\n",
    "plt.axis('tight')\n",
    "plt.axis('equal')"
   ]
  },
  {
   "cell_type": "code",
   "execution_count": null,
   "metadata": {},
   "outputs": [],
   "source": [
    "# Survey vertical viscosity\n",
    "for p in range(len(mu.paths)):\n",
    "    print(p)\n",
    "    ds=xr.open_dataset(f'run_salt_20160520-v44/DFM_OUTPUT_flowfm/flowfm_{p:04d}_20160520_002809_rst.nc')\n",
    "    vicwwu=ds.vicwwu.isel(time=0).values # flowlink, wdim\n",
    "    print(\"max vicwwu:\",np.nanmax(vicwwu))\n",
    "    ds.close()\n"
   ]
  },
  {
   "cell_type": "code",
   "execution_count": null,
   "metadata": {},
   "outputs": [],
   "source": [
    "ds"
   ]
  }
 ],
 "metadata": {
  "kernelspec": {
   "display_name": "Python 3",
   "language": "python",
   "name": "python3"
  },
  "language_info": {
   "codemirror_mode": {
    "name": "ipython",
    "version": 3
   },
   "file_extension": ".py",
   "mimetype": "text/x-python",
   "name": "python",
   "nbconvert_exporter": "python",
   "pygments_lexer": "ipython3",
   "version": "3.9.1"
  }
 },
 "nbformat": 4,
 "nbformat_minor": 4
}
