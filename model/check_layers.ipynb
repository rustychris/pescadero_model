{
 "cells": [
  {
   "cell_type": "code",
   "execution_count": 1,
   "metadata": {},
   "outputs": [],
   "source": [
    "import numpy as np\n",
    "import xarray as xr"
   ]
  },
  {
   "cell_type": "code",
   "execution_count": 2,
   "metadata": {},
   "outputs": [],
   "source": [
    "his102=xr.open_dataset(\"run_salt_20160520-v102/DFM_OUTPUT_flowfm/flowfm_0000_his.nc\")\n",
    "his103=xr.open_dataset(\"run_salt_20160520-v103/DFM_OUTPUT_flowfm/flowfm_0000_his.nc\")"
   ]
  },
  {
   "cell_type": "code",
   "execution_count": 3,
   "metadata": {},
   "outputs": [],
   "source": [
    "z_w=his103.isel(stations=7).zcoordinate_w.values"
   ]
  },
  {
   "cell_type": "code",
   "execution_count": 11,
   "metadata": {},
   "outputs": [
    {
     "data": {
      "text/plain": [
       "array([[       nan,        nan,        nan,        nan, 0.13706239,\n",
       "        0.1321673 , 0.1321673 , 0.13706239, 0.1321673 , 0.13706239,\n",
       "        0.1321673 , 0.1321673 , 0.13706239, 0.1321673 , 0.1321673 ,\n",
       "        0.13706239, 0.1321673 , 0.1321673 , 0.13706239, 0.1321673 ,\n",
       "        0.1321673 , 0.13706239, 0.1321673 , 0.02062669,        nan,\n",
       "               nan,        nan,        nan]])"
      ]
     },
     "execution_count": 11,
     "metadata": {},
     "output_type": "execute_result"
    }
   ],
   "source": [
    "np.diff(z_w)"
   ]
  },
  {
   "cell_type": "code",
   "execution_count": 4,
   "metadata": {},
   "outputs": [
    {
     "data": {
      "text/plain": [
       "array([[       nan,        nan,        nan,        nan, 0.03392893,\n",
       "        0.17099132, 0.30315862, 0.43532593, 0.57238832, 0.70455562,\n",
       "        0.84161801, 0.97378532, 1.10595262, 1.24301501, 1.37518231,\n",
       "        1.50734962, 1.64441201, 1.77657931, 1.90874662, 2.04580901,\n",
       "        2.17797631, 2.31014361, 2.447206  , 2.57937331, 2.6       ,\n",
       "               nan,        nan,        nan,        nan]])"
      ]
     },
     "execution_count": 4,
     "metadata": {},
     "output_type": "execute_result"
    }
   ],
   "source": [
    "dz=np.diff(z_w)\n",
    "dz=np.median(dz[np.isfinite(dz)])\n",
    "dz # 0.1768 m\n",
    "z_w"
   ]
  },
  {
   "cell_type": "code",
   "execution_count": 10,
   "metadata": {},
   "outputs": [
    {
     "data": {
      "text/plain": [
       "array([-0.5       , -0.3678327 , -0.23566539, -0.10349809,  0.02866922,\n",
       "        0.16083652,  0.29300383,  0.42517113,  0.55733843,  0.68950574,\n",
       "        0.82167304,  0.95384035,  1.08600765,  1.21817495,  1.35034226,\n",
       "        1.48250956,  1.61467687,  1.74684417,  1.87901148,  2.01117878,\n",
       "        2.14334608,  2.27551339,  2.40768069,  2.539848  ,  2.6720153 ,\n",
       "        2.80418261,  2.93634991,  3.06851721])"
      ]
     },
     "execution_count": 10,
     "metadata": {},
     "output_type": "execute_result"
    }
   ],
   "source": [
    "-0.5 + np.arange(28)*dz # That works out.\n"
   ]
  },
  {
   "cell_type": "code",
   "execution_count": 5,
   "metadata": {},
   "outputs": [
    {
     "data": {
      "text/plain": [
       "0.13216730420079004"
      ]
     },
     "execution_count": 5,
     "metadata": {},
     "output_type": "execute_result"
    }
   ],
   "source": [
    "dz"
   ]
  },
  {
   "cell_type": "code",
   "execution_count": 9,
   "metadata": {},
   "outputs": [
    {
     "data": {
      "text/plain": [
       "0.125"
      ]
     },
     "execution_count": 9,
     "metadata": {},
     "output_type": "execute_result"
    }
   ],
   "source": [
    "(3.25 + 0.25)/28"
   ]
  }
 ],
 "metadata": {
  "kernelspec": {
   "display_name": "Python 3",
   "language": "python",
   "name": "python3"
  },
  "language_info": {
   "codemirror_mode": {
    "name": "ipython",
    "version": 3
   },
   "file_extension": ".py",
   "mimetype": "text/x-python",
   "name": "python",
   "nbconvert_exporter": "python",
   "pygments_lexer": "ipython3",
   "version": "3.9.1"
  }
 },
 "nbformat": 4,
 "nbformat_minor": 4
}
