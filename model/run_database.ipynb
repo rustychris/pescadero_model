{
 "cells": [
  {
   "cell_type": "code",
   "execution_count": 1,
   "metadata": {},
   "outputs": [],
   "source": [
    "import pandas as pd\n",
    "import stompy.model.delft.dflow_model as dfm"
   ]
  },
  {
   "cell_type": "code",
   "execution_count": 2,
   "metadata": {},
   "outputs": [],
   "source": [
    "recs=[]"
   ]
  },
  {
   "cell_type": "markdown",
   "metadata": {},
   "source": [
    "NM Scenarios, 100 Layer, Present SL\n",
    "--"
   ]
  },
  {
   "cell_type": "code",
   "execution_count": 9,
   "metadata": {},
   "outputs": [],
   "source": [
    "recs.append(dict(\n",
    "    run_dir='data_2016long_3d_asbuilt_impaired-v020_r01',\n",
    "    scen=0,\n",
    "    layers=100,\n",
    "    status='resumed running',\n",
    "    flows='impaired'\n",
    "))\n",
    "\n",
    "# v020 got to 60%, but it's unclear what stopped it. salt balance is okay 0.0012% a few times.\n",
    "# could not determine cause of death.\n",
    "# - cause of death for v020?\n",
    "#    jobid 49591184 (with siblings)\n",
    "#    no hints in log-*, *.dia, slrum.out only talks about v022\n",
    "#    unclear.\n",
    "# v022 has clean salt, at least up to 50% complete. killed, b/c v020 was further along.\n",
    "\n",
    "# resumed v020 with batch_data_2016long_3d_asbuilt_impaired-v020_r00.sh\n",
    "# job 51028340\n",
    "\n",
    "# that got wedged, quickly jumping up to an 80 day run time.\n",
    "# resumed from the same spot, but back to local DFM, and it's looking much\n",
    "# better. killed r00\n",
    "\n",
    "# NEXT: \n",
    "#   Check on r01\n",
    "#   - check salt balance. 6/21 - good\n",
    "#   - currently on track to finish 7/1\n",
    "# "
   ]
  },
  {
   "cell_type": "code",
   "execution_count": 6,
   "metadata": {},
   "outputs": [],
   "source": [
    "recs.append(dict(\n",
    "    run_dir='data_2016long_3d_asbuilt_impaired_scen1-v002',\n",
    "    scen=1,\n",
    "    layers=100,\n",
    "    status='running', \n",
    "    # 6/17: anticipate 6/28 finish\n",
    "    flows='impaired'\n",
    "))\n",
    "# squeue shows it still running?\n",
    "#   looks like the job_id is fucked here, too.\n",
    "#   the -v002 run has the same job_id, and maybe is the one still running.\n",
    "# v001 died at 49.6%. Mass balance okay so far.\n",
    "# Cause of death?\n",
    "#   job id 49591193.\n",
    "#   as above, slurm file only mentions the later run. \n",
    "# v002? also 100 layers. at 48%. running, and mass balance okay.\n",
    "# let v002 continue, keep v001 as a backup. \n",
    "\n",
    "\n",
    "# on 6/17, anticipated a 6/28 finish.\n",
    "# now on 6/19, looking like a 7/1 finish, and it's running slower than realtime.\n",
    "# it's at 122d in, dt=0.15, 2016-10-31: this is the partial breach.\n",
    "# 6/21/22: at 12/01, nearing the big breach, \n",
    "\n",
    "# NEXT: \n",
    "#  - check for progress/balance in v002 -- did it emerge okay from 122d / 2016-10-31\n",
    "#    partial breach?"
   ]
  },
  {
   "cell_type": "code",
   "execution_count": 8,
   "metadata": {},
   "outputs": [],
   "source": [
    "recs.append(dict(\n",
    "    run_dir='data_2016long_3d_asbuilt_impaired_scen2-v004_r00',\n",
    "    scen=2,\n",
    "    layers=100,\n",
    "    status='running',\n",
    "    # on 5am PDT, 6/17:\n",
    "    #   10d 10:48 remaining, anticipate a 6/27 finish\n",
    "    # 1pm PDT, 6/19:\n",
    "    #    9d 22:46 remaining. 6/28 finish.\n",
    "    # 4am PDT, 6/21:\n",
    "    #    9d 23:48 remaining.\n",
    "    flows='impaired'\n",
    "))\n",
    "# v004 is also 100 layers, it's running, it's at 50.3%\n",
    "#   salt balance okay\n",
    "# 6/21: resumed to r00, job id 51108911\n",
    "\n",
    "\n",
    "# NEXT:\n",
    "#  - check progress of v004_r00. Is it any faster/less wedged than\n",
    "#    the parent run?"
   ]
  },
  {
   "cell_type": "code",
   "execution_count": 5,
   "metadata": {},
   "outputs": [],
   "source": [
    "# similar to the 30 layer version of this (v003, later v005),\n",
    "# this has stalled out. It's at 67.5%, 163d\n",
    "# dt is down to 0.016s, with 64 substeps for scalar.\n",
    "# will kill this, in order to see if the restart of v003 is telling\n",
    "# at all. then consider a restart using the standard compile\n",
    "recs.append(dict(\n",
    "    # presumably switching to r01 run. r00 got wedged.\n",
    "    run_dir='data_2016long_3d_asbuilt_impaired_scen3-v004_r01',\n",
    "    scen=3,\n",
    "    layers=100,\n",
    "    status='dead',\n",
    "    flows='impaired'\n",
    "))\n",
    "# ends with some moderate salt issues.\n",
    "# restart before 12/10.  the 1208 restart is fine\n",
    "# restarting, job id 51028409\n",
    "# this went to 80days expected run time.\n",
    "# switch back to local dfm and resume again (from original) => r01\n",
    "# it went for 3 days, then stuck again. granted, this is the big breach.\n",
    "# but it's going to take forever.\n",
    "\n",
    "# added more debugging, started an r02 in parallel with r01.\n",
    "\n",
    "# NEXT:\n",
    "#  - check on progress, balance of restart\n",
    "#  - consider intensive debugging"
   ]
  },
  {
   "cell_type": "markdown",
   "metadata": {},
   "source": [
    "NM Scenarios, 30 Layers, Present SL\n",
    "--"
   ]
  },
  {
   "cell_type": "code",
   "execution_count": null,
   "metadata": {},
   "outputs": [],
   "source": [
    "# I thought one of 17,18,19 were supposed to be a correct\n",
    "# run with evap. \n",
    "\n",
    "# v019 was stopped after a few days, at 47% complete. CANCELLED by 1515435\n",
    "# v018 similarly stopped, at 35.9% complete. -- CANCELLED by 1515435\n",
    "# v017 stopped at 31% -- CANCELLED by 1515435\n",
    "# v016: Completed, but no evaporation\n",
    "\n",
    "# recs.append(dict(\n",
    "#     run_dir='data_2016long_3d_asbuilt_impaired-v016',\n",
    "#     scen=0,\n",
    "#     layers=30,\n",
    "#     status='complete misconfigured',\n",
    "#     flows='impaired',\n",
    "#     comments='no evap, replacement queued'\n",
    "# ))\n",
    "\n",
    "recs.append(dict(\n",
    "    run_dir='data_2016long_3d_asbuilt_impaired-v023',\n",
    "    scen=0,\n",
    "    layers=30,\n",
    "    status='complete salty', \n",
    "    flows='impaired',\n",
    "    comments='replaced a slow run'\n",
    "))\n"
   ]
  },
  {
   "cell_type": "code",
   "execution_count": null,
   "metadata": {},
   "outputs": [],
   "source": [
    "recs.append(dict(\n",
    "    run_dir='data_2016long_3d_asbuilt_impaired_scen1'\n",
    "    scen=1,\n",
    "    layers=30,\n",
    "    status='complete',\n",
    "    flows='impaired'\n",
    "))"
   ]
  },
  {
   "cell_type": "code",
   "execution_count": null,
   "metadata": {},
   "outputs": [],
   "source": [
    "recs.append(dict(\n",
    "    run_dir='data_2016long_3d_asbuilt_impaired_scen2-v002'\n",
    "    scen=2,\n",
    "    layers=30,\n",
    "    status='complete',\n",
    "    flows='impaired'\n",
    "))"
   ]
  },
  {
   "cell_type": "code",
   "execution_count": 1,
   "metadata": {},
   "outputs": [
    {
     "ename": "NameError",
     "evalue": "name 'recs' is not defined",
     "output_type": "error",
     "traceback": [
      "\u001b[0;31m---------------------------------------------------------------------------\u001b[0m",
      "\u001b[0;31mNameError\u001b[0m                                 Traceback (most recent call last)",
      "\u001b[0;32m<ipython-input-1-3f745583aaee>\u001b[0m in \u001b[0;36m<module>\u001b[0;34m\u001b[0m\n\u001b[1;32m     21\u001b[0m \u001b[0;31m# ))\u001b[0m\u001b[0;34m\u001b[0m\u001b[0;34m\u001b[0m\u001b[0;34m\u001b[0m\u001b[0m\n\u001b[1;32m     22\u001b[0m \u001b[0;34m\u001b[0m\u001b[0m\n\u001b[0;32m---> 23\u001b[0;31m recs.append(dict(\n\u001b[0m\u001b[1;32m     24\u001b[0m     \u001b[0mrun_dir\u001b[0m\u001b[0;34m=\u001b[0m\u001b[0;34m'data_2016long_3d_asbuilt_impaired_scen3-v003_r00'\u001b[0m\u001b[0;34m,\u001b[0m\u001b[0;34m\u001b[0m\u001b[0;34m\u001b[0m\u001b[0m\n\u001b[1;32m     25\u001b[0m     \u001b[0mscen\u001b[0m\u001b[0;34m=\u001b[0m\u001b[0;36m3\u001b[0m\u001b[0;34m,\u001b[0m\u001b[0;34m\u001b[0m\u001b[0;34m\u001b[0m\u001b[0m\n",
      "\u001b[0;31mNameError\u001b[0m: name 'recs' is not defined"
     ]
    }
   ],
   "source": [
    "# lots of substepping, dt=0.03s.\n",
    "# stuck at 191 days, 79.2%\n",
    "# Check on this run -- is it toast?\n",
    "# Appears to have gone salty.\n",
    "# It's having salt mass balance problems.\n",
    "# though it's not entirely clear what's going on,\n",
    "# esp. since evaporation is included.\n",
    "# It slowed down from dt=0.5 to 0.04 at 190d 14:40\n",
    "# Currently at 191d 15:00\n",
    "# numlimdt shows a non-strafied cell up on Pescadero on\n",
    "# the inside of a bend.\n",
    "\n",
    "# duplicate run is also going, v005. Not entirely sure why.\n",
    "# v003 has 1e-7 diffusivity, v005 has 1e-8\n",
    "# recs.append(dict(\n",
    "#     run_dir='data_2016long_3d_asbuilt_impaired_scen3-v003',\n",
    "#     scen=3,\n",
    "#     layers=30,\n",
    "#     status='salty, stuck, cancelled',\n",
    "#     flows='impaired'\n",
    "# ))\n",
    "\n",
    "recs.append(dict(\n",
    "    # an r00 restart, with stock dfm, did not get very far.\n",
    "    # praying that r01, with local dfm, does better.\n",
    "    run_dir='data_2016long_3d_asbuilt_impaired_scen3-v003_r01',\n",
    "    scen=3,\n",
    "    layers=30,\n",
    "    status='resumed running',\n",
    "    flows='impaired'\n",
    "    # picks up from v003 before salt issues come up\n",
    "))\n",
    "\n",
    "# This got to 29.8%, and is not running any more?\n",
    "recs.append(dict(\n",
    "    run_dir='data_2016long_3d_asbuilt_impaired_scen3-v005',\n",
    "    scen=3,\n",
    "    layers=30,\n",
    "    status='dead',\n",
    "    flows='impaired'\n",
    "))\n",
    "\n",
    "# broken, but focus on fixing 100 layer runs.\n",
    "# NEXT:\n",
    "# - could try more restarts, though it only got 10 days with r00, may not\n",
    "#   even have a usable restart file.\n",
    "# - lower priority for now.\n",
    "# - cause of death for v005?"
   ]
  },
  {
   "cell_type": "markdown",
   "metadata": {},
   "source": [
    "NM Scenarios, 30 Layers, 2ft SLR\n",
    "--"
   ]
  },
  {
   "cell_type": "code",
   "execution_count": 10,
   "metadata": {},
   "outputs": [],
   "source": [
    "recs.append(dict(\n",
    "    run_dir='data_2016long_3d_asbuilt_impaired_slr0.61m-v003',\n",
    "    scen=0,\n",
    "    layers=30,\n",
    "    # some steps of 4+% salt balance error.\n",
    "    status='completed salt_imbalance',\n",
    "    flows='impaired',\n",
    "    slr=0.61\n",
    "))\n",
    "# There is also a v004 run with the only difference that background \n",
    "# viscosity is 1e-6 instead of 1e-7.this run also salt imbalance issues.\n",
    "# Both of these include CFLmax=0.4.\n",
    "# So either that's not enough, or perhaps evaporation is causing problems.\n",
    "# the v004 appears to be dead, ran with the same job id as v003, and now\n",
    "# there is a v005, also same job id. It's like these runs keep getting \n",
    "# resubmitted. deleted v005 since it's useless."
   ]
  },
  {
   "cell_type": "code",
   "execution_count": 11,
   "metadata": {},
   "outputs": [],
   "source": [
    "recs.append(dict(\n",
    "    run_dir='data_2016long_3d_asbuilt_impaired_scen1_slr0.61m',\n",
    "    scen=1,\n",
    "    layers=30,\n",
    "    status='completed salt_imbalance',\n",
    "    flows='impaired',\n",
    "    slr=0.61\n",
    "))"
   ]
  },
  {
   "cell_type": "code",
   "execution_count": null,
   "metadata": {},
   "outputs": [],
   "source": []
  }
 ],
 "metadata": {
  "kernelspec": {
   "display_name": "Python 3",
   "language": "python",
   "name": "python3"
  },
  "language_info": {
   "codemirror_mode": {
    "name": "ipython",
    "version": 3
   },
   "file_extension": ".py",
   "mimetype": "text/x-python",
   "name": "python",
   "nbconvert_exporter": "python",
   "pygments_lexer": "ipython3",
   "version": "3.7.3"
  }
 },
 "nbformat": 4,
 "nbformat_minor": 2
}
