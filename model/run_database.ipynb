{
 "cells": [
  {
   "cell_type": "code",
   "execution_count": 1,
   "metadata": {},
   "outputs": [],
   "source": [
    "import pandas as pd\n",
    "import stompy.model.delft.dflow_model as dfm"
   ]
  },
  {
   "cell_type": "code",
   "execution_count": 3,
   "metadata": {},
   "outputs": [],
   "source": [
    "recs=[]"
   ]
  },
  {
   "cell_type": "markdown",
   "metadata": {},
   "source": [
    "NM Scenarios, 100 Layer, Present SL\n",
    "--"
   ]
  },
  {
   "cell_type": "code",
   "execution_count": 9,
   "metadata": {},
   "outputs": [],
   "source": [
    "recs.append(dict(\n",
    "    run_dir='data_2016long_3d_asbuilt_impaired-v020',\n",
    "    scen=0,\n",
    "    layers=100,\n",
    "    status='running',\n",
    "    flows='impaired'\n",
    "))\n"
   ]
  },
  {
   "cell_type": "code",
   "execution_count": 6,
   "metadata": {},
   "outputs": [],
   "source": [
    "recs.append(dict(\n",
    "    run_dir='data_2016long_3d_asbuilt_impaired_scen1-v001',\n",
    "    scen=1,\n",
    "    layers=100,\n",
    "    status='running',\n",
    "    flows='impaired'\n",
    "))"
   ]
  },
  {
   "cell_type": "code",
   "execution_count": 8,
   "metadata": {},
   "outputs": [],
   "source": [
    "recs.append(dict(\n",
    "    run_dir='data_2016long_3d_asbuilt_impaired_scen2-v003',\n",
    "    scen=2,\n",
    "    layers=100,\n",
    "    status='running',\n",
    "    flows='impaired'\n",
    "))"
   ]
  },
  {
   "cell_type": "code",
   "execution_count": 5,
   "metadata": {},
   "outputs": [],
   "source": [
    "# similar to the 30 layer version of this (v003, later v005),\n",
    "# this has stalled out. It's at 67.5%, 163d\n",
    "# dt is down to 0.016s, with 64 substeps for scalar.\n",
    "# will kill this, in order to see if the restart of v003 is telling\n",
    "# at all. then consider a restart using the standard compile\n",
    "recs.append(dict(\n",
    "    run_dir='data_2016long_3d_asbuilt_impaired_scen3-v004',\n",
    "    scen=3,\n",
    "    layers=100,\n",
    "    status='stalled?',\n",
    "    flows='impaired'\n",
    "))"
   ]
  },
  {
   "cell_type": "markdown",
   "metadata": {},
   "source": [
    "NM Scenarios, 30 Layers, Present SL\n",
    "--"
   ]
  },
  {
   "cell_type": "code",
   "execution_count": null,
   "metadata": {},
   "outputs": [],
   "source": [
    "# I thought one of 17,18,19 were supposed to be a correct\n",
    "# run with evap. \n",
    "\n",
    "# v019 was stopped after a few days, at 47% complete. CANCELLED by 1515435\n",
    "# v018 similarly stopped, at 35.9% complete. -- CANCELLED by 1515435\n",
    "# v017 stopped at 31% -- CANCELLED by 1515435\n",
    "# v016: Completed, but no evaporation\n",
    "\n",
    "# recs.append(dict(\n",
    "#     run_dir='data_2016long_3d_asbuilt_impaired-v016',\n",
    "#     scen=0,\n",
    "#     layers=30,\n",
    "#     status='complete misconfigured',\n",
    "#     flows='impaired',\n",
    "#     comments='no evap, replacement queued'\n",
    "# ))\n",
    "\n",
    "recs.append(dict(\n",
    "    run_dir='data_2016long_3d_asbuilt_impaired-v022',\n",
    "    scen=0,\n",
    "    layers=30,\n",
    "    status='running',\n",
    "    flows='impaired',\n",
    "    comments='slow run'\n",
    "))\n",
    "\n",
    "# now running a replacement:\n",
    "# data_2016long_3d_asbuilt_impaired-v023"
   ]
  },
  {
   "cell_type": "code",
   "execution_count": null,
   "metadata": {},
   "outputs": [],
   "source": [
    "recs.append(dict(\n",
    "    run_dir='data_2016long_3d_asbuilt_impaired_scen1'\n",
    "    scen=1,\n",
    "    layers=30,\n",
    "    status='complete',\n",
    "    flows='impaired'\n",
    "))"
   ]
  },
  {
   "cell_type": "code",
   "execution_count": null,
   "metadata": {},
   "outputs": [],
   "source": [
    "recs.append(dict(\n",
    "    run_dir='data_2016long_3d_asbuilt_impaired_scen2-v002'\n",
    "    scen=2,\n",
    "    layers=30,\n",
    "    status='complete',\n",
    "    flows='impaired'\n",
    "))"
   ]
  },
  {
   "cell_type": "code",
   "execution_count": 7,
   "metadata": {},
   "outputs": [],
   "source": [
    "# lots of substepping, dt=0.03s.\n",
    "# stuck at 191 days, 79.2%\n",
    "# Check on this run -- is it toast?\n",
    "# Appears to have gone salty.\n",
    "# It's having salt mass balance problems.\n",
    "# though it's not entirely clear what's going on,\n",
    "# esp. since evaporation is included.\n",
    "# It slowed down from dt=0.5 to 0.04 at 190d 14:40\n",
    "# Currently at 191d 15:00\n",
    "# numlimdt shows a non-strafied cell up on Pescadero on\n",
    "# the inside of a bend.\n",
    "\n",
    "# duplicate run is also going, v005. Not entirely sure why.\n",
    "# v003 has 1e-7 diffusivity, v005 has 1e-8\n",
    "# recs.append(dict(\n",
    "#     run_dir='data_2016long_3d_asbuilt_impaired_scen3-v003',\n",
    "#     scen=3,\n",
    "#     layers=30,\n",
    "#     status='salty, stuck, cancelled',\n",
    "#     flows='impaired'\n",
    "# ))\n",
    "\n",
    "# This got to 29.8%, and is not running any more?\n",
    "recs.append(dict(\n",
    "    run_dir='data_2016long_3d_asbuilt_impaired_scen3-v005',\n",
    "    scen=3,\n",
    "    layers=30,\n",
    "    status='running',\n",
    "    flows='impaired'\n",
    "))"
   ]
  },
  {
   "cell_type": "markdown",
   "metadata": {},
   "source": [
    "NM Scenarios, 30 Layers, 2ft SLR\n",
    "--"
   ]
  },
  {
   "cell_type": "code",
   "execution_count": 10,
   "metadata": {},
   "outputs": [],
   "source": [
    "recs.append(dict(\n",
    "    run_dir='data_2016long_3d_asbuilt_impaired_slr0.61m-v003',\n",
    "    scen=0,\n",
    "    layers=30,\n",
    "    status='running',\n",
    "    flows='impaired',\n",
    "    slr=0.61\n",
    "))"
   ]
  },
  {
   "cell_type": "code",
   "execution_count": 11,
   "metadata": {},
   "outputs": [],
   "source": [
    "recs.append(dict(\n",
    "    run_dir='data_2016long_3d_asbuilt_impaired_scen1_slr0.61m',\n",
    "    scen=1,\n",
    "    layers=30,\n",
    "    status='running',\n",
    "    flows='impaired',\n",
    "    slr=0.61\n",
    "))"
   ]
  },
  {
   "cell_type": "code",
   "execution_count": null,
   "metadata": {},
   "outputs": [],
   "source": []
  }
 ],
 "metadata": {
  "kernelspec": {
   "display_name": "Python 3",
   "language": "python",
   "name": "python3"
  },
  "language_info": {
   "codemirror_mode": {
    "name": "ipython",
    "version": 3
   },
   "file_extension": ".py",
   "mimetype": "text/x-python",
   "name": "python",
   "nbconvert_exporter": "python",
   "pygments_lexer": "ipython3",
   "version": "3.7.3"
  }
 },
 "nbformat": 4,
 "nbformat_minor": 2
}
